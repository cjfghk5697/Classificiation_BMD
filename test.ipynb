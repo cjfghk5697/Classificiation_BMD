{
 "cells": [
  {
   "cell_type": "code",
   "execution_count": 16,
   "metadata": {
    "id": "95J7ECDG7mZ-"
   },
   "outputs": [],
   "source": [
    "# !pip3 install timm"
   ]
  },
  {
   "cell_type": "code",
   "execution_count": 17,
   "metadata": {
    "id": "cIE6v9LWWdUQ"
   },
   "outputs": [],
   "source": [
    "import os\n",
    "import torch\n",
    "import csv\n",
    "import torch.nn as nn\n",
    "import timm\n",
    "\n",
    "from torch.utils.data import DataLoader\n",
    "from tqdm.notebook import tqdm\n",
    "from torchvision.datasets import ImageFolder\n",
    "from torchvision import transforms"
   ]
  },
  {
   "cell_type": "code",
   "execution_count": 18,
   "metadata": {
    "id": "oVByegjI7nX3"
   },
   "outputs": [],
   "source": [
    "# from google.colab import drive\n",
    "# drive.mount('/gdrive')"
   ]
  },
  {
   "cell_type": "code",
   "execution_count": 19,
   "metadata": {
    "id": "aufBKxU6775w"
   },
   "outputs": [],
   "source": [
    "test_dir = './test'\n",
    "csv_path = 'submission.csv'"
   ]
  },
  {
   "cell_type": "markdown",
   "metadata": {
    "id": "5J_DjAjG7maC"
   },
   "source": [
    "# TEST"
   ]
  },
  {
   "cell_type": "code",
   "execution_count": 20,
   "metadata": {
    "id": "2l2AiYgq7maE"
   },
   "outputs": [],
   "source": [
    "device = torch.device(\"cpu\")"
   ]
  },
  {
   "cell_type": "code",
   "execution_count": 21,
   "metadata": {
    "id": "QLa8W1CJ7maE"
   },
   "outputs": [],
   "source": [
    "class eff1_Model(nn.Module):\n",
    "    def __init__(self):\n",
    "        super().__init__()\n",
    "        self.backbone = timm.create_model('efficientnet_b1', pretrained=True)\n",
    "        self.backbone.classifier = nn.Identity()\n",
    "        self.dropout = nn.Dropout(p=0.2)\n",
    "        self.classifier = nn.Linear(1280, 3)\n",
    "    def forward(self, x):\n",
    "        x=self.backbone(x)\n",
    "        x=self.classifier(x)\n",
    "\n",
    "        return x\n",
    "class eff2_Model(nn.Module):\n",
    "    def __init__(self):\n",
    "        super().__init__()\n",
    "        self.backbone = timm.create_model('efficientnet_b2', pretrained=True)\n",
    "        self.backbone.classifier = nn.Identity()\n",
    "        self.dropout = nn.Dropout(p=0.2)\n",
    "        self.classifier = nn.Linear(1408, 3)\n",
    "    def forward(self, x):\n",
    "        x=self.backbone(x)\n",
    "        x=self.classifier(x)\n",
    "\n",
    "        return x\n",
    "class eff3_Model(nn.Module):\n",
    "    def __init__(self):\n",
    "        super().__init__()\n",
    "        self.backbone = timm.create_model('efficientnet_b3', pretrained=True)\n",
    "        self.backbone.classifier = nn.Identity()\n",
    "        self.dropout = nn.Dropout(p=0.2)\n",
    "        self.classifier = nn.Linear(1536, 3)\n",
    "    def forward(self, x):\n",
    "        x=self.backbone(x)\n",
    "        x=self.classifier(x)\n",
    "\n",
    "        return x\n",
    "    \n",
    "class eff4_Model(nn.Module):\n",
    "    def __init__(self):\n",
    "        super().__init__()\n",
    "        self.backbone = timm.create_model('efficientnet_b4', pretrained=False)\n",
    "        self.backbone.classifier = nn.Identity()\n",
    "        self.dropout = nn.Dropout(p=0.2)\n",
    "        self.classifier = nn.Linear(1792, 3)\n",
    "    def forward(self, x):\n",
    "        x=self.backbone(x)\n",
    "        x=self.classifier(x)\n",
    "        return x\n",
    "    \n",
    "class eff7_Model(nn.Module):\n",
    "    def __init__(self):\n",
    "        super().__init__()\n",
    "        self.backbone = timm.create_model('efficientnet_b7', pretrained=False)\n",
    "        self.backbone.classifier = nn.Identity()\n",
    "        self.dropout = nn.Dropout(p=0.2)\n",
    "        self.classifier = nn.Linear(2560, 3)\n",
    "    def forward(self, x):\n",
    "        x=self.backbone(x)\n",
    "        x=self.classifier(x)\n",
    "\n",
    "        return x\n",
    "class res34_Model(nn.Module):\n",
    "    def __init__(self):\n",
    "        super().__init__()\n",
    "        self.backbone = timm.create_model('resnet34', pretrained=True)\n",
    "        self.backbone.classifier = nn.Identity()\n",
    "        self.dropout = nn.Dropout(p=0.2)\n",
    "        self.classifier = nn.Linear(1000, 3)\n",
    "    def forward(self, x):\n",
    "        x=self.backbone(x)\n",
    "        x=self.classifier(x)\n",
    "\n",
    "        return x"
   ]
  },
  {
   "cell_type": "code",
   "execution_count": 38,
   "metadata": {
    "id": "vc__tQKW7maF"
   },
   "outputs": [],
   "source": [
    "def prediction(dataloader, device=device):\n",
    "    with torch.no_grad():\n",
    "        result = []\n",
    "        batch_size=20\n",
    "        for idx,data in enumerate(dataloader):\n",
    "            print(idx)\n",
    "            inputs, labels = data\n",
    "            outputs = eff1_adam_cosinelr(inputs)\n",
    "            outputs += eff1_adam_cosinerestarts(inputs)\n",
    "            outputs += eff1_adamw_cosinerestarts(inputs)\n",
    "            outputs += eff1_radam_cosinelr(inputs)\n",
    "            \n",
    "            outputs += eff2_adam_cosinelr(inputs)\n",
    "            outputs += eff2_adam_cosinerestarts(inputs)\n",
    "            outputs += eff2_adam_poly(inputs)\n",
    "            outputs += eff2_adamw_cosinelr(inputs)\n",
    "            outputs += eff2_adamw_cosinerestarts(inputs)\n",
    "            outputs += eff2_adamw_poly(inputs)\n",
    "            outputs += eff2_radam_cosinelr(inputs)\n",
    "            outputs += eff2_radam_cosinerestarts(inputs)\n",
    "            \n",
    "            outputs += eff3_adam_cosinelr(inputs)\n",
    "            outputs += eff3_adam_cosinerestarts(inputs)\n",
    "            outputs += eff3_adam_poly(inputs)\n",
    "            outputs += eff3_adamw_cosinelr(inputs)\n",
    "            outputs += eff3_adamw_cosinerestarts(inputs)\n",
    "            outputs += eff3_radam_cosinelr(inputs)\n",
    "            outputs += eff3_radam_cosinerestarts(inputs)\n",
    "            outputs += eff3_radam_poly(inputs)\n",
    "            \n",
    "\n",
    "            \n",
    "            outputs += eff7_adamw_cosinerestarts(inputs)\n",
    "            \n",
    "            outputs += res34_adam_cosinelr(inputs)\n",
    "            outputs += res34_adamw_cosinerestarts(inputs)\n",
    "            \n",
    "            _, preds = torch.max(outputs, 1)\n",
    "            predictions= torch.reshape(preds,(-1,1))\n",
    "            if idx==10:\n",
    "                return probs_array\n",
    "            batch_index=batch_size*idx\n",
    "            probs_array[batch_index:batch_index+batch_size]= predictions.cpu()\n",
    "        return probs_array"
   ]
  },
  {
   "cell_type": "code",
   "execution_count": null,
   "metadata": {},
   "outputs": [],
   "source": []
  },
  {
   "cell_type": "markdown",
   "metadata": {
    "id": "nC0l61J-7maF"
   },
   "source": [
    "Loading the Test Model"
   ]
  },
  {
   "cell_type": "code",
   "execution_count": 23,
   "metadata": {
    "id": "ZZvdq9KI7maG"
   },
   "outputs": [],
   "source": [
    "#eff1\n",
    "checkpoint = torch.load('./Trained_model/eff1_adam_cosinelr.pth',map_location=torch.device('cpu'))\n",
    "eff1_adam_cosinelr =eff1_Model()\n",
    "eff1_adam_cosinelr.load_state_dict(checkpoint['model_state_dict'])\n",
    "eff1_adam_cosinelr.eval()\n",
    "eff1_adam_cosinelr = eff1_adam_cosinelr.to(device)\n",
    "\n",
    "checkpoint = torch.load('./Trained_model/eff1_adam_cosinerestarts.pth',map_location=torch.device('cpu'))\n",
    "eff1_adam_cosinerestarts =eff1_Model()\n",
    "eff1_adam_cosinerestarts.load_state_dict(checkpoint['model_state_dict'])\n",
    "eff1_adam_cosinerestarts.eval()\n",
    "eff1_adam_cosinerestarts = eff1_adam_cosinerestarts.to(device)\n",
    "\n",
    "checkpoint = torch.load('./Trained_model/eff1_adamw_cosinerestarts.pth',map_location=torch.device('cpu'))\n",
    "eff1_adamw_cosinerestarts =eff1_Model()\n",
    "eff1_adamw_cosinerestarts.load_state_dict(checkpoint['model_state_dict'])\n",
    "eff1_adamw_cosinerestarts.eval()\n",
    "eff1_adamw_cosinerestarts = eff1_adamw_cosinerestarts.to(device)\n",
    "\n",
    "checkpoint = torch.load('./Trained_model/eff1_radam_cosinelr.pth',map_location=torch.device('cpu'))\n",
    "eff1_radam_cosinelr =eff1_Model()\n",
    "eff1_radam_cosinelr.load_state_dict(checkpoint['model_state_dict'])\n",
    "eff1_radam_cosinelr.eval()\n",
    "eff1_radam_cosinelr = eff1_radam_cosinelr.to(device)\n",
    "#eff2\n",
    "\n",
    "checkpoint = torch.load('./Trained_model/eff2_adam_cosinelr.pth',map_location=torch.device('cpu'))\n",
    "eff2_adam_cosinelr =eff2_Model()\n",
    "eff2_adam_cosinelr.load_state_dict(checkpoint['model_state_dict'])\n",
    "eff2_adam_cosinelr.eval()\n",
    "eff2_adam_cosinelr = eff2_adam_cosinelr.to(device)\n",
    "\n",
    "checkpoint = torch.load('./Trained_model/eff2_adam_restarts.pth',map_location=torch.device('cpu'))\n",
    "eff2_adam_cosinerestarts =eff2_Model()\n",
    "eff2_adam_cosinerestarts.load_state_dict(checkpoint['model_state_dict'])\n",
    "eff2_adam_cosinerestarts.eval()\n",
    "eff2_adam_cosinerestarts = eff2_adam_cosinerestarts.to(device)\n",
    "\n",
    "checkpoint = torch.load('./Trained_model/eff2_adam_poly.pth',map_location=torch.device('cpu'))\n",
    "eff2_adam_poly =eff2_Model()\n",
    "eff2_adam_poly.load_state_dict(checkpoint['model_state_dict'])\n",
    "eff2_adam_poly.eval()\n",
    "eff2_adam_poly = eff2_adam_poly.to(device)\n",
    "\n",
    "checkpoint = torch.load('./Trained_model/eff2_adamw_cosinelr.pth',map_location=torch.device('cpu'))\n",
    "eff2_adamw_cosinelr =eff2_Model()\n",
    "eff2_adamw_cosinelr.load_state_dict(checkpoint['model_state_dict'])\n",
    "eff2_adamw_cosinelr.eval()\n",
    "eff2_adamw_cosinelr = eff2_adamw_cosinelr.to(device)\n",
    "\n",
    "checkpoint = torch.load('./Trained_model/eff2_adamw_cosinerestarts.pth',map_location=torch.device('cpu'))\n",
    "eff2_adamw_cosinerestarts =eff2_Model()\n",
    "eff2_adamw_cosinerestarts.load_state_dict(checkpoint['model_state_dict'])\n",
    "eff2_adamw_cosinerestarts.eval()\n",
    "eff2_adamw_cosinerestarts = eff2_adamw_cosinerestarts.to(device)\n",
    "\n",
    "checkpoint = torch.load('./Trained_model/eff2_adamw_poly.pth',map_location=torch.device('cpu'))\n",
    "eff2_adamw_poly =eff2_Model()\n",
    "eff2_adamw_poly.load_state_dict(checkpoint['model_state_dict'])\n",
    "eff2_adamw_poly.eval()\n",
    "eff2_adamw_poly = eff2_adamw_poly.to(device)\n",
    "\n",
    "checkpoint = torch.load('./Trained_model/eff2_radam_cosinelr.pth',map_location=torch.device('cpu'))\n",
    "eff2_radam_cosinelr =eff2_Model()\n",
    "eff2_radam_cosinelr.load_state_dict(checkpoint['model_state_dict'])\n",
    "eff2_radam_cosinelr.eval()\n",
    "eff2_radam_cosinelr = eff2_radam_cosinelr.to(device)\n",
    "\n",
    "checkpoint = torch.load('./Trained_model/eff2_radam_cosinerestarts.pth',map_location=torch.device('cpu'))\n",
    "eff2_radam_cosinerestarts =eff2_Model()\n",
    "eff2_radam_cosinerestarts.load_state_dict(checkpoint['model_state_dict'])\n",
    "eff2_radam_cosinerestarts.eval()\n",
    "eff2_radam_cosinerestarts = eff2_radam_cosinerestarts.to(device)\n",
    "\n",
    "#eff3\n",
    "\n",
    "checkpoint = torch.load('./Trained_model/eff3_adam_cosinelr.pth',map_location=torch.device('cpu'))\n",
    "eff3_adam_cosinelr =eff3_Model()\n",
    "eff3_adam_cosinelr.load_state_dict(checkpoint['model_state_dict'])\n",
    "eff3_adam_cosinelr.eval()\n",
    "eff3_adam_cosinelr = eff3_adam_cosinelr.to(device)\n",
    "\n",
    "checkpoint = torch.load('./Trained_model/eff3_adam_cosinerestarts.pth',map_location=torch.device('cpu'))\n",
    "eff3_adam_cosinerestarts =eff3_Model()\n",
    "eff3_adam_cosinerestarts.load_state_dict(checkpoint['model_state_dict'])\n",
    "eff3_adam_cosinerestarts.eval()\n",
    "eff3_adam_cosinerestarts = eff3_adam_cosinerestarts.to(device)\n",
    "\n",
    "checkpoint = torch.load('./Trained_model/eff3_adam_poly.pth',map_location=torch.device('cpu'))\n",
    "eff3_adam_poly =eff3_Model()\n",
    "eff3_adam_poly.load_state_dict(checkpoint['model_state_dict'])\n",
    "eff3_adam_poly.eval()\n",
    "eff3_adam_poly = eff3_adam_poly.to(device)\n",
    "\n",
    "checkpoint = torch.load('./Trained_model/eff3_Adamw_cosineLR.pth',map_location=torch.device('cpu'))\n",
    "eff3_adamw_cosinelr =eff3_Model()\n",
    "eff3_adamw_cosinelr.load_state_dict(checkpoint['model_state_dict'])\n",
    "eff3_adamw_cosinelr.eval()\n",
    "eff3_adamw_cosinelr = eff3_adamw_cosinelr.to(device)\n",
    "\n",
    "checkpoint = torch.load('./Trained_model/eff3_Adamw_cosinerestarts .pth',map_location=torch.device('cpu'))\n",
    "eff3_adamw_cosinerestarts =eff3_Model()\n",
    "eff3_adamw_cosinerestarts.load_state_dict(checkpoint['model_state_dict'])\n",
    "eff3_adamw_cosinerestarts.eval()\n",
    "eff3_adamw_cosinerestarts = eff3_adamw_cosinerestarts.to(device)\n",
    "\n",
    "\n",
    "checkpoint = torch.load('./Trained_model/eff3_radam_cosinelr.pth',map_location=torch.device('cpu'))\n",
    "eff3_radam_cosinelr =eff3_Model()\n",
    "eff3_radam_cosinelr.load_state_dict(checkpoint['model_state_dict'])\n",
    "eff3_radam_cosinelr.eval()\n",
    "eff3_radam_cosinelr = eff3_radam_cosinelr.to(device)\n",
    "\n",
    "checkpoint = torch.load('./Trained_model/eff3_radam_cosinerestarts.pth',map_location=torch.device('cpu'))\n",
    "eff3_radam_cosinerestarts =eff3_Model()\n",
    "eff3_radam_cosinerestarts.load_state_dict(checkpoint['model_state_dict'])\n",
    "eff3_radam_cosinerestarts.eval()\n",
    "eff3_radam_cosinerestarts = eff3_radam_cosinerestarts.to(device)\n",
    "\n",
    "checkpoint = torch.load('./Trained_model/eff3_radam_poly.pth',map_location=torch.device('cpu'))\n",
    "eff3_radam_poly =eff3_Model()\n",
    "eff3_radam_poly.load_state_dict(checkpoint['model_state_dict'])\n",
    "eff3_radam_poly.eval()\n",
    "eff3_radam_poly = eff3_radam_poly.to(device)\n",
    "\n",
    "\n",
    "\n",
    "#eff7\n",
    "checkpoint = torch.load('./Trained_model/eff7_adamw_cosinerestarts.pth',map_location=torch.device('cpu'))\n",
    "eff7_adamw_cosinerestarts =eff7_Model()\n",
    "eff7_adamw_cosinerestarts.load_state_dict(checkpoint['model_state_dict'])\n",
    "eff7_adamw_cosinerestarts.eval()\n",
    "eff7_adamw_cosinerestarts = eff7_adamw_cosinerestarts.to(device)\n",
    "\n",
    "\n",
    "#res34\n",
    "\n",
    "checkpoint = torch.load('./Trained_model/res34_adam_cosinelr.pth',map_location=torch.device('cpu'))\n",
    "res34_adam_cosinelr =res34_Model()\n",
    "res34_adam_cosinelr.load_state_dict(checkpoint['model_state_dict'])\n",
    "res34_adam_cosinelr.eval()\n",
    "res34_adam_cosinelr = res34_adam_cosinelr.to(device)\n",
    "\n",
    "checkpoint = torch.load('./Trained_model/res34_adamw_cosinerestarts.pth',map_location=torch.device('cpu'))\n",
    "res34_adamw_cosinerestarts =res34_Model()\n",
    "res34_adamw_cosinerestarts.load_state_dict(checkpoint['model_state_dict'])\n",
    "res34_adamw_cosinerestarts.eval()\n",
    "res34_adamw_cosinerestarts = res34_adamw_cosinerestarts.to(device)"
   ]
  },
  {
   "cell_type": "markdown",
   "metadata": {
    "id": "HxSY3Z-_7maH"
   },
   "source": [
    "Making a dataset"
   ]
  },
  {
   "cell_type": "code",
   "execution_count": 24,
   "metadata": {
    "id": "zJFsv2aZ7maI"
   },
   "outputs": [],
   "source": [
    "test_transform = transforms.Compose([\n",
    "    transforms.Resize((224, 224)),\n",
    "    transforms.ToTensor(),\n",
    "    transforms.Normalize((0.5, 0.5, 0.5), (0.5, 0.5, 0.5)),\n",
    "])\n",
    "\n",
    "test_dataset = ImageFolder(test_dir, transform=test_transform)"
   ]
  },
  {
   "cell_type": "code",
   "execution_count": 25,
   "metadata": {
    "id": "KY3pfrFD7maJ"
   },
   "outputs": [],
   "source": [
    "num_workers = 1\n",
    "test_loader = torch.utils.data.DataLoader(test_dataset, batch_size=20, shuffle=False, drop_last=False, num_workers=num_workers)"
   ]
  },
  {
   "cell_type": "markdown",
   "metadata": {
    "id": "_L-FStw97maK"
   },
   "source": [
    "Prediction"
   ]
  },
  {
   "cell_type": "markdown",
   "metadata": {
    "id": "gtz5VS7v7maK"
   },
   "source": [
    "Making a submission file"
   ]
  },
  {
   "cell_type": "code",
   "execution_count": 33,
   "metadata": {},
   "outputs": [],
   "source": [
    "import pandas as pd\n",
    "import numpy as np\n",
    "sample_submission = pd.read_csv(\"https://raw.githubusercontent.com/cjfghk5697/Classificiation_BMD/main/submission.csv\")\n"
   ]
  },
  {
   "cell_type": "code",
   "execution_count": 39,
   "metadata": {},
   "outputs": [
    {
     "name": "stdout",
     "output_type": "stream",
     "text": [
      "0\n",
      "1\n",
      "2\n",
      "3\n",
      "4\n",
      "5\n",
      "6\n",
      "7\n",
      "8\n",
      "9\n",
      "10\n"
     ]
    }
   ],
   "source": [
    "probs_array = np.zeros([sample_submission.shape[0],\n",
    "                              sample_submission.shape[1]-1])\n",
    "probs_array = prediction(test_loader)\n",
    "sample_submission.iloc[:,1:] = probs_array\n",
    "sample_submission=sample_submission.astype(int)\n",
    "sample_submission.to_csv('efficientNet_Ensemble.csv',index = False) # 경로 수정 필요 "
   ]
  },
  {
   "cell_type": "code",
   "execution_count": null,
   "metadata": {},
   "outputs": [],
   "source": [
    "            outputs += eff4_adam_cosinelr(inputs)\n",
    "            outputs += eff4_adam_cosinerestarts(inputs)\n",
    "            outputs += eff4_adam_poly(inputs)\n",
    "            outputs += eff4_adamw_cosinelr(inputs)\n",
    "            outputs += eff4_adamw_cosinerestarts(inputs)\n",
    "            outputs += eff4_adamw_poly(inputs)\n",
    "            outputs += eff4_radam_cosinelr(inputs)\n",
    "            outputs += eff4_radam_cosinerestarts(inputs)\n",
    "            outputs += eff4_radam_poly(inputs)"
   ]
  }
 ],
 "metadata": {
  "accelerator": "GPU",
  "colab": {
   "collapsed_sections": [],
   "name": "bmd_sample_test.ipynb",
   "provenance": []
  },
  "kernelspec": {
   "display_name": "Python 3",
   "language": "python",
   "name": "python3"
  },
  "language_info": {
   "codemirror_mode": {
    "name": "ipython",
    "version": 3
   },
   "file_extension": ".py",
   "mimetype": "text/x-python",
   "name": "python",
   "nbconvert_exporter": "python",
   "pygments_lexer": "ipython3",
   "version": "3.6.9"
  }
 },
 "nbformat": 4,
 "nbformat_minor": 1
}
