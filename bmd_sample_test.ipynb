{
  "cells": [
    {
      "cell_type": "markdown",
      "metadata": {
        "id": "view-in-github",
        "colab_type": "text"
      },
      "source": [
        "<a href=\"https://colab.research.google.com/github/cjfghk5697/Classifiviation_BMD/blob/main/bmd_sample_test.ipynb\" target=\"_parent\"><img src=\"https://colab.research.google.com/assets/colab-badge.svg\" alt=\"Open In Colab\"/></a>"
      ]
    },
    {
      "cell_type": "code",
      "execution_count": null,
      "metadata": {
        "id": "95J7ECDG7mZ-"
      },
      "outputs": [],
      "source": [
        "# !pip3 install timm"
      ]
    },
    {
      "cell_type": "code",
      "execution_count": null,
      "metadata": {
        "id": "cIE6v9LWWdUQ"
      },
      "outputs": [],
      "source": [
        "import os\n",
        "import torch\n",
        "import csv\n",
        "import torch.nn as nn\n",
        "import timm\n",
        "\n",
        "from torch.utils.data import DataLoader\n",
        "from tqdm.notebook import tqdm\n",
        "from torchvision.datasets import ImageFolder\n",
        "from torchvision import transforms"
      ]
    },
    {
      "cell_type": "code",
      "execution_count": null,
      "metadata": {
        "id": "oVByegjI7nX3"
      },
      "outputs": [],
      "source": [
        "# from google.colab import drive\n",
        "# drive.mount('/gdrive')"
      ]
    },
    {
      "cell_type": "code",
      "execution_count": null,
      "metadata": {
        "id": "aufBKxU6775w"
      },
      "outputs": [],
      "source": [
        "test_dir = './test'\n",
        "model_path = './best.pth'\n",
        "csv_path = 'submission.csv'"
      ]
    },
    {
      "cell_type": "markdown",
      "metadata": {
        "id": "5J_DjAjG7maC"
      },
      "source": [
        "# TEST"
      ]
    },
    {
      "cell_type": "code",
      "execution_count": null,
      "metadata": {
        "id": "2l2AiYgq7maE"
      },
      "outputs": [],
      "source": [
        "device = torch.device(\"cuda:0\" if torch.cuda.is_available() else \"cpu\")"
      ]
    },
    {
      "cell_type": "code",
      "execution_count": null,
      "metadata": {
        "id": "QLa8W1CJ7maE"
      },
      "outputs": [],
      "source": [
        "class Model(nn.Module):\n",
        "    def __init__(self):\n",
        "        super().__init__()\n",
        "        self.backbone = timm.create_model('resnext101_32x8d', pretrained=True)\n",
        "        self.backbone.classifier = nn.Identity()\n",
        "        self.fc = nn.Linear(1000, 3)\n",
        "\n",
        "    def forward(self, x):\n",
        "        return self.fc(self.backbone(x))"
      ]
    },
    {
      "cell_type": "code",
      "execution_count": null,
      "metadata": {
        "id": "vc__tQKW7maF"
      },
      "outputs": [],
      "source": [
        "def prediction(net, dataloader, device=device):\n",
        "    with torch.no_grad():\n",
        "        result = []\n",
        "        net.eval()\n",
        "        for inputs, labels in tqdm(dataloader):\n",
        "            inputs = inputs.to(device)\n",
        "            outputs = net(inputs)\n",
        "            _, preds = torch.max(outputs, 1)\n",
        "            result.append(preds.item())\n",
        "    return result"
      ]
    },
    {
      "cell_type": "markdown",
      "metadata": {
        "id": "nC0l61J-7maF"
      },
      "source": [
        "Loading the Test Model"
      ]
    },
    {
      "cell_type": "code",
      "execution_count": null,
      "metadata": {
        "id": "ZZvdq9KI7maG"
      },
      "outputs": [],
      "source": [
        "checkpoint = torch.load(model_path)\n",
        "\n",
        "net = Model()\n",
        "net.load_state_dict(checkpoint['model_state_dict'])\n",
        "net.eval()\n",
        "net = net.to(device)"
      ]
    },
    {
      "cell_type": "markdown",
      "metadata": {
        "id": "HxSY3Z-_7maH"
      },
      "source": [
        "Making a dataset"
      ]
    },
    {
      "cell_type": "code",
      "execution_count": null,
      "metadata": {
        "id": "zJFsv2aZ7maI"
      },
      "outputs": [],
      "source": [
        "test_transform = transforms.Compose([\n",
        "    transforms.Resize((224, 224)),\n",
        "    transforms.ToTensor(),\n",
        "    transforms.Normalize((0.5, 0.5, 0.5), (0.5, 0.5, 0.5)),\n",
        "])\n",
        "\n",
        "test_dataset = ImageFolder(test_dir, transform=test_transform)"
      ]
    },
    {
      "cell_type": "code",
      "execution_count": null,
      "metadata": {
        "id": "KY3pfrFD7maJ"
      },
      "outputs": [],
      "source": [
        "num_workers = 4\n",
        "test_loader = torch.utils.data.DataLoader(test_dataset, batch_size=1, shuffle=False, drop_last=False, num_workers=num_workers)"
      ]
    },
    {
      "cell_type": "markdown",
      "metadata": {
        "id": "_L-FStw97maK"
      },
      "source": [
        "Prediction"
      ]
    },
    {
      "cell_type": "code",
      "execution_count": null,
      "metadata": {
        "id": "4_UBFzPC7maK",
        "scrolled": true
      },
      "outputs": [],
      "source": [
        "result = prediction(net, test_loader)"
      ]
    },
    {
      "cell_type": "markdown",
      "metadata": {
        "id": "gtz5VS7v7maK"
      },
      "source": [
        "Making a submission file"
      ]
    },
    {
      "cell_type": "code",
      "execution_count": null,
      "metadata": {
        "id": "VVIS1GR57maL"
      },
      "outputs": [],
      "source": [
        "with open(csv_path, 'w') as f:\n",
        "    wr = csv.writer(f)\n",
        "    wr.writerow(['index', 'label_answer'])\n",
        "    for idx, prediction in enumerate(result):\n",
        "        wr.writerow([idx+1, prediction])"
      ]
    }
  ],
  "metadata": {
    "accelerator": "GPU",
    "colab": {
      "collapsed_sections": [],
      "name": "bmd_sample_test.ipynb",
      "provenance": [],
      "include_colab_link": true
    },
    "kernelspec": {
      "display_name": "Python 3",
      "language": "python",
      "name": "python3"
    },
    "language_info": {
      "codemirror_mode": {
        "name": "ipython",
        "version": 3
      },
      "file_extension": ".py",
      "mimetype": "text/x-python",
      "name": "python",
      "nbconvert_exporter": "python",
      "pygments_lexer": "ipython3",
      "version": "3.8.8"
    }
  },
  "nbformat": 4,
  "nbformat_minor": 0
}