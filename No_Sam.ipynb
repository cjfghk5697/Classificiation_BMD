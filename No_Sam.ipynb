{
  "cells": [
    {
      "cell_type": "markdown",
      "metadata": {
        "id": "view-in-github",
        "colab_type": "text"
      },
      "source": [
        "<a href=\"https://colab.research.google.com/github/cjfghk5697/Classificiation_BMD/blob/main/No_Sam.ipynb\" target=\"_parent\"><img src=\"https://colab.research.google.com/assets/colab-badge.svg\" alt=\"Open In Colab\"/></a>"
      ]
    },
    {
      "cell_type": "code",
      "execution_count": 19,
      "metadata": {
        "colab": {
          "base_uri": "https://localhost:8080/"
        },
        "id": "PwaQjKFH_c_1",
        "outputId": "e799ec16-0517-48d7-f55f-b52778cd1d3a"
      },
      "outputs": [
        {
          "output_type": "stream",
          "name": "stdout",
          "text": [
            "Collecting git+https://github.com/cmpark0126/pytorch-polynomial-lr-decay.git\n",
            "  Cloning https://github.com/cmpark0126/pytorch-polynomial-lr-decay.git to /tmp/pip-req-build-1rkbnc4y\n",
            "  Running command git clone -q https://github.com/cmpark0126/pytorch-polynomial-lr-decay.git /tmp/pip-req-build-1rkbnc4y\n",
            "Requirement already satisfied: torch in /usr/local/lib/python3.7/dist-packages (from torch-poly-lr-decay==0.0.1) (1.10.0+cu111)\n",
            "Requirement already satisfied: typing-extensions in /usr/local/lib/python3.7/dist-packages (from torch->torch-poly-lr-decay==0.0.1) (3.10.0.2)\n"
          ]
        }
      ],
      "source": [
        "!pip install git+https://github.com/cmpark0126/pytorch-polynomial-lr-decay.git\n"
      ]
    },
    {
      "cell_type": "code",
      "execution_count": 20,
      "metadata": {
        "colab": {
          "base_uri": "https://localhost:8080/"
        },
        "id": "uBKmHL7V3Lz6",
        "outputId": "01726077-af39-431f-a30b-382c251473de"
      },
      "outputs": [
        {
          "output_type": "stream",
          "name": "stdout",
          "text": [
            "Requirement already satisfied: timm in /usr/local/lib/python3.7/dist-packages (0.4.12)\n",
            "Requirement already satisfied: torchmetrics in /usr/local/lib/python3.7/dist-packages (0.6.2)\n",
            "Requirement already satisfied: torch>=1.4 in /usr/local/lib/python3.7/dist-packages (from timm) (1.10.0+cu111)\n",
            "Requirement already satisfied: torchvision in /usr/local/lib/python3.7/dist-packages (from timm) (0.11.1+cu111)\n",
            "Requirement already satisfied: typing-extensions in /usr/local/lib/python3.7/dist-packages (from torch>=1.4->timm) (3.10.0.2)\n",
            "Requirement already satisfied: numpy>=1.17.2 in /usr/local/lib/python3.7/dist-packages (from torchmetrics) (1.19.5)\n",
            "Requirement already satisfied: packaging in /usr/local/lib/python3.7/dist-packages (from torchmetrics) (21.3)\n",
            "Requirement already satisfied: pyparsing!=3.0.5,>=2.0.2 in /usr/local/lib/python3.7/dist-packages (from packaging->torchmetrics) (3.0.6)\n",
            "Requirement already satisfied: pillow!=8.3.0,>=5.3.0 in /usr/local/lib/python3.7/dist-packages (from torchvision->timm) (7.1.2)\n"
          ]
        }
      ],
      "source": [
        "!pip3 install timm torchmetrics"
      ]
    },
    {
      "cell_type": "code",
      "execution_count": 21,
      "metadata": {
        "id": "cIE6v9LWWdUQ"
      },
      "outputs": [],
      "source": [
        "import numpy as np\n",
        "import matplotlib.pyplot as plt\n",
        "import os\n",
        "import torch.optim as optim\n",
        "import datetime\n",
        "import csv\n",
        "\n",
        "from torchvision.datasets import ImageFolder\n",
        "from torchmetrics import AUROC, ROC\n",
        "\n",
        "import gdown\n",
        "import time\n",
        "import logging\n",
        "import random\n",
        "import torch\n",
        "from torch.autograd import Variable\n",
        "\n",
        "from google.colab import files\n",
        "from torch.optim.lr_scheduler import _LRScheduler\n",
        "from torchsummary import summary\n",
        "from pathlib import Path\n",
        "from PIL import Image\n",
        "\n",
        "import torchvision.models as models\n",
        "\n",
        "from torch.utils.data.dataset import random_split\n",
        "\n",
        "import torch.nn as nn\n",
        "import torch.nn.functional as F\n",
        "import torchvision.transforms as transforms\n",
        "from torch.optim.optimizer import Optimizer, required\n",
        "\n",
        "import pandas as pd\n",
        "from torch.utils.tensorboard import SummaryWriter\n",
        "from torch_poly_lr_decay import PolynomialLRDecay\n",
        "\n",
        "from tqdm import tqdm\n",
        "import argparse\n",
        "import albumentations as A\n",
        "import cv2\n",
        "from glob import glob\n",
        "from albumentations.core.transforms_interface import ImageOnlyTransform\n",
        "from matplotlib import pyplot as plt\n",
        "import math\n",
        "import timm\n",
        "from torch.utils.data import Dataset, DataLoader"
      ]
    },
    {
      "cell_type": "code",
      "execution_count": 22,
      "metadata": {
        "id": "r9ecmykxxoKD",
        "colab": {
          "base_uri": "https://localhost:8080/"
        },
        "outputId": "bdd35b50-f47b-4ad8-c176-7ed80a2ab2c2"
      },
      "outputs": [
        {
          "output_type": "stream",
          "name": "stdout",
          "text": [
            "Drive already mounted at /content/drive; to attempt to forcibly remount, call drive.mount(\"/content/drive\", force_remount=True).\n"
          ]
        }
      ],
      "source": [
        "from google.colab import drive\n",
        "drive.mount('/content/drive')"
      ]
    },
    {
      "cell_type": "code",
      "execution_count": 23,
      "metadata": {
        "id": "aEYiPGfk40gg"
      },
      "outputs": [],
      "source": [
        "train_dir = '/content/drive/MyDrive/bmd_dataset/train'\n",
        "model_root = './model/'"
      ]
    },
    {
      "cell_type": "code",
      "source": [
        "### https://github.com/davda54/sam\n",
        "\n",
        "class SAM(torch.optim.Optimizer):\n",
        "    def __init__(self, params, base_optimizer, rho=0.05, **kwargs):\n",
        "        assert rho >= 0.0, f\"Invalid rho, should be non-negative: {rho}\"\n",
        "\n",
        "        defaults = dict(rho=rho, **kwargs)\n",
        "        super(SAM, self).__init__(params, defaults)\n",
        "\n",
        "        self.base_optimizer = base_optimizer(self.param_groups, **kwargs)\n",
        "        self.param_groups = self.base_optimizer.param_groups\n",
        "\n",
        "    @torch.no_grad()\n",
        "    def first_step(self, zero_grad=False):\n",
        "        grad_norm = self._grad_norm()\n",
        "        for group in self.param_groups:\n",
        "            scale = group[\"rho\"] / (grad_norm + 1e-12)\n",
        "\n",
        "            for p in group[\"params\"]:\n",
        "                if p.grad is None: continue\n",
        "                e_w = p.grad * scale.to(p)\n",
        "                p.add_(e_w)  # climb to the local maximum \"w + e(w)\"\n",
        "                self.state[p][\"e_w\"] = e_w\n",
        "\n",
        "        if zero_grad: self.zero_grad()\n",
        "\n",
        "    @torch.no_grad()\n",
        "    def second_step(self, zero_grad=False):\n",
        "        for group in self.param_groups:\n",
        "            for p in group[\"params\"]:\n",
        "                if p.grad is None: continue\n",
        "                p.sub_(self.state[p][\"e_w\"])  # get back to \"w\" from \"w + e(w)\"\n",
        "\n",
        "        self.base_optimizer.step()  # do the actual \"sharpness-aware\" update\n",
        "\n",
        "        if zero_grad: self.zero_grad()\n",
        "\n",
        "    @torch.no_grad()\n",
        "    def step(self, closure=None):\n",
        "        assert closure is not None, \"Sharpness Aware Minimization requires closure, but it was not provided\"\n",
        "        closure = torch.enable_grad()(closure)  # the closure should do a full forward-backward pass\n",
        "\n",
        "        self.first_step(zero_grad=True)\n",
        "        closure()\n",
        "        self.second_step()\n",
        "\n",
        "    def _grad_norm(self):\n",
        "        shared_device = self.param_groups[0][\"params\"][0].device  # put everything on the same device, in case of model parallelism\n",
        "        norm = torch.norm(\n",
        "                    torch.stack([\n",
        "                        p.grad.norm(p=2).to(shared_device)\n",
        "                        for group in self.param_groups for p in group[\"params\"]\n",
        "                        if p.grad is not None\n",
        "                    ]),\n",
        "                    p=2\n",
        "               )\n",
        "        return norm"
      ],
      "metadata": {
        "id": "uEV7MQacgAhI"
      },
      "execution_count": 24,
      "outputs": []
    },
    {
      "cell_type": "code",
      "execution_count": 25,
      "metadata": {
        "id": "_TJIlLMrN-A9"
      },
      "outputs": [],
      "source": [
        "class CosineAnnealingWarmupRestarts(_LRScheduler):\n",
        "    \"\"\"\n",
        "        optimizer (Optimizer): Wrapped optimizer.\n",
        "        first_cycle_steps (int): First cycle step size.\n",
        "        cycle_mult(float): Cycle steps magnification. Default: -1.\n",
        "        max_lr(float): First cycle's max learning rate. Default: 0.1.\n",
        "        min_lr(float): Min learning rate. Default: 0.001.\n",
        "        warmup_steps(int): Linear warmup step size. Default: 0.\n",
        "        gamma(float): Decrease rate of max learning rate by cycle. Default: 1.\n",
        "        last_epoch (int): The index of last epoch. Default: -1.\n",
        "    \"\"\"\n",
        "    \n",
        "    def __init__(self,\n",
        "                 optimizer : torch.optim.Optimizer,\n",
        "                 first_cycle_steps : int,\n",
        "                 cycle_mult : float = 1.,\n",
        "                 max_lr : float = 0.1,\n",
        "                 min_lr : float = 0.001,\n",
        "                 warmup_steps : int = 0,\n",
        "                 gamma : float = 1.,\n",
        "                 last_epoch : int = -1\n",
        "        ):\n",
        "        assert warmup_steps < first_cycle_steps\n",
        "        \n",
        "        self.first_cycle_steps = first_cycle_steps # first cycle step size\n",
        "        self.cycle_mult = cycle_mult # cycle steps magnification\n",
        "        self.base_max_lr = max_lr # first max learning rate\n",
        "        self.max_lr = max_lr # max learning rate in the current cycle\n",
        "        self.min_lr = min_lr # min learning rate\n",
        "        self.warmup_steps = warmup_steps # warmup step size\n",
        "        self.gamma = gamma # decrease rate of max learning rate by cycle\n",
        "        \n",
        "        self.cur_cycle_steps = first_cycle_steps # first cycle step size\n",
        "        self.cycle = 0 # cycle count\n",
        "        self.step_in_cycle = last_epoch # step size of the current cycle\n",
        "        \n",
        "        super(CosineAnnealingWarmupRestarts, self).__init__(optimizer, last_epoch)\n",
        "        \n",
        "        # set learning rate min_lr\n",
        "        self.init_lr()\n",
        "    \n",
        "    def init_lr(self):\n",
        "        self.base_lrs = []\n",
        "        for param_group in self.optimizer.param_groups:\n",
        "            param_group['lr'] = self.min_lr\n",
        "            self.base_lrs.append(self.min_lr)\n",
        "    \n",
        "    def get_lr(self):\n",
        "        if self.step_in_cycle == -1:\n",
        "            return self.base_lrs\n",
        "        elif self.step_in_cycle < self.warmup_steps:\n",
        "            return [(self.max_lr - base_lr)*self.step_in_cycle / self.warmup_steps + base_lr for base_lr in self.base_lrs]\n",
        "        else:\n",
        "            return [base_lr + (self.max_lr - base_lr) \\\n",
        "                    * (1 + math.cos(math.pi * (self.step_in_cycle-self.warmup_steps) \\\n",
        "                                    / (self.cur_cycle_steps - self.warmup_steps))) / 2\n",
        "                    for base_lr in self.base_lrs]\n",
        "\n",
        "    def step(self, epoch=None):\n",
        "        if epoch is None:\n",
        "            epoch = self.last_epoch + 1\n",
        "            self.step_in_cycle = self.step_in_cycle + 1\n",
        "            if self.step_in_cycle >= self.cur_cycle_steps:\n",
        "                self.cycle += 1\n",
        "                self.step_in_cycle = self.step_in_cycle - self.cur_cycle_steps\n",
        "                self.cur_cycle_steps = int((self.cur_cycle_steps - self.warmup_steps) * self.cycle_mult) + self.warmup_steps\n",
        "        else:\n",
        "            if epoch >= self.first_cycle_steps:\n",
        "                if self.cycle_mult == 1.:\n",
        "                    self.step_in_cycle = epoch % self.first_cycle_steps\n",
        "                    self.cycle = epoch // self.first_cycle_steps\n",
        "                else:\n",
        "                    n = int(math.log((epoch / self.first_cycle_steps * (self.cycle_mult - 1) + 1), self.cycle_mult))\n",
        "                    self.cycle = n\n",
        "                    self.step_in_cycle = epoch - int(self.first_cycle_steps * (self.cycle_mult ** n - 1) / (self.cycle_mult - 1))\n",
        "                    self.cur_cycle_steps = self.first_cycle_steps * self.cycle_mult ** (n)\n",
        "            else:\n",
        "                self.cur_cycle_steps = self.first_cycle_steps\n",
        "                self.step_in_cycle = epoch\n",
        "                \n",
        "        self.max_lr = self.base_max_lr * (self.gamma**self.cycle)\n",
        "        self.last_epoch = math.floor(epoch)\n",
        "        for param_group, lr in zip(self.optimizer.param_groups, self.get_lr()):\n",
        "            param_group['lr'] = lr"
      ]
    },
    {
      "cell_type": "code",
      "execution_count": 26,
      "metadata": {
        "id": "wPvnzTlYVwb3"
      },
      "outputs": [],
      "source": [
        "class RAdam(Optimizer):\n",
        "\n",
        "    def __init__(self, params, lr=1e-3, betas=(0.9, 0.999), eps=1e-8, weight_decay=0, degenerated_to_sgd=True):\n",
        "        if not 0.0 <= lr:\n",
        "            raise ValueError(\"Invalid learning rate: {}\".format(lr))\n",
        "        if not 0.0 <= eps:\n",
        "            raise ValueError(\"Invalid epsilon value: {}\".format(eps))\n",
        "        if not 0.0 <= betas[0] < 1.0:\n",
        "            raise ValueError(\"Invalid beta parameter at index 0: {}\".format(betas[0]))\n",
        "        if not 0.0 <= betas[1] < 1.0:\n",
        "            raise ValueError(\"Invalid beta parameter at index 1: {}\".format(betas[1]))\n",
        "        \n",
        "        self.degenerated_to_sgd = degenerated_to_sgd\n",
        "        if isinstance(params, (list, tuple)) and len(params) > 0 and isinstance(params[0], dict):\n",
        "            for param in params:\n",
        "                if 'betas' in param and (param['betas'][0] != betas[0] or param['betas'][1] != betas[1]):\n",
        "                    param['buffer'] = [[None, None, None] for _ in range(10)]\n",
        "        defaults = dict(lr=lr, betas=betas, eps=eps, weight_decay=weight_decay, buffer=[[None, None, None] for _ in range(10)])\n",
        "        super(RAdam, self).__init__(params, defaults)\n",
        "\n",
        "    def __setstate__(self, state):\n",
        "        super(RAdam, self).__setstate__(state)\n",
        "\n",
        "    def step(self, closure=None):\n",
        "\n",
        "        loss = None\n",
        "        if closure is not None:\n",
        "            loss = closure()\n",
        "\n",
        "        for group in self.param_groups:\n",
        "\n",
        "            for p in group['params']:\n",
        "                if p.grad is None:\n",
        "                    continue\n",
        "                grad = p.grad.data.float()\n",
        "                if grad.is_sparse:\n",
        "                    raise RuntimeError('RAdam does not support sparse gradients')\n",
        "\n",
        "                p_data_fp32 = p.data.float()\n",
        "\n",
        "                state = self.state[p]\n",
        "\n",
        "                if len(state) == 0:\n",
        "                    state['step'] = 0\n",
        "                    state['exp_avg'] = torch.zeros_like(p_data_fp32)\n",
        "                    state['exp_avg_sq'] = torch.zeros_like(p_data_fp32)\n",
        "                else:\n",
        "                    state['exp_avg'] = state['exp_avg'].type_as(p_data_fp32)\n",
        "                    state['exp_avg_sq'] = state['exp_avg_sq'].type_as(p_data_fp32)\n",
        "\n",
        "                exp_avg, exp_avg_sq = state['exp_avg'], state['exp_avg_sq']\n",
        "                beta1, beta2 = group['betas']\n",
        "\n",
        "                exp_avg_sq.mul_(beta2).addcmul_(1 - beta2, grad, grad)\n",
        "                exp_avg.mul_(beta1).add_(1 - beta1, grad)\n",
        "\n",
        "                state['step'] += 1\n",
        "                buffered = group['buffer'][int(state['step'] % 10)]\n",
        "                if state['step'] == buffered[0]:\n",
        "                    N_sma, step_size = buffered[1], buffered[2]\n",
        "                else:\n",
        "                    buffered[0] = state['step']\n",
        "                    beta2_t = beta2 ** state['step']\n",
        "                    N_sma_max = 2 / (1 - beta2) - 1\n",
        "                    N_sma = N_sma_max - 2 * state['step'] * beta2_t / (1 - beta2_t)\n",
        "                    buffered[1] = N_sma\n",
        "\n",
        "                    # more conservative since it's an approximated value\n",
        "                    if N_sma >= 5:\n",
        "                        step_size = math.sqrt((1 - beta2_t) * (N_sma - 4) / (N_sma_max - 4) * (N_sma - 2) / N_sma * N_sma_max / (N_sma_max - 2)) / (1 - beta1 ** state['step'])\n",
        "                    elif self.degenerated_to_sgd:\n",
        "                        step_size = 1.0 / (1 - beta1 ** state['step'])\n",
        "                    else:\n",
        "                        step_size = -1\n",
        "                    buffered[2] = step_size\n",
        "\n",
        "                # more conservative since it's an approximated value\n",
        "                if N_sma >= 5:\n",
        "                    if group['weight_decay'] != 0:\n",
        "                        p_data_fp32.add_(-group['weight_decay'] * group['lr'], p_data_fp32)\n",
        "                    denom = exp_avg_sq.sqrt().add_(group['eps'])\n",
        "                    p_data_fp32.addcdiv_(-step_size * group['lr'], exp_avg, denom)\n",
        "                    p.data.copy_(p_data_fp32)\n",
        "                elif step_size > 0:\n",
        "                    if group['weight_decay'] != 0:\n",
        "                        p_data_fp32.add_(-group['weight_decay'] * group['lr'], p_data_fp32)\n",
        "                    p_data_fp32.add_(-step_size * group['lr'], exp_avg)\n",
        "                    p.data.copy_(p_data_fp32)\n",
        "\n",
        "        return loss"
      ]
    },
    {
      "cell_type": "code",
      "execution_count": 27,
      "metadata": {
        "id": "ZDIl9zf_ZIyU"
      },
      "outputs": [],
      "source": [
        "def mixup_data(x, y, alpha=1.0, use_cuda=True):\n",
        "    '''Returns mixed inputs, pairs of targets, and lambda'''\n",
        "    if alpha > 0:\n",
        "        lam = np.random.beta(alpha, alpha)\n",
        "    else:\n",
        "        lam = 1\n",
        "\n",
        "    batch_size = x.size()[0]\n",
        "    if use_cuda:\n",
        "        index = torch.randperm(batch_size).cuda()\n",
        "    else:\n",
        "        index = torch.randperm(batch_size)\n",
        "\n",
        "    mixed_x = lam * x + (1 - lam) * x[index, :]\n",
        "    y_a, y_b = y, y[index]\n",
        "    return mixed_x, y_a, y_b, lam\n",
        "\n",
        "\n",
        "def mixup_criterion(criterion, pred, y_a, y_b, lam):\n",
        "    return lam * criterion(pred, y_a) + (1 - lam) * criterion(pred, y_b)"
      ]
    },
    {
      "cell_type": "markdown",
      "metadata": {
        "id": "NzFhCKMKWrck"
      },
      "source": [
        "# Train"
      ]
    },
    {
      "cell_type": "code",
      "execution_count": 28,
      "metadata": {
        "id": "WC1ecyVaWo36"
      },
      "outputs": [],
      "source": [
        "device = torch.device(\"cuda:0\" if torch.cuda.is_available() else \"cpu\")"
      ]
    },
    {
      "cell_type": "markdown",
      "metadata": {
        "id": "CRIPXwPQWg2c"
      },
      "source": [
        "Model list"
      ]
    },
    {
      "cell_type": "code",
      "execution_count": 29,
      "metadata": {
        "id": "Z6Q3LQswZL2J"
      },
      "outputs": [],
      "source": [
        "def seed_everything(seed: int = 42):\n",
        "    random.seed(seed)\n",
        "    np.random.seed(seed)\n",
        "    os.environ[\"PYTHONHASHSEED\"] = str(seed)\n",
        "    torch.manual_seed(seed)\n",
        "    torch.cuda.manual_seed(seed)  # type: ignore\n",
        "    torch.backends.cudnn.deterministic = True  # type: ignore\n",
        "    torch.backends.cudnn.benchmark = True  # type: ignore\n",
        "seed_everything(42)"
      ]
    },
    {
      "cell_type": "code",
      "execution_count": 30,
      "metadata": {
        "id": "DVn5u8T8Wjoo"
      },
      "outputs": [],
      "source": [
        "# all_densenet_models = timm.list_models('**')\n",
        "# all_densenet_models"
      ]
    },
    {
      "cell_type": "markdown",
      "metadata": {
        "id": "ODwW-HhKWicu"
      },
      "source": [
        "Model"
      ]
    },
    {
      "cell_type": "code",
      "execution_count": 31,
      "metadata": {
        "id": "Wvp2Qs3aWkS_"
      },
      "outputs": [],
      "source": [
        "class Model(nn.Module):\n",
        "    def __init__(self):\n",
        "        super().__init__()\n",
        "        self.backbone = timm.create_model('resnet34', pretrained=True)\n",
        "        self.backbone.classifier = nn.Identity()\n",
        "        self.dropout = nn.Dropout(p=0.2)\n",
        "        self.activation = nn.SiLU()\n",
        "        self.classifier = nn.Linear(1000, 3)\n",
        "    def forward(self, x):\n",
        "        x=self.backbone(x)\n",
        "        x=self.classifier(x)\n",
        "\n",
        "        return x"
      ]
    },
    {
      "cell_type": "markdown",
      "metadata": {
        "id": "ru7jRUSVWogO"
      },
      "source": [
        "Making a dataset"
      ]
    },
    {
      "cell_type": "code",
      "execution_count": 32,
      "metadata": {
        "id": "tcY0SXkdWsZP"
      },
      "outputs": [],
      "source": [
        "train_transform = transforms.Compose([\n",
        "    transforms.Resize((224, 224)),\n",
        "    transforms.ToTensor(),\n",
        "    transforms.RandomHorizontalFlip(p=0.2),\n",
        "    transforms.RandomVerticalFlip(p=0.2),\n",
        "    transforms.RandomRotation(30),\n",
        "\n",
        "])\n",
        "\n",
        "dataset = ImageFolder(train_dir, transform=train_transform)\n",
        "\n",
        "# normal: 0, osteopenia:1, osteoporosis:2"
      ]
    },
    {
      "cell_type": "markdown",
      "metadata": {
        "id": "tHb_pzO93L0X"
      },
      "source": [
        "Train & Validation"
      ]
    },
    {
      "cell_type": "code",
      "execution_count": 33,
      "metadata": {
        "id": "UhmqC0m1WxzH"
      },
      "outputs": [],
      "source": [
        "net = Model()\n",
        "net.train()\n",
        "net = net.to(device)\n",
        "\n",
        "criterion = nn.CrossEntropyLoss()\n",
        "\n",
        "#base_optimizer = torch.optim.SGD  \n",
        "#optimizer = SAM(net.parameters(), base_optimizer, lr=0.001, momentum=0.9)\n",
        "optimizer = torch.optim.Adam(net.parameters(),lr=1e-3)\n",
        "#optimizer = RAdam(net.parameters(), lr=1e-3, betas=(0.9, 0.999), weight_decay=1e-4)\n",
        "#optimizer = torch.optim.AdamW(net.parameters(),lr=1e-3)\n",
        "\n",
        "#scheduler = torch.optim.lr_scheduler.CosineAnnealingLR(optimizer, T_max=10, eta_min=0)    \n",
        "scheduler = CosineAnnealingWarmupRestarts(optimizer,\n",
        "                                          first_cycle_steps=60,\n",
        "                                          cycle_mult=1.0,\n",
        "                                          max_lr=0.005,\n",
        "                                          min_lr=0.0001,\n",
        "                                          warmup_steps=12,\n",
        "                                          gamma=1.0)\n",
        "batch_size = 32\n",
        "train_size = int(0.7*len(dataset))\n",
        "val_size = len(dataset) - train_size\n",
        "train_dataset, val_dataset = torch.utils.data.random_split(dataset, [train_size, val_size])\n",
        "num_epochs=80\n",
        "\n",
        "decay_steps = (len(train_dataset)//batch_size)*num_epochs\n",
        "\n",
        "#scheduler = PolynomialLRDecay(optimizer, max_decay_steps=decay_steps, end_learning_rate=1e-6, power=0.9)\n"
      ]
    },
    {
      "cell_type": "code",
      "execution_count": 34,
      "metadata": {
        "id": "f0MXcjiH3L0Y"
      },
      "outputs": [],
      "source": [
        "def save_model(model, acc, date_time, name):\n",
        "    model_name = name + '.pth'\n",
        "    model_path = Path(model_root + date_time)\n",
        "    model_path.mkdir(parents=True, exist_ok=True)\n",
        "    print('Saving model (Accuracy {:.2f}%) to {}'.format(acc*100, str(model_path / model_name)) )\n",
        "    torch.save({'model_state_dict':model.state_dict(), 'acc':acc}, str(model_path / model_name) )"
      ]
    },
    {
      "cell_type": "code",
      "execution_count": 35,
      "metadata": {
        "id": "uFBGgK3vW1Yy"
      },
      "outputs": [],
      "source": [
        "def train_model(net, dataloaders_dict, criterion, optimizer, num_epochs, auc=False, device=device,scheduler=scheduler):\n",
        "    tz = datetime.timezone(datetime.timedelta(hours=9)) # Timezone infomation\n",
        "    date_time = datetime.datetime.now(tz).strftime('%Y-%m-%d-%H-%M-%S')\n",
        "    \n",
        "    best_val_acc = 0\n",
        "    best_train_acc = 0\n",
        "    epoch_train_acc = 0\n",
        "    \n",
        "    for epoch in range(num_epochs + 1):\n",
        "        print('\\n------------------------')\n",
        "        print('EPOCH {}/{}'.format(epoch, num_epochs))\n",
        "        print('------------------------')\n",
        "        \n",
        "        if auc == True:\n",
        "            auc_roc_metric = AUROC(num_classes=3, average=None)\n",
        "            roc_metric = ROC(num_classes=3)\n",
        "\n",
        "        for phase in ['train', 'val']:\n",
        "            if phase == 'train':\n",
        "                net.train()\n",
        "            else:\n",
        "                net.eval()\n",
        "                \n",
        "            epoch_loss = 0.0\n",
        "            epoch_corrects = 0\n",
        "            \n",
        "            total_loss = 0\n",
        "            total_size = 0\n",
        "            total_corrects = 0\n",
        "            \n",
        "            # 학습 전 성능 확인\n",
        "            if (epoch == 0) and (phase == 'train'):\n",
        "                continue\n",
        "            \n",
        "            num_iteration = len(dataloaders_dict[phase])\n",
        "            \n",
        "            for idx, (inputs, labels) in enumerate(tqdm(dataloaders_dict[phase])):\n",
        "                optimizer.zero_grad()\n",
        "\n",
        "\n",
        "\n",
        "                with torch.set_grad_enabled(phase == 'train'):\n",
        "                    inputs, labels = inputs.to(device), labels.to(device)\n",
        "                    inputs, labels_a, labels_b, lam = mixup_data(inputs,labels)\n",
        "                    inputs, labels_a, labels_b = map(Variable, (inputs, labels_a, labels_b))\n",
        "                    outputs = net(inputs)\n",
        "                    loss = mixup_criterion(criterion, outputs, labels_a, labels_b, lam)\n",
        "                    _, preds = torch.max(outputs, 1)\n",
        "                    \n",
        "                    if phase == 'train':\n",
        "                        loss.backward()\n",
        "                        #optimizer.first_step(zero_grad=True)\n",
        "                        # sam optimizer second_steop\n",
        "                        #criterion(net(inputs), labels).backward()\n",
        "                        #optimizer.second_step(zero_grad=True)\n",
        "\n",
        "                        optimizer.step()\n",
        "                    epoch_loss = loss.item()\n",
        "                    total_loss += epoch_loss\n",
        "\n",
        "                    epoch_corrects = torch.sum(preds == labels.data)\n",
        "                    epoch_acc = epoch_corrects.double() / inputs.size(0)\n",
        "                    total_corrects += epoch_corrects\n",
        "                    total_size += inputs.size(0)\n",
        "                    \n",
        "                    if phase == 'train':\n",
        "                        print('{} [{}/{}] LOSS: {:.4f} ACC: {:.4f}'.format(phase, idx+1, num_iteration, epoch_loss, epoch_acc))\n",
        "\n",
        "                    if (phase == 'val') & (auc == True):\n",
        "                        auc_roc_metric(outputs, labels)\n",
        "                        roc_metric(outputs, labels)\n",
        "            \n",
        "            epoch_loss_avg = total_loss / num_iteration\n",
        "            epoch_acc_avg = total_corrects / total_size\n",
        "            scheduler.step()\n",
        "            if phase == 'train':\n",
        "                if best_train_acc < epoch_acc_avg:\n",
        "                    best_train_acc = epoch_acc_avg\n",
        "                print('{} LOSS: {:.4f} ACC: {:.4f} BEST ACC: {:.4f}'.format(phase, epoch_loss_avg, epoch_acc_avg, best_train_acc))\n",
        "\n",
        "            if phase == 'val':\n",
        "                if (epoch_acc_avg == best_val_acc) & (epoch_acc_avg == best_train_acc):\n",
        "                    save_model(net, epoch_acc_avg, date_time, 'best')\n",
        "                elif best_val_acc < epoch_acc_avg:\n",
        "                    best_val_acc = epoch_acc_avg\n",
        "                    print('Best Validation Accuracy: {:.4f}'.format(epoch_acc_avg))\n",
        "                    save_model(net, epoch_acc_avg, date_time, 'best')\n",
        "\n",
        "                print('{} LOSS: {:.4f} ACC: {:.4f} BEST ACC: {:.4f}\\n'.format(phase, epoch_loss_avg, epoch_acc_avg, best_val_acc))\n",
        "\n",
        "                if auc == True:\n",
        "                    for auroc, fpt, tpr, thresholds in zip(auc_roc_metric.compute(), *roc_metric.compute()):\n",
        "                        print('auc: {:5.2f}'.format(auroc* 100))\n",
        "                        size = min(len(fpt), len(tpr))\n",
        "                        plt.plot(fpt[:size].cpu(), tpr[:size].cpu())\n",
        "                        plt.show()\n",
        "                        plt.cla()"
      ]
    },
    {
      "cell_type": "code",
      "execution_count": null,
      "metadata": {
        "colab": {
          "base_uri": "https://localhost:8080/"
        },
        "id": "EwisHP2kW6gX",
        "outputId": "c92e5ad4-752e-4f98-eade-ea4908aeb235"
      },
      "outputs": [
        {
          "output_type": "stream",
          "name": "stderr",
          "text": [
            "/usr/local/lib/python3.7/dist-packages/torch/utils/data/dataloader.py:481: UserWarning: This DataLoader will create 64 worker processes in total. Our suggested max number of worker in current system is 4, which is smaller than what this DataLoader is going to create. Please be aware that excessive worker creation might get DataLoader running slow or even freeze, lower the worker number to avoid potential slowness/freeze if necessary.\n",
            "  cpuset_checked))\n"
          ]
        },
        {
          "output_type": "stream",
          "name": "stdout",
          "text": [
            "\n",
            "------------------------\n",
            "EPOCH 0/80\n",
            "------------------------\n"
          ]
        },
        {
          "output_type": "stream",
          "name": "stderr",
          "text": [
            "100%|██████████| 29/29 [00:09<00:00,  3.04it/s]\n"
          ]
        },
        {
          "output_type": "stream",
          "name": "stdout",
          "text": [
            "Best Validation Accuracy: 0.3944\n",
            "Saving model (Accuracy 39.44%) to model/2021-12-16-23-06-26/best.pth\n",
            "val LOSS: 1.5381 ACC: 0.3944 BEST ACC: 0.3944\n",
            "\n",
            "\n",
            "------------------------\n",
            "EPOCH 1/80\n",
            "------------------------\n"
          ]
        },
        {
          "output_type": "stream",
          "name": "stderr",
          "text": [
            "  2%|▏         | 1/66 [00:15<16:28, 15.21s/it]"
          ]
        },
        {
          "output_type": "stream",
          "name": "stdout",
          "text": [
            "train [1/66] LOSS: 1.1359 ACC: 0.5312\n"
          ]
        },
        {
          "output_type": "stream",
          "name": "stderr",
          "text": [
            "  5%|▍         | 3/66 [00:15<03:43,  3.55s/it]"
          ]
        },
        {
          "output_type": "stream",
          "name": "stdout",
          "text": [
            "train [2/66] LOSS: 1.7536 ACC: 0.4375\n",
            "train [3/66] LOSS: 1.6184 ACC: 0.2500\n"
          ]
        },
        {
          "output_type": "stream",
          "name": "stderr",
          "text": [
            "  8%|▊         | 5/66 [00:15<01:27,  1.44s/it]"
          ]
        },
        {
          "output_type": "stream",
          "name": "stdout",
          "text": [
            "train [4/66] LOSS: 1.3459 ACC: 0.3125\n",
            "train [5/66] LOSS: 0.9876 ACC: 0.5312\n"
          ]
        },
        {
          "output_type": "stream",
          "name": "stderr",
          "text": [
            " 12%|█▏        | 8/66 [00:16<00:31,  1.82it/s]"
          ]
        },
        {
          "output_type": "stream",
          "name": "stdout",
          "text": [
            "train [6/66] LOSS: 1.2240 ACC: 0.5000\n",
            "train [7/66] LOSS: 1.3164 ACC: 0.3438\n",
            "train [8/66] LOSS: 1.2629 ACC: 0.2812\n"
          ]
        },
        {
          "output_type": "stream",
          "name": "stderr",
          "text": [
            " 17%|█▋        | 11/66 [00:16<00:15,  3.45it/s]"
          ]
        },
        {
          "output_type": "stream",
          "name": "stdout",
          "text": [
            "train [9/66] LOSS: 1.0741 ACC: 0.2812\n",
            "train [10/66] LOSS: 1.1281 ACC: 0.4062\n",
            "train [11/66] LOSS: 1.2264 ACC: 0.4062\n"
          ]
        },
        {
          "output_type": "stream",
          "name": "stderr",
          "text": [
            " 20%|█▉        | 13/66 [00:16<00:11,  4.78it/s]"
          ]
        },
        {
          "output_type": "stream",
          "name": "stdout",
          "text": [
            "train [12/66] LOSS: 1.1778 ACC: 0.3750\n",
            "train [13/66] LOSS: 1.1610 ACC: 0.3750\n",
            "train [14/66] LOSS: 1.0883 ACC: 0.3750\n"
          ]
        },
        {
          "output_type": "stream",
          "name": "stderr",
          "text": [
            " 26%|██▌       | 17/66 [00:17<00:06,  7.19it/s]"
          ]
        },
        {
          "output_type": "stream",
          "name": "stdout",
          "text": [
            "train [15/66] LOSS: 1.1137 ACC: 0.2500\n",
            "train [16/66] LOSS: 1.0607 ACC: 0.3438\n",
            "train [17/66] LOSS: 1.1272 ACC: 0.3438\n"
          ]
        },
        {
          "output_type": "stream",
          "name": "stderr",
          "text": [
            "\r 29%|██▉       | 19/66 [00:17<00:05,  8.00it/s]"
          ]
        },
        {
          "output_type": "stream",
          "name": "stdout",
          "text": [
            "train [18/66] LOSS: 1.1863 ACC: 0.2188\n",
            "train [19/66] LOSS: 1.0642 ACC: 0.5000\n",
            "train [20/66] LOSS: 1.1226 ACC: 0.4688\n"
          ]
        },
        {
          "output_type": "stream",
          "name": "stderr",
          "text": [
            " 35%|███▍      | 23/66 [00:17<00:04,  8.93it/s]"
          ]
        },
        {
          "output_type": "stream",
          "name": "stdout",
          "text": [
            "train [21/66] LOSS: 1.1177 ACC: 0.5312\n",
            "train [22/66] LOSS: 1.0648 ACC: 0.4688\n",
            "train [23/66] LOSS: 1.0180 ACC: 0.4688\n"
          ]
        },
        {
          "output_type": "stream",
          "name": "stderr",
          "text": [
            " 39%|███▉      | 26/66 [00:17<00:04,  9.42it/s]"
          ]
        },
        {
          "output_type": "stream",
          "name": "stdout",
          "text": [
            "train [24/66] LOSS: 1.0815 ACC: 0.4062\n",
            "train [25/66] LOSS: 0.9932 ACC: 0.5625\n",
            "train [26/66] LOSS: 1.1874 ACC: 0.3438\n"
          ]
        },
        {
          "output_type": "stream",
          "name": "stderr",
          "text": [
            "\r 42%|████▏     | 28/66 [00:18<00:03,  9.61it/s]"
          ]
        },
        {
          "output_type": "stream",
          "name": "stdout",
          "text": [
            "train [27/66] LOSS: 1.0048 ACC: 0.5000\n",
            "train [28/66] LOSS: 1.0746 ACC: 0.3750\n"
          ]
        },
        {
          "output_type": "stream",
          "name": "stderr",
          "text": [
            " 47%|████▋     | 31/66 [00:18<00:03,  9.86it/s]"
          ]
        },
        {
          "output_type": "stream",
          "name": "stdout",
          "text": [
            "train [29/66] LOSS: 1.0913 ACC: 0.3750\n",
            "train [30/66] LOSS: 1.0506 ACC: 0.4062\n",
            "train [31/66] LOSS: 1.1232 ACC: 0.2812\n"
          ]
        },
        {
          "output_type": "stream",
          "name": "stderr",
          "text": [
            "\r 50%|█████     | 33/66 [00:18<00:03,  9.94it/s]"
          ]
        },
        {
          "output_type": "stream",
          "name": "stdout",
          "text": [
            "train [32/66] LOSS: 1.1084 ACC: 0.3125\n",
            "train [33/66] LOSS: 1.0230 ACC: 0.4688\n",
            "train [34/66] LOSS: 1.1261 ACC: 0.3438\n"
          ]
        },
        {
          "output_type": "stream",
          "name": "stderr",
          "text": [
            " 56%|█████▌    | 37/66 [00:19<00:02, 10.04it/s]"
          ]
        },
        {
          "output_type": "stream",
          "name": "stdout",
          "text": [
            "train [35/66] LOSS: 1.0779 ACC: 0.4062\n",
            "train [36/66] LOSS: 1.1131 ACC: 0.3438\n",
            "train [37/66] LOSS: 1.0407 ACC: 0.4375\n"
          ]
        },
        {
          "output_type": "stream",
          "name": "stderr",
          "text": [
            "\r 59%|█████▉    | 39/66 [00:19<00:02, 10.05it/s]"
          ]
        },
        {
          "output_type": "stream",
          "name": "stdout",
          "text": [
            "train [38/66] LOSS: 1.0872 ACC: 0.3750\n",
            "train [39/66] LOSS: 1.1300 ACC: 0.2500\n",
            "train [40/66] LOSS: 1.0767 ACC: 0.3125\n"
          ]
        },
        {
          "output_type": "stream",
          "name": "stderr",
          "text": [
            "\r 62%|██████▏   | 41/66 [00:19<00:02, 10.09it/s]"
          ]
        },
        {
          "output_type": "stream",
          "name": "stdout",
          "text": [
            "train [41/66] LOSS: 1.0851 ACC: 0.3438\n",
            "train [42/66] LOSS: 1.0765 ACC: 0.3750\n"
          ]
        },
        {
          "output_type": "stream",
          "name": "stderr",
          "text": [
            " 67%|██████▋   | 44/66 [00:19<00:02,  9.91it/s]"
          ]
        },
        {
          "output_type": "stream",
          "name": "stdout",
          "text": [
            "train [43/66] LOSS: 1.0854 ACC: 0.3750\n",
            "train [44/66] LOSS: 1.1016 ACC: 0.4688\n"
          ]
        },
        {
          "output_type": "stream",
          "name": "stderr",
          "text": [
            " 71%|███████   | 47/66 [00:20<00:01, 10.01it/s]"
          ]
        },
        {
          "output_type": "stream",
          "name": "stdout",
          "text": [
            "train [45/66] LOSS: 1.1494 ACC: 0.3438\n",
            "train [46/66] LOSS: 1.0793 ACC: 0.3438\n",
            "train [47/66] LOSS: 1.0703 ACC: 0.4688\n"
          ]
        },
        {
          "output_type": "stream",
          "name": "stderr",
          "text": [
            "\r 74%|███████▍  | 49/66 [00:20<00:01, 10.05it/s]"
          ]
        },
        {
          "output_type": "stream",
          "name": "stdout",
          "text": [
            "train [48/66] LOSS: 1.1086 ACC: 0.3750\n",
            "train [49/66] LOSS: 1.0756 ACC: 0.4062\n",
            "train [50/66] LOSS: 1.1045 ACC: 0.3438\n"
          ]
        },
        {
          "output_type": "stream",
          "name": "stderr",
          "text": [
            " 80%|████████  | 53/66 [00:20<00:01, 10.14it/s]"
          ]
        },
        {
          "output_type": "stream",
          "name": "stdout",
          "text": [
            "train [51/66] LOSS: 1.1019 ACC: 0.4062\n",
            "train [52/66] LOSS: 1.0769 ACC: 0.3750\n",
            "train [53/66] LOSS: 1.1342 ACC: 0.4062\n"
          ]
        },
        {
          "output_type": "stream",
          "name": "stderr",
          "text": [
            "\r 83%|████████▎ | 55/66 [00:20<00:01, 10.16it/s]"
          ]
        },
        {
          "output_type": "stream",
          "name": "stdout",
          "text": [
            "train [54/66] LOSS: 1.0198 ACC: 0.4375\n",
            "train [55/66] LOSS: 1.0865 ACC: 0.4062\n",
            "train [56/66] LOSS: 1.0986 ACC: 0.3438\n"
          ]
        },
        {
          "output_type": "stream",
          "name": "stderr",
          "text": [
            " 89%|████████▉ | 59/66 [00:21<00:00, 10.19it/s]"
          ]
        },
        {
          "output_type": "stream",
          "name": "stdout",
          "text": [
            "train [57/66] LOSS: 1.0889 ACC: 0.4062\n",
            "train [58/66] LOSS: 1.0771 ACC: 0.3750\n",
            "train [59/66] LOSS: 0.9887 ACC: 0.6250\n"
          ]
        },
        {
          "output_type": "stream",
          "name": "stderr",
          "text": [
            "\r 92%|█████████▏| 61/66 [00:21<00:00, 10.18it/s]"
          ]
        },
        {
          "output_type": "stream",
          "name": "stdout",
          "text": [
            "train [60/66] LOSS: 1.0698 ACC: 0.4062\n",
            "train [61/66] LOSS: 1.1202 ACC: 0.3125\n",
            "train [62/66] LOSS: 1.1339 ACC: 0.2500\n"
          ]
        },
        {
          "output_type": "stream",
          "name": "stderr",
          "text": [
            " 98%|█████████▊| 65/66 [00:21<00:00, 10.15it/s]"
          ]
        },
        {
          "output_type": "stream",
          "name": "stdout",
          "text": [
            "train [63/66] LOSS: 1.0517 ACC: 0.3438\n",
            "train [64/66] LOSS: 1.0608 ACC: 0.3125\n",
            "train [65/66] LOSS: 1.1391 ACC: 0.3750\n",
            "train [66/66] LOSS: 1.0697 ACC: 0.6000\n"
          ]
        },
        {
          "output_type": "stream",
          "name": "stderr",
          "text": [
            "\r100%|██████████| 66/66 [00:22<00:00,  2.90it/s]\n"
          ]
        },
        {
          "output_type": "stream",
          "name": "stdout",
          "text": [
            "train LOSS: 1.1215 ACC: 0.3886 BEST ACC: 0.3886\n"
          ]
        },
        {
          "output_type": "stream",
          "name": "stderr",
          "text": [
            "100%|██████████| 29/29 [00:08<00:00,  3.25it/s]\n"
          ]
        },
        {
          "output_type": "stream",
          "name": "stdout",
          "text": [
            "val LOSS: 1.1022 ACC: 0.3456 BEST ACC: 0.3944\n",
            "\n",
            "\n",
            "------------------------\n",
            "EPOCH 2/80\n",
            "------------------------\n"
          ]
        },
        {
          "output_type": "stream",
          "name": "stderr",
          "text": [
            "  2%|▏         | 1/66 [00:09<09:55,  9.16s/it]"
          ]
        },
        {
          "output_type": "stream",
          "name": "stdout",
          "text": [
            "train [1/66] LOSS: 1.0513 ACC: 0.3438\n"
          ]
        },
        {
          "output_type": "stream",
          "name": "stderr",
          "text": [
            "  5%|▍         | 3/66 [00:10<02:28,  2.36s/it]"
          ]
        },
        {
          "output_type": "stream",
          "name": "stdout",
          "text": [
            "train [2/66] LOSS: 1.1456 ACC: 0.2812\n",
            "train [3/66] LOSS: 1.1491 ACC: 0.5000\n"
          ]
        },
        {
          "output_type": "stream",
          "name": "stderr",
          "text": [
            "\r  6%|▌         | 4/66 [00:10<01:32,  1.48s/it]"
          ]
        },
        {
          "output_type": "stream",
          "name": "stdout",
          "text": [
            "train [4/66] LOSS: 1.0813 ACC: 0.4375\n",
            "train [5/66] LOSS: 1.0779 ACC: 0.4062"
          ]
        },
        {
          "output_type": "stream",
          "name": "stderr",
          "text": [
            "\r  8%|▊         | 5/66 [00:10<01:02,  1.02s/it]"
          ]
        },
        {
          "output_type": "stream",
          "name": "stdout",
          "text": [
            "\n"
          ]
        },
        {
          "output_type": "stream",
          "name": "stderr",
          "text": [
            "\r  9%|▉         | 6/66 [00:10<00:47,  1.25it/s]"
          ]
        },
        {
          "output_type": "stream",
          "name": "stdout",
          "text": [
            "train [6/66] LOSS: 1.1147 ACC: 0.3125\n"
          ]
        },
        {
          "output_type": "stream",
          "name": "stderr",
          "text": [
            " 12%|█▏        | 8/66 [00:11<00:25,  2.23it/s]"
          ]
        },
        {
          "output_type": "stream",
          "name": "stdout",
          "text": [
            "train [7/66] LOSS: 1.0574 ACC: 0.3438\n",
            "train [8/66] LOSS: 1.0743 ACC: 0.3750\n"
          ]
        },
        {
          "output_type": "stream",
          "name": "stderr",
          "text": [
            "\r 14%|█▎        | 9/66 [00:11<00:20,  2.78it/s]"
          ]
        },
        {
          "output_type": "stream",
          "name": "stdout",
          "text": [
            "train [9/66] LOSS: 1.0793 ACC: 0.4688\n"
          ]
        },
        {
          "output_type": "stream",
          "name": "stderr",
          "text": [
            "\r 15%|█▌        | 10/66 [00:11<00:21,  2.62it/s]"
          ]
        },
        {
          "output_type": "stream",
          "name": "stdout",
          "text": [
            "train [10/66] LOSS: 1.0763 ACC: 0.3750\n"
          ]
        },
        {
          "output_type": "stream",
          "name": "stderr",
          "text": [
            "\r 17%|█▋        | 11/66 [00:11<00:18,  2.92it/s]"
          ]
        },
        {
          "output_type": "stream",
          "name": "stdout",
          "text": [
            "train [11/66] LOSS: 1.1245 ACC: 0.1875\n"
          ]
        },
        {
          "output_type": "stream",
          "name": "stderr",
          "text": [
            " 20%|█▉        | 13/66 [00:12<00:13,  4.06it/s]"
          ]
        },
        {
          "output_type": "stream",
          "name": "stdout",
          "text": [
            "train [12/66] LOSS: 1.0516 ACC: 0.4688\n",
            "train [13/66] LOSS: 1.0694 ACC: 0.3438\n"
          ]
        },
        {
          "output_type": "stream",
          "name": "stderr",
          "text": [
            " 23%|██▎       | 15/66 [00:12<00:08,  5.68it/s]"
          ]
        },
        {
          "output_type": "stream",
          "name": "stdout",
          "text": [
            "train [14/66] LOSS: 1.0887 ACC: 0.3125\n",
            "train [15/66] LOSS: 1.1136 ACC: 0.4688\n"
          ]
        },
        {
          "output_type": "stream",
          "name": "stderr",
          "text": [
            " 26%|██▌       | 17/66 [00:12<00:06,  7.08it/s]"
          ]
        },
        {
          "output_type": "stream",
          "name": "stdout",
          "text": [
            "train [16/66] LOSS: 1.0496 ACC: 0.4688\n",
            "train [17/66] LOSS: 1.0308 ACC: 0.4062\n"
          ]
        },
        {
          "output_type": "stream",
          "name": "stderr",
          "text": [
            " 30%|███       | 20/66 [00:13<00:05,  8.73it/s]"
          ]
        },
        {
          "output_type": "stream",
          "name": "stdout",
          "text": [
            "train [18/66] LOSS: 1.2291 ACC: 0.2500\n",
            "train [19/66] LOSS: 1.1096 ACC: 0.3438\n",
            "train [20/66] LOSS: 1.1434 ACC: 0.3125\n"
          ]
        },
        {
          "output_type": "stream",
          "name": "stderr",
          "text": [
            " 35%|███▍      | 23/66 [00:13<00:04,  9.45it/s]"
          ]
        },
        {
          "output_type": "stream",
          "name": "stdout",
          "text": [
            "train [21/66] LOSS: 1.0914 ACC: 0.4062\n",
            "train [22/66] LOSS: 1.0852 ACC: 0.5000\n",
            "train [23/66] LOSS: 1.0694 ACC: 0.5312\n"
          ]
        },
        {
          "output_type": "stream",
          "name": "stderr",
          "text": [
            " 39%|███▉      | 26/66 [00:13<00:04,  9.72it/s]"
          ]
        },
        {
          "output_type": "stream",
          "name": "stdout",
          "text": [
            "train [24/66] LOSS: 1.0676 ACC: 0.4375\n",
            "train [25/66] LOSS: 1.1582 ACC: 0.2500\n",
            "train [26/66] LOSS: 1.0810 ACC: 0.3438\n"
          ]
        },
        {
          "output_type": "stream",
          "name": "stderr",
          "text": [
            " 42%|████▏     | 28/66 [00:13<00:04,  9.06it/s]"
          ]
        },
        {
          "output_type": "stream",
          "name": "stdout",
          "text": [
            "train [27/66] LOSS: 1.1077 ACC: 0.3125\n",
            "train [28/66] LOSS: 1.0531 ACC: 0.4062\n"
          ]
        },
        {
          "output_type": "stream",
          "name": "stderr",
          "text": [
            " 47%|████▋     | 31/66 [00:14<00:03,  9.57it/s]"
          ]
        },
        {
          "output_type": "stream",
          "name": "stdout",
          "text": [
            "train [29/66] LOSS: 1.0785 ACC: 0.3438\n",
            "train [30/66] LOSS: 1.0978 ACC: 0.4688\n",
            "train [31/66] LOSS: 0.9971 ACC: 0.5625\n"
          ]
        },
        {
          "output_type": "stream",
          "name": "stderr",
          "text": [
            " 52%|█████▏    | 34/66 [00:14<00:03,  9.84it/s]"
          ]
        },
        {
          "output_type": "stream",
          "name": "stdout",
          "text": [
            "train [32/66] LOSS: 1.0045 ACC: 0.5312\n",
            "train [33/66] LOSS: 1.1006 ACC: 0.2812\n",
            "train [34/66] LOSS: 1.0204 ACC: 0.3750\n"
          ]
        },
        {
          "output_type": "stream",
          "name": "stderr",
          "text": [
            " 56%|█████▌    | 37/66 [00:14<00:02, 10.01it/s]"
          ]
        },
        {
          "output_type": "stream",
          "name": "stdout",
          "text": [
            "train [35/66] LOSS: 1.0439 ACC: 0.5312\n",
            "train [36/66] LOSS: 1.2352 ACC: 0.2188\n",
            "train [37/66] LOSS: 1.1571 ACC: 0.2812\n"
          ]
        },
        {
          "output_type": "stream",
          "name": "stderr",
          "text": [
            "\r 59%|█████▉    | 39/66 [00:14<00:02, 10.09it/s]"
          ]
        },
        {
          "output_type": "stream",
          "name": "stdout",
          "text": [
            "train [38/66] LOSS: 1.0641 ACC: 0.5000\n",
            "train [39/66] LOSS: 1.1024 ACC: 0.2812\n",
            "train [40/66] LOSS: 1.0850 ACC: 0.5000\n"
          ]
        },
        {
          "output_type": "stream",
          "name": "stderr",
          "text": [
            " 65%|██████▌   | 43/66 [00:15<00:02, 10.14it/s]"
          ]
        },
        {
          "output_type": "stream",
          "name": "stdout",
          "text": [
            "train [41/66] LOSS: 1.1227 ACC: 0.2188\n",
            "train [42/66] LOSS: 1.1332 ACC: 0.2188\n",
            "train [43/66] LOSS: 1.1653 ACC: 0.2188\n"
          ]
        },
        {
          "output_type": "stream",
          "name": "stderr",
          "text": [
            "\r 68%|██████▊   | 45/66 [00:15<00:02, 10.13it/s]"
          ]
        },
        {
          "output_type": "stream",
          "name": "stdout",
          "text": [
            "train [44/66] LOSS: 1.1130 ACC: 0.3438\n",
            "train [45/66] LOSS: 1.0652 ACC: 0.2812\n",
            "train [46/66] LOSS: 1.1319 ACC: 0.3125\n"
          ]
        },
        {
          "output_type": "stream",
          "name": "stderr",
          "text": [
            " 74%|███████▍  | 49/66 [00:15<00:01, 10.16it/s]"
          ]
        },
        {
          "output_type": "stream",
          "name": "stdout",
          "text": [
            "train [47/66] LOSS: 1.0468 ACC: 0.4688\n",
            "train [48/66] LOSS: 1.1671 ACC: 0.3438\n",
            "train [49/66] LOSS: 1.0282 ACC: 0.5000\n"
          ]
        },
        {
          "output_type": "stream",
          "name": "stderr",
          "text": [
            "\r 77%|███████▋  | 51/66 [00:16<00:01, 10.15it/s]"
          ]
        },
        {
          "output_type": "stream",
          "name": "stdout",
          "text": [
            "train [50/66] LOSS: 1.0152 ACC: 0.5625\n",
            "train [51/66] LOSS: 1.1687 ACC: 0.2188\n",
            "train [52/66] LOSS: 1.0338 ACC: 0.5312\n"
          ]
        },
        {
          "output_type": "stream",
          "name": "stderr",
          "text": [
            " 83%|████████▎ | 55/66 [00:16<00:01, 10.17it/s]"
          ]
        },
        {
          "output_type": "stream",
          "name": "stdout",
          "text": [
            "train [53/66] LOSS: 1.0623 ACC: 0.4062\n",
            "train [54/66] LOSS: 1.0021 ACC: 0.5000\n",
            "train [55/66] LOSS: 0.9771 ACC: 0.4062\n"
          ]
        },
        {
          "output_type": "stream",
          "name": "stderr",
          "text": [
            "\r 86%|████████▋ | 57/66 [00:16<00:00, 10.18it/s]"
          ]
        },
        {
          "output_type": "stream",
          "name": "stdout",
          "text": [
            "train [56/66] LOSS: 1.0173 ACC: 0.4688\n",
            "train [57/66] LOSS: 1.2433 ACC: 0.2812\n",
            "train [58/66] LOSS: 1.0566 ACC: 0.4062\n"
          ]
        },
        {
          "output_type": "stream",
          "name": "stderr",
          "text": [
            " 92%|█████████▏| 61/66 [00:17<00:00, 10.16it/s]"
          ]
        },
        {
          "output_type": "stream",
          "name": "stdout",
          "text": [
            "train [59/66] LOSS: 1.0656 ACC: 0.3438\n",
            "train [60/66] LOSS: 1.1318 ACC: 0.4688\n",
            "train [61/66] LOSS: 1.1949 ACC: 0.3438\n"
          ]
        },
        {
          "output_type": "stream",
          "name": "stderr",
          "text": [
            "\r 95%|█████████▌| 63/66 [00:17<00:00, 10.15it/s]"
          ]
        },
        {
          "output_type": "stream",
          "name": "stdout",
          "text": [
            "train [62/66] LOSS: 1.0565 ACC: 0.4375\n",
            "train [63/66] LOSS: 1.0999 ACC: 0.3438\n",
            "train [64/66] LOSS: 1.0767 ACC: 0.3125\n"
          ]
        },
        {
          "output_type": "stream",
          "name": "stderr",
          "text": [
            "\r 98%|█████████▊| 65/66 [00:17<00:00, 10.13it/s]"
          ]
        },
        {
          "output_type": "stream",
          "name": "stdout",
          "text": [
            "train [65/66] LOSS: 1.1342 ACC: 0.4062\n",
            "train [66/66] LOSS: 1.1188 ACC: 0.3000\n"
          ]
        },
        {
          "output_type": "stream",
          "name": "stderr",
          "text": [
            "\r100%|██████████| 66/66 [00:18<00:00,  3.57it/s]\n"
          ]
        },
        {
          "output_type": "stream",
          "name": "stdout",
          "text": [
            "train LOSS: 1.0916 ACC: 0.3810 BEST ACC: 0.3886\n"
          ]
        },
        {
          "output_type": "stream",
          "name": "stderr",
          "text": [
            "100%|██████████| 29/29 [00:08<00:00,  3.25it/s]\n"
          ]
        },
        {
          "output_type": "stream",
          "name": "stdout",
          "text": [
            "val LOSS: 1.0905 ACC: 0.3611 BEST ACC: 0.3944\n",
            "\n",
            "\n",
            "------------------------\n",
            "EPOCH 3/80\n",
            "------------------------\n"
          ]
        },
        {
          "output_type": "stream",
          "name": "stderr",
          "text": [
            "  3%|▎         | 2/66 [00:10<04:32,  4.26s/it]"
          ]
        },
        {
          "output_type": "stream",
          "name": "stdout",
          "text": [
            "train [1/66] LOSS: 1.0808 ACC: 0.4375\n",
            "train [2/66] LOSS: 1.1203 ACC: 0.3125\n"
          ]
        },
        {
          "output_type": "stream",
          "name": "stderr",
          "text": [
            "  6%|▌         | 4/66 [00:10<01:33,  1.51s/it]"
          ]
        },
        {
          "output_type": "stream",
          "name": "stdout",
          "text": [
            "train [3/66] LOSS: 1.0976 ACC: 0.3438\n",
            "train [4/66] LOSS: 1.1947 ACC: 0.3125\n"
          ]
        },
        {
          "output_type": "stream",
          "name": "stderr",
          "text": [
            "  9%|▉         | 6/66 [00:10<00:42,  1.41it/s]"
          ]
        },
        {
          "output_type": "stream",
          "name": "stdout",
          "text": [
            "train [5/66] LOSS: 1.1922 ACC: 0.4062\n",
            "train [6/66] LOSS: 1.2294 ACC: 0.3125\n"
          ]
        },
        {
          "output_type": "stream",
          "name": "stderr",
          "text": [
            "\r 11%|█         | 7/66 [00:11<00:34,  1.71it/s]"
          ]
        },
        {
          "output_type": "stream",
          "name": "stdout",
          "text": [
            "train [7/66] LOSS: 1.2509 ACC: 0.1875\n"
          ]
        },
        {
          "output_type": "stream",
          "name": "stderr",
          "text": [
            " 14%|█▎        | 9/66 [00:11<00:21,  2.61it/s]"
          ]
        },
        {
          "output_type": "stream",
          "name": "stdout",
          "text": [
            "train [8/66] LOSS: 1.1214 ACC: 0.3125\n",
            "train [9/66] LOSS: 1.0322 ACC: 0.3438\n"
          ]
        },
        {
          "output_type": "stream",
          "name": "stderr",
          "text": [
            "\r 15%|█▌        | 10/66 [00:11<00:20,  2.78it/s]"
          ]
        },
        {
          "output_type": "stream",
          "name": "stdout",
          "text": [
            "train [10/66] LOSS: 1.0603 ACC: 0.3438\n"
          ]
        },
        {
          "output_type": "stream",
          "name": "stderr",
          "text": [
            " 18%|█▊        | 12/66 [00:12<00:15,  3.38it/s]"
          ]
        },
        {
          "output_type": "stream",
          "name": "stdout",
          "text": [
            "train [11/66] LOSS: 1.0360 ACC: 0.4375\n",
            "train [12/66] LOSS: 1.0832 ACC: 0.4375\n"
          ]
        },
        {
          "output_type": "stream",
          "name": "stderr",
          "text": [
            " 21%|██        | 14/66 [00:12<00:10,  4.92it/s]"
          ]
        },
        {
          "output_type": "stream",
          "name": "stdout",
          "text": [
            "train [13/66] LOSS: 1.0576 ACC: 0.4375\n",
            "train [14/66] LOSS: 1.1049 ACC: 0.4375\n"
          ]
        },
        {
          "output_type": "stream",
          "name": "stderr",
          "text": [
            " 26%|██▌       | 17/66 [00:12<00:06,  7.07it/s]"
          ]
        },
        {
          "output_type": "stream",
          "name": "stdout",
          "text": [
            "train [15/66] LOSS: 1.0189 ACC: 0.4375\n",
            "train [16/66] LOSS: 1.2650 ACC: 0.2812\n",
            "train [17/66] LOSS: 1.1819 ACC: 0.3438\n"
          ]
        },
        {
          "output_type": "stream",
          "name": "stderr",
          "text": [
            " 30%|███       | 20/66 [00:13<00:05,  8.56it/s]"
          ]
        },
        {
          "output_type": "stream",
          "name": "stdout",
          "text": [
            "train [18/66] LOSS: 1.0957 ACC: 0.3438\n",
            "train [19/66] LOSS: 1.1016 ACC: 0.3125\n",
            "train [20/66] LOSS: 1.1103 ACC: 0.3125\n"
          ]
        },
        {
          "output_type": "stream",
          "name": "stderr",
          "text": [
            "\r 32%|███▏      | 21/66 [00:13<00:05,  8.79it/s]"
          ]
        },
        {
          "output_type": "stream",
          "name": "stdout",
          "text": [
            "train [21/66] LOSS: 1.0688 ACC: 0.4375\n",
            "train [22/66] LOSS: 1.1840 ACC: 0.3750\n"
          ]
        },
        {
          "output_type": "stream",
          "name": "stderr",
          "text": [
            "\r 35%|███▍      | 23/66 [00:13<00:04,  9.17it/s]"
          ]
        },
        {
          "output_type": "stream",
          "name": "stdout",
          "text": [
            "train [23/66] LOSS: 1.1489 ACC: 0.3438\n",
            "train [24/66] LOSS: 1.1019 ACC: 0.3750\n"
          ]
        },
        {
          "output_type": "stream",
          "name": "stderr",
          "text": [
            " 41%|████      | 27/66 [00:13<00:04,  9.62it/s]"
          ]
        },
        {
          "output_type": "stream",
          "name": "stdout",
          "text": [
            "train [25/66] LOSS: 1.1034 ACC: 0.2812\n",
            "train [26/66] LOSS: 1.0740 ACC: 0.5625\n",
            "train [27/66] LOSS: 1.0844 ACC: 0.2500\n"
          ]
        },
        {
          "output_type": "stream",
          "name": "stderr",
          "text": [
            " 44%|████▍     | 29/66 [00:14<00:03,  9.66it/s]"
          ]
        },
        {
          "output_type": "stream",
          "name": "stdout",
          "text": [
            "train [28/66] LOSS: 1.1227 ACC: 0.3750\n",
            "train [29/66] LOSS: 1.2052 ACC: 0.3750\n"
          ]
        },
        {
          "output_type": "stream",
          "name": "stderr",
          "text": [
            "\r 47%|████▋     | 31/66 [00:14<00:03,  9.67it/s]"
          ]
        },
        {
          "output_type": "stream",
          "name": "stdout",
          "text": [
            "train [30/66] LOSS: 1.1421 ACC: 0.3438\n",
            "train [31/66] LOSS: 1.0811 ACC: 0.4062\n"
          ]
        },
        {
          "output_type": "stream",
          "name": "stderr",
          "text": [
            "\r 50%|█████     | 33/66 [00:14<00:03,  9.86it/s]"
          ]
        },
        {
          "output_type": "stream",
          "name": "stdout",
          "text": [
            "train [32/66] LOSS: 1.0949 ACC: 0.4062\n",
            "train [33/66] LOSS: 1.0814 ACC: 0.4688\n",
            "train [34/66] LOSS: 1.1129 ACC: 0.3438\n"
          ]
        },
        {
          "output_type": "stream",
          "name": "stderr",
          "text": [
            " 56%|█████▌    | 37/66 [00:14<00:02, 10.03it/s]"
          ]
        },
        {
          "output_type": "stream",
          "name": "stdout",
          "text": [
            "train [35/66] LOSS: 1.1020 ACC: 0.4375\n",
            "train [36/66] LOSS: 1.0966 ACC: 0.4062\n",
            "train [37/66] LOSS: 1.0578 ACC: 0.4688\n"
          ]
        },
        {
          "output_type": "stream",
          "name": "stderr",
          "text": [
            "\r 59%|█████▉    | 39/66 [00:15<00:02, 10.04it/s]"
          ]
        },
        {
          "output_type": "stream",
          "name": "stdout",
          "text": [
            "train [38/66] LOSS: 1.1032 ACC: 0.3438\n",
            "train [39/66] LOSS: 0.9972 ACC: 0.4688\n",
            "train [40/66] LOSS: 1.1158 ACC: 0.3125\n"
          ]
        },
        {
          "output_type": "stream",
          "name": "stderr",
          "text": [
            "\r 62%|██████▏   | 41/66 [00:15<00:02, 10.06it/s]"
          ]
        },
        {
          "output_type": "stream",
          "name": "stdout",
          "text": [
            "train [41/66] LOSS: 1.0631 ACC: 0.5312\n",
            "train [42/66] LOSS: 1.1195 ACC: 0.5000\n"
          ]
        },
        {
          "output_type": "stream",
          "name": "stderr",
          "text": [
            " 68%|██████▊   | 45/66 [00:15<00:02, 10.05it/s]"
          ]
        },
        {
          "output_type": "stream",
          "name": "stdout",
          "text": [
            "train [43/66] LOSS: 1.0105 ACC: 0.4375\n",
            "train [44/66] LOSS: 1.2072 ACC: 0.3750\n",
            "train [45/66] LOSS: 1.0494 ACC: 0.4062\n"
          ]
        },
        {
          "output_type": "stream",
          "name": "stderr",
          "text": [
            "\r 71%|███████   | 47/66 [00:15<00:01,  9.88it/s]"
          ]
        },
        {
          "output_type": "stream",
          "name": "stdout",
          "text": [
            "train [46/66] LOSS: 1.1635 ACC: 0.3125\n",
            "train [47/66] LOSS: 1.1729 ACC: 0.3438\n",
            "train [48/66] LOSS: 1.0962 ACC: 0.5625\n"
          ]
        },
        {
          "output_type": "stream",
          "name": "stderr",
          "text": [
            " 76%|███████▌  | 50/66 [00:16<00:01,  9.76it/s]"
          ]
        },
        {
          "output_type": "stream",
          "name": "stdout",
          "text": [
            "train [49/66] LOSS: 1.1268 ACC: 0.3750\n",
            "train [50/66] LOSS: 1.0211 ACC: 0.5625\n"
          ]
        },
        {
          "output_type": "stream",
          "name": "stderr",
          "text": [
            " 79%|███████▉  | 52/66 [00:16<00:01,  9.73it/s]"
          ]
        },
        {
          "output_type": "stream",
          "name": "stdout",
          "text": [
            "train [51/66] LOSS: 1.1543 ACC: 0.2188\n",
            "train [52/66] LOSS: 1.1505 ACC: 0.3125\n"
          ]
        },
        {
          "output_type": "stream",
          "name": "stderr",
          "text": [
            "\r 82%|████████▏ | 54/66 [00:16<00:01,  9.87it/s]"
          ]
        },
        {
          "output_type": "stream",
          "name": "stdout",
          "text": [
            "train [53/66] LOSS: 1.2108 ACC: 0.2812\n",
            "train [54/66] LOSS: 1.1038 ACC: 0.3750\n",
            "train [55/66] LOSS: 1.1195 ACC: 0.2812\n"
          ]
        },
        {
          "output_type": "stream",
          "name": "stderr",
          "text": [
            "\r 85%|████████▍ | 56/66 [00:16<00:01,  9.99it/s]"
          ]
        },
        {
          "output_type": "stream",
          "name": "stdout",
          "text": [
            "train [56/66] LOSS: 1.1429 ACC: 0.4375\n",
            "train [57/66] LOSS: 1.0498 ACC: 0.3750\n"
          ]
        },
        {
          "output_type": "stream",
          "name": "stderr",
          "text": [
            " 89%|████████▉ | 59/66 [00:17<00:00,  9.74it/s]"
          ]
        },
        {
          "output_type": "stream",
          "name": "stdout",
          "text": [
            "train [58/66] LOSS: 1.0723 ACC: 0.3750\n",
            "train [59/66] LOSS: 0.9876 ACC: 0.5000\n"
          ]
        },
        {
          "output_type": "stream",
          "name": "stderr",
          "text": [
            " 92%|█████████▏| 61/66 [00:17<00:00,  9.82it/s]"
          ]
        },
        {
          "output_type": "stream",
          "name": "stdout",
          "text": [
            "train [60/66] LOSS: 1.1162 ACC: 0.4062\n",
            "train [61/66] LOSS: 1.0506 ACC: 0.4688\n",
            "train [62/66] LOSS: 1.0041 ACC: 0.3125\n"
          ]
        },
        {
          "output_type": "stream",
          "name": "stderr",
          "text": [
            " 98%|█████████▊| 65/66 [00:17<00:00,  9.97it/s]"
          ]
        },
        {
          "output_type": "stream",
          "name": "stdout",
          "text": [
            "train [63/66] LOSS: 1.1203 ACC: 0.3750\n",
            "train [64/66] LOSS: 1.2712 ACC: 0.3125\n",
            "train [65/66] LOSS: 1.1751 ACC: 0.3438\n",
            "train [66/66] LOSS: 0.9591 ACC: 0.4500\n"
          ]
        },
        {
          "output_type": "stream",
          "name": "stderr",
          "text": [
            "\r100%|██████████| 66/66 [00:18<00:00,  3.51it/s]\n"
          ]
        },
        {
          "output_type": "stream",
          "name": "stdout",
          "text": [
            "train LOSS: 1.1096 ACC: 0.3800 BEST ACC: 0.3886\n"
          ]
        },
        {
          "output_type": "stream",
          "name": "stderr",
          "text": [
            "100%|██████████| 29/29 [00:08<00:00,  3.24it/s]\n"
          ]
        },
        {
          "output_type": "stream",
          "name": "stdout",
          "text": [
            "val LOSS: 1.2134 ACC: 0.3911 BEST ACC: 0.3944\n",
            "\n",
            "\n",
            "------------------------\n",
            "EPOCH 4/80\n",
            "------------------------\n"
          ]
        },
        {
          "output_type": "stream",
          "name": "stderr",
          "text": [
            "  2%|▏         | 1/66 [00:10<10:50, 10.01s/it]"
          ]
        },
        {
          "output_type": "stream",
          "name": "stdout",
          "text": [
            "train [1/66] LOSS: 1.1500 ACC: 0.3438\n"
          ]
        },
        {
          "output_type": "stream",
          "name": "stderr",
          "text": [
            "  5%|▍         | 3/66 [00:10<02:29,  2.38s/it]"
          ]
        },
        {
          "output_type": "stream",
          "name": "stdout",
          "text": [
            "train [2/66] LOSS: 1.0404 ACC: 0.4688\n",
            "train [3/66] LOSS: 1.1428 ACC: 0.3750\n"
          ]
        },
        {
          "output_type": "stream",
          "name": "stderr",
          "text": [
            "  8%|▊         | 5/66 [00:10<01:03,  1.04s/it]"
          ]
        },
        {
          "output_type": "stream",
          "name": "stdout",
          "text": [
            "train [4/66] LOSS: 1.0280 ACC: 0.4375\n",
            "train [5/66] LOSS: 1.1670 ACC: 0.4375\n"
          ]
        },
        {
          "output_type": "stream",
          "name": "stderr",
          "text": [
            "\r  9%|▉         | 6/66 [00:11<00:46,  1.28it/s]"
          ]
        },
        {
          "output_type": "stream",
          "name": "stdout",
          "text": [
            "train [6/66] LOSS: 1.0908 ACC: 0.3438\n"
          ]
        },
        {
          "output_type": "stream",
          "name": "stderr",
          "text": [
            "\r 11%|█         | 7/66 [00:11<00:35,  1.65it/s]"
          ]
        },
        {
          "output_type": "stream",
          "name": "stdout",
          "text": [
            "train [7/66] LOSS: 1.1185 ACC: 0.2812\n"
          ]
        },
        {
          "output_type": "stream",
          "name": "stderr",
          "text": [
            "\r 12%|█▏        | 8/66 [00:11<00:31,  1.87it/s]"
          ]
        },
        {
          "output_type": "stream",
          "name": "stdout",
          "text": [
            "train [8/66] LOSS: 1.2777 ACC: 0.2500\n"
          ]
        },
        {
          "output_type": "stream",
          "name": "stderr",
          "text": [
            " 15%|█▌        | 10/66 [00:12<00:19,  2.94it/s]"
          ]
        },
        {
          "output_type": "stream",
          "name": "stdout",
          "text": [
            "train [9/66] LOSS: 1.1488 ACC: 0.4062\n",
            "train [10/66] LOSS: 1.1352 ACC: 0.4062\n"
          ]
        },
        {
          "output_type": "stream",
          "name": "stderr",
          "text": [
            " 18%|█▊        | 12/66 [00:12<00:12,  4.30it/s]"
          ]
        },
        {
          "output_type": "stream",
          "name": "stdout",
          "text": [
            "train [11/66] LOSS: 1.0886 ACC: 0.3750\n",
            "train [12/66] LOSS: 1.1263 ACC: 0.2812\n"
          ]
        },
        {
          "output_type": "stream",
          "name": "stderr",
          "text": [
            " 21%|██        | 14/66 [00:12<00:08,  5.97it/s]"
          ]
        },
        {
          "output_type": "stream",
          "name": "stdout",
          "text": [
            "train [13/66] LOSS: 1.1150 ACC: 0.3750\n",
            "train [14/66] LOSS: 1.0395 ACC: 0.3438\n"
          ]
        },
        {
          "output_type": "stream",
          "name": "stderr",
          "text": [
            " 26%|██▌       | 17/66 [00:12<00:06,  7.86it/s]"
          ]
        },
        {
          "output_type": "stream",
          "name": "stdout",
          "text": [
            "train [15/66] LOSS: 1.1006 ACC: 0.3750\n",
            "train [16/66] LOSS: 0.9995 ACC: 0.2812\n",
            "train [17/66] LOSS: 1.1134 ACC: 0.2812\n"
          ]
        },
        {
          "output_type": "stream",
          "name": "stderr",
          "text": [
            " 30%|███       | 20/66 [00:13<00:05,  8.99it/s]"
          ]
        },
        {
          "output_type": "stream",
          "name": "stdout",
          "text": [
            "train [18/66] LOSS: 1.1625 ACC: 0.3438\n",
            "train [19/66] LOSS: 1.1217 ACC: 0.3438\n",
            "train [20/66] LOSS: 1.0155 ACC: 0.3125\n"
          ]
        },
        {
          "output_type": "stream",
          "name": "stderr",
          "text": [
            " 33%|███▎      | 22/66 [00:13<00:04,  9.34it/s]"
          ]
        },
        {
          "output_type": "stream",
          "name": "stdout",
          "text": [
            "train [21/66] LOSS: 1.0172 ACC: 0.4688\n",
            "train [22/66] LOSS: 1.0986 ACC: 0.4062\n"
          ]
        },
        {
          "output_type": "stream",
          "name": "stderr",
          "text": [
            " 38%|███▊      | 25/66 [00:13<00:04,  9.53it/s]"
          ]
        },
        {
          "output_type": "stream",
          "name": "stdout",
          "text": [
            "train [23/66] LOSS: 1.1452 ACC: 0.2500\n",
            "train [24/66] LOSS: 1.0785 ACC: 0.4375\n",
            "train [25/66] LOSS: 1.0881 ACC: 0.4062\n"
          ]
        },
        {
          "output_type": "stream",
          "name": "stderr",
          "text": [
            " 42%|████▏     | 28/66 [00:13<00:03,  9.85it/s]"
          ]
        },
        {
          "output_type": "stream",
          "name": "stdout",
          "text": [
            "train [26/66] LOSS: 1.0442 ACC: 0.4688\n",
            "train [27/66] LOSS: 1.1140 ACC: 0.3750\n",
            "train [28/66] LOSS: 1.0393 ACC: 0.5000\n"
          ]
        },
        {
          "output_type": "stream",
          "name": "stderr",
          "text": [
            " 47%|████▋     | 31/66 [00:14<00:03,  9.95it/s]"
          ]
        },
        {
          "output_type": "stream",
          "name": "stdout",
          "text": [
            "train [29/66] LOSS: 1.0286 ACC: 0.5312\n",
            "train [30/66] LOSS: 1.0388 ACC: 0.5000\n",
            "train [31/66] LOSS: 1.1513 ACC: 0.3750\n"
          ]
        },
        {
          "output_type": "stream",
          "name": "stderr",
          "text": [
            " 50%|█████     | 33/66 [00:14<00:03,  9.91it/s]"
          ]
        },
        {
          "output_type": "stream",
          "name": "stdout",
          "text": [
            "train [32/66] LOSS: 0.9902 ACC: 0.4688\n",
            "train [33/66] LOSS: 1.1213 ACC: 0.4062\n"
          ]
        },
        {
          "output_type": "stream",
          "name": "stderr",
          "text": [
            " 55%|█████▍    | 36/66 [00:14<00:02, 10.01it/s]"
          ]
        },
        {
          "output_type": "stream",
          "name": "stdout",
          "text": [
            "train [34/66] LOSS: 1.2103 ACC: 0.2500\n",
            "train [35/66] LOSS: 1.0889 ACC: 0.4062\n",
            "train [36/66] LOSS: 1.1354 ACC: 0.3125\n"
          ]
        },
        {
          "output_type": "stream",
          "name": "stderr",
          "text": [
            " 59%|█████▉    | 39/66 [00:15<00:02, 10.07it/s]"
          ]
        },
        {
          "output_type": "stream",
          "name": "stdout",
          "text": [
            "train [37/66] LOSS: 1.1388 ACC: 0.2812\n",
            "train [38/66] LOSS: 1.1073 ACC: 0.3125\n",
            "train [39/66] LOSS: 1.1007 ACC: 0.3125\n"
          ]
        },
        {
          "output_type": "stream",
          "name": "stderr",
          "text": [
            "\r 62%|██████▏   | 41/66 [00:15<00:02,  9.93it/s]"
          ]
        },
        {
          "output_type": "stream",
          "name": "stdout",
          "text": [
            "train [40/66] LOSS: 1.1127 ACC: 0.2812\n",
            "train [41/66] LOSS: 1.0731 ACC: 0.2500\n",
            "train [42/66] LOSS: 1.1036 ACC: 0.4375\n"
          ]
        },
        {
          "output_type": "stream",
          "name": "stderr",
          "text": [
            " 67%|██████▋   | 44/66 [00:15<00:02,  9.90it/s]"
          ]
        },
        {
          "output_type": "stream",
          "name": "stdout",
          "text": [
            "train [43/66] LOSS: 1.1177 ACC: 0.3438\n",
            "train [44/66] LOSS: 1.1208 ACC: 0.2812\n"
          ]
        },
        {
          "output_type": "stream",
          "name": "stderr",
          "text": [
            " 71%|███████   | 47/66 [00:15<00:01,  9.98it/s]"
          ]
        },
        {
          "output_type": "stream",
          "name": "stdout",
          "text": [
            "train [45/66] LOSS: 1.1865 ACC: 0.2188\n",
            "train [46/66] LOSS: 1.1224 ACC: 0.3438\n",
            "train [47/66] LOSS: 1.1293 ACC: 0.3125\n"
          ]
        },
        {
          "output_type": "stream",
          "name": "stderr",
          "text": [
            " 74%|███████▍  | 49/66 [00:16<00:01,  9.94it/s]"
          ]
        },
        {
          "output_type": "stream",
          "name": "stdout",
          "text": [
            "train [48/66] LOSS: 1.0277 ACC: 0.5000\n",
            "train [49/66] LOSS: 1.1536 ACC: 0.2812\n"
          ]
        },
        {
          "output_type": "stream",
          "name": "stderr",
          "text": [
            " 77%|███████▋  | 51/66 [00:16<00:01,  9.93it/s]"
          ]
        },
        {
          "output_type": "stream",
          "name": "stdout",
          "text": [
            "train [50/66] LOSS: 1.0925 ACC: 0.2812\n",
            "train [51/66] LOSS: 1.0796 ACC: 0.3438\n"
          ]
        },
        {
          "output_type": "stream",
          "name": "stderr",
          "text": [
            " 80%|████████  | 53/66 [00:16<00:01,  9.93it/s]"
          ]
        },
        {
          "output_type": "stream",
          "name": "stdout",
          "text": [
            "train [52/66] LOSS: 1.2475 ACC: 0.2500\n",
            "train [53/66] LOSS: 1.0726 ACC: 0.4062\n",
            "train [54/66] LOSS: 1.2730 ACC: 0.2188\n"
          ]
        },
        {
          "output_type": "stream",
          "name": "stderr",
          "text": [
            " 86%|████████▋ | 57/66 [00:16<00:00, 10.09it/s]"
          ]
        },
        {
          "output_type": "stream",
          "name": "stdout",
          "text": [
            "train [55/66] LOSS: 0.9533 ACC: 0.5938\n",
            "train [56/66] LOSS: 1.0441 ACC: 0.5938\n",
            "train [57/66] LOSS: 1.0584 ACC: 0.4062\n"
          ]
        },
        {
          "output_type": "stream",
          "name": "stderr",
          "text": [
            "\r 89%|████████▉ | 59/66 [00:17<00:00, 10.05it/s]"
          ]
        },
        {
          "output_type": "stream",
          "name": "stdout",
          "text": [
            "train [58/66] LOSS: 1.0061 ACC: 0.4375\n",
            "train [59/66] LOSS: 1.1031 ACC: 0.3438\n",
            "train [60/66] LOSS: 1.1138 ACC: 0.4062\n"
          ]
        },
        {
          "output_type": "stream",
          "name": "stderr",
          "text": [
            " 95%|█████████▌| 63/66 [00:17<00:00, 10.07it/s]"
          ]
        },
        {
          "output_type": "stream",
          "name": "stdout",
          "text": [
            "train [61/66] LOSS: 1.1867 ACC: 0.4062\n",
            "train [62/66] LOSS: 1.1155 ACC: 0.3438\n",
            "train [63/66] LOSS: 1.0742 ACC: 0.4062\n"
          ]
        },
        {
          "output_type": "stream",
          "name": "stderr",
          "text": [
            "\r 98%|█████████▊| 65/66 [00:17<00:00, 10.04it/s]"
          ]
        },
        {
          "output_type": "stream",
          "name": "stdout",
          "text": [
            "train [64/66] LOSS: 1.0983 ACC: 0.3438\n",
            "train [65/66] LOSS: 1.0678 ACC: 0.4375\n",
            "train [66/66] LOSS: 1.0814 ACC: 0.3000\n"
          ]
        },
        {
          "output_type": "stream",
          "name": "stderr",
          "text": [
            "\r100%|██████████| 66/66 [00:18<00:00,  3.55it/s]\n"
          ]
        },
        {
          "output_type": "stream",
          "name": "stdout",
          "text": [
            "train LOSS: 1.1020 ACC: 0.3686 BEST ACC: 0.3886\n"
          ]
        },
        {
          "output_type": "stream",
          "name": "stderr",
          "text": [
            "100%|██████████| 29/29 [00:08<00:00,  3.28it/s]\n"
          ]
        },
        {
          "output_type": "stream",
          "name": "stdout",
          "text": [
            "val LOSS: 3.8902 ACC: 0.3922 BEST ACC: 0.3944\n",
            "\n",
            "\n",
            "------------------------\n",
            "EPOCH 5/80\n",
            "------------------------\n"
          ]
        },
        {
          "output_type": "stream",
          "name": "stderr",
          "text": [
            "  2%|▏         | 1/66 [00:10<11:08, 10.29s/it]"
          ]
        },
        {
          "output_type": "stream",
          "name": "stdout",
          "text": [
            "train [1/66] LOSS: 1.0950 ACC: 0.2812\n"
          ]
        },
        {
          "output_type": "stream",
          "name": "stderr",
          "text": [
            "\r  3%|▎         | 2/66 [00:10<04:51,  4.55s/it]"
          ]
        },
        {
          "output_type": "stream",
          "name": "stdout",
          "text": [
            "train [2/66] LOSS: 1.1778 ACC: 0.3750\n"
          ]
        },
        {
          "output_type": "stream",
          "name": "stderr",
          "text": [
            "  6%|▌         | 4/66 [00:11<01:39,  1.61s/it]"
          ]
        },
        {
          "output_type": "stream",
          "name": "stdout",
          "text": [
            "train [3/66] LOSS: 1.0263 ACC: 0.5625\n",
            "train [4/66] LOSS: 1.0123 ACC: 0.3750\n"
          ]
        },
        {
          "output_type": "stream",
          "name": "stderr",
          "text": [
            "  9%|▉         | 6/66 [00:11<00:50,  1.20it/s]"
          ]
        },
        {
          "output_type": "stream",
          "name": "stdout",
          "text": [
            "train [5/66] LOSS: 1.1891 ACC: 0.2500\n",
            "train [6/66] LOSS: 1.3173 ACC: 0.3125\n"
          ]
        },
        {
          "output_type": "stream",
          "name": "stderr",
          "text": [
            " 12%|█▏        | 8/66 [00:11<00:25,  2.28it/s]"
          ]
        },
        {
          "output_type": "stream",
          "name": "stdout",
          "text": [
            "train [7/66] LOSS: 1.1036 ACC: 0.3750\n",
            "train [8/66] LOSS: 1.0293 ACC: 0.5938\n"
          ]
        },
        {
          "output_type": "stream",
          "name": "stderr",
          "text": [
            " 15%|█▌        | 10/66 [00:12<00:14,  3.82it/s]"
          ]
        },
        {
          "output_type": "stream",
          "name": "stdout",
          "text": [
            "train [9/66] LOSS: 1.0644 ACC: 0.4062\n",
            "train [10/66] LOSS: 1.1048 ACC: 0.4375\n",
            "train [11/66] LOSS: 1.3295 ACC: 0.1250\n"
          ]
        },
        {
          "output_type": "stream",
          "name": "stderr",
          "text": [
            " 20%|█▉        | 13/66 [00:12<00:08,  6.07it/s]"
          ]
        },
        {
          "output_type": "stream",
          "name": "stdout",
          "text": [
            "train [12/66] LOSS: 1.0745 ACC: 0.4375\n",
            "train [13/66] LOSS: 1.1454 ACC: 0.3750\n"
          ]
        },
        {
          "output_type": "stream",
          "name": "stderr",
          "text": [
            " 24%|██▍       | 16/66 [00:12<00:06,  7.76it/s]"
          ]
        },
        {
          "output_type": "stream",
          "name": "stdout",
          "text": [
            "train [14/66] LOSS: 1.1066 ACC: 0.4062\n",
            "train [15/66] LOSS: 1.0840 ACC: 0.4375\n",
            "train [16/66] LOSS: 1.0915 ACC: 0.3438\n"
          ]
        },
        {
          "output_type": "stream",
          "name": "stderr",
          "text": [
            " 27%|██▋       | 18/66 [00:12<00:05,  8.35it/s]"
          ]
        },
        {
          "output_type": "stream",
          "name": "stdout",
          "text": [
            "train [17/66] LOSS: 1.0921 ACC: 0.3125\n",
            "train [18/66] LOSS: 1.0938 ACC: 0.4688\n"
          ]
        },
        {
          "output_type": "stream",
          "name": "stderr",
          "text": [
            "\r 30%|███       | 20/66 [00:13<00:05,  9.05it/s]"
          ]
        },
        {
          "output_type": "stream",
          "name": "stdout",
          "text": [
            "train [19/66] LOSS: 1.0832 ACC: 0.2500\n",
            "train [20/66] LOSS: 1.0757 ACC: 0.3438\n",
            "train [21/66] LOSS: 1.0827 ACC: 0.2812\n"
          ]
        },
        {
          "output_type": "stream",
          "name": "stderr",
          "text": [
            " 35%|███▍      | 23/66 [00:13<00:04,  9.46it/s]"
          ]
        },
        {
          "output_type": "stream",
          "name": "stdout",
          "text": [
            "train [22/66] LOSS: 1.1099 ACC: 0.4375\n",
            "train [23/66] LOSS: 1.0431 ACC: 0.5000\n"
          ]
        },
        {
          "output_type": "stream",
          "name": "stderr",
          "text": [
            " 38%|███▊      | 25/66 [00:13<00:04,  9.47it/s]"
          ]
        },
        {
          "output_type": "stream",
          "name": "stdout",
          "text": [
            "train [24/66] LOSS: 1.1032 ACC: 0.4062\n",
            "train [25/66] LOSS: 1.0964 ACC: 0.4062\n"
          ]
        },
        {
          "output_type": "stream",
          "name": "stderr",
          "text": [
            " 42%|████▏     | 28/66 [00:14<00:03,  9.84it/s]"
          ]
        },
        {
          "output_type": "stream",
          "name": "stdout",
          "text": [
            "train [26/66] LOSS: 1.1808 ACC: 0.4062\n",
            "train [27/66] LOSS: 1.0664 ACC: 0.3125\n",
            "train [28/66] LOSS: 1.0318 ACC: 0.4375\n"
          ]
        },
        {
          "output_type": "stream",
          "name": "stderr",
          "text": [
            " 47%|████▋     | 31/66 [00:14<00:03, 10.00it/s]"
          ]
        },
        {
          "output_type": "stream",
          "name": "stdout",
          "text": [
            "train [29/66] LOSS: 0.9960 ACC: 0.5000\n",
            "train [30/66] LOSS: 1.0899 ACC: 0.3750\n",
            "train [31/66] LOSS: 1.0980 ACC: 0.3750\n"
          ]
        },
        {
          "output_type": "stream",
          "name": "stderr",
          "text": [
            " 52%|█████▏    | 34/66 [00:14<00:03, 10.08it/s]"
          ]
        },
        {
          "output_type": "stream",
          "name": "stdout",
          "text": [
            "train [32/66] LOSS: 1.0013 ACC: 0.5000\n",
            "train [33/66] LOSS: 1.1299 ACC: 0.4062\n",
            "train [34/66] LOSS: 1.0857 ACC: 0.5938\n"
          ]
        },
        {
          "output_type": "stream",
          "name": "stderr",
          "text": [
            "\r 55%|█████▍    | 36/66 [00:14<00:03,  9.86it/s]"
          ]
        },
        {
          "output_type": "stream",
          "name": "stdout",
          "text": [
            "train [35/66] LOSS: 1.1355 ACC: 0.2500\n",
            "train [36/66] LOSS: 1.1946 ACC: 0.3125\n"
          ]
        },
        {
          "output_type": "stream",
          "name": "stderr",
          "text": [
            " 59%|█████▉    | 39/66 [00:15<00:02,  9.91it/s]"
          ]
        },
        {
          "output_type": "stream",
          "name": "stdout",
          "text": [
            "train [37/66] LOSS: 1.1176 ACC: 0.3750\n",
            "train [38/66] LOSS: 1.1275 ACC: 0.3438\n",
            "train [39/66] LOSS: 1.0772 ACC: 0.3125\n"
          ]
        },
        {
          "output_type": "stream",
          "name": "stderr",
          "text": [
            " 64%|██████▎   | 42/66 [00:15<00:02,  9.99it/s]"
          ]
        },
        {
          "output_type": "stream",
          "name": "stdout",
          "text": [
            "train [40/66] LOSS: 1.0669 ACC: 0.3438\n",
            "train [41/66] LOSS: 1.1045 ACC: 0.2500\n",
            "train [42/66] LOSS: 1.1376 ACC: 0.0938\n"
          ]
        },
        {
          "output_type": "stream",
          "name": "stderr",
          "text": [
            "\r 67%|██████▋   | 44/66 [00:15<00:02, 10.04it/s]"
          ]
        },
        {
          "output_type": "stream",
          "name": "stdout",
          "text": [
            "train [43/66] LOSS: 1.1380 ACC: 0.2500\n",
            "train [44/66] LOSS: 1.0663 ACC: 0.4375\n",
            "train [45/66] LOSS: 1.0858 ACC: 0.2812\n"
          ]
        },
        {
          "output_type": "stream",
          "name": "stderr",
          "text": [
            " 73%|███████▎  | 48/66 [00:15<00:01, 10.12it/s]"
          ]
        },
        {
          "output_type": "stream",
          "name": "stdout",
          "text": [
            "train [46/66] LOSS: 1.0926 ACC: 0.3125\n",
            "train [47/66] LOSS: 1.1053 ACC: 0.4375\n",
            "train [48/66] LOSS: 1.1317 ACC: 0.3125\n"
          ]
        },
        {
          "output_type": "stream",
          "name": "stderr",
          "text": [
            "\r 76%|███████▌  | 50/66 [00:16<00:01, 10.11it/s]"
          ]
        },
        {
          "output_type": "stream",
          "name": "stdout",
          "text": [
            "train [49/66] LOSS: 1.0486 ACC: 0.2812\n",
            "train [50/66] LOSS: 1.0890 ACC: 0.3125\n",
            "train [51/66] LOSS: 1.1339 ACC: 0.3125\n"
          ]
        },
        {
          "output_type": "stream",
          "name": "stderr",
          "text": [
            " 82%|████████▏ | 54/66 [00:16<00:01, 10.02it/s]"
          ]
        },
        {
          "output_type": "stream",
          "name": "stdout",
          "text": [
            "train [52/66] LOSS: 1.0939 ACC: 0.3750\n",
            "train [53/66] LOSS: 1.2538 ACC: 0.2188\n",
            "train [54/66] LOSS: 1.2377 ACC: 0.1250\n"
          ]
        },
        {
          "output_type": "stream",
          "name": "stderr",
          "text": [
            "\r 85%|████████▍ | 56/66 [00:16<00:01,  9.98it/s]"
          ]
        },
        {
          "output_type": "stream",
          "name": "stdout",
          "text": [
            "train [55/66] LOSS: 1.0890 ACC: 0.2500\n",
            "train [56/66] LOSS: 1.1839 ACC: 0.3438\n",
            "train [57/66] LOSS: 1.1540 ACC: 0.2812\n"
          ]
        },
        {
          "output_type": "stream",
          "name": "stderr",
          "text": [
            " 91%|█████████ | 60/66 [00:17<00:00, 10.08it/s]"
          ]
        },
        {
          "output_type": "stream",
          "name": "stdout",
          "text": [
            "train [58/66] LOSS: 1.1047 ACC: 0.3438\n",
            "train [59/66] LOSS: 1.0899 ACC: 0.1562\n",
            "train [60/66] LOSS: 1.1798 ACC: 0.2812\n"
          ]
        },
        {
          "output_type": "stream",
          "name": "stderr",
          "text": [
            "\r 94%|█████████▍| 62/66 [00:17<00:00, 10.09it/s]"
          ]
        },
        {
          "output_type": "stream",
          "name": "stdout",
          "text": [
            "train [61/66] LOSS: 1.1999 ACC: 0.3438\n",
            "train [62/66] LOSS: 1.2531 ACC: 0.1250\n",
            "train [63/66] LOSS: 1.1175 ACC: 0.3750\n"
          ]
        },
        {
          "output_type": "stream",
          "name": "stderr",
          "text": [
            "100%|██████████| 66/66 [00:17<00:00, 10.47it/s]"
          ]
        },
        {
          "output_type": "stream",
          "name": "stdout",
          "text": [
            "train [64/66] LOSS: 1.1973 ACC: 0.2188\n",
            "train [65/66] LOSS: 1.0727 ACC: 0.3750\n",
            "train [66/66] LOSS: 1.0589 ACC: 0.3000\n"
          ]
        },
        {
          "output_type": "stream",
          "name": "stderr",
          "text": [
            "\r100%|██████████| 66/66 [00:18<00:00,  3.54it/s]\n"
          ]
        },
        {
          "output_type": "stream",
          "name": "stdout",
          "text": [
            "train LOSS: 1.1144 ACC: 0.3448 BEST ACC: 0.3886\n"
          ]
        },
        {
          "output_type": "stream",
          "name": "stderr",
          "text": [
            "100%|██████████| 29/29 [00:08<00:00,  3.28it/s]\n"
          ]
        },
        {
          "output_type": "stream",
          "name": "stdout",
          "text": [
            "val LOSS: 1.1208 ACC: 0.3478 BEST ACC: 0.3944\n",
            "\n",
            "\n",
            "------------------------\n",
            "EPOCH 6/80\n",
            "------------------------\n"
          ]
        },
        {
          "output_type": "stream",
          "name": "stderr",
          "text": [
            "  2%|▏         | 1/66 [00:09<10:48,  9.97s/it]"
          ]
        },
        {
          "output_type": "stream",
          "name": "stdout",
          "text": [
            "train [1/66] LOSS: 1.0986 ACC: 0.3438\n"
          ]
        },
        {
          "output_type": "stream",
          "name": "stderr",
          "text": [
            "\r  3%|▎         | 2/66 [00:10<04:32,  4.26s/it]"
          ]
        },
        {
          "output_type": "stream",
          "name": "stdout",
          "text": [
            "train [2/66] LOSS: 1.1947 ACC: 0.2500\n"
          ]
        },
        {
          "output_type": "stream",
          "name": "stderr",
          "text": [
            "  6%|▌         | 4/66 [00:10<01:38,  1.59s/it]"
          ]
        },
        {
          "output_type": "stream",
          "name": "stdout",
          "text": [
            "train [3/66] LOSS: 1.2059 ACC: 0.4688\n",
            "train [4/66] LOSS: 1.2114 ACC: 0.3438\n"
          ]
        },
        {
          "output_type": "stream",
          "name": "stderr",
          "text": [
            "  9%|▉         | 6/66 [00:11<00:44,  1.36it/s]"
          ]
        },
        {
          "output_type": "stream",
          "name": "stdout",
          "text": [
            "train [5/66] LOSS: 1.2707 ACC: 0.4375\n",
            "train [6/66] LOSS: 1.0693 ACC: 0.3750\n"
          ]
        },
        {
          "output_type": "stream",
          "name": "stderr",
          "text": [
            " 12%|█▏        | 8/66 [00:11<00:24,  2.36it/s]"
          ]
        },
        {
          "output_type": "stream",
          "name": "stdout",
          "text": [
            "train [7/66] LOSS: 1.0930 ACC: 0.4688\n",
            "train [8/66] LOSS: 1.1328 ACC: 0.3125\n"
          ]
        },
        {
          "output_type": "stream",
          "name": "stderr",
          "text": [
            " 15%|█▌        | 10/66 [00:11<00:16,  3.37it/s]"
          ]
        },
        {
          "output_type": "stream",
          "name": "stdout",
          "text": [
            "train [9/66] LOSS: 1.0919 ACC: 0.4062\n",
            "train [10/66] LOSS: 1.1061 ACC: 0.4375\n"
          ]
        },
        {
          "output_type": "stream",
          "name": "stderr",
          "text": [
            " 18%|█▊        | 12/66 [00:12<00:11,  4.74it/s]"
          ]
        },
        {
          "output_type": "stream",
          "name": "stdout",
          "text": [
            "train [11/66] LOSS: 1.0792 ACC: 0.3125\n",
            "train [12/66] LOSS: 1.0977 ACC: 0.3750\n"
          ]
        },
        {
          "output_type": "stream",
          "name": "stderr",
          "text": [
            " 21%|██        | 14/66 [00:12<00:08,  6.39it/s]"
          ]
        },
        {
          "output_type": "stream",
          "name": "stdout",
          "text": [
            "train [13/66] LOSS: 1.1326 ACC: 0.2812\n",
            "train [14/66] LOSS: 1.0758 ACC: 0.4062\n"
          ]
        },
        {
          "output_type": "stream",
          "name": "stderr",
          "text": [
            " 24%|██▍       | 16/66 [00:12<00:06,  7.72it/s]"
          ]
        },
        {
          "output_type": "stream",
          "name": "stdout",
          "text": [
            "train [15/66] LOSS: 1.1018 ACC: 0.4062\n",
            "train [16/66] LOSS: 1.0795 ACC: 0.4375\n"
          ]
        },
        {
          "output_type": "stream",
          "name": "stderr",
          "text": [
            " 27%|██▋       | 18/66 [00:12<00:05,  8.66it/s]"
          ]
        },
        {
          "output_type": "stream",
          "name": "stdout",
          "text": [
            "train [17/66] LOSS: 1.1006 ACC: 0.3750\n",
            "train [18/66] LOSS: 1.1018 ACC: 0.2500\n"
          ]
        },
        {
          "output_type": "stream",
          "name": "stderr",
          "text": [
            " 32%|███▏      | 21/66 [00:12<00:04,  9.45it/s]"
          ]
        },
        {
          "output_type": "stream",
          "name": "stdout",
          "text": [
            "train [19/66] LOSS: 1.0532 ACC: 0.3750\n",
            "train [20/66] LOSS: 1.0518 ACC: 0.3750\n",
            "train [21/66] LOSS: 1.0609 ACC: 0.2188\n"
          ]
        },
        {
          "output_type": "stream",
          "name": "stderr",
          "text": [
            " 35%|███▍      | 23/66 [00:13<00:04,  9.58it/s]"
          ]
        },
        {
          "output_type": "stream",
          "name": "stdout",
          "text": [
            "train [22/66] LOSS: 1.1304 ACC: 0.3438\n",
            "train [23/66] LOSS: 1.0170 ACC: 0.4375\n"
          ]
        },
        {
          "output_type": "stream",
          "name": "stderr",
          "text": [
            " 39%|███▉      | 26/66 [00:13<00:04,  9.80it/s]"
          ]
        },
        {
          "output_type": "stream",
          "name": "stdout",
          "text": [
            "train [24/66] LOSS: 1.1634 ACC: 0.2812\n",
            "train [25/66] LOSS: 1.0160 ACC: 0.4688\n",
            "train [26/66] LOSS: 1.1759 ACC: 0.3750\n"
          ]
        },
        {
          "output_type": "stream",
          "name": "stderr",
          "text": [
            " 44%|████▍     | 29/66 [00:13<00:03,  9.85it/s]"
          ]
        },
        {
          "output_type": "stream",
          "name": "stdout",
          "text": [
            "train [27/66] LOSS: 1.1494 ACC: 0.3750\n",
            "train [28/66] LOSS: 1.0837 ACC: 0.3750\n",
            "train [29/66] LOSS: 1.1756 ACC: 0.2500\n"
          ]
        },
        {
          "output_type": "stream",
          "name": "stderr",
          "text": [
            " 47%|████▋     | 31/66 [00:14<00:03,  9.53it/s]"
          ]
        },
        {
          "output_type": "stream",
          "name": "stdout",
          "text": [
            "train [30/66] LOSS: 1.0295 ACC: 0.4688\n",
            "train [31/66] LOSS: 1.1298 ACC: 0.2812\n"
          ]
        },
        {
          "output_type": "stream",
          "name": "stderr",
          "text": [
            "\r 50%|█████     | 33/66 [00:14<00:03,  9.76it/s]"
          ]
        },
        {
          "output_type": "stream",
          "name": "stdout",
          "text": [
            "train [32/66] LOSS: 1.1406 ACC: 0.2812\n",
            "train [33/66] LOSS: 1.0927 ACC: 0.2812\n",
            "train [34/66] LOSS: 1.1199 ACC: 0.3125\n"
          ]
        },
        {
          "output_type": "stream",
          "name": "stderr",
          "text": [
            " 56%|█████▌    | 37/66 [00:14<00:02,  9.98it/s]"
          ]
        },
        {
          "output_type": "stream",
          "name": "stdout",
          "text": [
            "train [35/66] LOSS: 1.1119 ACC: 0.2812\n",
            "train [36/66] LOSS: 1.1067 ACC: 0.2812\n",
            "train [37/66] LOSS: 1.1351 ACC: 0.3125\n"
          ]
        },
        {
          "output_type": "stream",
          "name": "stderr",
          "text": [
            "\r 59%|█████▉    | 39/66 [00:14<00:02, 10.05it/s]"
          ]
        },
        {
          "output_type": "stream",
          "name": "stdout",
          "text": [
            "train [38/66] LOSS: 1.1374 ACC: 0.3750\n",
            "train [39/66] LOSS: 1.0814 ACC: 0.3125\n",
            "train [40/66] LOSS: 1.0380 ACC: 0.5000\n"
          ]
        },
        {
          "output_type": "stream",
          "name": "stderr",
          "text": [
            " 65%|██████▌   | 43/66 [00:15<00:02, 10.13it/s]"
          ]
        },
        {
          "output_type": "stream",
          "name": "stdout",
          "text": [
            "train [41/66] LOSS: 1.0797 ACC: 0.4375\n",
            "train [42/66] LOSS: 1.0708 ACC: 0.3125\n",
            "train [43/66] LOSS: 1.1159 ACC: 0.3438\n"
          ]
        },
        {
          "output_type": "stream",
          "name": "stderr",
          "text": [
            "\r 68%|██████▊   | 45/66 [00:15<00:02, 10.10it/s]"
          ]
        },
        {
          "output_type": "stream",
          "name": "stdout",
          "text": [
            "train [44/66] LOSS: 1.1307 ACC: 0.3438\n",
            "train [45/66] LOSS: 1.1134 ACC: 0.3438\n",
            "train [46/66] LOSS: 1.0034 ACC: 0.4375\n"
          ]
        },
        {
          "output_type": "stream",
          "name": "stderr",
          "text": [
            " 74%|███████▍  | 49/66 [00:15<00:01, 10.10it/s]"
          ]
        },
        {
          "output_type": "stream",
          "name": "stdout",
          "text": [
            "train [47/66] LOSS: 1.0502 ACC: 0.4062\n",
            "train [48/66] LOSS: 0.9881 ACC: 0.5000\n",
            "train [49/66] LOSS: 1.0604 ACC: 0.2500\n"
          ]
        },
        {
          "output_type": "stream",
          "name": "stderr",
          "text": [
            "\r 77%|███████▋  | 51/66 [00:15<00:01, 10.14it/s]"
          ]
        },
        {
          "output_type": "stream",
          "name": "stdout",
          "text": [
            "train [50/66] LOSS: 1.1083 ACC: 0.4375\n",
            "train [51/66] LOSS: 1.1333 ACC: 0.3750\n",
            "train [52/66] LOSS: 1.1795 ACC: 0.3125\n"
          ]
        },
        {
          "output_type": "stream",
          "name": "stderr",
          "text": [
            " 83%|████████▎ | 55/66 [00:16<00:01, 10.15it/s]"
          ]
        },
        {
          "output_type": "stream",
          "name": "stdout",
          "text": [
            "train [53/66] LOSS: 0.9922 ACC: 0.4375\n",
            "train [54/66] LOSS: 1.0427 ACC: 0.5938\n",
            "train [55/66] LOSS: 1.0862 ACC: 0.4688\n"
          ]
        },
        {
          "output_type": "stream",
          "name": "stderr",
          "text": [
            "\r 86%|████████▋ | 57/66 [00:16<00:00, 10.05it/s]"
          ]
        },
        {
          "output_type": "stream",
          "name": "stdout",
          "text": [
            "train [56/66] LOSS: 1.1540 ACC: 0.3125\n",
            "train [57/66] LOSS: 1.0663 ACC: 0.3750\n",
            "train [58/66] LOSS: 1.0649 ACC: 0.4062\n"
          ]
        },
        {
          "output_type": "stream",
          "name": "stderr",
          "text": [
            " 92%|█████████▏| 61/66 [00:16<00:00, 10.05it/s]"
          ]
        },
        {
          "output_type": "stream",
          "name": "stdout",
          "text": [
            "train [59/66] LOSS: 1.0577 ACC: 0.3125\n",
            "train [60/66] LOSS: 1.0559 ACC: 0.4688\n",
            "train [61/66] LOSS: 1.0956 ACC: 0.4062\n"
          ]
        },
        {
          "output_type": "stream",
          "name": "stderr",
          "text": [
            "\r 95%|█████████▌| 63/66 [00:17<00:00, 10.08it/s]"
          ]
        },
        {
          "output_type": "stream",
          "name": "stdout",
          "text": [
            "train [62/66] LOSS: 1.0827 ACC: 0.3438\n",
            "train [63/66] LOSS: 1.0292 ACC: 0.4688\n",
            "train [64/66] LOSS: 1.0808 ACC: 0.4375\n"
          ]
        },
        {
          "output_type": "stream",
          "name": "stderr",
          "text": [
            "\r 98%|█████████▊| 65/66 [00:17<00:00, 10.05it/s]"
          ]
        },
        {
          "output_type": "stream",
          "name": "stdout",
          "text": [
            "train [65/66] LOSS: 1.0933 ACC: 0.4375\n",
            "train [66/66] LOSS: 1.0240 ACC: 0.5000\n"
          ]
        },
        {
          "output_type": "stream",
          "name": "stderr",
          "text": [
            "\r100%|██████████| 66/66 [00:18<00:00,  3.60it/s]\n"
          ]
        },
        {
          "output_type": "stream",
          "name": "stdout",
          "text": [
            "train LOSS: 1.0970 ACC: 0.3738 BEST ACC: 0.3886\n"
          ]
        },
        {
          "output_type": "stream",
          "name": "stderr",
          "text": [
            "100%|██████████| 29/29 [00:10<00:00,  2.78it/s]\n"
          ]
        },
        {
          "output_type": "stream",
          "name": "stdout",
          "text": [
            "Best Validation Accuracy: 0.4022\n",
            "Saving model (Accuracy 40.22%) to model/2021-12-16-23-06-26/best.pth\n",
            "val LOSS: 1.1187 ACC: 0.4022 BEST ACC: 0.4022\n",
            "\n",
            "\n",
            "------------------------\n",
            "EPOCH 7/80\n",
            "------------------------\n"
          ]
        },
        {
          "output_type": "stream",
          "name": "stderr",
          "text": [
            "  2%|▏         | 1/66 [00:10<10:53, 10.05s/it]"
          ]
        },
        {
          "output_type": "stream",
          "name": "stdout",
          "text": [
            "train [1/66] LOSS: 1.0723 ACC: 0.2812\n"
          ]
        },
        {
          "output_type": "stream",
          "name": "stderr",
          "text": [
            "  5%|▍         | 3/66 [00:10<02:32,  2.42s/it]"
          ]
        },
        {
          "output_type": "stream",
          "name": "stdout",
          "text": [
            "train [2/66] LOSS: 1.1353 ACC: 0.3750\n",
            "train [3/66] LOSS: 1.1526 ACC: 0.3125\n"
          ]
        },
        {
          "output_type": "stream",
          "name": "stderr",
          "text": [
            "\r  6%|▌         | 4/66 [00:10<01:35,  1.53s/it]"
          ]
        },
        {
          "output_type": "stream",
          "name": "stdout",
          "text": [
            "train [4/66] LOSS: 1.1737 ACC: 0.3125\n"
          ]
        },
        {
          "output_type": "stream",
          "name": "stderr",
          "text": [
            "  9%|▉         | 6/66 [00:11<00:46,  1.30it/s]"
          ]
        },
        {
          "output_type": "stream",
          "name": "stdout",
          "text": [
            "train [5/66] LOSS: 1.0491 ACC: 0.4375\n",
            "train [6/66] LOSS: 1.0372 ACC: 0.4062\n"
          ]
        },
        {
          "output_type": "stream",
          "name": "stderr",
          "text": [
            " 12%|█▏        | 8/66 [00:11<00:26,  2.22it/s]"
          ]
        },
        {
          "output_type": "stream",
          "name": "stdout",
          "text": [
            "train [7/66] LOSS: 1.1145 ACC: 0.3750\n",
            "train [8/66] LOSS: 1.1064 ACC: 0.3750\n"
          ]
        },
        {
          "output_type": "stream",
          "name": "stderr",
          "text": [
            " 15%|█▌        | 10/66 [00:11<00:15,  3.72it/s]"
          ]
        },
        {
          "output_type": "stream",
          "name": "stdout",
          "text": [
            "train [9/66] LOSS: 1.0806 ACC: 0.4375\n",
            "train [10/66] LOSS: 1.0166 ACC: 0.5938\n"
          ]
        },
        {
          "output_type": "stream",
          "name": "stderr",
          "text": [
            " 18%|█▊        | 12/66 [00:11<00:10,  5.36it/s]"
          ]
        },
        {
          "output_type": "stream",
          "name": "stdout",
          "text": [
            "train [11/66] LOSS: 1.1194 ACC: 0.2812\n",
            "train [12/66] LOSS: 1.1060 ACC: 0.3438\n"
          ]
        },
        {
          "output_type": "stream",
          "name": "stderr",
          "text": [
            " 21%|██        | 14/66 [00:12<00:07,  6.99it/s]"
          ]
        },
        {
          "output_type": "stream",
          "name": "stdout",
          "text": [
            "train [13/66] LOSS: 1.0941 ACC: 0.3750\n",
            "train [14/66] LOSS: 1.0898 ACC: 0.3750\n",
            "train [15/66] LOSS: 1.0952 ACC: 0.3750\n"
          ]
        },
        {
          "output_type": "stream",
          "name": "stderr",
          "text": [
            " 27%|██▋       | 18/66 [00:12<00:05,  8.88it/s]"
          ]
        },
        {
          "output_type": "stream",
          "name": "stdout",
          "text": [
            "train [16/66] LOSS: 1.0876 ACC: 0.3750\n",
            "train [17/66] LOSS: 1.1183 ACC: 0.3750\n",
            "train [18/66] LOSS: 1.1338 ACC: 0.3125\n"
          ]
        },
        {
          "output_type": "stream",
          "name": "stderr",
          "text": [
            " 32%|███▏      | 21/66 [00:12<00:04,  9.37it/s]"
          ]
        },
        {
          "output_type": "stream",
          "name": "stdout",
          "text": [
            "train [19/66] LOSS: 1.0873 ACC: 0.4062\n",
            "train [20/66] LOSS: 1.0811 ACC: 0.3438\n",
            "train [21/66] LOSS: 1.0764 ACC: 0.4375\n"
          ]
        },
        {
          "output_type": "stream",
          "name": "stderr",
          "text": [
            " 36%|███▋      | 24/66 [00:13<00:04,  9.75it/s]"
          ]
        },
        {
          "output_type": "stream",
          "name": "stdout",
          "text": [
            "train [22/66] LOSS: 1.0655 ACC: 0.4375\n",
            "train [23/66] LOSS: 1.0917 ACC: 0.3125\n",
            "train [24/66] LOSS: 1.0890 ACC: 0.3750\n"
          ]
        },
        {
          "output_type": "stream",
          "name": "stderr",
          "text": [
            " 39%|███▉      | 26/66 [00:13<00:04,  9.82it/s]"
          ]
        },
        {
          "output_type": "stream",
          "name": "stdout",
          "text": [
            "train [25/66] LOSS: 1.0726 ACC: 0.3438\n",
            "train [26/66] LOSS: 0.9984 ACC: 0.4688\n",
            "train [27/66] LOSS: 1.0685 ACC: 0.3750\n"
          ]
        },
        {
          "output_type": "stream",
          "name": "stderr",
          "text": [
            " 44%|████▍     | 29/66 [00:13<00:03,  9.86it/s]"
          ]
        },
        {
          "output_type": "stream",
          "name": "stdout",
          "text": [
            "train [28/66] LOSS: 1.1223 ACC: 0.3438\n",
            "train [29/66] LOSS: 1.0057 ACC: 0.5938\n"
          ]
        },
        {
          "output_type": "stream",
          "name": "stderr",
          "text": [
            " 48%|████▊     | 32/66 [00:13<00:03, 10.01it/s]"
          ]
        },
        {
          "output_type": "stream",
          "name": "stdout",
          "text": [
            "train [30/66] LOSS: 1.0448 ACC: 0.5938\n",
            "train [31/66] LOSS: 1.1341 ACC: 0.3750\n",
            "train [32/66] LOSS: 1.0247 ACC: 0.5312\n"
          ]
        },
        {
          "output_type": "stream",
          "name": "stderr",
          "text": [
            " 53%|█████▎    | 35/66 [00:14<00:03, 10.07it/s]"
          ]
        },
        {
          "output_type": "stream",
          "name": "stdout",
          "text": [
            "train [33/66] LOSS: 1.0365 ACC: 0.5312\n",
            "train [34/66] LOSS: 1.0300 ACC: 0.4688\n",
            "train [35/66] LOSS: 1.0612 ACC: 0.3438\n"
          ]
        },
        {
          "output_type": "stream",
          "name": "stderr",
          "text": [
            "\r 56%|█████▌    | 37/66 [00:14<00:02,  9.93it/s]"
          ]
        },
        {
          "output_type": "stream",
          "name": "stdout",
          "text": [
            "train [36/66] LOSS: 1.1117 ACC: 0.4375\n",
            "train [37/66] LOSS: 1.0568 ACC: 0.3438\n"
          ]
        },
        {
          "output_type": "stream",
          "name": "stderr",
          "text": [
            "\r 59%|█████▉    | 39/66 [00:14<00:02,  9.92it/s]"
          ]
        },
        {
          "output_type": "stream",
          "name": "stdout",
          "text": [
            "train [38/66] LOSS: 0.9722 ACC: 0.5000\n",
            "train [39/66] LOSS: 1.0208 ACC: 0.2500\n"
          ]
        },
        {
          "output_type": "stream",
          "name": "stderr",
          "text": [
            "\r 62%|██████▏   | 41/66 [00:14<00:02, 10.00it/s]"
          ]
        },
        {
          "output_type": "stream",
          "name": "stdout",
          "text": [
            "train [40/66] LOSS: 1.1023 ACC: 0.3125\n",
            "train [41/66] LOSS: 1.1996 ACC: 0.2188\n"
          ]
        },
        {
          "output_type": "stream",
          "name": "stderr",
          "text": [
            " 67%|██████▋   | 44/66 [00:15<00:02,  9.92it/s]"
          ]
        },
        {
          "output_type": "stream",
          "name": "stdout",
          "text": [
            "train [42/66] LOSS: 1.1058 ACC: 0.3750\n",
            "train [43/66] LOSS: 1.0603 ACC: 0.4062\n",
            "train [44/66] LOSS: 1.0955 ACC: 0.3125\n"
          ]
        },
        {
          "output_type": "stream",
          "name": "stderr",
          "text": [
            " 71%|███████   | 47/66 [00:15<00:01, 10.00it/s]"
          ]
        },
        {
          "output_type": "stream",
          "name": "stdout",
          "text": [
            "train [45/66] LOSS: 1.0486 ACC: 0.4375\n",
            "train [46/66] LOSS: 1.0991 ACC: 0.4375\n",
            "train [47/66] LOSS: 1.1445 ACC: 0.4375\n"
          ]
        },
        {
          "output_type": "stream",
          "name": "stderr",
          "text": [
            "\r 74%|███████▍  | 49/66 [00:15<00:01, 10.05it/s]"
          ]
        },
        {
          "output_type": "stream",
          "name": "stdout",
          "text": [
            "train [48/66] LOSS: 1.1005 ACC: 0.3438\n",
            "train [49/66] LOSS: 1.1336 ACC: 0.2500\n",
            "train [50/66] LOSS: 1.0474 ACC: 0.3125\n"
          ]
        },
        {
          "output_type": "stream",
          "name": "stderr",
          "text": [
            " 80%|████████  | 53/66 [00:16<00:01, 10.05it/s]"
          ]
        },
        {
          "output_type": "stream",
          "name": "stdout",
          "text": [
            "train [51/66] LOSS: 1.0626 ACC: 0.5000\n",
            "train [52/66] LOSS: 1.1172 ACC: 0.3125\n",
            "train [53/66] LOSS: 1.1023 ACC: 0.4062\n"
          ]
        },
        {
          "output_type": "stream",
          "name": "stderr",
          "text": [
            "\r 83%|████████▎ | 55/66 [00:16<00:01, 10.07it/s]"
          ]
        },
        {
          "output_type": "stream",
          "name": "stdout",
          "text": [
            "train [54/66] LOSS: 1.0865 ACC: 0.3750\n",
            "train [55/66] LOSS: 1.1088 ACC: 0.3750\n",
            "train [56/66] LOSS: 1.0607 ACC: 0.4375\n"
          ]
        },
        {
          "output_type": "stream",
          "name": "stderr",
          "text": [
            " 89%|████████▉ | 59/66 [00:16<00:00, 10.11it/s]"
          ]
        },
        {
          "output_type": "stream",
          "name": "stdout",
          "text": [
            "train [57/66] LOSS: 1.1401 ACC: 0.3438\n",
            "train [58/66] LOSS: 1.0076 ACC: 0.5625\n",
            "train [59/66] LOSS: 1.1554 ACC: 0.2812\n"
          ]
        },
        {
          "output_type": "stream",
          "name": "stderr",
          "text": [
            "\r 92%|█████████▏| 61/66 [00:16<00:00, 10.12it/s]"
          ]
        },
        {
          "output_type": "stream",
          "name": "stdout",
          "text": [
            "train [60/66] LOSS: 1.0407 ACC: 0.4688\n",
            "train [61/66] LOSS: 1.0610 ACC: 0.5000\n",
            "train [62/66] LOSS: 1.0364 ACC: 0.3750\n"
          ]
        },
        {
          "output_type": "stream",
          "name": "stderr",
          "text": [
            " 98%|█████████▊| 65/66 [00:17<00:00, 10.13it/s]"
          ]
        },
        {
          "output_type": "stream",
          "name": "stdout",
          "text": [
            "train [63/66] LOSS: 1.0789 ACC: 0.3750\n",
            "train [64/66] LOSS: 1.1044 ACC: 0.3125\n",
            "train [65/66] LOSS: 1.0450 ACC: 0.2500\n",
            "train [66/66] LOSS: 1.0038 ACC: 0.4500\n"
          ]
        },
        {
          "output_type": "stream",
          "name": "stderr",
          "text": [
            "\r100%|██████████| 66/66 [00:18<00:00,  3.64it/s]\n"
          ]
        },
        {
          "output_type": "stream",
          "name": "stdout",
          "text": [
            "train LOSS: 1.0816 ACC: 0.3890 BEST ACC: 0.3890\n"
          ]
        },
        {
          "output_type": "stream",
          "name": "stderr",
          "text": [
            "100%|██████████| 29/29 [00:09<00:00,  3.20it/s]\n"
          ]
        },
        {
          "output_type": "stream",
          "name": "stdout",
          "text": [
            "val LOSS: 1.0981 ACC: 0.3611 BEST ACC: 0.4022\n",
            "\n",
            "\n",
            "------------------------\n",
            "EPOCH 8/80\n",
            "------------------------\n"
          ]
        },
        {
          "output_type": "stream",
          "name": "stderr",
          "text": [
            "  2%|▏         | 1/66 [00:09<10:36,  9.79s/it]"
          ]
        },
        {
          "output_type": "stream",
          "name": "stdout",
          "text": [
            "train [1/66] LOSS: 1.0829 ACC: 0.3750\n"
          ]
        },
        {
          "output_type": "stream",
          "name": "stderr",
          "text": [
            "\r  3%|▎         | 2/66 [00:10<04:27,  4.17s/it]"
          ]
        },
        {
          "output_type": "stream",
          "name": "stdout",
          "text": [
            "train [2/66] LOSS: 1.1044 ACC: 0.4375\n"
          ]
        },
        {
          "output_type": "stream",
          "name": "stderr",
          "text": [
            "  6%|▌         | 4/66 [00:11<01:43,  1.67s/it]"
          ]
        },
        {
          "output_type": "stream",
          "name": "stdout",
          "text": [
            "train [3/66] LOSS: 1.1565 ACC: 0.4062\n",
            "train [4/66] LOSS: 1.1337 ACC: 0.4062\n"
          ]
        },
        {
          "output_type": "stream",
          "name": "stderr",
          "text": [
            "\r  8%|▊         | 5/66 [00:11<01:08,  1.12s/it]"
          ]
        },
        {
          "output_type": "stream",
          "name": "stdout",
          "text": [
            "train [5/66] LOSS: 1.1025 ACC: 0.2812\n"
          ]
        },
        {
          "output_type": "stream",
          "name": "stderr",
          "text": [
            " 11%|█         | 7/66 [00:11<00:36,  1.63it/s]"
          ]
        },
        {
          "output_type": "stream",
          "name": "stdout",
          "text": [
            "train [6/66] LOSS: 1.0641 ACC: 0.3125\n",
            "train [7/66] LOSS: 1.0836 ACC: 0.2812\n"
          ]
        },
        {
          "output_type": "stream",
          "name": "stderr",
          "text": [
            " 14%|█▎        | 9/66 [00:11<00:21,  2.64it/s]"
          ]
        },
        {
          "output_type": "stream",
          "name": "stdout",
          "text": [
            "train [8/66] LOSS: 1.1043 ACC: 0.2188\n",
            "train [9/66] LOSS: 1.0593 ACC: 0.3438\n"
          ]
        },
        {
          "output_type": "stream",
          "name": "stderr",
          "text": [
            " 17%|█▋        | 11/66 [00:12<00:12,  4.25it/s]"
          ]
        },
        {
          "output_type": "stream",
          "name": "stdout",
          "text": [
            "train [10/66] LOSS: 1.1370 ACC: 0.4375\n",
            "train [11/66] LOSS: 1.0715 ACC: 0.3750\n"
          ]
        },
        {
          "output_type": "stream",
          "name": "stderr",
          "text": [
            " 20%|█▉        | 13/66 [00:12<00:08,  5.99it/s]"
          ]
        },
        {
          "output_type": "stream",
          "name": "stdout",
          "text": [
            "train [12/66] LOSS: 1.0441 ACC: 0.5312\n",
            "train [13/66] LOSS: 1.0991 ACC: 0.4062\n"
          ]
        },
        {
          "output_type": "stream",
          "name": "stderr",
          "text": [
            " 23%|██▎       | 15/66 [00:12<00:06,  7.52it/s]"
          ]
        },
        {
          "output_type": "stream",
          "name": "stdout",
          "text": [
            "train [14/66] LOSS: 1.0755 ACC: 0.4062\n",
            "train [15/66] LOSS: 1.0806 ACC: 0.3438\n",
            "train [16/66] LOSS: 1.0625 ACC: 0.4062\n"
          ]
        },
        {
          "output_type": "stream",
          "name": "stderr",
          "text": [
            " 29%|██▉       | 19/66 [00:12<00:05,  9.00it/s]"
          ]
        },
        {
          "output_type": "stream",
          "name": "stdout",
          "text": [
            "train [17/66] LOSS: 1.0475 ACC: 0.5000\n",
            "train [18/66] LOSS: 1.0927 ACC: 0.4062\n",
            "train [19/66] LOSS: 1.1792 ACC: 0.2812\n"
          ]
        },
        {
          "output_type": "stream",
          "name": "stderr",
          "text": [
            " 33%|███▎      | 22/66 [00:13<00:04,  9.49it/s]"
          ]
        },
        {
          "output_type": "stream",
          "name": "stdout",
          "text": [
            "train [20/66] LOSS: 1.0910 ACC: 0.4062\n",
            "train [21/66] LOSS: 1.1431 ACC: 0.3438\n",
            "train [22/66] LOSS: 1.1117 ACC: 0.2812\n"
          ]
        },
        {
          "output_type": "stream",
          "name": "stderr",
          "text": [
            " 36%|███▋      | 24/66 [00:13<00:04,  9.56it/s]"
          ]
        },
        {
          "output_type": "stream",
          "name": "stdout",
          "text": [
            "train [23/66] LOSS: 1.1305 ACC: 0.2812\n",
            "train [24/66] LOSS: 1.1458 ACC: 0.3125\n"
          ]
        },
        {
          "output_type": "stream",
          "name": "stderr",
          "text": [
            " 39%|███▉      | 26/66 [00:13<00:04,  9.47it/s]"
          ]
        },
        {
          "output_type": "stream",
          "name": "stdout",
          "text": [
            "train [25/66] LOSS: 1.0619 ACC: 0.4375\n",
            "train [26/66] LOSS: 1.0930 ACC: 0.2500\n"
          ]
        },
        {
          "output_type": "stream",
          "name": "stderr",
          "text": [
            "\r 42%|████▏     | 28/66 [00:13<00:03,  9.74it/s]"
          ]
        },
        {
          "output_type": "stream",
          "name": "stdout",
          "text": [
            "train [27/66] LOSS: 1.0625 ACC: 0.5000\n",
            "train [28/66] LOSS: 1.1027 ACC: 0.4688\n",
            "train [29/66] LOSS: 1.0733 ACC: 0.4375\n"
          ]
        },
        {
          "output_type": "stream",
          "name": "stderr",
          "text": [
            " 48%|████▊     | 32/66 [00:14<00:03, 10.02it/s]"
          ]
        },
        {
          "output_type": "stream",
          "name": "stdout",
          "text": [
            "train [30/66] LOSS: 1.0981 ACC: 0.3438\n",
            "train [31/66] LOSS: 1.0171 ACC: 0.5625\n",
            "train [32/66] LOSS: 1.0807 ACC: 0.3125\n"
          ]
        },
        {
          "output_type": "stream",
          "name": "stderr",
          "text": [
            " 52%|█████▏    | 34/66 [00:14<00:03,  9.97it/s]"
          ]
        },
        {
          "output_type": "stream",
          "name": "stdout",
          "text": [
            "train [33/66] LOSS: 1.0116 ACC: 0.5625\n",
            "train [34/66] LOSS: 1.0643 ACC: 0.4375\n",
            "train [35/66] LOSS: 1.0374 ACC: 0.5000\n"
          ]
        },
        {
          "output_type": "stream",
          "name": "stderr",
          "text": [
            " 58%|█████▊    | 38/66 [00:14<00:02, 10.10it/s]"
          ]
        },
        {
          "output_type": "stream",
          "name": "stdout",
          "text": [
            "train [36/66] LOSS: 1.0976 ACC: 0.4062\n",
            "train [37/66] LOSS: 1.1878 ACC: 0.2188\n",
            "train [38/66] LOSS: 1.0592 ACC: 0.4062\n"
          ]
        },
        {
          "output_type": "stream",
          "name": "stderr",
          "text": [
            "\r 61%|██████    | 40/66 [00:15<00:02,  9.85it/s]"
          ]
        },
        {
          "output_type": "stream",
          "name": "stdout",
          "text": [
            "train [39/66] LOSS: 1.0194 ACC: 0.4375\n",
            "train [40/66] LOSS: 1.0035 ACC: 0.3750\n"
          ]
        },
        {
          "output_type": "stream",
          "name": "stderr",
          "text": [
            "\r 64%|██████▎   | 42/66 [00:15<00:02,  9.92it/s]"
          ]
        },
        {
          "output_type": "stream",
          "name": "stdout",
          "text": [
            "train [41/66] LOSS: 1.0344 ACC: 0.4688\n",
            "train [42/66] LOSS: 0.9817 ACC: 0.4375\n",
            "train [43/66] LOSS: 1.1868 ACC: 0.4062\n"
          ]
        },
        {
          "output_type": "stream",
          "name": "stderr",
          "text": [
            " 70%|██████▉   | 46/66 [00:15<00:01, 10.00it/s]"
          ]
        },
        {
          "output_type": "stream",
          "name": "stdout",
          "text": [
            "train [44/66] LOSS: 1.0783 ACC: 0.3438\n",
            "train [45/66] LOSS: 1.1251 ACC: 0.2812\n",
            "train [46/66] LOSS: 1.1720 ACC: 0.2812\n"
          ]
        },
        {
          "output_type": "stream",
          "name": "stderr",
          "text": [
            "\r 73%|███████▎  | 48/66 [00:15<00:01, 10.06it/s]"
          ]
        },
        {
          "output_type": "stream",
          "name": "stdout",
          "text": [
            "train [47/66] LOSS: 1.0499 ACC: 0.4062\n",
            "train [48/66] LOSS: 1.0916 ACC: 0.4062\n",
            "train [49/66] LOSS: 1.1515 ACC: 0.2812\n"
          ]
        },
        {
          "output_type": "stream",
          "name": "stderr",
          "text": [
            " 79%|███████▉  | 52/66 [00:16<00:01, 10.12it/s]"
          ]
        },
        {
          "output_type": "stream",
          "name": "stdout",
          "text": [
            "train [50/66] LOSS: 1.0775 ACC: 0.5312\n",
            "train [51/66] LOSS: 1.0921 ACC: 0.3438\n",
            "train [52/66] LOSS: 1.0786 ACC: 0.4375\n"
          ]
        },
        {
          "output_type": "stream",
          "name": "stderr",
          "text": [
            "\r 82%|████████▏ | 54/66 [00:16<00:01, 10.11it/s]"
          ]
        },
        {
          "output_type": "stream",
          "name": "stdout",
          "text": [
            "train [53/66] LOSS: 1.0969 ACC: 0.4062\n",
            "train [54/66] LOSS: 1.1162 ACC: 0.3125\n",
            "train [55/66] LOSS: 1.1392 ACC: 0.2812\n"
          ]
        },
        {
          "output_type": "stream",
          "name": "stderr",
          "text": [
            " 88%|████████▊ | 58/66 [00:16<00:00, 10.13it/s]"
          ]
        },
        {
          "output_type": "stream",
          "name": "stdout",
          "text": [
            "train [56/66] LOSS: 1.0531 ACC: 0.2500\n",
            "train [57/66] LOSS: 1.0898 ACC: 0.3125\n",
            "train [58/66] LOSS: 1.0915 ACC: 0.4062\n"
          ]
        },
        {
          "output_type": "stream",
          "name": "stderr",
          "text": [
            "\r 91%|█████████ | 60/66 [00:17<00:00, 10.13it/s]"
          ]
        },
        {
          "output_type": "stream",
          "name": "stdout",
          "text": [
            "train [59/66] LOSS: 1.0571 ACC: 0.4688\n",
            "train [60/66] LOSS: 1.0851 ACC: 0.2812\n",
            "train [61/66] LOSS: 1.0842 ACC: 0.4375\n"
          ]
        },
        {
          "output_type": "stream",
          "name": "stderr",
          "text": [
            " 97%|█████████▋| 64/66 [00:17<00:00, 10.17it/s]"
          ]
        },
        {
          "output_type": "stream",
          "name": "stdout",
          "text": [
            "train [62/66] LOSS: 1.0580 ACC: 0.4688\n",
            "train [63/66] LOSS: 1.0766 ACC: 0.4062\n",
            "train [64/66] LOSS: 1.0702 ACC: 0.4375\n"
          ]
        },
        {
          "output_type": "stream",
          "name": "stderr",
          "text": [
            "\r100%|██████████| 66/66 [00:17<00:00, 10.42it/s]"
          ]
        },
        {
          "output_type": "stream",
          "name": "stdout",
          "text": [
            "train [65/66] LOSS: 1.0793 ACC: 0.3750\n",
            "train [66/66] LOSS: 0.9999 ACC: 0.4000\n"
          ]
        },
        {
          "output_type": "stream",
          "name": "stderr",
          "text": [
            "\r100%|██████████| 66/66 [00:18<00:00,  3.56it/s]\n"
          ]
        },
        {
          "output_type": "stream",
          "name": "stdout",
          "text": [
            "train LOSS: 1.0862 ACC: 0.3833 BEST ACC: 0.3890\n"
          ]
        },
        {
          "output_type": "stream",
          "name": "stderr",
          "text": [
            "100%|██████████| 29/29 [00:09<00:00,  3.21it/s]\n"
          ]
        },
        {
          "output_type": "stream",
          "name": "stdout",
          "text": [
            "val LOSS: 1.1093 ACC: 0.3356 BEST ACC: 0.4022\n",
            "\n",
            "\n",
            "------------------------\n",
            "EPOCH 9/80\n",
            "------------------------\n"
          ]
        },
        {
          "output_type": "stream",
          "name": "stderr",
          "text": [
            "  3%|▎         | 2/66 [00:10<04:38,  4.36s/it]"
          ]
        },
        {
          "output_type": "stream",
          "name": "stdout",
          "text": [
            "train [1/66] LOSS: 1.0557 ACC: 0.4688\n",
            "train [2/66] LOSS: 1.1202 ACC: 0.3438\n"
          ]
        },
        {
          "output_type": "stream",
          "name": "stderr",
          "text": [
            "  6%|▌         | 4/66 [00:10<01:33,  1.51s/it]"
          ]
        },
        {
          "output_type": "stream",
          "name": "stdout",
          "text": [
            "train [3/66] LOSS: 1.0537 ACC: 0.3438\n",
            "train [4/66] LOSS: 1.0524 ACC: 0.4062\n"
          ]
        },
        {
          "output_type": "stream",
          "name": "stderr",
          "text": [
            "  9%|▉         | 6/66 [00:11<00:43,  1.37it/s]"
          ]
        },
        {
          "output_type": "stream",
          "name": "stdout",
          "text": [
            "train [5/66] LOSS: 1.0567 ACC: 0.4062\n",
            "train [6/66] LOSS: 1.0810 ACC: 0.4062\n"
          ]
        },
        {
          "output_type": "stream",
          "name": "stderr",
          "text": [
            "\r 11%|█         | 7/66 [00:11<00:36,  1.63it/s]"
          ]
        },
        {
          "output_type": "stream",
          "name": "stdout",
          "text": [
            "train [7/66] LOSS: 1.0558 ACC: 0.3438\n"
          ]
        },
        {
          "output_type": "stream",
          "name": "stderr",
          "text": [
            " 14%|█▎        | 9/66 [00:11<00:23,  2.47it/s]"
          ]
        },
        {
          "output_type": "stream",
          "name": "stdout",
          "text": [
            "train [8/66] LOSS: 1.0796 ACC: 0.4062\n",
            "train [9/66] LOSS: 1.0415 ACC: 0.4375\n"
          ]
        },
        {
          "output_type": "stream",
          "name": "stderr",
          "text": [
            " 17%|█▋        | 11/66 [00:12<00:13,  4.05it/s]"
          ]
        },
        {
          "output_type": "stream",
          "name": "stdout",
          "text": [
            "train [10/66] LOSS: 1.2091 ACC: 0.3750\n",
            "train [11/66] LOSS: 1.0197 ACC: 0.4062\n"
          ]
        },
        {
          "output_type": "stream",
          "name": "stderr",
          "text": [
            " 20%|█▉        | 13/66 [00:12<00:09,  5.74it/s]"
          ]
        },
        {
          "output_type": "stream",
          "name": "stdout",
          "text": [
            "train [12/66] LOSS: 1.0727 ACC: 0.4688\n",
            "train [13/66] LOSS: 1.1271 ACC: 0.3125\n"
          ]
        },
        {
          "output_type": "stream",
          "name": "stderr",
          "text": [
            " 24%|██▍       | 16/66 [00:12<00:06,  7.80it/s]"
          ]
        },
        {
          "output_type": "stream",
          "name": "stdout",
          "text": [
            "train [14/66] LOSS: 1.1498 ACC: 0.3750\n",
            "train [15/66] LOSS: 1.0446 ACC: 0.4688\n",
            "train [16/66] LOSS: 1.0777 ACC: 0.3438\n"
          ]
        },
        {
          "output_type": "stream",
          "name": "stderr",
          "text": [
            " 29%|██▉       | 19/66 [00:12<00:05,  8.94it/s]"
          ]
        },
        {
          "output_type": "stream",
          "name": "stdout",
          "text": [
            "train [17/66] LOSS: 1.0940 ACC: 0.4375\n",
            "train [18/66] LOSS: 1.0152 ACC: 0.5625\n",
            "train [19/66] LOSS: 1.0945 ACC: 0.3750\n"
          ]
        },
        {
          "output_type": "stream",
          "name": "stderr",
          "text": [
            " 33%|███▎      | 22/66 [00:13<00:04,  9.53it/s]"
          ]
        },
        {
          "output_type": "stream",
          "name": "stdout",
          "text": [
            "train [20/66] LOSS: 1.0424 ACC: 0.4688\n",
            "train [21/66] LOSS: 1.1729 ACC: 0.2812\n",
            "train [22/66] LOSS: 1.0595 ACC: 0.4688\n"
          ]
        },
        {
          "output_type": "stream",
          "name": "stderr",
          "text": [
            " 36%|███▋      | 24/66 [00:13<00:04,  9.66it/s]"
          ]
        },
        {
          "output_type": "stream",
          "name": "stdout",
          "text": [
            "train [23/66] LOSS: 1.1318 ACC: 0.3438\n",
            "train [24/66] LOSS: 1.1452 ACC: 0.3125\n"
          ]
        },
        {
          "output_type": "stream",
          "name": "stderr",
          "text": [
            "\r 39%|███▉      | 26/66 [00:13<00:04,  9.34it/s]"
          ]
        },
        {
          "output_type": "stream",
          "name": "stdout",
          "text": [
            "train [25/66] LOSS: 1.0712 ACC: 0.4062\n",
            "train [26/66] LOSS: 1.0931 ACC: 0.3750\n"
          ]
        },
        {
          "output_type": "stream",
          "name": "stderr",
          "text": [
            " 44%|████▍     | 29/66 [00:13<00:03,  9.75it/s]"
          ]
        },
        {
          "output_type": "stream",
          "name": "stdout",
          "text": [
            "train [27/66] LOSS: 1.1102 ACC: 0.2500\n",
            "train [28/66] LOSS: 1.0705 ACC: 0.4375\n",
            "train [29/66] LOSS: 1.0946 ACC: 0.3438\n"
          ]
        },
        {
          "output_type": "stream",
          "name": "stderr",
          "text": [
            " 48%|████▊     | 32/66 [00:14<00:03,  9.93it/s]"
          ]
        },
        {
          "output_type": "stream",
          "name": "stdout",
          "text": [
            "train [30/66] LOSS: 1.0630 ACC: 0.4062\n",
            "train [31/66] LOSS: 1.0702 ACC: 0.4062\n",
            "train [32/66] LOSS: 1.0328 ACC: 0.5000\n"
          ]
        },
        {
          "output_type": "stream",
          "name": "stderr",
          "text": [
            " 52%|█████▏    | 34/66 [00:14<00:03,  9.87it/s]"
          ]
        },
        {
          "output_type": "stream",
          "name": "stdout",
          "text": [
            "train [33/66] LOSS: 1.1363 ACC: 0.3438\n",
            "train [34/66] LOSS: 1.0541 ACC: 0.4375\n"
          ]
        },
        {
          "output_type": "stream",
          "name": "stderr",
          "text": [
            " 56%|█████▌    | 37/66 [00:14<00:02,  9.99it/s]"
          ]
        },
        {
          "output_type": "stream",
          "name": "stdout",
          "text": [
            "train [35/66] LOSS: 1.0541 ACC: 0.4688\n",
            "train [36/66] LOSS: 1.1525 ACC: 0.3750\n",
            "train [37/66] LOSS: 1.0864 ACC: 0.3750\n"
          ]
        },
        {
          "output_type": "stream",
          "name": "stderr",
          "text": [
            " 59%|█████▉    | 39/66 [00:14<00:02,  9.93it/s]"
          ]
        },
        {
          "output_type": "stream",
          "name": "stdout",
          "text": [
            "train [38/66] LOSS: 1.1539 ACC: 0.3750\n",
            "train [39/66] LOSS: 1.0340 ACC: 0.4062\n"
          ]
        },
        {
          "output_type": "stream",
          "name": "stderr",
          "text": [
            " 64%|██████▎   | 42/66 [00:15<00:02,  9.90it/s]"
          ]
        },
        {
          "output_type": "stream",
          "name": "stdout",
          "text": [
            "train [40/66] LOSS: 1.0875 ACC: 0.3750\n",
            "train [41/66] LOSS: 1.1300 ACC: 0.3438\n",
            "train [42/66] LOSS: 1.0882 ACC: 0.5000\n"
          ]
        },
        {
          "output_type": "stream",
          "name": "stderr",
          "text": [
            " 68%|██████▊   | 45/66 [00:15<00:02,  9.99it/s]"
          ]
        },
        {
          "output_type": "stream",
          "name": "stdout",
          "text": [
            "train [43/66] LOSS: 1.0860 ACC: 0.4375\n",
            "train [44/66] LOSS: 1.1064 ACC: 0.3750\n",
            "train [45/66] LOSS: 1.0340 ACC: 0.4375\n"
          ]
        },
        {
          "output_type": "stream",
          "name": "stderr",
          "text": [
            " 71%|███████   | 47/66 [00:15<00:01,  9.95it/s]"
          ]
        },
        {
          "output_type": "stream",
          "name": "stdout",
          "text": [
            "train [46/66] LOSS: 1.0850 ACC: 0.4688\n",
            "train [47/66] LOSS: 1.0458 ACC: 0.3750\n",
            "train [48/66] LOSS: 1.1137 ACC: 0.2500\n"
          ]
        },
        {
          "output_type": "stream",
          "name": "stderr",
          "text": [
            " 77%|███████▋  | 51/66 [00:16<00:01, 10.06it/s]"
          ]
        },
        {
          "output_type": "stream",
          "name": "stdout",
          "text": [
            "train [49/66] LOSS: 1.0923 ACC: 0.3438\n",
            "train [50/66] LOSS: 1.0440 ACC: 0.3750\n",
            "train [51/66] LOSS: 1.0781 ACC: 0.4688\n"
          ]
        },
        {
          "output_type": "stream",
          "name": "stderr",
          "text": [
            "\r 80%|████████  | 53/66 [00:16<00:01, 10.05it/s]"
          ]
        },
        {
          "output_type": "stream",
          "name": "stdout",
          "text": [
            "train [52/66] LOSS: 1.0787 ACC: 0.4688\n",
            "train [53/66] LOSS: 1.1383 ACC: 0.2500\n",
            "train [54/66] LOSS: 1.0755 ACC: 0.4375\n"
          ]
        },
        {
          "output_type": "stream",
          "name": "stderr",
          "text": [
            " 86%|████████▋ | 57/66 [00:16<00:00, 10.10it/s]"
          ]
        },
        {
          "output_type": "stream",
          "name": "stdout",
          "text": [
            "train [55/66] LOSS: 1.0920 ACC: 0.4688\n",
            "train [56/66] LOSS: 1.0807 ACC: 0.3125\n",
            "train [57/66] LOSS: 1.0854 ACC: 0.4688\n"
          ]
        },
        {
          "output_type": "stream",
          "name": "stderr",
          "text": [
            "\r 89%|████████▉ | 59/66 [00:16<00:00, 10.10it/s]"
          ]
        },
        {
          "output_type": "stream",
          "name": "stdout",
          "text": [
            "train [58/66] LOSS: 1.1053 ACC: 0.4062\n",
            "train [59/66] LOSS: 1.0351 ACC: 0.4375\n",
            "train [60/66] LOSS: 1.0952 ACC: 0.2500\n"
          ]
        },
        {
          "output_type": "stream",
          "name": "stderr",
          "text": [
            " 95%|█████████▌| 63/66 [00:17<00:00, 10.08it/s]"
          ]
        },
        {
          "output_type": "stream",
          "name": "stdout",
          "text": [
            "train [61/66] LOSS: 1.1093 ACC: 0.3750\n",
            "train [62/66] LOSS: 1.0203 ACC: 0.5312\n",
            "train [63/66] LOSS: 1.0800 ACC: 0.3750\n"
          ]
        },
        {
          "output_type": "stream",
          "name": "stderr",
          "text": [
            "\r 98%|█████████▊| 65/66 [00:17<00:00, 10.06it/s]"
          ]
        },
        {
          "output_type": "stream",
          "name": "stdout",
          "text": [
            "train [64/66] LOSS: 1.0900 ACC: 0.4062\n",
            "train [65/66] LOSS: 1.0569 ACC: 0.4688\n",
            "train [66/66] LOSS: 0.9887 ACC: 0.6000\n"
          ]
        },
        {
          "output_type": "stream",
          "name": "stderr",
          "text": [
            "\r100%|██████████| 66/66 [00:18<00:00,  3.58it/s]\n"
          ]
        },
        {
          "output_type": "stream",
          "name": "stdout",
          "text": [
            "train LOSS: 1.0826 ACC: 0.4000 BEST ACC: 0.4000\n"
          ]
        },
        {
          "output_type": "stream",
          "name": "stderr",
          "text": [
            "100%|██████████| 29/29 [00:09<00:00,  3.21it/s]\n"
          ]
        },
        {
          "output_type": "stream",
          "name": "stdout",
          "text": [
            "val LOSS: 1.1254 ACC: 0.3167 BEST ACC: 0.4022\n",
            "\n",
            "\n",
            "------------------------\n",
            "EPOCH 10/80\n",
            "------------------------\n"
          ]
        },
        {
          "output_type": "stream",
          "name": "stderr",
          "text": [
            "  2%|▏         | 1/66 [00:09<10:19,  9.52s/it]"
          ]
        },
        {
          "output_type": "stream",
          "name": "stdout",
          "text": [
            "train [1/66] LOSS: 1.0419 ACC: 0.4375\n"
          ]
        },
        {
          "output_type": "stream",
          "name": "stderr",
          "text": [
            "  5%|▍         | 3/66 [00:10<02:25,  2.31s/it]"
          ]
        },
        {
          "output_type": "stream",
          "name": "stdout",
          "text": [
            "train [2/66] LOSS: 1.1389 ACC: 0.3125\n",
            "train [3/66] LOSS: 1.1069 ACC: 0.3750\n"
          ]
        },
        {
          "output_type": "stream",
          "name": "stderr",
          "text": [
            "\r  6%|▌         | 4/66 [00:10<01:29,  1.45s/it]"
          ]
        },
        {
          "output_type": "stream",
          "name": "stdout",
          "text": [
            "train [4/66] LOSS: 1.1707 ACC: 0.2188\n"
          ]
        },
        {
          "output_type": "stream",
          "name": "stderr",
          "text": [
            "\r  8%|▊         | 5/66 [00:10<01:03,  1.04s/it]"
          ]
        },
        {
          "output_type": "stream",
          "name": "stdout",
          "text": [
            "train [5/66] LOSS: 1.1496 ACC: 0.3438\n"
          ]
        },
        {
          "output_type": "stream",
          "name": "stderr",
          "text": [
            " 11%|█         | 7/66 [00:11<00:35,  1.66it/s]"
          ]
        },
        {
          "output_type": "stream",
          "name": "stdout",
          "text": [
            "train [6/66] LOSS: 1.1611 ACC: 0.2812\n",
            "train [7/66] LOSS: 1.0557 ACC: 0.3438\n"
          ]
        },
        {
          "output_type": "stream",
          "name": "stderr",
          "text": [
            " 14%|█▎        | 9/66 [00:11<00:21,  2.64it/s]"
          ]
        },
        {
          "output_type": "stream",
          "name": "stdout",
          "text": [
            "train [8/66] LOSS: 1.0785 ACC: 0.3750\n",
            "train [9/66] LOSS: 1.0425 ACC: 0.5625\n"
          ]
        },
        {
          "output_type": "stream",
          "name": "stderr",
          "text": [
            "\r 15%|█▌        | 10/66 [00:11<00:17,  3.23it/s]"
          ]
        },
        {
          "output_type": "stream",
          "name": "stdout",
          "text": [
            "train [10/66] LOSS: 1.0905 ACC: 0.2500\n"
          ]
        },
        {
          "output_type": "stream",
          "name": "stderr",
          "text": [
            "\r 17%|█▋        | 11/66 [00:11<00:16,  3.41it/s]"
          ]
        },
        {
          "output_type": "stream",
          "name": "stdout",
          "text": [
            "train [11/66] LOSS: 1.0596 ACC: 0.5312\n"
          ]
        },
        {
          "output_type": "stream",
          "name": "stderr",
          "text": [
            " 20%|█▉        | 13/66 [00:12<00:11,  4.51it/s]"
          ]
        },
        {
          "output_type": "stream",
          "name": "stdout",
          "text": [
            "train [12/66] LOSS: 1.1063 ACC: 0.3750\n",
            "train [13/66] LOSS: 1.0659 ACC: 0.3438\n"
          ]
        },
        {
          "output_type": "stream",
          "name": "stderr",
          "text": [
            " 24%|██▍       | 16/66 [00:12<00:07,  6.72it/s]"
          ]
        },
        {
          "output_type": "stream",
          "name": "stdout",
          "text": [
            "train [14/66] LOSS: 1.0768 ACC: 0.1562\n",
            "train [15/66] LOSS: 1.0833 ACC: 0.4062\n",
            "train [16/66] LOSS: 1.1132 ACC: 0.4375\n"
          ]
        },
        {
          "output_type": "stream",
          "name": "stderr",
          "text": [
            " 27%|██▋       | 18/66 [00:12<00:06,  7.91it/s]"
          ]
        },
        {
          "output_type": "stream",
          "name": "stdout",
          "text": [
            "train [17/66] LOSS: 1.1124 ACC: 0.3438\n",
            "train [18/66] LOSS: 1.0738 ACC: 0.3438\n",
            "train [19/66] LOSS: 1.0943 ACC: 0.2812\n"
          ]
        },
        {
          "output_type": "stream",
          "name": "stderr",
          "text": [
            " 33%|███▎      | 22/66 [00:13<00:04,  9.26it/s]"
          ]
        },
        {
          "output_type": "stream",
          "name": "stdout",
          "text": [
            "train [20/66] LOSS: 1.0811 ACC: 0.3438\n",
            "train [21/66] LOSS: 1.1480 ACC: 0.3438\n",
            "train [22/66] LOSS: 1.0924 ACC: 0.3750\n"
          ]
        },
        {
          "output_type": "stream",
          "name": "stderr",
          "text": [
            " 36%|███▋      | 24/66 [00:13<00:04,  9.43it/s]"
          ]
        },
        {
          "output_type": "stream",
          "name": "stdout",
          "text": [
            "train [23/66] LOSS: 1.1059 ACC: 0.2500\n",
            "train [24/66] LOSS: 1.0642 ACC: 0.3438\n"
          ]
        },
        {
          "output_type": "stream",
          "name": "stderr",
          "text": [
            " 41%|████      | 27/66 [00:13<00:04,  9.49it/s]"
          ]
        },
        {
          "output_type": "stream",
          "name": "stdout",
          "text": [
            "train [25/66] LOSS: 1.1170 ACC: 0.3125\n",
            "train [26/66] LOSS: 1.0904 ACC: 0.5000\n",
            "train [27/66] LOSS: 1.0466 ACC: 0.3125\n"
          ]
        },
        {
          "output_type": "stream",
          "name": "stderr",
          "text": [
            " 45%|████▌     | 30/66 [00:13<00:03,  9.81it/s]"
          ]
        },
        {
          "output_type": "stream",
          "name": "stdout",
          "text": [
            "train [28/66] LOSS: 1.0700 ACC: 0.3750\n",
            "train [29/66] LOSS: 1.0548 ACC: 0.3750\n",
            "train [30/66] LOSS: 1.0815 ACC: 0.3125\n"
          ]
        },
        {
          "output_type": "stream",
          "name": "stderr",
          "text": [
            " 48%|████▊     | 32/66 [00:14<00:03,  9.72it/s]"
          ]
        },
        {
          "output_type": "stream",
          "name": "stdout",
          "text": [
            "train [31/66] LOSS: 1.0915 ACC: 0.2500\n",
            "train [32/66] LOSS: 1.0908 ACC: 0.5000\n"
          ]
        },
        {
          "output_type": "stream",
          "name": "stderr",
          "text": [
            "\r 52%|█████▏    | 34/66 [00:14<00:03,  9.90it/s]"
          ]
        },
        {
          "output_type": "stream",
          "name": "stdout",
          "text": [
            "train [33/66] LOSS: 1.0729 ACC: 0.5000\n",
            "train [34/66] LOSS: 1.0857 ACC: 0.3750\n",
            "train [35/66] LOSS: 1.0908 ACC: 0.4062\n"
          ]
        },
        {
          "output_type": "stream",
          "name": "stderr",
          "text": [
            " 58%|█████▊    | 38/66 [00:14<00:02, 10.07it/s]"
          ]
        },
        {
          "output_type": "stream",
          "name": "stdout",
          "text": [
            "train [36/66] LOSS: 1.1831 ACC: 0.3125\n",
            "train [37/66] LOSS: 1.0464 ACC: 0.3438\n",
            "train [38/66] LOSS: 1.0895 ACC: 0.4062\n"
          ]
        },
        {
          "output_type": "stream",
          "name": "stderr",
          "text": [
            "\r 61%|██████    | 40/66 [00:14<00:02, 10.08it/s]"
          ]
        },
        {
          "output_type": "stream",
          "name": "stdout",
          "text": [
            "train [39/66] LOSS: 1.0977 ACC: 0.4375\n",
            "train [40/66] LOSS: 1.0709 ACC: 0.2812\n",
            "train [41/66] LOSS: 1.0296 ACC: 0.4688\n"
          ]
        },
        {
          "output_type": "stream",
          "name": "stderr",
          "text": [
            "\r 64%|██████▎   | 42/66 [00:15<00:02, 10.11it/s]"
          ]
        },
        {
          "output_type": "stream",
          "name": "stdout",
          "text": [
            "train [42/66] LOSS: 1.0131 ACC: 0.4688\n",
            "train [43/66] LOSS: 1.0470 ACC: 0.2812\n"
          ]
        },
        {
          "output_type": "stream",
          "name": "stderr",
          "text": [
            " 68%|██████▊   | 45/66 [00:15<00:02,  9.97it/s]"
          ]
        },
        {
          "output_type": "stream",
          "name": "stdout",
          "text": [
            "train [44/66] LOSS: 1.1016 ACC: 0.4062\n",
            "train [45/66] LOSS: 1.0587 ACC: 0.2812\n",
            "train [46/66] LOSS: 1.0352 ACC: 0.3750\n"
          ]
        },
        {
          "output_type": "stream",
          "name": "stderr",
          "text": [
            "\r 71%|███████   | 47/66 [00:15<00:01, 10.02it/s]"
          ]
        },
        {
          "output_type": "stream",
          "name": "stdout",
          "text": [
            "train [47/66] LOSS: 1.1571 ACC: 0.3438\n",
            "train [48/66] LOSS: 0.9694 ACC: 0.4062\n"
          ]
        },
        {
          "output_type": "stream",
          "name": "stderr",
          "text": [
            " 77%|███████▋  | 51/66 [00:15<00:01, 10.05it/s]"
          ]
        },
        {
          "output_type": "stream",
          "name": "stdout",
          "text": [
            "train [49/66] LOSS: 1.0541 ACC: 0.3750\n",
            "train [50/66] LOSS: 1.0016 ACC: 0.5625\n",
            "train [51/66] LOSS: 1.1558 ACC: 0.2812\n"
          ]
        },
        {
          "output_type": "stream",
          "name": "stderr",
          "text": [
            "\r 80%|████████  | 53/66 [00:16<00:01, 10.09it/s]"
          ]
        },
        {
          "output_type": "stream",
          "name": "stdout",
          "text": [
            "train [52/66] LOSS: 0.9867 ACC: 0.6250\n",
            "train [53/66] LOSS: 1.2383 ACC: 0.3750\n",
            "train [54/66] LOSS: 1.0599 ACC: 0.5000\n"
          ]
        },
        {
          "output_type": "stream",
          "name": "stderr",
          "text": [
            " 86%|████████▋ | 57/66 [00:16<00:00, 10.13it/s]"
          ]
        },
        {
          "output_type": "stream",
          "name": "stdout",
          "text": [
            "train [55/66] LOSS: 1.1229 ACC: 0.3438\n",
            "train [56/66] LOSS: 1.1197 ACC: 0.2188\n",
            "train [57/66] LOSS: 1.0961 ACC: 0.3750\n"
          ]
        },
        {
          "output_type": "stream",
          "name": "stderr",
          "text": [
            "\r 89%|████████▉ | 59/66 [00:16<00:00, 10.12it/s]"
          ]
        },
        {
          "output_type": "stream",
          "name": "stdout",
          "text": [
            "train [58/66] LOSS: 1.0400 ACC: 0.4062\n",
            "train [59/66] LOSS: 1.0932 ACC: 0.3750\n",
            "train [60/66] LOSS: 1.0620 ACC: 0.4062\n"
          ]
        },
        {
          "output_type": "stream",
          "name": "stderr",
          "text": [
            " 95%|█████████▌| 63/66 [00:17<00:00, 10.13it/s]"
          ]
        },
        {
          "output_type": "stream",
          "name": "stdout",
          "text": [
            "train [61/66] LOSS: 1.0987 ACC: 0.3125\n",
            "train [62/66] LOSS: 1.0440 ACC: 0.4688\n",
            "train [63/66] LOSS: 1.0526 ACC: 0.6875\n"
          ]
        },
        {
          "output_type": "stream",
          "name": "stderr",
          "text": [
            "\r 98%|█████████▊| 65/66 [00:17<00:00, 10.06it/s]"
          ]
        },
        {
          "output_type": "stream",
          "name": "stdout",
          "text": [
            "train [64/66] LOSS: 1.0653 ACC: 0.4688\n",
            "train [65/66] LOSS: 1.0853 ACC: 0.3125\n",
            "train [66/66] LOSS: 1.0316 ACC: 0.5500\n"
          ]
        },
        {
          "output_type": "stream",
          "name": "stderr",
          "text": [
            "\r100%|██████████| 66/66 [00:18<00:00,  3.59it/s]\n"
          ]
        },
        {
          "output_type": "stream",
          "name": "stdout",
          "text": [
            "train LOSS: 1.0835 ACC: 0.3786 BEST ACC: 0.4000\n"
          ]
        },
        {
          "output_type": "stream",
          "name": "stderr",
          "text": [
            "100%|██████████| 29/29 [00:09<00:00,  3.19it/s]\n"
          ]
        },
        {
          "output_type": "stream",
          "name": "stdout",
          "text": [
            "val LOSS: 1.1077 ACC: 0.3044 BEST ACC: 0.4022\n",
            "\n",
            "\n",
            "------------------------\n",
            "EPOCH 11/80\n",
            "------------------------\n"
          ]
        },
        {
          "output_type": "stream",
          "name": "stderr",
          "text": [
            "  2%|▏         | 1/66 [00:09<10:32,  9.73s/it]"
          ]
        },
        {
          "output_type": "stream",
          "name": "stdout",
          "text": [
            "train [1/66] LOSS: 1.0481 ACC: 0.5000\n"
          ]
        },
        {
          "output_type": "stream",
          "name": "stderr",
          "text": [
            "\r  3%|▎         | 2/66 [00:10<04:35,  4.31s/it]"
          ]
        },
        {
          "output_type": "stream",
          "name": "stdout",
          "text": [
            "train [2/66] LOSS: 1.0628 ACC: 0.3750\n"
          ]
        },
        {
          "output_type": "stream",
          "name": "stderr",
          "text": [
            "\r  5%|▍         | 3/66 [00:10<02:36,  2.48s/it]"
          ]
        },
        {
          "output_type": "stream",
          "name": "stdout",
          "text": [
            "train [3/66] LOSS: 1.0215 ACC: 0.5000\n"
          ]
        },
        {
          "output_type": "stream",
          "name": "stderr",
          "text": [
            "  8%|▊         | 5/66 [00:10<01:05,  1.07s/it]"
          ]
        },
        {
          "output_type": "stream",
          "name": "stdout",
          "text": [
            "train [4/66] LOSS: 1.1159 ACC: 0.3750\n",
            "train [5/66] LOSS: 1.0871 ACC: 0.3438\n"
          ]
        },
        {
          "output_type": "stream",
          "name": "stderr",
          "text": [
            "\r  9%|▉         | 6/66 [00:11<00:46,  1.29it/s]"
          ]
        },
        {
          "output_type": "stream",
          "name": "stdout",
          "text": [
            "train [6/66] LOSS: 1.1686 ACC: 0.2812\n"
          ]
        },
        {
          "output_type": "stream",
          "name": "stderr",
          "text": [
            "\r 11%|█         | 7/66 [00:11<00:36,  1.62it/s]"
          ]
        },
        {
          "output_type": "stream",
          "name": "stdout",
          "text": [
            "train [7/66] LOSS: 1.1036 ACC: 0.3438\n"
          ]
        },
        {
          "output_type": "stream",
          "name": "stderr",
          "text": [
            " 14%|█▎        | 9/66 [00:11<00:22,  2.51it/s]"
          ]
        },
        {
          "output_type": "stream",
          "name": "stdout",
          "text": [
            "train [8/66] LOSS: 1.0737 ACC: 0.3750\n",
            "train [9/66] LOSS: 1.0622 ACC: 0.3438\n"
          ]
        },
        {
          "output_type": "stream",
          "name": "stderr",
          "text": [
            " 17%|█▋        | 11/66 [00:12<00:13,  4.08it/s]"
          ]
        },
        {
          "output_type": "stream",
          "name": "stdout",
          "text": [
            "train [10/66] LOSS: 1.1073 ACC: 0.3125\n",
            "train [11/66] LOSS: 1.1402 ACC: 0.3125\n",
            "train [12/66] LOSS: 1.0813 ACC: 0.2188\n"
          ]
        },
        {
          "output_type": "stream",
          "name": "stderr",
          "text": [
            " 21%|██        | 14/66 [00:12<00:08,  6.29it/s]"
          ]
        },
        {
          "output_type": "stream",
          "name": "stdout",
          "text": [
            "train [13/66] LOSS: 1.1074 ACC: 0.4375\n",
            "train [14/66] LOSS: 1.0468 ACC: 0.4062\n"
          ]
        },
        {
          "output_type": "stream",
          "name": "stderr",
          "text": [
            " 24%|██▍       | 16/66 [00:12<00:06,  7.49it/s]"
          ]
        },
        {
          "output_type": "stream",
          "name": "stdout",
          "text": [
            "train [15/66] LOSS: 1.0888 ACC: 0.3750\n",
            "train [16/66] LOSS: 1.0927 ACC: 0.3750\n"
          ]
        },
        {
          "output_type": "stream",
          "name": "stderr",
          "text": [
            " 29%|██▉       | 19/66 [00:12<00:05,  8.76it/s]"
          ]
        },
        {
          "output_type": "stream",
          "name": "stdout",
          "text": [
            "train [17/66] LOSS: 1.1031 ACC: 0.3438\n",
            "train [18/66] LOSS: 1.0830 ACC: 0.3750\n",
            "train [19/66] LOSS: 1.1092 ACC: 0.3438\n"
          ]
        },
        {
          "output_type": "stream",
          "name": "stderr",
          "text": [
            " 32%|███▏      | 21/66 [00:13<00:04,  9.25it/s]"
          ]
        },
        {
          "output_type": "stream",
          "name": "stdout",
          "text": [
            "train [20/66] LOSS: 1.1176 ACC: 0.4062\n",
            "train [21/66] LOSS: 1.0790 ACC: 0.3438\n",
            "train [22/66] LOSS: 1.1056 ACC: 0.5000\n"
          ]
        },
        {
          "output_type": "stream",
          "name": "stderr",
          "text": [
            " 36%|███▋      | 24/66 [00:13<00:04,  9.40it/s]"
          ]
        },
        {
          "output_type": "stream",
          "name": "stdout",
          "text": [
            "train [23/66] LOSS: 1.0518 ACC: 0.4375\n",
            "train [24/66] LOSS: 1.1154 ACC: 0.3125\n"
          ]
        },
        {
          "output_type": "stream",
          "name": "stderr",
          "text": [
            " 41%|████      | 27/66 [00:13<00:04,  9.66it/s]"
          ]
        },
        {
          "output_type": "stream",
          "name": "stdout",
          "text": [
            "train [25/66] LOSS: 1.0964 ACC: 0.3750\n",
            "train [26/66] LOSS: 1.0563 ACC: 0.5625\n",
            "train [27/66] LOSS: 1.0813 ACC: 0.5312\n"
          ]
        },
        {
          "output_type": "stream",
          "name": "stderr",
          "text": [
            " 45%|████▌     | 30/66 [00:14<00:03,  9.90it/s]"
          ]
        },
        {
          "output_type": "stream",
          "name": "stdout",
          "text": [
            "train [28/66] LOSS: 1.0842 ACC: 0.5000\n",
            "train [29/66] LOSS: 1.0682 ACC: 0.3750\n",
            "train [30/66] LOSS: 1.0579 ACC: 0.4375\n"
          ]
        },
        {
          "output_type": "stream",
          "name": "stderr",
          "text": [
            " 50%|█████     | 33/66 [00:14<00:03, 10.01it/s]"
          ]
        },
        {
          "output_type": "stream",
          "name": "stdout",
          "text": [
            "train [31/66] LOSS: 1.0746 ACC: 0.3750\n",
            "train [32/66] LOSS: 1.0887 ACC: 0.4062\n",
            "train [33/66] LOSS: 1.0513 ACC: 0.3438\n"
          ]
        },
        {
          "output_type": "stream",
          "name": "stderr",
          "text": [
            " 55%|█████▍    | 36/66 [00:14<00:02, 10.06it/s]"
          ]
        },
        {
          "output_type": "stream",
          "name": "stdout",
          "text": [
            "train [34/66] LOSS: 1.0761 ACC: 0.3125\n",
            "train [35/66] LOSS: 1.1114 ACC: 0.4375\n",
            "train [36/66] LOSS: 1.0644 ACC: 0.4062\n"
          ]
        },
        {
          "output_type": "stream",
          "name": "stderr",
          "text": [
            "\r 58%|█████▊    | 38/66 [00:14<00:02, 10.10it/s]"
          ]
        },
        {
          "output_type": "stream",
          "name": "stdout",
          "text": [
            "train [37/66] LOSS: 1.0980 ACC: 0.3750\n",
            "train [38/66] LOSS: 1.0025 ACC: 0.4062\n",
            "train [39/66] LOSS: 1.0816 ACC: 0.3125\n"
          ]
        },
        {
          "output_type": "stream",
          "name": "stderr",
          "text": [
            "\r 61%|██████    | 40/66 [00:15<00:02, 10.13it/s]"
          ]
        },
        {
          "output_type": "stream",
          "name": "stdout",
          "text": [
            "train [40/66] LOSS: 1.0548 ACC: 0.4062\n",
            "train [41/66] LOSS: 1.0137 ACC: 0.3750\n"
          ]
        },
        {
          "output_type": "stream",
          "name": "stderr",
          "text": [
            " 67%|██████▋   | 44/66 [00:15<00:02, 10.08it/s]"
          ]
        },
        {
          "output_type": "stream",
          "name": "stdout",
          "text": [
            "train [42/66] LOSS: 1.0898 ACC: 0.3438\n",
            "train [43/66] LOSS: 1.1620 ACC: 0.2812\n",
            "train [44/66] LOSS: 1.0359 ACC: 0.3438\n"
          ]
        },
        {
          "output_type": "stream",
          "name": "stderr",
          "text": [
            "\r 70%|██████▉   | 46/66 [00:15<00:01, 10.06it/s]"
          ]
        },
        {
          "output_type": "stream",
          "name": "stdout",
          "text": [
            "train [45/66] LOSS: 1.0977 ACC: 0.3125\n",
            "train [46/66] LOSS: 1.1260 ACC: 0.3750\n",
            "train [47/66] LOSS: 1.0755 ACC: 0.2500\n"
          ]
        },
        {
          "output_type": "stream",
          "name": "stderr",
          "text": [
            " 76%|███████▌  | 50/66 [00:15<00:01, 10.11it/s]"
          ]
        },
        {
          "output_type": "stream",
          "name": "stdout",
          "text": [
            "train [48/66] LOSS: 1.0284 ACC: 0.5000\n",
            "train [49/66] LOSS: 0.9895 ACC: 0.5625\n",
            "train [50/66] LOSS: 1.0971 ACC: 0.4688\n"
          ]
        },
        {
          "output_type": "stream",
          "name": "stderr",
          "text": [
            "\r 79%|███████▉  | 52/66 [00:16<00:01, 10.09it/s]"
          ]
        },
        {
          "output_type": "stream",
          "name": "stdout",
          "text": [
            "train [51/66] LOSS: 1.1624 ACC: 0.1562\n",
            "train [52/66] LOSS: 1.0312 ACC: 0.5938\n",
            "train [53/66] LOSS: 1.0607 ACC: 0.4375\n"
          ]
        },
        {
          "output_type": "stream",
          "name": "stderr",
          "text": [
            "\r 82%|████████▏ | 54/66 [00:16<00:01, 10.08it/s]"
          ]
        },
        {
          "output_type": "stream",
          "name": "stdout",
          "text": [
            "train [54/66] LOSS: 1.0435 ACC: 0.3438\n",
            "train [55/66] LOSS: 1.0712 ACC: 0.4062\n"
          ]
        },
        {
          "output_type": "stream",
          "name": "stderr",
          "text": [
            " 86%|████████▋ | 57/66 [00:16<00:00,  9.98it/s]"
          ]
        },
        {
          "output_type": "stream",
          "name": "stdout",
          "text": [
            "train [56/66] LOSS: 1.1191 ACC: 0.3438\n",
            "train [57/66] LOSS: 1.0922 ACC: 0.5000\n"
          ]
        },
        {
          "output_type": "stream",
          "name": "stderr",
          "text": [
            " 92%|█████████▏| 61/66 [00:17<00:00, 10.04it/s]"
          ]
        },
        {
          "output_type": "stream",
          "name": "stdout",
          "text": [
            "train [58/66] LOSS: 1.1103 ACC: 0.2812\n",
            "train [59/66] LOSS: 1.0573 ACC: 0.4688\n",
            "train [60/66] LOSS: 1.1328 ACC: 0.3750\n",
            "train [61/66] LOSS: 1.0376 ACC: 0.4062\n"
          ]
        },
        {
          "output_type": "stream",
          "name": "stderr",
          "text": [
            "\r 95%|█████████▌| 63/66 [00:17<00:00, 10.06it/s]"
          ]
        },
        {
          "output_type": "stream",
          "name": "stdout",
          "text": [
            "train [62/66] LOSS: 1.1046 ACC: 0.3438\n",
            "train [63/66] LOSS: 1.1061 ACC: 0.3438\n",
            "train [64/66] LOSS: 1.1287 ACC: 0.3125\n"
          ]
        },
        {
          "output_type": "stream",
          "name": "stderr",
          "text": [
            "\r 98%|█████████▊| 65/66 [00:17<00:00, 10.06it/s]"
          ]
        },
        {
          "output_type": "stream",
          "name": "stdout",
          "text": [
            "train [65/66] LOSS: 1.0443 ACC: 0.3438\n",
            "train [66/66] LOSS: 1.0502 ACC: 0.3500\n"
          ]
        },
        {
          "output_type": "stream",
          "name": "stderr",
          "text": [
            "\r100%|██████████| 66/66 [00:18<00:00,  3.58it/s]\n"
          ]
        },
        {
          "output_type": "stream",
          "name": "stdout",
          "text": [
            "train LOSS: 1.0816 ACC: 0.3838 BEST ACC: 0.4000\n"
          ]
        },
        {
          "output_type": "stream",
          "name": "stderr",
          "text": [
            "100%|██████████| 29/29 [00:09<00:00,  3.20it/s]\n"
          ]
        },
        {
          "output_type": "stream",
          "name": "stdout",
          "text": [
            "val LOSS: 1.1383 ACC: 0.3167 BEST ACC: 0.4022\n",
            "\n",
            "\n",
            "------------------------\n",
            "EPOCH 12/80\n",
            "------------------------\n"
          ]
        },
        {
          "output_type": "stream",
          "name": "stderr",
          "text": [
            "  2%|▏         | 1/66 [00:09<09:45,  9.01s/it]"
          ]
        },
        {
          "output_type": "stream",
          "name": "stdout",
          "text": [
            "train [1/66] LOSS: 1.1421 ACC: 0.3438\n"
          ]
        },
        {
          "output_type": "stream",
          "name": "stderr",
          "text": [
            "  5%|▍         | 3/66 [00:10<02:32,  2.42s/it]"
          ]
        },
        {
          "output_type": "stream",
          "name": "stdout",
          "text": [
            "train [2/66] LOSS: 1.0788 ACC: 0.4375\n",
            "train [3/66] LOSS: 1.0651 ACC: 0.3438\n"
          ]
        },
        {
          "output_type": "stream",
          "name": "stderr",
          "text": [
            "  8%|▊         | 5/66 [00:10<01:03,  1.03s/it]"
          ]
        },
        {
          "output_type": "stream",
          "name": "stdout",
          "text": [
            "train [4/66] LOSS: 1.0154 ACC: 0.4688\n",
            "train [5/66] LOSS: 1.1605 ACC: 0.2500\n"
          ]
        },
        {
          "output_type": "stream",
          "name": "stderr",
          "text": [
            "\r  9%|▉         | 6/66 [00:10<00:44,  1.36it/s]"
          ]
        },
        {
          "output_type": "stream",
          "name": "stdout",
          "text": [
            "train [6/66] LOSS: 1.0844 ACC: 0.3750\n"
          ]
        },
        {
          "output_type": "stream",
          "name": "stderr",
          "text": [
            "\r 11%|█         | 7/66 [00:11<00:35,  1.64it/s]"
          ]
        },
        {
          "output_type": "stream",
          "name": "stdout",
          "text": [
            "train [7/66] LOSS: 1.0917 ACC: 0.3750\n"
          ]
        },
        {
          "output_type": "stream",
          "name": "stderr",
          "text": [
            "\r 12%|█▏        | 8/66 [00:11<00:30,  1.93it/s]"
          ]
        },
        {
          "output_type": "stream",
          "name": "stdout",
          "text": [
            "train [8/66] LOSS: 1.0371 ACC: 0.5000\n"
          ]
        },
        {
          "output_type": "stream",
          "name": "stderr",
          "text": [
            " 15%|█▌        | 10/66 [00:11<00:19,  2.80it/s]"
          ]
        },
        {
          "output_type": "stream",
          "name": "stdout",
          "text": [
            "train [9/66] LOSS: 1.0882 ACC: 0.4062\n",
            "train [10/66] LOSS: 1.1184 ACC: 0.2812\n"
          ]
        },
        {
          "output_type": "stream",
          "name": "stderr",
          "text": [
            " 18%|█▊        | 12/66 [00:11<00:12,  4.46it/s]"
          ]
        },
        {
          "output_type": "stream",
          "name": "stdout",
          "text": [
            "train [11/66] LOSS: 1.0607 ACC: 0.5000\n",
            "train [12/66] LOSS: 1.0114 ACC: 0.4375\n"
          ]
        },
        {
          "output_type": "stream",
          "name": "stderr",
          "text": [
            " 21%|██        | 14/66 [00:12<00:08,  6.18it/s]"
          ]
        },
        {
          "output_type": "stream",
          "name": "stdout",
          "text": [
            "train [13/66] LOSS: 1.1498 ACC: 0.1875\n",
            "train [14/66] LOSS: 1.0725 ACC: 0.2500\n"
          ]
        },
        {
          "output_type": "stream",
          "name": "stderr",
          "text": [
            " 26%|██▌       | 17/66 [00:12<00:06,  7.97it/s]"
          ]
        },
        {
          "output_type": "stream",
          "name": "stdout",
          "text": [
            "train [15/66] LOSS: 1.0812 ACC: 0.3125\n",
            "train [16/66] LOSS: 1.0859 ACC: 0.4062\n",
            "train [17/66] LOSS: 1.0875 ACC: 0.3438\n"
          ]
        },
        {
          "output_type": "stream",
          "name": "stderr",
          "text": [
            " 29%|██▉       | 19/66 [00:12<00:05,  8.75it/s]"
          ]
        },
        {
          "output_type": "stream",
          "name": "stdout",
          "text": [
            "train [18/66] LOSS: 1.1330 ACC: 0.4375\n",
            "train [19/66] LOSS: 1.0776 ACC: 0.3750\n",
            "train [20/66] LOSS: 1.0807 ACC: 0.3125\n"
          ]
        },
        {
          "output_type": "stream",
          "name": "stderr",
          "text": [
            " 35%|███▍      | 23/66 [00:13<00:04,  9.51it/s]"
          ]
        },
        {
          "output_type": "stream",
          "name": "stdout",
          "text": [
            "train [21/66] LOSS: 1.0504 ACC: 0.4688\n",
            "train [22/66] LOSS: 1.0470 ACC: 0.4375\n",
            "train [23/66] LOSS: 1.1248 ACC: 0.3125\n"
          ]
        },
        {
          "output_type": "stream",
          "name": "stderr",
          "text": [
            " 38%|███▊      | 25/66 [00:13<00:04,  9.21it/s]"
          ]
        },
        {
          "output_type": "stream",
          "name": "stdout",
          "text": [
            "train [24/66] LOSS: 1.1305 ACC: 0.3438\n",
            "train [25/66] LOSS: 1.0703 ACC: 0.3438\n"
          ]
        },
        {
          "output_type": "stream",
          "name": "stderr",
          "text": [
            "\r 41%|████      | 27/66 [00:13<00:04,  9.58it/s]"
          ]
        },
        {
          "output_type": "stream",
          "name": "stdout",
          "text": [
            "train [26/66] LOSS: 1.0419 ACC: 0.4375\n",
            "train [27/66] LOSS: 1.0430 ACC: 0.5000\n",
            "train [28/66] LOSS: 1.1277 ACC: 0.2188\n"
          ]
        },
        {
          "output_type": "stream",
          "name": "stderr",
          "text": [
            " 47%|████▋     | 31/66 [00:13<00:03,  9.89it/s]"
          ]
        },
        {
          "output_type": "stream",
          "name": "stdout",
          "text": [
            "train [29/66] LOSS: 1.0747 ACC: 0.3125\n",
            "train [30/66] LOSS: 1.0717 ACC: 0.4062\n",
            "train [31/66] LOSS: 1.1573 ACC: 0.2812\n"
          ]
        },
        {
          "output_type": "stream",
          "name": "stderr",
          "text": [
            " 52%|█████▏    | 34/66 [00:14<00:03,  9.97it/s]"
          ]
        },
        {
          "output_type": "stream",
          "name": "stdout",
          "text": [
            "train [32/66] LOSS: 1.1131 ACC: 0.3750\n",
            "train [33/66] LOSS: 1.0252 ACC: 0.5312\n",
            "train [34/66] LOSS: 1.1059 ACC: 0.2188\n"
          ]
        },
        {
          "output_type": "stream",
          "name": "stderr",
          "text": [
            " 55%|█████▍    | 36/66 [00:14<00:03,  9.87it/s]"
          ]
        },
        {
          "output_type": "stream",
          "name": "stdout",
          "text": [
            "train [35/66] LOSS: 1.0151 ACC: 0.4062\n",
            "train [36/66] LOSS: 1.0585 ACC: 0.4062\n"
          ]
        },
        {
          "output_type": "stream",
          "name": "stderr",
          "text": [
            " 59%|█████▉    | 39/66 [00:14<00:02,  9.94it/s]"
          ]
        },
        {
          "output_type": "stream",
          "name": "stdout",
          "text": [
            "train [37/66] LOSS: 1.0942 ACC: 0.2812\n",
            "train [38/66] LOSS: 1.0632 ACC: 0.3750\n",
            "train [39/66] LOSS: 1.0217 ACC: 0.4688\n"
          ]
        },
        {
          "output_type": "stream",
          "name": "stderr",
          "text": [
            " 64%|██████▎   | 42/66 [00:15<00:02,  9.96it/s]"
          ]
        },
        {
          "output_type": "stream",
          "name": "stdout",
          "text": [
            "train [40/66] LOSS: 1.0704 ACC: 0.4375\n",
            "train [41/66] LOSS: 1.1327 ACC: 0.3125\n",
            "train [42/66] LOSS: 1.0609 ACC: 0.5000\n"
          ]
        },
        {
          "output_type": "stream",
          "name": "stderr",
          "text": [
            " 67%|██████▋   | 44/66 [00:15<00:02,  9.88it/s]"
          ]
        },
        {
          "output_type": "stream",
          "name": "stdout",
          "text": [
            "train [43/66] LOSS: 1.0138 ACC: 0.5312\n",
            "train [44/66] LOSS: 1.0646 ACC: 0.4062\n"
          ]
        },
        {
          "output_type": "stream",
          "name": "stderr",
          "text": [
            " 70%|██████▉   | 46/66 [00:15<00:02,  9.89it/s]"
          ]
        },
        {
          "output_type": "stream",
          "name": "stdout",
          "text": [
            "train [45/66] LOSS: 1.0608 ACC: 0.5000\n",
            "train [46/66] LOSS: 1.1093 ACC: 0.5000\n",
            "train [47/66] LOSS: 1.1228 ACC: 0.3750\n"
          ]
        },
        {
          "output_type": "stream",
          "name": "stderr",
          "text": [
            " 76%|███████▌  | 50/66 [00:15<00:01,  9.98it/s]"
          ]
        },
        {
          "output_type": "stream",
          "name": "stdout",
          "text": [
            "train [48/66] LOSS: 1.0202 ACC: 0.4688\n",
            "train [49/66] LOSS: 1.1511 ACC: 0.3750\n",
            "train [50/66] LOSS: 1.0779 ACC: 0.4062\n"
          ]
        },
        {
          "output_type": "stream",
          "name": "stderr",
          "text": [
            " 80%|████████  | 53/66 [00:16<00:01, 10.08it/s]"
          ]
        },
        {
          "output_type": "stream",
          "name": "stdout",
          "text": [
            "train [51/66] LOSS: 1.0542 ACC: 0.5000\n",
            "train [52/66] LOSS: 1.0490 ACC: 0.3438\n",
            "train [53/66] LOSS: 1.0378 ACC: 0.4688\n"
          ]
        },
        {
          "output_type": "stream",
          "name": "stderr",
          "text": [
            "\r 83%|████████▎ | 55/66 [00:16<00:01, 10.00it/s]"
          ]
        },
        {
          "output_type": "stream",
          "name": "stdout",
          "text": [
            "train [54/66] LOSS: 1.0956 ACC: 0.1875\n",
            "train [55/66] LOSS: 1.0567 ACC: 0.4375\n",
            "train [56/66] LOSS: 1.0323 ACC: 0.3750\n"
          ]
        },
        {
          "output_type": "stream",
          "name": "stderr",
          "text": [
            " 89%|████████▉ | 59/66 [00:16<00:00, 10.05it/s]"
          ]
        },
        {
          "output_type": "stream",
          "name": "stdout",
          "text": [
            "train [57/66] LOSS: 1.0848 ACC: 0.3125\n",
            "train [58/66] LOSS: 0.9987 ACC: 0.6250\n",
            "train [59/66] LOSS: 1.0193 ACC: 0.5312\n"
          ]
        },
        {
          "output_type": "stream",
          "name": "stderr",
          "text": [
            "\r 92%|█████████▏| 61/66 [00:16<00:00, 10.09it/s]"
          ]
        },
        {
          "output_type": "stream",
          "name": "stdout",
          "text": [
            "train [60/66] LOSS: 1.1051 ACC: 0.2500\n",
            "train [61/66] LOSS: 1.0967 ACC: 0.4688\n",
            "train [62/66] LOSS: 1.1575 ACC: 0.3750\n"
          ]
        },
        {
          "output_type": "stream",
          "name": "stderr",
          "text": [
            " 98%|█████████▊| 65/66 [00:17<00:00, 10.11it/s]"
          ]
        },
        {
          "output_type": "stream",
          "name": "stdout",
          "text": [
            "train [63/66] LOSS: 1.0199 ACC: 0.4375\n",
            "train [64/66] LOSS: 1.0912 ACC: 0.3438\n",
            "train [65/66] LOSS: 1.0800 ACC: 0.2812\n",
            "train [66/66] LOSS: 1.0907 ACC: 0.4000\n"
          ]
        },
        {
          "output_type": "stream",
          "name": "stderr",
          "text": [
            "\r100%|██████████| 66/66 [00:18<00:00,  3.61it/s]\n"
          ]
        },
        {
          "output_type": "stream",
          "name": "stdout",
          "text": [
            "train LOSS: 1.0775 ACC: 0.3881 BEST ACC: 0.4000\n"
          ]
        },
        {
          "output_type": "stream",
          "name": "stderr",
          "text": [
            "100%|██████████| 29/29 [00:09<00:00,  3.19it/s]\n"
          ]
        },
        {
          "output_type": "stream",
          "name": "stdout",
          "text": [
            "val LOSS: 1.1064 ACC: 0.3611 BEST ACC: 0.4022\n",
            "\n",
            "\n",
            "------------------------\n",
            "EPOCH 13/80\n",
            "------------------------\n"
          ]
        },
        {
          "output_type": "stream",
          "name": "stderr",
          "text": [
            "  3%|▎         | 2/66 [00:10<04:30,  4.22s/it]"
          ]
        },
        {
          "output_type": "stream",
          "name": "stdout",
          "text": [
            "train [1/66] LOSS: 1.0143 ACC: 0.5938\n",
            "train [2/66] LOSS: 1.0540 ACC: 0.3750\n"
          ]
        },
        {
          "output_type": "stream",
          "name": "stderr",
          "text": [
            "\r  5%|▍         | 3/66 [00:10<02:36,  2.48s/it]"
          ]
        },
        {
          "output_type": "stream",
          "name": "stdout",
          "text": [
            "train [3/66] LOSS: 1.0035 ACC: 0.4062\n"
          ]
        },
        {
          "output_type": "stream",
          "name": "stderr",
          "text": [
            "  8%|▊         | 5/66 [00:11<01:06,  1.09s/it]"
          ]
        },
        {
          "output_type": "stream",
          "name": "stdout",
          "text": [
            "train [4/66] LOSS: 1.0682 ACC: 0.5312\n",
            "train [5/66] LOSS: 1.0323 ACC: 0.3438\n"
          ]
        },
        {
          "output_type": "stream",
          "name": "stderr",
          "text": [
            " 11%|█         | 7/66 [00:11<00:39,  1.50it/s]"
          ]
        },
        {
          "output_type": "stream",
          "name": "stdout",
          "text": [
            "train [6/66] LOSS: 1.0558 ACC: 0.4062\n",
            "train [7/66] LOSS: 0.9810 ACC: 0.5312\n"
          ]
        },
        {
          "output_type": "stream",
          "name": "stderr",
          "text": [
            "\r 12%|█▏        | 8/66 [00:11<00:28,  2.02it/s]"
          ]
        },
        {
          "output_type": "stream",
          "name": "stdout",
          "text": [
            "train [8/66] LOSS: 1.1287 ACC: 0.3125\n",
            "train [9/66] LOSS: 0.9580 ACC: 0.6250\n"
          ]
        },
        {
          "output_type": "stream",
          "name": "stderr",
          "text": [
            " 17%|█▋        | 11/66 [00:12<00:14,  3.90it/s]"
          ]
        },
        {
          "output_type": "stream",
          "name": "stdout",
          "text": [
            "train [10/66] LOSS: 1.0286 ACC: 0.3750\n",
            "train [11/66] LOSS: 1.0111 ACC: 0.5000\n"
          ]
        },
        {
          "output_type": "stream",
          "name": "stderr",
          "text": [
            "\r 20%|█▉        | 13/66 [00:12<00:10,  5.21it/s]"
          ]
        },
        {
          "output_type": "stream",
          "name": "stdout",
          "text": [
            "train [12/66] LOSS: 1.0326 ACC: 0.4062\n",
            "train [13/66] LOSS: 1.1804 ACC: 0.4062\n"
          ]
        },
        {
          "output_type": "stream",
          "name": "stderr",
          "text": [
            " 23%|██▎       | 15/66 [00:12<00:07,  6.52it/s]"
          ]
        },
        {
          "output_type": "stream",
          "name": "stdout",
          "text": [
            "train [14/66] LOSS: 1.2167 ACC: 0.3438\n",
            "train [15/66] LOSS: 0.9923 ACC: 0.5312\n"
          ]
        },
        {
          "output_type": "stream",
          "name": "stderr",
          "text": [
            " 26%|██▌       | 17/66 [00:12<00:06,  7.72it/s]"
          ]
        },
        {
          "output_type": "stream",
          "name": "stdout",
          "text": [
            "train [16/66] LOSS: 1.0513 ACC: 0.3438\n",
            "train [17/66] LOSS: 0.9927 ACC: 0.5938\n"
          ]
        },
        {
          "output_type": "stream",
          "name": "stderr",
          "text": [
            "\r 27%|██▋       | 18/66 [00:12<00:05,  8.23it/s]"
          ]
        },
        {
          "output_type": "stream",
          "name": "stdout",
          "text": [
            "train [18/66] LOSS: 1.1124 ACC: 0.3125\n",
            "train [19/66] LOSS: 1.0984 ACC: 0.2812\n"
          ]
        },
        {
          "output_type": "stream",
          "name": "stderr",
          "text": [
            " 33%|███▎      | 22/66 [00:13<00:04,  9.19it/s]"
          ]
        },
        {
          "output_type": "stream",
          "name": "stdout",
          "text": [
            "train [20/66] LOSS: 1.1319 ACC: 0.4062\n",
            "train [21/66] LOSS: 1.1155 ACC: 0.3438\n",
            "train [22/66] LOSS: 0.9947 ACC: 0.4375\n"
          ]
        },
        {
          "output_type": "stream",
          "name": "stderr",
          "text": [
            " 38%|███▊      | 25/66 [00:13<00:04,  9.57it/s]"
          ]
        },
        {
          "output_type": "stream",
          "name": "stdout",
          "text": [
            "train [23/66] LOSS: 1.0826 ACC: 0.3125\n",
            "train [24/66] LOSS: 1.1355 ACC: 0.2500\n",
            "train [25/66] LOSS: 1.1071 ACC: 0.3438\n"
          ]
        },
        {
          "output_type": "stream",
          "name": "stderr",
          "text": [
            " 42%|████▏     | 28/66 [00:13<00:03,  9.83it/s]"
          ]
        },
        {
          "output_type": "stream",
          "name": "stdout",
          "text": [
            "train [26/66] LOSS: 1.0561 ACC: 0.5625\n",
            "train [27/66] LOSS: 1.0969 ACC: 0.3750\n",
            "train [28/66] LOSS: 1.0756 ACC: 0.4062\n"
          ]
        },
        {
          "output_type": "stream",
          "name": "stderr",
          "text": [
            " 45%|████▌     | 30/66 [00:14<00:03,  9.84it/s]"
          ]
        },
        {
          "output_type": "stream",
          "name": "stdout",
          "text": [
            "train [29/66] LOSS: 1.0781 ACC: 0.3750\n",
            "train [30/66] LOSS: 1.0161 ACC: 0.5938\n",
            "train [31/66] LOSS: 1.0564 ACC: 0.2500\n"
          ]
        },
        {
          "output_type": "stream",
          "name": "stderr",
          "text": [
            " 52%|█████▏    | 34/66 [00:14<00:03, 10.04it/s]"
          ]
        },
        {
          "output_type": "stream",
          "name": "stdout",
          "text": [
            "train [32/66] LOSS: 1.0569 ACC: 0.4688\n",
            "train [33/66] LOSS: 1.0713 ACC: 0.4375\n",
            "train [34/66] LOSS: 1.0274 ACC: 0.5000\n"
          ]
        },
        {
          "output_type": "stream",
          "name": "stderr",
          "text": [
            "\r 55%|█████▍    | 36/66 [00:14<00:02, 10.02it/s]"
          ]
        },
        {
          "output_type": "stream",
          "name": "stdout",
          "text": [
            "train [35/66] LOSS: 1.1074 ACC: 0.4688\n",
            "train [36/66] LOSS: 1.1725 ACC: 0.2500\n"
          ]
        },
        {
          "output_type": "stream",
          "name": "stderr",
          "text": [
            " 59%|█████▉    | 39/66 [00:15<00:02,  9.86it/s]"
          ]
        },
        {
          "output_type": "stream",
          "name": "stdout",
          "text": [
            "train [37/66] LOSS: 1.0430 ACC: 0.4688\n",
            "train [38/66] LOSS: 1.0889 ACC: 0.4062\n",
            "train [39/66] LOSS: 1.0760 ACC: 0.5000\n"
          ]
        },
        {
          "output_type": "stream",
          "name": "stderr",
          "text": [
            " 64%|██████▎   | 42/66 [00:15<00:02,  9.98it/s]"
          ]
        },
        {
          "output_type": "stream",
          "name": "stdout",
          "text": [
            "train [40/66] LOSS: 1.0348 ACC: 0.5000\n",
            "train [41/66] LOSS: 1.0963 ACC: 0.3125\n",
            "train [42/66] LOSS: 1.1340 ACC: 0.4062\n"
          ]
        },
        {
          "output_type": "stream",
          "name": "stderr",
          "text": [
            " 67%|██████▋   | 44/66 [00:15<00:02,  9.94it/s]"
          ]
        },
        {
          "output_type": "stream",
          "name": "stdout",
          "text": [
            "train [43/66] LOSS: 1.1035 ACC: 0.3438\n",
            "train [44/66] LOSS: 1.0414 ACC: 0.5000\n",
            "train [45/66] LOSS: 1.1018 ACC: 0.3750\n"
          ]
        },
        {
          "output_type": "stream",
          "name": "stderr",
          "text": [
            " 73%|███████▎  | 48/66 [00:15<00:01, 10.05it/s]"
          ]
        },
        {
          "output_type": "stream",
          "name": "stdout",
          "text": [
            "train [46/66] LOSS: 1.0940 ACC: 0.3750\n",
            "train [47/66] LOSS: 1.0510 ACC: 0.4375\n",
            "train [48/66] LOSS: 1.0966 ACC: 0.4375\n"
          ]
        },
        {
          "output_type": "stream",
          "name": "stderr",
          "text": [
            "\r 76%|███████▌  | 50/66 [00:16<00:01, 10.08it/s]"
          ]
        },
        {
          "output_type": "stream",
          "name": "stdout",
          "text": [
            "train [49/66] LOSS: 1.1520 ACC: 0.2500\n",
            "train [50/66] LOSS: 1.1192 ACC: 0.2812\n",
            "train [51/66] LOSS: 1.1014 ACC: 0.4062\n"
          ]
        },
        {
          "output_type": "stream",
          "name": "stderr",
          "text": [
            " 82%|████████▏ | 54/66 [00:16<00:01, 10.09it/s]"
          ]
        },
        {
          "output_type": "stream",
          "name": "stdout",
          "text": [
            "train [52/66] LOSS: 1.0605 ACC: 0.4688\n",
            "train [53/66] LOSS: 1.0633 ACC: 0.4375\n",
            "train [54/66] LOSS: 1.1233 ACC: 0.2500\n"
          ]
        },
        {
          "output_type": "stream",
          "name": "stderr",
          "text": [
            "\r 85%|████████▍ | 56/66 [00:16<00:00, 10.09it/s]"
          ]
        },
        {
          "output_type": "stream",
          "name": "stdout",
          "text": [
            "train [55/66] LOSS: 1.0696 ACC: 0.3750\n",
            "train [56/66] LOSS: 1.0681 ACC: 0.3750\n",
            "train [57/66] LOSS: 1.1088 ACC: 0.3125\n"
          ]
        },
        {
          "output_type": "stream",
          "name": "stderr",
          "text": [
            " 91%|█████████ | 60/66 [00:17<00:00, 10.12it/s]"
          ]
        },
        {
          "output_type": "stream",
          "name": "stdout",
          "text": [
            "train [58/66] LOSS: 1.1036 ACC: 0.3750\n",
            "train [59/66] LOSS: 1.0976 ACC: 0.3750\n",
            "train [60/66] LOSS: 1.1271 ACC: 0.2188\n"
          ]
        },
        {
          "output_type": "stream",
          "name": "stderr",
          "text": [
            "\r 94%|█████████▍| 62/66 [00:17<00:00, 10.12it/s]"
          ]
        },
        {
          "output_type": "stream",
          "name": "stdout",
          "text": [
            "train [61/66] LOSS: 1.0725 ACC: 0.2812\n",
            "train [62/66] LOSS: 1.0744 ACC: 0.3438\n",
            "train [63/66] LOSS: 1.0586 ACC: 0.5312\n"
          ]
        },
        {
          "output_type": "stream",
          "name": "stderr",
          "text": [
            "100%|██████████| 66/66 [00:17<00:00, 10.44it/s]"
          ]
        },
        {
          "output_type": "stream",
          "name": "stdout",
          "text": [
            "train [64/66] LOSS: 1.0700 ACC: 0.4062\n",
            "train [65/66] LOSS: 1.0568 ACC: 0.4062\n",
            "train [66/66] LOSS: 1.0326 ACC: 0.6000\n"
          ]
        },
        {
          "output_type": "stream",
          "name": "stderr",
          "text": [
            "\r100%|██████████| 66/66 [00:18<00:00,  3.55it/s]\n"
          ]
        },
        {
          "output_type": "stream",
          "name": "stdout",
          "text": [
            "train LOSS: 1.0745 ACC: 0.4043 BEST ACC: 0.4043\n"
          ]
        },
        {
          "output_type": "stream",
          "name": "stderr",
          "text": [
            "100%|██████████| 29/29 [00:09<00:00,  3.19it/s]\n"
          ]
        },
        {
          "output_type": "stream",
          "name": "stdout",
          "text": [
            "val LOSS: 1.2360 ACC: 0.3944 BEST ACC: 0.4022\n",
            "\n",
            "\n",
            "------------------------\n",
            "EPOCH 14/80\n",
            "------------------------\n"
          ]
        },
        {
          "output_type": "stream",
          "name": "stderr",
          "text": [
            "  2%|▏         | 1/66 [00:09<10:47,  9.97s/it]"
          ]
        },
        {
          "output_type": "stream",
          "name": "stdout",
          "text": [
            "train [1/66] LOSS: 1.1021 ACC: 0.3125\n"
          ]
        },
        {
          "output_type": "stream",
          "name": "stderr",
          "text": [
            "  5%|▍         | 3/66 [00:10<02:30,  2.39s/it]"
          ]
        },
        {
          "output_type": "stream",
          "name": "stdout",
          "text": [
            "train [2/66] LOSS: 1.0405 ACC: 0.3750\n",
            "train [3/66] LOSS: 1.0499 ACC: 0.4375\n"
          ]
        },
        {
          "output_type": "stream",
          "name": "stderr",
          "text": [
            "  8%|▊         | 5/66 [00:10<01:00,  1.01it/s]"
          ]
        },
        {
          "output_type": "stream",
          "name": "stdout",
          "text": [
            "train [4/66] LOSS: 1.1111 ACC: 0.3125\n",
            "train [5/66] LOSS: 1.0202 ACC: 0.4062\n"
          ]
        },
        {
          "output_type": "stream",
          "name": "stderr",
          "text": [
            " 11%|█         | 7/66 [00:11<00:33,  1.79it/s]"
          ]
        },
        {
          "output_type": "stream",
          "name": "stdout",
          "text": [
            "train [6/66] LOSS: 1.0269 ACC: 0.5000\n",
            "train [7/66] LOSS: 1.0149 ACC: 0.5312\n"
          ]
        },
        {
          "output_type": "stream",
          "name": "stderr",
          "text": [
            "\r 12%|█▏        | 8/66 [00:11<00:27,  2.11it/s]"
          ]
        },
        {
          "output_type": "stream",
          "name": "stdout",
          "text": [
            "train [8/66] LOSS: 1.1096 ACC: 0.5000\n"
          ]
        },
        {
          "output_type": "stream",
          "name": "stderr",
          "text": [
            " 15%|█▌        | 10/66 [00:11<00:19,  2.90it/s]"
          ]
        },
        {
          "output_type": "stream",
          "name": "stdout",
          "text": [
            "train [9/66] LOSS: 1.1567 ACC: 0.3125\n",
            "train [10/66] LOSS: 1.0572 ACC: 0.3750\n"
          ]
        },
        {
          "output_type": "stream",
          "name": "stderr",
          "text": [
            " 18%|█▊        | 12/66 [00:12<00:12,  4.28it/s]"
          ]
        },
        {
          "output_type": "stream",
          "name": "stdout",
          "text": [
            "train [11/66] LOSS: 0.9502 ACC: 0.5625\n",
            "train [12/66] LOSS: 1.0849 ACC: 0.5000\n"
          ]
        },
        {
          "output_type": "stream",
          "name": "stderr",
          "text": [
            " 23%|██▎       | 15/66 [00:12<00:07,  6.68it/s]"
          ]
        },
        {
          "output_type": "stream",
          "name": "stdout",
          "text": [
            "train [13/66] LOSS: 1.0864 ACC: 0.5312\n",
            "train [14/66] LOSS: 0.9547 ACC: 0.5625\n",
            "train [15/66] LOSS: 1.1107 ACC: 0.3125\n"
          ]
        },
        {
          "output_type": "stream",
          "name": "stderr",
          "text": [
            " 27%|██▋       | 18/66 [00:12<00:05,  8.24it/s]"
          ]
        },
        {
          "output_type": "stream",
          "name": "stdout",
          "text": [
            "train [16/66] LOSS: 1.0592 ACC: 0.4375\n",
            "train [17/66] LOSS: 1.0033 ACC: 0.4062\n",
            "train [18/66] LOSS: 1.0686 ACC: 0.4375\n"
          ]
        },
        {
          "output_type": "stream",
          "name": "stderr",
          "text": [
            " 32%|███▏      | 21/66 [00:12<00:04,  9.15it/s]"
          ]
        },
        {
          "output_type": "stream",
          "name": "stdout",
          "text": [
            "train [19/66] LOSS: 1.0413 ACC: 0.4375\n",
            "train [20/66] LOSS: 1.1208 ACC: 0.3125\n",
            "train [21/66] LOSS: 1.0841 ACC: 0.4688\n"
          ]
        },
        {
          "output_type": "stream",
          "name": "stderr",
          "text": [
            " 35%|███▍      | 23/66 [00:13<00:04,  9.41it/s]"
          ]
        },
        {
          "output_type": "stream",
          "name": "stdout",
          "text": [
            "train [22/66] LOSS: 0.9972 ACC: 0.4375\n",
            "train [23/66] LOSS: 1.1167 ACC: 0.3750\n",
            "train [24/66] LOSS: 1.0550 ACC: 0.4688\n"
          ]
        },
        {
          "output_type": "stream",
          "name": "stderr",
          "text": [
            "\r 38%|███▊      | 25/66 [00:13<00:04,  9.69it/s]"
          ]
        },
        {
          "output_type": "stream",
          "name": "stdout",
          "text": [
            "train [25/66] LOSS: 1.0657 ACC: 0.3750\n",
            "train [26/66] LOSS: 1.0542 ACC: 0.5312\n"
          ]
        },
        {
          "output_type": "stream",
          "name": "stderr",
          "text": [
            " 42%|████▏     | 28/66 [00:13<00:03,  9.73it/s]"
          ]
        },
        {
          "output_type": "stream",
          "name": "stdout",
          "text": [
            "train [27/66] LOSS: 1.0451 ACC: 0.4062\n",
            "train [28/66] LOSS: 1.1008 ACC: 0.4688\n",
            "train [29/66] LOSS: 1.1087 ACC: 0.4375\n"
          ]
        },
        {
          "output_type": "stream",
          "name": "stderr",
          "text": [
            " 48%|████▊     | 32/66 [00:14<00:03,  9.97it/s]"
          ]
        },
        {
          "output_type": "stream",
          "name": "stdout",
          "text": [
            "train [30/66] LOSS: 1.1365 ACC: 0.1562\n",
            "train [31/66] LOSS: 1.0997 ACC: 0.4062\n",
            "train [32/66] LOSS: 1.1029 ACC: 0.4375\n"
          ]
        },
        {
          "output_type": "stream",
          "name": "stderr",
          "text": [
            " 52%|█████▏    | 34/66 [00:14<00:03,  9.78it/s]"
          ]
        },
        {
          "output_type": "stream",
          "name": "stdout",
          "text": [
            "train [33/66] LOSS: 1.2002 ACC: 0.1562\n",
            "train [34/66] LOSS: 1.0893 ACC: 0.3438\n"
          ]
        },
        {
          "output_type": "stream",
          "name": "stderr",
          "text": [
            "\r 53%|█████▎    | 35/66 [00:14<00:03,  9.82it/s]"
          ]
        },
        {
          "output_type": "stream",
          "name": "stdout",
          "text": [
            "train [35/66] LOSS: 1.0645 ACC: 0.3125\n",
            "train [36/66] LOSS: 1.0954 ACC: 0.2812\n"
          ]
        },
        {
          "output_type": "stream",
          "name": "stderr",
          "text": [
            " 58%|█████▊    | 38/66 [00:14<00:02,  9.81it/s]"
          ]
        },
        {
          "output_type": "stream",
          "name": "stdout",
          "text": [
            "train [37/66] LOSS: 1.0972 ACC: 0.4062\n",
            "train [38/66] LOSS: 1.0769 ACC: 0.4375\n",
            "train [39/66] LOSS: 1.1008 ACC: 0.4062\n"
          ]
        },
        {
          "output_type": "stream",
          "name": "stderr",
          "text": [
            " 64%|██████▎   | 42/66 [00:15<00:02,  9.93it/s]"
          ]
        },
        {
          "output_type": "stream",
          "name": "stdout",
          "text": [
            "train [40/66] LOSS: 1.0884 ACC: 0.3438\n",
            "train [41/66] LOSS: 1.0808 ACC: 0.3438\n",
            "train [42/66] LOSS: 1.0886 ACC: 0.4062\n"
          ]
        },
        {
          "output_type": "stream",
          "name": "stderr",
          "text": [
            " 68%|██████▊   | 45/66 [00:15<00:02,  9.94it/s]"
          ]
        },
        {
          "output_type": "stream",
          "name": "stdout",
          "text": [
            "train [43/66] LOSS: 1.0808 ACC: 0.4062\n",
            "train [44/66] LOSS: 1.0778 ACC: 0.4062\n",
            "train [45/66] LOSS: 1.0786 ACC: 0.3750\n"
          ]
        },
        {
          "output_type": "stream",
          "name": "stderr",
          "text": [
            "\r 71%|███████   | 47/66 [00:15<00:01, 10.02it/s]"
          ]
        },
        {
          "output_type": "stream",
          "name": "stdout",
          "text": [
            "train [46/66] LOSS: 1.0617 ACC: 0.5000\n",
            "train [47/66] LOSS: 1.0677 ACC: 0.3750\n",
            "train [48/66] LOSS: 1.1101 ACC: 0.2500\n"
          ]
        },
        {
          "output_type": "stream",
          "name": "stderr",
          "text": [
            " 77%|███████▋  | 51/66 [00:16<00:01, 10.11it/s]"
          ]
        },
        {
          "output_type": "stream",
          "name": "stdout",
          "text": [
            "train [49/66] LOSS: 1.0859 ACC: 0.4062\n",
            "train [50/66] LOSS: 1.0437 ACC: 0.3438\n",
            "train [51/66] LOSS: 1.0137 ACC: 0.5312\n"
          ]
        },
        {
          "output_type": "stream",
          "name": "stderr",
          "text": [
            "\r 80%|████████  | 53/66 [00:16<00:01, 10.11it/s]"
          ]
        },
        {
          "output_type": "stream",
          "name": "stdout",
          "text": [
            "train [52/66] LOSS: 1.0528 ACC: 0.4062\n",
            "train [53/66] LOSS: 1.0610 ACC: 0.4062\n",
            "train [54/66] LOSS: 1.0424 ACC: 0.4062\n"
          ]
        },
        {
          "output_type": "stream",
          "name": "stderr",
          "text": [
            " 86%|████████▋ | 57/66 [00:16<00:00, 10.12it/s]"
          ]
        },
        {
          "output_type": "stream",
          "name": "stdout",
          "text": [
            "train [55/66] LOSS: 1.0159 ACC: 0.5312\n",
            "train [56/66] LOSS: 1.0092 ACC: 0.3750\n",
            "train [57/66] LOSS: 1.0812 ACC: 0.4688\n"
          ]
        },
        {
          "output_type": "stream",
          "name": "stderr",
          "text": [
            "\r 89%|████████▉ | 59/66 [00:16<00:00, 10.13it/s]"
          ]
        },
        {
          "output_type": "stream",
          "name": "stdout",
          "text": [
            "train [58/66] LOSS: 1.0197 ACC: 0.5000\n",
            "train [59/66] LOSS: 1.1630 ACC: 0.3125\n",
            "train [60/66] LOSS: 1.0732 ACC: 0.4688\n"
          ]
        },
        {
          "output_type": "stream",
          "name": "stderr",
          "text": [
            " 95%|█████████▌| 63/66 [00:17<00:00, 10.10it/s]"
          ]
        },
        {
          "output_type": "stream",
          "name": "stdout",
          "text": [
            "train [61/66] LOSS: 1.1619 ACC: 0.2812\n",
            "train [62/66] LOSS: 1.0958 ACC: 0.3750\n",
            "train [63/66] LOSS: 1.0522 ACC: 0.3438\n"
          ]
        },
        {
          "output_type": "stream",
          "name": "stderr",
          "text": [
            "\r 98%|█████████▊| 65/66 [00:17<00:00, 10.08it/s]"
          ]
        },
        {
          "output_type": "stream",
          "name": "stdout",
          "text": [
            "train [64/66] LOSS: 1.0795 ACC: 0.4062\n",
            "train [65/66] LOSS: 1.1139 ACC: 0.4062\n",
            "train [66/66] LOSS: 1.1184 ACC: 0.3000\n"
          ]
        },
        {
          "output_type": "stream",
          "name": "stderr",
          "text": [
            "\r100%|██████████| 66/66 [00:18<00:00,  3.59it/s]\n"
          ]
        },
        {
          "output_type": "stream",
          "name": "stdout",
          "text": [
            "train LOSS: 1.0739 ACC: 0.4029 BEST ACC: 0.4043\n"
          ]
        },
        {
          "output_type": "stream",
          "name": "stderr",
          "text": [
            "100%|██████████| 29/29 [00:09<00:00,  3.19it/s]\n"
          ]
        },
        {
          "output_type": "stream",
          "name": "stdout",
          "text": [
            "val LOSS: 1.5284 ACC: 0.3911 BEST ACC: 0.4022\n",
            "\n",
            "\n",
            "------------------------\n",
            "EPOCH 15/80\n",
            "------------------------\n"
          ]
        },
        {
          "output_type": "stream",
          "name": "stderr",
          "text": [
            "  3%|▎         | 2/66 [00:11<04:52,  4.57s/it]"
          ]
        },
        {
          "output_type": "stream",
          "name": "stdout",
          "text": [
            "train [1/66] LOSS: 0.9779 ACC: 0.5625\n",
            "train [2/66] LOSS: 1.0778 ACC: 0.1875\n"
          ]
        },
        {
          "output_type": "stream",
          "name": "stderr",
          "text": [
            "  6%|▌         | 4/66 [00:11<01:39,  1.61s/it]"
          ]
        },
        {
          "output_type": "stream",
          "name": "stdout",
          "text": [
            "train [3/66] LOSS: 0.9967 ACC: 0.6562\n",
            "train [4/66] LOSS: 1.1362 ACC: 0.4375\n"
          ]
        },
        {
          "output_type": "stream",
          "name": "stderr",
          "text": [
            "\r  8%|▊         | 5/66 [00:11<01:06,  1.10s/it]"
          ]
        },
        {
          "output_type": "stream",
          "name": "stdout",
          "text": [
            "train [5/66] LOSS: 1.0743 ACC: 0.3438\n"
          ]
        },
        {
          "output_type": "stream",
          "name": "stderr",
          "text": [
            " 11%|█         | 7/66 [00:11<00:34,  1.69it/s]"
          ]
        },
        {
          "output_type": "stream",
          "name": "stdout",
          "text": [
            "train [6/66] LOSS: 1.0980 ACC: 0.4062\n",
            "train [7/66] LOSS: 1.0681 ACC: 0.3125\n"
          ]
        },
        {
          "output_type": "stream",
          "name": "stderr",
          "text": [
            " 14%|█▎        | 9/66 [00:12<00:18,  3.01it/s]"
          ]
        },
        {
          "output_type": "stream",
          "name": "stdout",
          "text": [
            "train [8/66] LOSS: 1.1018 ACC: 0.3125\n",
            "train [9/66] LOSS: 1.0848 ACC: 0.4062\n"
          ]
        },
        {
          "output_type": "stream",
          "name": "stderr",
          "text": [
            " 17%|█▋        | 11/66 [00:12<00:11,  4.63it/s]"
          ]
        },
        {
          "output_type": "stream",
          "name": "stdout",
          "text": [
            "train [10/66] LOSS: 1.0852 ACC: 0.2812\n",
            "train [11/66] LOSS: 1.0662 ACC: 0.4062\n"
          ]
        },
        {
          "output_type": "stream",
          "name": "stderr",
          "text": [
            "\r 20%|█▉        | 13/66 [00:12<00:08,  6.21it/s]"
          ]
        },
        {
          "output_type": "stream",
          "name": "stdout",
          "text": [
            "train [12/66] LOSS: 1.1427 ACC: 0.4062\n",
            "train [13/66] LOSS: 1.0168 ACC: 0.4375\n",
            "train [14/66] LOSS: 1.0635 ACC: 0.3438\n"
          ]
        },
        {
          "output_type": "stream",
          "name": "stderr",
          "text": [
            "\r 23%|██▎       | 15/66 [00:12<00:06,  7.36it/s]"
          ]
        },
        {
          "output_type": "stream",
          "name": "stdout",
          "text": [
            "train [15/66] LOSS: 1.0546 ACC: 0.4062\n",
            "train [16/66] LOSS: 1.0759 ACC: 0.3750\n"
          ]
        },
        {
          "output_type": "stream",
          "name": "stderr",
          "text": [
            " 29%|██▉       | 19/66 [00:13<00:05,  8.50it/s]"
          ]
        },
        {
          "output_type": "stream",
          "name": "stdout",
          "text": [
            "train [17/66] LOSS: 1.1570 ACC: 0.4062\n",
            "train [18/66] LOSS: 1.0707 ACC: 0.5000\n",
            "train [19/66] LOSS: 1.0420 ACC: 0.3438\n"
          ]
        },
        {
          "output_type": "stream",
          "name": "stderr",
          "text": [
            " 32%|███▏      | 21/66 [00:13<00:05,  8.99it/s]"
          ]
        },
        {
          "output_type": "stream",
          "name": "stdout",
          "text": [
            "train [20/66] LOSS: 1.0923 ACC: 0.2500\n",
            "train [21/66] LOSS: 1.0381 ACC: 0.4375\n"
          ]
        },
        {
          "output_type": "stream",
          "name": "stderr",
          "text": [
            " 36%|███▋      | 24/66 [00:13<00:04,  9.55it/s]"
          ]
        },
        {
          "output_type": "stream",
          "name": "stdout",
          "text": [
            "train [22/66] LOSS: 1.0553 ACC: 0.4062\n",
            "train [23/66] LOSS: 1.0935 ACC: 0.4375\n",
            "train [24/66] LOSS: 1.0020 ACC: 0.3125\n"
          ]
        },
        {
          "output_type": "stream",
          "name": "stderr",
          "text": [
            " 39%|███▉      | 26/66 [00:13<00:04,  9.68it/s]"
          ]
        },
        {
          "output_type": "stream",
          "name": "stdout",
          "text": [
            "train [25/66] LOSS: 1.0278 ACC: 0.3438\n",
            "train [26/66] LOSS: 1.0806 ACC: 0.4375\n",
            "train [27/66] LOSS: 1.1244 ACC: 0.3438\n"
          ]
        },
        {
          "output_type": "stream",
          "name": "stderr",
          "text": [
            " 45%|████▌     | 30/66 [00:14<00:03,  9.90it/s]"
          ]
        },
        {
          "output_type": "stream",
          "name": "stdout",
          "text": [
            "train [28/66] LOSS: 1.0767 ACC: 0.3125\n",
            "train [29/66] LOSS: 1.1249 ACC: 0.3438\n",
            "train [30/66] LOSS: 1.0429 ACC: 0.5625\n"
          ]
        },
        {
          "output_type": "stream",
          "name": "stderr",
          "text": [
            " 48%|████▊     | 32/66 [00:14<00:03,  9.91it/s]"
          ]
        },
        {
          "output_type": "stream",
          "name": "stdout",
          "text": [
            "train [31/66] LOSS: 1.0582 ACC: 0.4062\n",
            "train [32/66] LOSS: 1.0920 ACC: 0.3750\n"
          ]
        },
        {
          "output_type": "stream",
          "name": "stderr",
          "text": [
            " 52%|█████▏    | 34/66 [00:14<00:03,  9.80it/s]"
          ]
        },
        {
          "output_type": "stream",
          "name": "stdout",
          "text": [
            "train [33/66] LOSS: 1.0733 ACC: 0.4375\n",
            "train [34/66] LOSS: 1.1610 ACC: 0.2500\n"
          ]
        },
        {
          "output_type": "stream",
          "name": "stderr",
          "text": [
            " 55%|█████▍    | 36/66 [00:14<00:03,  9.90it/s]"
          ]
        },
        {
          "output_type": "stream",
          "name": "stdout",
          "text": [
            "train [35/66] LOSS: 1.0534 ACC: 0.4062\n",
            "train [36/66] LOSS: 1.0711 ACC: 0.4688\n",
            "train [37/66] LOSS: 1.0801 ACC: 0.1562\n"
          ]
        },
        {
          "output_type": "stream",
          "name": "stderr",
          "text": [
            " 61%|██████    | 40/66 [00:15<00:02, 10.07it/s]"
          ]
        },
        {
          "output_type": "stream",
          "name": "stdout",
          "text": [
            "train [38/66] LOSS: 1.0149 ACC: 0.4062\n",
            "train [39/66] LOSS: 1.0463 ACC: 0.4688\n",
            "train [40/66] LOSS: 1.0507 ACC: 0.4375\n"
          ]
        },
        {
          "output_type": "stream",
          "name": "stderr",
          "text": [
            "\r 64%|██████▎   | 42/66 [00:15<00:02, 10.06it/s]"
          ]
        },
        {
          "output_type": "stream",
          "name": "stdout",
          "text": [
            "train [41/66] LOSS: 1.0437 ACC: 0.5312\n",
            "train [42/66] LOSS: 1.1452 ACC: 0.3125\n",
            "train [43/66] LOSS: 1.0900 ACC: 0.4688\n"
          ]
        },
        {
          "output_type": "stream",
          "name": "stderr",
          "text": [
            " 70%|██████▉   | 46/66 [00:15<00:01, 10.08it/s]"
          ]
        },
        {
          "output_type": "stream",
          "name": "stdout",
          "text": [
            "train [44/66] LOSS: 1.1212 ACC: 0.3125\n",
            "train [45/66] LOSS: 1.1222 ACC: 0.4062\n",
            "train [46/66] LOSS: 1.0503 ACC: 0.4688\n"
          ]
        },
        {
          "output_type": "stream",
          "name": "stderr",
          "text": [
            "\r 73%|███████▎  | 48/66 [00:16<00:01, 10.03it/s]"
          ]
        },
        {
          "output_type": "stream",
          "name": "stdout",
          "text": [
            "train [47/66] LOSS: 1.0537 ACC: 0.4375\n",
            "train [48/66] LOSS: 1.0776 ACC: 0.3125\n",
            "train [49/66] LOSS: 1.1337 ACC: 0.2812\n"
          ]
        },
        {
          "output_type": "stream",
          "name": "stderr",
          "text": [
            " 79%|███████▉  | 52/66 [00:16<00:01, 10.09it/s]"
          ]
        },
        {
          "output_type": "stream",
          "name": "stdout",
          "text": [
            "train [50/66] LOSS: 1.1148 ACC: 0.2188\n",
            "train [51/66] LOSS: 1.0711 ACC: 0.3750\n",
            "train [52/66] LOSS: 1.1307 ACC: 0.2500\n"
          ]
        },
        {
          "output_type": "stream",
          "name": "stderr",
          "text": [
            "\r 82%|████████▏ | 54/66 [00:16<00:01, 10.06it/s]"
          ]
        },
        {
          "output_type": "stream",
          "name": "stdout",
          "text": [
            "train [53/66] LOSS: 1.0403 ACC: 0.5000\n",
            "train [54/66] LOSS: 1.0700 ACC: 0.4688\n",
            "train [55/66] LOSS: 1.0927 ACC: 0.4688\n"
          ]
        },
        {
          "output_type": "stream",
          "name": "stderr",
          "text": [
            "\r 85%|████████▍ | 56/66 [00:16<00:00, 10.09it/s]"
          ]
        },
        {
          "output_type": "stream",
          "name": "stdout",
          "text": [
            "train [56/66] LOSS: 1.0271 ACC: 0.4062\n",
            "train [57/66] LOSS: 1.0436 ACC: 0.3750\n"
          ]
        },
        {
          "output_type": "stream",
          "name": "stderr",
          "text": [
            " 91%|█████████ | 60/66 [00:17<00:00, 10.06it/s]"
          ]
        },
        {
          "output_type": "stream",
          "name": "stdout",
          "text": [
            "train [58/66] LOSS: 1.0548 ACC: 0.5312\n",
            "train [59/66] LOSS: 1.0858 ACC: 0.3750\n",
            "train [60/66] LOSS: 1.0950 ACC: 0.3750\n"
          ]
        },
        {
          "output_type": "stream",
          "name": "stderr",
          "text": [
            "\r 94%|█████████▍| 62/66 [00:17<00:00, 10.05it/s]"
          ]
        },
        {
          "output_type": "stream",
          "name": "stdout",
          "text": [
            "train [61/66] LOSS: 1.0967 ACC: 0.3438\n",
            "train [62/66] LOSS: 1.0478 ACC: 0.3125\n",
            "train [63/66] LOSS: 1.0569 ACC: 0.4375\n"
          ]
        },
        {
          "output_type": "stream",
          "name": "stderr",
          "text": [
            "100%|██████████| 66/66 [00:17<00:00, 10.42it/s]"
          ]
        },
        {
          "output_type": "stream",
          "name": "stdout",
          "text": [
            "train [64/66] LOSS: 1.0957 ACC: 0.3750\n",
            "train [65/66] LOSS: 1.0452 ACC: 0.3750\n",
            "train [66/66] LOSS: 1.0053 ACC: 0.6000\n"
          ]
        },
        {
          "output_type": "stream",
          "name": "stderr",
          "text": [
            "\r100%|██████████| 66/66 [00:18<00:00,  3.52it/s]\n"
          ]
        },
        {
          "output_type": "stream",
          "name": "stdout",
          "text": [
            "train LOSS: 1.0737 ACC: 0.3905 BEST ACC: 0.4043\n"
          ]
        },
        {
          "output_type": "stream",
          "name": "stderr",
          "text": [
            "100%|██████████| 29/29 [00:09<00:00,  3.19it/s]\n"
          ]
        },
        {
          "output_type": "stream",
          "name": "stdout",
          "text": [
            "val LOSS: 1.3285 ACC: 0.3989 BEST ACC: 0.4022\n",
            "\n",
            "\n",
            "------------------------\n",
            "EPOCH 16/80\n",
            "------------------------\n"
          ]
        },
        {
          "output_type": "stream",
          "name": "stderr",
          "text": [
            "  3%|▎         | 2/66 [00:10<04:27,  4.18s/it]"
          ]
        },
        {
          "output_type": "stream",
          "name": "stdout",
          "text": [
            "train [1/66] LOSS: 0.9541 ACC: 0.5625\n",
            "train [2/66] LOSS: 1.0862 ACC: 0.4062\n"
          ]
        },
        {
          "output_type": "stream",
          "name": "stderr",
          "text": [
            "\r  5%|▍         | 3/66 [00:10<02:30,  2.38s/it]"
          ]
        },
        {
          "output_type": "stream",
          "name": "stdout",
          "text": [
            "train [3/66] LOSS: 1.0770 ACC: 0.4688\n"
          ]
        },
        {
          "output_type": "stream",
          "name": "stderr",
          "text": [
            "\r  6%|▌         | 4/66 [00:10<01:39,  1.61s/it]"
          ]
        },
        {
          "output_type": "stream",
          "name": "stdout",
          "text": [
            "train [4/66] LOSS: 1.1024 ACC: 0.4062\n"
          ]
        },
        {
          "output_type": "stream",
          "name": "stderr",
          "text": [
            "  9%|▉         | 6/66 [00:11<00:46,  1.29it/s]"
          ]
        },
        {
          "output_type": "stream",
          "name": "stdout",
          "text": [
            "train [5/66] LOSS: 1.0878 ACC: 0.3438\n",
            "train [6/66] LOSS: 1.2118 ACC: 0.2188\n"
          ]
        },
        {
          "output_type": "stream",
          "name": "stderr",
          "text": [
            "\r 11%|█         | 7/66 [00:11<00:36,  1.63it/s]"
          ]
        },
        {
          "output_type": "stream",
          "name": "stdout",
          "text": [
            "train [7/66] LOSS: 1.0512 ACC: 0.4375\n"
          ]
        },
        {
          "output_type": "stream",
          "name": "stderr",
          "text": [
            " 14%|█▎        | 9/66 [00:11<00:23,  2.46it/s]"
          ]
        },
        {
          "output_type": "stream",
          "name": "stdout",
          "text": [
            "train [8/66] LOSS: 1.0555 ACC: 0.5000\n",
            "train [9/66] LOSS: 1.1015 ACC: 0.3750\n"
          ]
        },
        {
          "output_type": "stream",
          "name": "stderr",
          "text": [
            " 17%|█▋        | 11/66 [00:12<00:13,  4.03it/s]"
          ]
        },
        {
          "output_type": "stream",
          "name": "stdout",
          "text": [
            "train [10/66] LOSS: 1.0360 ACC: 0.5000\n",
            "train [11/66] LOSS: 1.1554 ACC: 0.3438\n"
          ]
        },
        {
          "output_type": "stream",
          "name": "stderr",
          "text": [
            " 20%|█▉        | 13/66 [00:12<00:09,  5.78it/s]"
          ]
        },
        {
          "output_type": "stream",
          "name": "stdout",
          "text": [
            "train [12/66] LOSS: 1.1072 ACC: 0.4375\n",
            "train [13/66] LOSS: 1.0766 ACC: 0.3750\n"
          ]
        },
        {
          "output_type": "stream",
          "name": "stderr",
          "text": [
            " 23%|██▎       | 15/66 [00:12<00:06,  7.31it/s]"
          ]
        },
        {
          "output_type": "stream",
          "name": "stdout",
          "text": [
            "train [14/66] LOSS: 1.0881 ACC: 0.3750\n",
            "train [15/66] LOSS: 1.0966 ACC: 0.3438\n"
          ]
        },
        {
          "output_type": "stream",
          "name": "stderr",
          "text": [
            " 26%|██▌       | 17/66 [00:12<00:05,  8.38it/s]"
          ]
        },
        {
          "output_type": "stream",
          "name": "stdout",
          "text": [
            "train [16/66] LOSS: 1.0710 ACC: 0.4375\n",
            "train [17/66] LOSS: 1.0636 ACC: 0.4062\n"
          ]
        },
        {
          "output_type": "stream",
          "name": "stderr",
          "text": [
            " 29%|██▉       | 19/66 [00:12<00:05,  9.03it/s]"
          ]
        },
        {
          "output_type": "stream",
          "name": "stdout",
          "text": [
            "train [18/66] LOSS: 1.0599 ACC: 0.3750\n",
            "train [19/66] LOSS: 1.0927 ACC: 0.3750\n"
          ]
        },
        {
          "output_type": "stream",
          "name": "stderr",
          "text": [
            " 32%|███▏      | 21/66 [00:13<00:04,  9.05it/s]"
          ]
        },
        {
          "output_type": "stream",
          "name": "stdout",
          "text": [
            "train [20/66] LOSS: 1.0498 ACC: 0.5000\n",
            "train [21/66] LOSS: 1.0886 ACC: 0.4062\n"
          ]
        },
        {
          "output_type": "stream",
          "name": "stderr",
          "text": [
            " 36%|███▋      | 24/66 [00:13<00:04,  9.57it/s]"
          ]
        },
        {
          "output_type": "stream",
          "name": "stdout",
          "text": [
            "train [22/66] LOSS: 1.0616 ACC: 0.4688\n",
            "train [23/66] LOSS: 1.0771 ACC: 0.3750\n",
            "train [24/66] LOSS: 1.0700 ACC: 0.3750\n"
          ]
        },
        {
          "output_type": "stream",
          "name": "stderr",
          "text": [
            " 39%|███▉      | 26/66 [00:13<00:04,  9.72it/s]"
          ]
        },
        {
          "output_type": "stream",
          "name": "stdout",
          "text": [
            "train [25/66] LOSS: 1.1015 ACC: 0.3438\n",
            "train [26/66] LOSS: 1.0541 ACC: 0.2812\n"
          ]
        },
        {
          "output_type": "stream",
          "name": "stderr",
          "text": [
            " 42%|████▏     | 28/66 [00:13<00:03,  9.75it/s]"
          ]
        },
        {
          "output_type": "stream",
          "name": "stdout",
          "text": [
            "train [27/66] LOSS: 1.0995 ACC: 0.4062\n",
            "train [28/66] LOSS: 1.0918 ACC: 0.3750\n",
            "train [29/66] LOSS: 1.1066 ACC: 0.3750\n"
          ]
        },
        {
          "output_type": "stream",
          "name": "stderr",
          "text": [
            " 48%|████▊     | 32/66 [00:14<00:03,  9.76it/s]"
          ]
        },
        {
          "output_type": "stream",
          "name": "stdout",
          "text": [
            "train [30/66] LOSS: 1.0487 ACC: 0.5000\n",
            "train [31/66] LOSS: 1.0102 ACC: 0.5625\n",
            "train [32/66] LOSS: 1.0716 ACC: 0.2500\n"
          ]
        },
        {
          "output_type": "stream",
          "name": "stderr",
          "text": [
            " 52%|█████▏    | 34/66 [00:14<00:03,  9.82it/s]"
          ]
        },
        {
          "output_type": "stream",
          "name": "stdout",
          "text": [
            "train [33/66] LOSS: 1.0656 ACC: 0.5000\n",
            "train [34/66] LOSS: 1.0692 ACC: 0.4375\n"
          ]
        },
        {
          "output_type": "stream",
          "name": "stderr",
          "text": [
            " 55%|█████▍    | 36/66 [00:14<00:03,  9.85it/s]"
          ]
        },
        {
          "output_type": "stream",
          "name": "stdout",
          "text": [
            "train [35/66] LOSS: 1.0359 ACC: 0.6562\n",
            "train [36/66] LOSS: 1.1069 ACC: 0.3750\n"
          ]
        },
        {
          "output_type": "stream",
          "name": "stderr",
          "text": [
            " 58%|█████▊    | 38/66 [00:14<00:02,  9.87it/s]"
          ]
        },
        {
          "output_type": "stream",
          "name": "stdout",
          "text": [
            "train [37/66] LOSS: 1.0607 ACC: 0.4062\n",
            "train [38/66] LOSS: 1.0696 ACC: 0.3750\n"
          ]
        },
        {
          "output_type": "stream",
          "name": "stderr",
          "text": [
            " 62%|██████▏   | 41/66 [00:15<00:02, 10.02it/s]"
          ]
        },
        {
          "output_type": "stream",
          "name": "stdout",
          "text": [
            "train [39/66] LOSS: 1.1026 ACC: 0.2812\n",
            "train [40/66] LOSS: 1.0780 ACC: 0.3750\n",
            "train [41/66] LOSS: 1.0478 ACC: 0.5000\n"
          ]
        },
        {
          "output_type": "stream",
          "name": "stderr",
          "text": [
            " 65%|██████▌   | 43/66 [00:15<00:02,  9.92it/s]"
          ]
        },
        {
          "output_type": "stream",
          "name": "stdout",
          "text": [
            "train [42/66] LOSS: 1.0997 ACC: 0.4688\n",
            "train [43/66] LOSS: 1.0631 ACC: 0.4062\n"
          ]
        },
        {
          "output_type": "stream",
          "name": "stderr",
          "text": [
            " 68%|██████▊   | 45/66 [00:15<00:02,  9.79it/s]"
          ]
        },
        {
          "output_type": "stream",
          "name": "stdout",
          "text": [
            "train [44/66] LOSS: 1.1092 ACC: 0.2812\n",
            "train [45/66] LOSS: 1.0861 ACC: 0.2500\n"
          ]
        },
        {
          "output_type": "stream",
          "name": "stderr",
          "text": [
            " 71%|███████   | 47/66 [00:15<00:01,  9.85it/s]"
          ]
        },
        {
          "output_type": "stream",
          "name": "stdout",
          "text": [
            "train [46/66] LOSS: 1.0653 ACC: 0.3750\n",
            "train [47/66] LOSS: 1.1358 ACC: 0.1875\n"
          ]
        },
        {
          "output_type": "stream",
          "name": "stderr",
          "text": [
            " 74%|███████▍  | 49/66 [00:15<00:01,  9.83it/s]"
          ]
        },
        {
          "output_type": "stream",
          "name": "stdout",
          "text": [
            "train [48/66] LOSS: 1.0699 ACC: 0.4062\n",
            "train [49/66] LOSS: 1.0802 ACC: 0.4375\n",
            "train [50/66] LOSS: 1.0289 ACC: 0.4375\n"
          ]
        },
        {
          "output_type": "stream",
          "name": "stderr",
          "text": [
            " 79%|███████▉  | 52/66 [00:16<00:01,  9.95it/s]"
          ]
        },
        {
          "output_type": "stream",
          "name": "stdout",
          "text": [
            "train [51/66] LOSS: 1.0321 ACC: 0.3750\n",
            "train [52/66] LOSS: 1.0492 ACC: 0.4688\n"
          ]
        },
        {
          "output_type": "stream",
          "name": "stderr",
          "text": [
            " 82%|████████▏ | 54/66 [00:16<00:01,  9.91it/s]"
          ]
        },
        {
          "output_type": "stream",
          "name": "stdout",
          "text": [
            "train [53/66] LOSS: 1.1074 ACC: 0.4062\n",
            "train [54/66] LOSS: 1.0188 ACC: 0.5000\n"
          ]
        },
        {
          "output_type": "stream",
          "name": "stderr",
          "text": [
            " 85%|████████▍ | 56/66 [00:16<00:01,  9.93it/s]"
          ]
        },
        {
          "output_type": "stream",
          "name": "stdout",
          "text": [
            "train [55/66] LOSS: 1.0749 ACC: 0.4375\n",
            "train [56/66] LOSS: 1.0365 ACC: 0.4062\n",
            "train [57/66] LOSS: 1.0213 ACC: 0.4688\n"
          ]
        },
        {
          "output_type": "stream",
          "name": "stderr",
          "text": [
            " 91%|█████████ | 60/66 [00:17<00:00, 10.08it/s]"
          ]
        },
        {
          "output_type": "stream",
          "name": "stdout",
          "text": [
            "train [58/66] LOSS: 1.0388 ACC: 0.5938\n",
            "train [59/66] LOSS: 1.1101 ACC: 0.3750\n",
            "train [60/66] LOSS: 1.0733 ACC: 0.3438\n"
          ]
        },
        {
          "output_type": "stream",
          "name": "stderr",
          "text": [
            "\r 94%|█████████▍| 62/66 [00:17<00:00, 10.09it/s]"
          ]
        },
        {
          "output_type": "stream",
          "name": "stdout",
          "text": [
            "train [61/66] LOSS: 1.0603 ACC: 0.4062\n",
            "train [62/66] LOSS: 1.0436 ACC: 0.3125\n",
            "train [63/66] LOSS: 1.0954 ACC: 0.3438\n"
          ]
        },
        {
          "output_type": "stream",
          "name": "stderr",
          "text": [
            "100%|██████████| 66/66 [00:17<00:00, 10.41it/s]"
          ]
        },
        {
          "output_type": "stream",
          "name": "stdout",
          "text": [
            "train [64/66] LOSS: 1.1219 ACC: 0.2500\n",
            "train [65/66] LOSS: 1.0145 ACC: 0.5000\n",
            "train [66/66] LOSS: 0.9850 ACC: 0.5000\n"
          ]
        },
        {
          "output_type": "stream",
          "name": "stderr",
          "text": [
            "\r100%|██████████| 66/66 [00:18<00:00,  3.55it/s]\n"
          ]
        },
        {
          "output_type": "stream",
          "name": "stdout",
          "text": [
            "train LOSS: 1.0722 ACC: 0.4048 BEST ACC: 0.4048\n"
          ]
        },
        {
          "output_type": "stream",
          "name": "stderr",
          "text": [
            "100%|██████████| 29/29 [00:09<00:00,  3.14it/s]\n"
          ]
        },
        {
          "output_type": "stream",
          "name": "stdout",
          "text": [
            "val LOSS: 1.4796 ACC: 0.4011 BEST ACC: 0.4022\n",
            "\n",
            "\n",
            "------------------------\n",
            "EPOCH 17/80\n",
            "------------------------\n"
          ]
        },
        {
          "output_type": "stream",
          "name": "stderr",
          "text": [
            "  2%|▏         | 1/66 [00:10<11:00, 10.16s/it]"
          ]
        },
        {
          "output_type": "stream",
          "name": "stdout",
          "text": [
            "train [1/66] LOSS: 1.1154 ACC: 0.3125\n"
          ]
        },
        {
          "output_type": "stream",
          "name": "stderr",
          "text": [
            "  5%|▍         | 3/66 [00:10<02:30,  2.39s/it]"
          ]
        },
        {
          "output_type": "stream",
          "name": "stdout",
          "text": [
            "train [2/66] LOSS: 1.1582 ACC: 0.3750\n",
            "train [3/66] LOSS: 1.1283 ACC: 0.3750\n"
          ]
        },
        {
          "output_type": "stream",
          "name": "stderr",
          "text": [
            "  8%|▊         | 5/66 [00:10<01:02,  1.02s/it]"
          ]
        },
        {
          "output_type": "stream",
          "name": "stdout",
          "text": [
            "train [4/66] LOSS: 1.0587 ACC: 0.4688\n",
            "train [5/66] LOSS: 1.0760 ACC: 0.4062\n"
          ]
        },
        {
          "output_type": "stream",
          "name": "stderr",
          "text": [
            " 11%|█         | 7/66 [00:11<00:35,  1.65it/s]"
          ]
        },
        {
          "output_type": "stream",
          "name": "stdout",
          "text": [
            "train [6/66] LOSS: 0.9828 ACC: 0.4688\n",
            "train [7/66] LOSS: 1.0546 ACC: 0.5000\n"
          ]
        },
        {
          "output_type": "stream",
          "name": "stderr",
          "text": [
            " 14%|█▎        | 9/66 [00:11<00:23,  2.48it/s]"
          ]
        },
        {
          "output_type": "stream",
          "name": "stdout",
          "text": [
            "train [8/66] LOSS: 1.0449 ACC: 0.4062\n",
            "train [9/66] LOSS: 1.0909 ACC: 0.4062\n"
          ]
        },
        {
          "output_type": "stream",
          "name": "stderr",
          "text": [
            "\r 15%|█▌        | 10/66 [00:11<00:17,  3.21it/s]"
          ]
        },
        {
          "output_type": "stream",
          "name": "stdout",
          "text": [
            "train [10/66] LOSS: 1.0377 ACC: 0.3750\n",
            "train [11/66] LOSS: 1.1399 ACC: 0.2188\n"
          ]
        },
        {
          "output_type": "stream",
          "name": "stderr",
          "text": [
            " 21%|██        | 14/66 [00:12<00:08,  6.15it/s]"
          ]
        },
        {
          "output_type": "stream",
          "name": "stdout",
          "text": [
            "train [12/66] LOSS: 1.0396 ACC: 0.5000\n",
            "train [13/66] LOSS: 1.0946 ACC: 0.3438\n",
            "train [14/66] LOSS: 1.1147 ACC: 0.2812\n"
          ]
        },
        {
          "output_type": "stream",
          "name": "stderr",
          "text": [
            " 26%|██▌       | 17/66 [00:12<00:06,  8.00it/s]"
          ]
        },
        {
          "output_type": "stream",
          "name": "stdout",
          "text": [
            "train [15/66] LOSS: 1.0679 ACC: 0.5938\n",
            "train [16/66] LOSS: 1.0456 ACC: 0.4375\n",
            "train [17/66] LOSS: 1.0285 ACC: 0.4062\n"
          ]
        },
        {
          "output_type": "stream",
          "name": "stderr",
          "text": [
            " 29%|██▉       | 19/66 [00:12<00:05,  8.54it/s]"
          ]
        },
        {
          "output_type": "stream",
          "name": "stdout",
          "text": [
            "train [18/66] LOSS: 1.0470 ACC: 0.3125\n",
            "train [19/66] LOSS: 1.0401 ACC: 0.5312\n"
          ]
        },
        {
          "output_type": "stream",
          "name": "stderr",
          "text": [
            "\r 32%|███▏      | 21/66 [00:13<00:04,  9.14it/s]"
          ]
        },
        {
          "output_type": "stream",
          "name": "stdout",
          "text": [
            "train [20/66] LOSS: 1.0492 ACC: 0.3438\n",
            "train [21/66] LOSS: 1.0628 ACC: 0.4375\n",
            "train [22/66] LOSS: 0.9993 ACC: 0.4062\n"
          ]
        },
        {
          "output_type": "stream",
          "name": "stderr",
          "text": [
            " 38%|███▊      | 25/66 [00:13<00:04,  9.73it/s]"
          ]
        },
        {
          "output_type": "stream",
          "name": "stdout",
          "text": [
            "train [23/66] LOSS: 1.1311 ACC: 0.4688\n",
            "train [24/66] LOSS: 1.0518 ACC: 0.4062\n",
            "train [25/66] LOSS: 1.0271 ACC: 0.4688\n"
          ]
        },
        {
          "output_type": "stream",
          "name": "stderr",
          "text": [
            " 41%|████      | 27/66 [00:13<00:04,  9.64it/s]"
          ]
        },
        {
          "output_type": "stream",
          "name": "stdout",
          "text": [
            "train [26/66] LOSS: 1.1330 ACC: 0.3438\n",
            "train [27/66] LOSS: 1.0474 ACC: 0.4375\n"
          ]
        },
        {
          "output_type": "stream",
          "name": "stderr",
          "text": [
            " 45%|████▌     | 30/66 [00:14<00:03,  9.79it/s]"
          ]
        },
        {
          "output_type": "stream",
          "name": "stdout",
          "text": [
            "train [28/66] LOSS: 1.0521 ACC: 0.4375\n",
            "train [29/66] LOSS: 1.0671 ACC: 0.5000\n",
            "train [30/66] LOSS: 0.9484 ACC: 0.3438\n"
          ]
        },
        {
          "output_type": "stream",
          "name": "stderr",
          "text": [
            " 50%|█████     | 33/66 [00:14<00:03,  9.89it/s]"
          ]
        },
        {
          "output_type": "stream",
          "name": "stdout",
          "text": [
            "train [31/66] LOSS: 1.0910 ACC: 0.4375\n",
            "train [32/66] LOSS: 0.9453 ACC: 0.3438\n",
            "train [33/66] LOSS: 1.0558 ACC: 0.2500\n"
          ]
        },
        {
          "output_type": "stream",
          "name": "stderr",
          "text": [
            " 55%|█████▍    | 36/66 [00:14<00:02, 10.02it/s]"
          ]
        },
        {
          "output_type": "stream",
          "name": "stdout",
          "text": [
            "train [34/66] LOSS: 1.0449 ACC: 0.3750\n",
            "train [35/66] LOSS: 1.1163 ACC: 0.3750\n",
            "train [36/66] LOSS: 1.0608 ACC: 0.3438\n"
          ]
        },
        {
          "output_type": "stream",
          "name": "stderr",
          "text": [
            " 58%|█████▊    | 38/66 [00:14<00:02,  9.91it/s]"
          ]
        },
        {
          "output_type": "stream",
          "name": "stdout",
          "text": [
            "train [37/66] LOSS: 1.0333 ACC: 0.4688\n",
            "train [38/66] LOSS: 1.0604 ACC: 0.3750\n",
            "train [39/66] LOSS: 1.0038 ACC: 0.4688\n"
          ]
        },
        {
          "output_type": "stream",
          "name": "stderr",
          "text": [
            " 62%|██████▏   | 41/66 [00:15<00:02,  9.99it/s]"
          ]
        },
        {
          "output_type": "stream",
          "name": "stdout",
          "text": [
            "train [40/66] LOSS: 1.1480 ACC: 0.4062\n",
            "train [41/66] LOSS: 1.1529 ACC: 0.3750\n"
          ]
        },
        {
          "output_type": "stream",
          "name": "stderr",
          "text": [
            " 67%|██████▋   | 44/66 [00:15<00:02,  9.91it/s]"
          ]
        },
        {
          "output_type": "stream",
          "name": "stdout",
          "text": [
            "train [42/66] LOSS: 1.0377 ACC: 0.4062\n",
            "train [43/66] LOSS: 0.9664 ACC: 0.3438\n",
            "train [44/66] LOSS: 1.0879 ACC: 0.4062\n"
          ]
        },
        {
          "output_type": "stream",
          "name": "stderr",
          "text": [
            " 71%|███████   | 47/66 [00:15<00:01, 10.01it/s]"
          ]
        },
        {
          "output_type": "stream",
          "name": "stdout",
          "text": [
            "train [45/66] LOSS: 1.1307 ACC: 0.3125\n",
            "train [46/66] LOSS: 1.0142 ACC: 0.5312\n",
            "train [47/66] LOSS: 1.1819 ACC: 0.3125\n"
          ]
        },
        {
          "output_type": "stream",
          "name": "stderr",
          "text": [
            " 76%|███████▌  | 50/66 [00:16<00:01, 10.06it/s]"
          ]
        },
        {
          "output_type": "stream",
          "name": "stdout",
          "text": [
            "train [48/66] LOSS: 1.1312 ACC: 0.4062\n",
            "train [49/66] LOSS: 1.0434 ACC: 0.5312\n",
            "train [50/66] LOSS: 1.0366 ACC: 0.3125\n"
          ]
        },
        {
          "output_type": "stream",
          "name": "stderr",
          "text": [
            " 80%|████████  | 53/66 [00:16<00:01,  9.99it/s]"
          ]
        },
        {
          "output_type": "stream",
          "name": "stdout",
          "text": [
            "train [51/66] LOSS: 1.1003 ACC: 0.3438\n",
            "train [52/66] LOSS: 1.0039 ACC: 0.5625\n",
            "train [53/66] LOSS: 1.0935 ACC: 0.3125\n"
          ]
        },
        {
          "output_type": "stream",
          "name": "stderr",
          "text": [
            " 85%|████████▍ | 56/66 [00:16<00:00, 10.07it/s]"
          ]
        },
        {
          "output_type": "stream",
          "name": "stdout",
          "text": [
            "train [54/66] LOSS: 1.1067 ACC: 0.3438\n",
            "train [55/66] LOSS: 1.0358 ACC: 0.5625\n",
            "train [56/66] LOSS: 1.1038 ACC: 0.3125\n"
          ]
        },
        {
          "output_type": "stream",
          "name": "stderr",
          "text": [
            "\r 88%|████████▊ | 58/66 [00:16<00:00, 10.11it/s]"
          ]
        },
        {
          "output_type": "stream",
          "name": "stdout",
          "text": [
            "train [57/66] LOSS: 1.0815 ACC: 0.4062\n",
            "train [58/66] LOSS: 1.0881 ACC: 0.3438\n",
            "train [59/66] LOSS: 1.0958 ACC: 0.3125\n"
          ]
        },
        {
          "output_type": "stream",
          "name": "stderr",
          "text": [
            " 94%|█████████▍| 62/66 [00:17<00:00, 10.14it/s]"
          ]
        },
        {
          "output_type": "stream",
          "name": "stdout",
          "text": [
            "train [60/66] LOSS: 1.0337 ACC: 0.3125\n",
            "train [61/66] LOSS: 1.0867 ACC: 0.5000\n",
            "train [62/66] LOSS: 1.0544 ACC: 0.4062\n"
          ]
        },
        {
          "output_type": "stream",
          "name": "stderr",
          "text": [
            "\r 97%|█████████▋| 64/66 [00:17<00:00, 10.13it/s]"
          ]
        },
        {
          "output_type": "stream",
          "name": "stdout",
          "text": [
            "train [63/66] LOSS: 1.0542 ACC: 0.4062\n",
            "train [64/66] LOSS: 1.0621 ACC: 0.3750\n",
            "train [65/66] LOSS: 1.0924 ACC: 0.5000\n"
          ]
        },
        {
          "output_type": "stream",
          "name": "stderr",
          "text": [
            "\r100%|██████████| 66/66 [00:17<00:00, 10.47it/s]"
          ]
        },
        {
          "output_type": "stream",
          "name": "stdout",
          "text": [
            "train [66/66] LOSS: 1.1616 ACC: 0.3500\n"
          ]
        },
        {
          "output_type": "stream",
          "name": "stderr",
          "text": [
            "\r100%|██████████| 66/66 [00:18<00:00,  3.58it/s]\n"
          ]
        },
        {
          "output_type": "stream",
          "name": "stdout",
          "text": [
            "train LOSS: 1.0687 ACC: 0.4010 BEST ACC: 0.4048\n"
          ]
        },
        {
          "output_type": "stream",
          "name": "stderr",
          "text": [
            "100%|██████████| 29/29 [00:09<00:00,  3.18it/s]\n"
          ]
        },
        {
          "output_type": "stream",
          "name": "stdout",
          "text": [
            "val LOSS: 1.0979 ACC: 0.3711 BEST ACC: 0.4022\n",
            "\n",
            "\n",
            "------------------------\n",
            "EPOCH 18/80\n",
            "------------------------\n"
          ]
        },
        {
          "output_type": "stream",
          "name": "stderr",
          "text": [
            "  2%|▏         | 1/66 [00:09<10:49,  9.99s/it]"
          ]
        },
        {
          "output_type": "stream",
          "name": "stdout",
          "text": [
            "train [1/66] LOSS: 1.0877 ACC: 0.2812\n"
          ]
        },
        {
          "output_type": "stream",
          "name": "stderr",
          "text": [
            "  5%|▍         | 3/66 [00:10<02:33,  2.44s/it]"
          ]
        },
        {
          "output_type": "stream",
          "name": "stdout",
          "text": [
            "train [2/66] LOSS: 1.1027 ACC: 0.3750\n",
            "train [3/66] LOSS: 1.1517 ACC: 0.2500\n"
          ]
        },
        {
          "output_type": "stream",
          "name": "stderr",
          "text": [
            "  8%|▊         | 5/66 [00:11<01:07,  1.10s/it]"
          ]
        },
        {
          "output_type": "stream",
          "name": "stdout",
          "text": [
            "train [4/66] LOSS: 1.1182 ACC: 0.2500\n",
            "train [5/66] LOSS: 1.1059 ACC: 0.3438\n"
          ]
        },
        {
          "output_type": "stream",
          "name": "stderr",
          "text": [
            "\r  9%|▉         | 6/66 [00:11<00:47,  1.26it/s]"
          ]
        },
        {
          "output_type": "stream",
          "name": "stdout",
          "text": [
            "train [6/66] LOSS: 1.0866 ACC: 0.2812\n"
          ]
        },
        {
          "output_type": "stream",
          "name": "stderr",
          "text": [
            "\r 11%|█         | 7/66 [00:11<00:36,  1.60it/s]"
          ]
        },
        {
          "output_type": "stream",
          "name": "stdout",
          "text": [
            "train [7/66] LOSS: 1.0352 ACC: 0.3750\n"
          ]
        },
        {
          "output_type": "stream",
          "name": "stderr",
          "text": [
            " 14%|█▎        | 9/66 [00:11<00:22,  2.52it/s]"
          ]
        },
        {
          "output_type": "stream",
          "name": "stdout",
          "text": [
            "train [8/66] LOSS: 1.1039 ACC: 0.3438\n",
            "train [9/66] LOSS: 0.9998 ACC: 0.6875\n"
          ]
        },
        {
          "output_type": "stream",
          "name": "stderr",
          "text": [
            " 17%|█▋        | 11/66 [00:12<00:13,  4.05it/s]"
          ]
        },
        {
          "output_type": "stream",
          "name": "stdout",
          "text": [
            "train [10/66] LOSS: 1.0216 ACC: 0.2500\n",
            "train [11/66] LOSS: 1.0797 ACC: 0.4062\n"
          ]
        },
        {
          "output_type": "stream",
          "name": "stderr",
          "text": [
            " 20%|█▉        | 13/66 [00:12<00:09,  5.79it/s]"
          ]
        },
        {
          "output_type": "stream",
          "name": "stdout",
          "text": [
            "train [12/66] LOSS: 1.1087 ACC: 0.2812\n",
            "train [13/66] LOSS: 1.0913 ACC: 0.3125\n"
          ]
        },
        {
          "output_type": "stream",
          "name": "stderr",
          "text": [
            " 24%|██▍       | 16/66 [00:12<00:06,  7.74it/s]"
          ]
        },
        {
          "output_type": "stream",
          "name": "stdout",
          "text": [
            "train [14/66] LOSS: 1.0935 ACC: 0.4062\n",
            "train [15/66] LOSS: 1.0685 ACC: 0.2500\n",
            "train [16/66] LOSS: 1.1194 ACC: 0.2812\n"
          ]
        },
        {
          "output_type": "stream",
          "name": "stderr",
          "text": [
            " 27%|██▋       | 18/66 [00:12<00:05,  8.37it/s]"
          ]
        },
        {
          "output_type": "stream",
          "name": "stdout",
          "text": [
            "train [17/66] LOSS: 1.0897 ACC: 0.3125\n",
            "train [18/66] LOSS: 1.0416 ACC: 0.4375\n"
          ]
        },
        {
          "output_type": "stream",
          "name": "stderr",
          "text": [
            "\r 30%|███       | 20/66 [00:13<00:05,  9.07it/s]"
          ]
        },
        {
          "output_type": "stream",
          "name": "stdout",
          "text": [
            "train [19/66] LOSS: 1.0483 ACC: 0.3438\n",
            "train [20/66] LOSS: 1.0600 ACC: 0.5000\n"
          ]
        },
        {
          "output_type": "stream",
          "name": "stderr",
          "text": [
            " 35%|███▍      | 23/66 [00:13<00:04,  9.34it/s]"
          ]
        },
        {
          "output_type": "stream",
          "name": "stdout",
          "text": [
            "train [21/66] LOSS: 1.1091 ACC: 0.3750\n",
            "train [22/66] LOSS: 1.1071 ACC: 0.3125\n",
            "train [23/66] LOSS: 1.1170 ACC: 0.3125\n"
          ]
        },
        {
          "output_type": "stream",
          "name": "stderr",
          "text": [
            " 39%|███▉      | 26/66 [00:13<00:04,  9.66it/s]"
          ]
        },
        {
          "output_type": "stream",
          "name": "stdout",
          "text": [
            "train [24/66] LOSS: 1.0483 ACC: 0.3438\n",
            "train [25/66] LOSS: 0.9976 ACC: 0.5625\n",
            "train [26/66] LOSS: 1.0428 ACC: 0.4688\n"
          ]
        },
        {
          "output_type": "stream",
          "name": "stderr",
          "text": [
            " 44%|████▍     | 29/66 [00:14<00:03,  9.86it/s]"
          ]
        },
        {
          "output_type": "stream",
          "name": "stdout",
          "text": [
            "train [27/66] LOSS: 1.0917 ACC: 0.4375\n",
            "train [28/66] LOSS: 1.0134 ACC: 0.4688\n",
            "train [29/66] LOSS: 1.0614 ACC: 0.2500\n"
          ]
        },
        {
          "output_type": "stream",
          "name": "stderr",
          "text": [
            " 47%|████▋     | 31/66 [00:14<00:03,  9.81it/s]"
          ]
        },
        {
          "output_type": "stream",
          "name": "stdout",
          "text": [
            "train [30/66] LOSS: 1.0764 ACC: 0.4062\n",
            "train [31/66] LOSS: 1.0284 ACC: 0.4375\n",
            "train [32/66] LOSS: 1.1003 ACC: 0.3438\n"
          ]
        },
        {
          "output_type": "stream",
          "name": "stderr",
          "text": [
            " 53%|█████▎    | 35/66 [00:14<00:03, 10.01it/s]"
          ]
        },
        {
          "output_type": "stream",
          "name": "stdout",
          "text": [
            "train [33/66] LOSS: 1.0850 ACC: 0.3750\n",
            "train [34/66] LOSS: 1.0810 ACC: 0.2812\n",
            "train [35/66] LOSS: 1.1442 ACC: 0.4062\n"
          ]
        },
        {
          "output_type": "stream",
          "name": "stderr",
          "text": [
            " 58%|█████▊    | 38/66 [00:14<00:02,  9.99it/s]"
          ]
        },
        {
          "output_type": "stream",
          "name": "stdout",
          "text": [
            "train [36/66] LOSS: 1.0847 ACC: 0.3125\n",
            "train [37/66] LOSS: 1.0682 ACC: 0.4688\n",
            "train [38/66] LOSS: 1.0790 ACC: 0.4062\n"
          ]
        },
        {
          "output_type": "stream",
          "name": "stderr",
          "text": [
            " 62%|██████▏   | 41/66 [00:15<00:02,  9.98it/s]"
          ]
        },
        {
          "output_type": "stream",
          "name": "stdout",
          "text": [
            "train [39/66] LOSS: 1.0193 ACC: 0.5938\n",
            "train [40/66] LOSS: 1.0456 ACC: 0.4062\n",
            "train [41/66] LOSS: 1.0633 ACC: 0.4062\n"
          ]
        },
        {
          "output_type": "stream",
          "name": "stderr",
          "text": [
            " 65%|██████▌   | 43/66 [00:15<00:02,  9.93it/s]"
          ]
        },
        {
          "output_type": "stream",
          "name": "stdout",
          "text": [
            "train [42/66] LOSS: 1.0207 ACC: 0.5000\n",
            "train [43/66] LOSS: 1.0571 ACC: 0.4062\n"
          ]
        },
        {
          "output_type": "stream",
          "name": "stderr",
          "text": [
            " 68%|██████▊   | 45/66 [00:15<00:02,  9.88it/s]"
          ]
        },
        {
          "output_type": "stream",
          "name": "stdout",
          "text": [
            "train [44/66] LOSS: 1.0265 ACC: 0.3125\n",
            "train [45/66] LOSS: 1.1273 ACC: 0.3438\n"
          ]
        },
        {
          "output_type": "stream",
          "name": "stderr",
          "text": [
            " 73%|███████▎  | 48/66 [00:15<00:01, 10.00it/s]"
          ]
        },
        {
          "output_type": "stream",
          "name": "stdout",
          "text": [
            "train [46/66] LOSS: 1.0907 ACC: 0.3750\n",
            "train [47/66] LOSS: 1.0680 ACC: 0.4062\n",
            "train [48/66] LOSS: 0.9858 ACC: 0.4688\n"
          ]
        },
        {
          "output_type": "stream",
          "name": "stderr",
          "text": [
            " 76%|███████▌  | 50/66 [00:16<00:01,  9.96it/s]"
          ]
        },
        {
          "output_type": "stream",
          "name": "stdout",
          "text": [
            "train [49/66] LOSS: 1.0274 ACC: 0.4062\n",
            "train [50/66] LOSS: 1.0085 ACC: 0.5625\n"
          ]
        },
        {
          "output_type": "stream",
          "name": "stderr",
          "text": [
            " 79%|███████▉  | 52/66 [00:16<00:01,  9.91it/s]"
          ]
        },
        {
          "output_type": "stream",
          "name": "stdout",
          "text": [
            "train [51/66] LOSS: 1.0148 ACC: 0.3750\n",
            "train [52/66] LOSS: 1.0989 ACC: 0.4375\n"
          ]
        },
        {
          "output_type": "stream",
          "name": "stderr",
          "text": [
            " 82%|████████▏ | 54/66 [00:16<00:01,  9.95it/s]"
          ]
        },
        {
          "output_type": "stream",
          "name": "stdout",
          "text": [
            "train [53/66] LOSS: 1.0787 ACC: 0.4062\n",
            "train [54/66] LOSS: 1.0351 ACC: 0.4688\n"
          ]
        },
        {
          "output_type": "stream",
          "name": "stderr",
          "text": [
            " 85%|████████▍ | 56/66 [00:16<00:01,  9.92it/s]"
          ]
        },
        {
          "output_type": "stream",
          "name": "stdout",
          "text": [
            "train [55/66] LOSS: 1.0838 ACC: 0.5000\n",
            "train [56/66] LOSS: 1.1859 ACC: 0.1875\n",
            "train [57/66] LOSS: 1.1897 ACC: 0.4375\n"
          ]
        },
        {
          "output_type": "stream",
          "name": "stderr",
          "text": [
            " 91%|█████████ | 60/66 [00:17<00:00, 10.07it/s]"
          ]
        },
        {
          "output_type": "stream",
          "name": "stdout",
          "text": [
            "train [58/66] LOSS: 1.0379 ACC: 0.3125\n",
            "train [59/66] LOSS: 1.0330 ACC: 0.1875\n",
            "train [60/66] LOSS: 1.0537 ACC: 0.5000\n"
          ]
        },
        {
          "output_type": "stream",
          "name": "stderr",
          "text": [
            "\r 94%|█████████▍| 62/66 [00:17<00:00, 10.06it/s]"
          ]
        },
        {
          "output_type": "stream",
          "name": "stdout",
          "text": [
            "train [61/66] LOSS: 1.0878 ACC: 0.4375\n",
            "train [62/66] LOSS: 1.1393 ACC: 0.4062\n",
            "train [63/66] LOSS: 1.0679 ACC: 0.4062\n"
          ]
        },
        {
          "output_type": "stream",
          "name": "stderr",
          "text": [
            "100%|██████████| 66/66 [00:17<00:00, 10.45it/s]"
          ]
        },
        {
          "output_type": "stream",
          "name": "stdout",
          "text": [
            "train [64/66] LOSS: 1.0534 ACC: 0.5000\n",
            "train [65/66] LOSS: 1.0262 ACC: 0.5000\n",
            "train [66/66] LOSS: 1.0863 ACC: 0.5000\n"
          ]
        },
        {
          "output_type": "stream",
          "name": "stderr",
          "text": [
            "\r100%|██████████| 66/66 [00:18<00:00,  3.54it/s]\n"
          ]
        },
        {
          "output_type": "stream",
          "name": "stdout",
          "text": [
            "train LOSS: 1.0722 ACC: 0.3886 BEST ACC: 0.4048\n"
          ]
        },
        {
          "output_type": "stream",
          "name": "stderr",
          "text": [
            "100%|██████████| 29/29 [00:09<00:00,  3.18it/s]\n"
          ]
        },
        {
          "output_type": "stream",
          "name": "stdout",
          "text": [
            "val LOSS: 1.1153 ACC: 0.3489 BEST ACC: 0.4022\n",
            "\n",
            "\n",
            "------------------------\n",
            "EPOCH 19/80\n",
            "------------------------\n"
          ]
        },
        {
          "output_type": "stream",
          "name": "stderr",
          "text": [
            "  3%|▎         | 2/66 [00:10<04:26,  4.17s/it]"
          ]
        },
        {
          "output_type": "stream",
          "name": "stdout",
          "text": [
            "train [1/66] LOSS: 1.0845 ACC: 0.4688\n",
            "train [2/66] LOSS: 0.9934 ACC: 0.5000\n"
          ]
        },
        {
          "output_type": "stream",
          "name": "stderr",
          "text": [
            "  6%|▌         | 4/66 [00:10<01:30,  1.46s/it]"
          ]
        },
        {
          "output_type": "stream",
          "name": "stdout",
          "text": [
            "train [3/66] LOSS: 1.0985 ACC: 0.3750\n",
            "train [4/66] LOSS: 1.0531 ACC: 0.4375\n"
          ]
        },
        {
          "output_type": "stream",
          "name": "stderr",
          "text": [
            "  9%|▉         | 6/66 [00:10<00:41,  1.43it/s]"
          ]
        },
        {
          "output_type": "stream",
          "name": "stdout",
          "text": [
            "train [5/66] LOSS: 1.0235 ACC: 0.5000\n",
            "train [6/66] LOSS: 1.0608 ACC: 0.4062\n"
          ]
        },
        {
          "output_type": "stream",
          "name": "stderr",
          "text": [
            " 12%|█▏        | 8/66 [00:11<00:24,  2.35it/s]"
          ]
        },
        {
          "output_type": "stream",
          "name": "stdout",
          "text": [
            "train [7/66] LOSS: 1.1493 ACC: 0.3125\n",
            "train [8/66] LOSS: 1.0553 ACC: 0.4375\n"
          ]
        },
        {
          "output_type": "stream",
          "name": "stderr",
          "text": [
            "\r 14%|█▎        | 9/66 [00:11<00:22,  2.50it/s]"
          ]
        },
        {
          "output_type": "stream",
          "name": "stdout",
          "text": [
            "train [9/66] LOSS: 0.9987 ACC: 0.4688\n"
          ]
        },
        {
          "output_type": "stream",
          "name": "stderr",
          "text": [
            " 17%|█▋        | 11/66 [00:11<00:17,  3.14it/s]"
          ]
        },
        {
          "output_type": "stream",
          "name": "stdout",
          "text": [
            "train [10/66] LOSS: 1.0646 ACC: 0.4062\n",
            "train [11/66] LOSS: 0.9906 ACC: 0.5312\n"
          ]
        },
        {
          "output_type": "stream",
          "name": "stderr",
          "text": [
            " 20%|█▉        | 13/66 [00:12<00:10,  4.83it/s]"
          ]
        },
        {
          "output_type": "stream",
          "name": "stdout",
          "text": [
            "train [12/66] LOSS: 1.0798 ACC: 0.3750\n",
            "train [13/66] LOSS: 1.1256 ACC: 0.3750\n"
          ]
        },
        {
          "output_type": "stream",
          "name": "stderr",
          "text": [
            " 23%|██▎       | 15/66 [00:12<00:07,  6.55it/s]"
          ]
        },
        {
          "output_type": "stream",
          "name": "stdout",
          "text": [
            "train [14/66] LOSS: 1.0436 ACC: 0.4688\n",
            "train [15/66] LOSS: 0.9945 ACC: 0.5312\n"
          ]
        },
        {
          "output_type": "stream",
          "name": "stderr",
          "text": [
            " 27%|██▋       | 18/66 [00:12<00:05,  8.26it/s]"
          ]
        },
        {
          "output_type": "stream",
          "name": "stdout",
          "text": [
            "train [16/66] LOSS: 1.0315 ACC: 0.5000\n",
            "train [17/66] LOSS: 1.1223 ACC: 0.4688\n",
            "train [18/66] LOSS: 1.0748 ACC: 0.2812\n"
          ]
        },
        {
          "output_type": "stream",
          "name": "stderr",
          "text": [
            " 32%|███▏      | 21/66 [00:12<00:04,  9.04it/s]"
          ]
        },
        {
          "output_type": "stream",
          "name": "stdout",
          "text": [
            "train [19/66] LOSS: 1.1336 ACC: 0.3750\n",
            "train [20/66] LOSS: 1.0856 ACC: 0.3438\n",
            "train [21/66] LOSS: 1.1550 ACC: 0.1875\n"
          ]
        },
        {
          "output_type": "stream",
          "name": "stderr",
          "text": [
            " 35%|███▍      | 23/66 [00:13<00:04,  9.20it/s]"
          ]
        },
        {
          "output_type": "stream",
          "name": "stdout",
          "text": [
            "train [22/66] LOSS: 1.0261 ACC: 0.5000\n",
            "train [23/66] LOSS: 1.0760 ACC: 0.4375\n"
          ]
        },
        {
          "output_type": "stream",
          "name": "stderr",
          "text": [
            " 39%|███▉      | 26/66 [00:13<00:04,  9.69it/s]"
          ]
        },
        {
          "output_type": "stream",
          "name": "stdout",
          "text": [
            "train [24/66] LOSS: 1.0548 ACC: 0.3750\n",
            "train [25/66] LOSS: 1.0488 ACC: 0.4062\n",
            "train [26/66] LOSS: 1.1186 ACC: 0.4062\n"
          ]
        },
        {
          "output_type": "stream",
          "name": "stderr",
          "text": [
            "\r 42%|████▏     | 28/66 [00:13<00:03,  9.82it/s]"
          ]
        },
        {
          "output_type": "stream",
          "name": "stdout",
          "text": [
            "train [27/66] LOSS: 1.0850 ACC: 0.3125\n",
            "train [28/66] LOSS: 1.0906 ACC: 0.3438\n",
            "train [29/66] LOSS: 1.0327 ACC: 0.5000\n"
          ]
        },
        {
          "output_type": "stream",
          "name": "stderr",
          "text": [
            " 48%|████▊     | 32/66 [00:14<00:03,  9.99it/s]"
          ]
        },
        {
          "output_type": "stream",
          "name": "stdout",
          "text": [
            "train [30/66] LOSS: 1.0497 ACC: 0.5000\n",
            "train [31/66] LOSS: 1.0750 ACC: 0.3750\n",
            "train [32/66] LOSS: 1.0743 ACC: 0.3750\n"
          ]
        },
        {
          "output_type": "stream",
          "name": "stderr",
          "text": [
            " 52%|█████▏    | 34/66 [00:14<00:03,  9.78it/s]"
          ]
        },
        {
          "output_type": "stream",
          "name": "stdout",
          "text": [
            "train [33/66] LOSS: 1.0397 ACC: 0.4375\n",
            "train [34/66] LOSS: 1.1015 ACC: 0.3125\n"
          ]
        },
        {
          "output_type": "stream",
          "name": "stderr",
          "text": [
            " 55%|█████▍    | 36/66 [00:14<00:03,  9.78it/s]"
          ]
        },
        {
          "output_type": "stream",
          "name": "stdout",
          "text": [
            "train [35/66] LOSS: 1.1007 ACC: 0.4062\n",
            "train [36/66] LOSS: 0.9978 ACC: 0.5312\n"
          ]
        },
        {
          "output_type": "stream",
          "name": "stderr",
          "text": [
            " 58%|█████▊    | 38/66 [00:14<00:02,  9.73it/s]"
          ]
        },
        {
          "output_type": "stream",
          "name": "stdout",
          "text": [
            "train [37/66] LOSS: 1.0526 ACC: 0.3125\n",
            "train [38/66] LOSS: 1.0899 ACC: 0.3750\n"
          ]
        },
        {
          "output_type": "stream",
          "name": "stderr",
          "text": [
            " 62%|██████▏   | 41/66 [00:14<00:02,  9.86it/s]"
          ]
        },
        {
          "output_type": "stream",
          "name": "stdout",
          "text": [
            "train [39/66] LOSS: 1.0132 ACC: 0.5000\n",
            "train [40/66] LOSS: 1.0175 ACC: 0.4062\n",
            "train [41/66] LOSS: 1.0259 ACC: 0.5938\n"
          ]
        },
        {
          "output_type": "stream",
          "name": "stderr",
          "text": [
            " 65%|██████▌   | 43/66 [00:15<00:02,  9.74it/s]"
          ]
        },
        {
          "output_type": "stream",
          "name": "stdout",
          "text": [
            "train [42/66] LOSS: 1.0559 ACC: 0.5000\n",
            "train [43/66] LOSS: 0.9611 ACC: 0.5000\n"
          ]
        },
        {
          "output_type": "stream",
          "name": "stderr",
          "text": [
            " 68%|██████▊   | 45/66 [00:15<00:02,  9.78it/s]"
          ]
        },
        {
          "output_type": "stream",
          "name": "stdout",
          "text": [
            "train [44/66] LOSS: 1.0585 ACC: 0.3438\n",
            "train [45/66] LOSS: 1.0393 ACC: 0.4688\n"
          ]
        },
        {
          "output_type": "stream",
          "name": "stderr",
          "text": [
            " 71%|███████   | 47/66 [00:15<00:01,  9.81it/s]"
          ]
        },
        {
          "output_type": "stream",
          "name": "stdout",
          "text": [
            "train [46/66] LOSS: 1.1768 ACC: 0.4062\n",
            "train [47/66] LOSS: 1.0706 ACC: 0.4062\n"
          ]
        },
        {
          "output_type": "stream",
          "name": "stderr",
          "text": [
            " 74%|███████▍  | 49/66 [00:15<00:01,  9.85it/s]"
          ]
        },
        {
          "output_type": "stream",
          "name": "stdout",
          "text": [
            "train [48/66] LOSS: 1.0039 ACC: 0.3750\n",
            "train [49/66] LOSS: 1.0903 ACC: 0.4062\n"
          ]
        },
        {
          "output_type": "stream",
          "name": "stderr",
          "text": [
            " 77%|███████▋  | 51/66 [00:15<00:01,  9.88it/s]"
          ]
        },
        {
          "output_type": "stream",
          "name": "stdout",
          "text": [
            "train [50/66] LOSS: 1.0879 ACC: 0.2812\n",
            "train [51/66] LOSS: 1.0388 ACC: 0.4688\n",
            "train [52/66] LOSS: 1.0744 ACC: 0.4375\n"
          ]
        },
        {
          "output_type": "stream",
          "name": "stderr",
          "text": [
            " 83%|████████▎ | 55/66 [00:16<00:01, 10.03it/s]"
          ]
        },
        {
          "output_type": "stream",
          "name": "stdout",
          "text": [
            "train [53/66] LOSS: 1.1003 ACC: 0.2812\n",
            "train [54/66] LOSS: 1.0949 ACC: 0.2500\n",
            "train [55/66] LOSS: 1.0857 ACC: 0.4375\n"
          ]
        },
        {
          "output_type": "stream",
          "name": "stderr",
          "text": [
            " 86%|████████▋ | 57/66 [00:16<00:00,  9.98it/s]"
          ]
        },
        {
          "output_type": "stream",
          "name": "stdout",
          "text": [
            "train [56/66] LOSS: 1.0259 ACC: 0.5312\n",
            "train [57/66] LOSS: 1.1245 ACC: 0.3438\n",
            "train [58/66] LOSS: 1.1021 ACC: 0.2500\n"
          ]
        },
        {
          "output_type": "stream",
          "name": "stderr",
          "text": [
            " 91%|█████████ | 60/66 [00:16<00:00,  9.95it/s]"
          ]
        },
        {
          "output_type": "stream",
          "name": "stdout",
          "text": [
            "train [59/66] LOSS: 1.0693 ACC: 0.4062\n",
            "train [60/66] LOSS: 1.0743 ACC: 0.4688\n",
            "train [61/66] LOSS: 1.0708 ACC: 0.3750\n"
          ]
        },
        {
          "output_type": "stream",
          "name": "stderr",
          "text": [
            " 97%|█████████▋| 64/66 [00:17<00:00, 10.02it/s]"
          ]
        },
        {
          "output_type": "stream",
          "name": "stdout",
          "text": [
            "train [62/66] LOSS: 1.0347 ACC: 0.5000\n",
            "train [63/66] LOSS: 1.0979 ACC: 0.3750\n",
            "train [64/66] LOSS: 1.0344 ACC: 0.3125\n"
          ]
        },
        {
          "output_type": "stream",
          "name": "stderr",
          "text": [
            "\r100%|██████████| 66/66 [00:17<00:00, 10.38it/s]"
          ]
        },
        {
          "output_type": "stream",
          "name": "stdout",
          "text": [
            "train [65/66] LOSS: 1.1101 ACC: 0.4375\n",
            "train [66/66] LOSS: 1.0464 ACC: 0.4500\n"
          ]
        },
        {
          "output_type": "stream",
          "name": "stderr",
          "text": [
            "\r100%|██████████| 66/66 [00:18<00:00,  3.60it/s]\n"
          ]
        },
        {
          "output_type": "stream",
          "name": "stdout",
          "text": [
            "train LOSS: 1.0654 ACC: 0.4114 BEST ACC: 0.4114\n"
          ]
        },
        {
          "output_type": "stream",
          "name": "stderr",
          "text": [
            "100%|██████████| 29/29 [00:09<00:00,  3.14it/s]\n"
          ]
        },
        {
          "output_type": "stream",
          "name": "stdout",
          "text": [
            "val LOSS: 1.1287 ACC: 0.2889 BEST ACC: 0.4022\n",
            "\n",
            "\n",
            "------------------------\n",
            "EPOCH 20/80\n",
            "------------------------\n"
          ]
        },
        {
          "output_type": "stream",
          "name": "stderr",
          "text": [
            "  2%|▏         | 1/66 [00:09<10:20,  9.55s/it]"
          ]
        },
        {
          "output_type": "stream",
          "name": "stdout",
          "text": [
            "train [1/66] LOSS: 1.0576 ACC: 0.4688\n"
          ]
        },
        {
          "output_type": "stream",
          "name": "stderr",
          "text": [
            "  5%|▍         | 3/66 [00:10<02:29,  2.38s/it]"
          ]
        },
        {
          "output_type": "stream",
          "name": "stdout",
          "text": [
            "train [2/66] LOSS: 1.0222 ACC: 0.5000\n",
            "train [3/66] LOSS: 1.0864 ACC: 0.2812\n"
          ]
        },
        {
          "output_type": "stream",
          "name": "stderr",
          "text": [
            "\r  6%|▌         | 4/66 [00:10<01:36,  1.56s/it]"
          ]
        },
        {
          "output_type": "stream",
          "name": "stdout",
          "text": [
            "train [4/66] LOSS: 1.0083 ACC: 0.4688\n"
          ]
        },
        {
          "output_type": "stream",
          "name": "stderr",
          "text": [
            "  9%|▉         | 6/66 [00:11<00:48,  1.25it/s]"
          ]
        },
        {
          "output_type": "stream",
          "name": "stdout",
          "text": [
            "train [5/66] LOSS: 1.0844 ACC: 0.2500\n",
            "train [6/66] LOSS: 1.0711 ACC: 0.2812\n"
          ]
        },
        {
          "output_type": "stream",
          "name": "stderr",
          "text": [
            " 12%|█▏        | 8/66 [00:11<00:28,  2.03it/s]"
          ]
        },
        {
          "output_type": "stream",
          "name": "stdout",
          "text": [
            "train [7/66] LOSS: 1.1117 ACC: 0.5000\n",
            "train [8/66] LOSS: 1.0279 ACC: 0.5312\n"
          ]
        },
        {
          "output_type": "stream",
          "name": "stderr",
          "text": [
            " 15%|█▌        | 10/66 [00:11<00:18,  3.03it/s]"
          ]
        },
        {
          "output_type": "stream",
          "name": "stdout",
          "text": [
            "train [9/66] LOSS: 1.0507 ACC: 0.4375\n",
            "train [10/66] LOSS: 1.0806 ACC: 0.1875\n"
          ]
        },
        {
          "output_type": "stream",
          "name": "stderr",
          "text": [
            " 18%|█▊        | 12/66 [00:12<00:11,  4.65it/s]"
          ]
        },
        {
          "output_type": "stream",
          "name": "stdout",
          "text": [
            "train [11/66] LOSS: 1.0975 ACC: 0.4375\n",
            "train [12/66] LOSS: 1.0611 ACC: 0.5312\n"
          ]
        },
        {
          "output_type": "stream",
          "name": "stderr",
          "text": [
            " 21%|██        | 14/66 [00:12<00:08,  6.25it/s]"
          ]
        },
        {
          "output_type": "stream",
          "name": "stdout",
          "text": [
            "train [13/66] LOSS: 1.0246 ACC: 0.2812\n",
            "train [14/66] LOSS: 1.1029 ACC: 0.3750\n"
          ]
        },
        {
          "output_type": "stream",
          "name": "stderr",
          "text": [
            " 24%|██▍       | 16/66 [00:12<00:06,  7.64it/s]"
          ]
        },
        {
          "output_type": "stream",
          "name": "stdout",
          "text": [
            "train [15/66] LOSS: 1.0892 ACC: 0.4375\n",
            "train [16/66] LOSS: 1.1100 ACC: 0.3438\n"
          ]
        },
        {
          "output_type": "stream",
          "name": "stderr",
          "text": [
            " 29%|██▉       | 19/66 [00:12<00:05,  8.90it/s]"
          ]
        },
        {
          "output_type": "stream",
          "name": "stdout",
          "text": [
            "train [17/66] LOSS: 1.0913 ACC: 0.4375\n",
            "train [18/66] LOSS: 1.0093 ACC: 0.5000\n",
            "train [19/66] LOSS: 1.1247 ACC: 0.3438\n"
          ]
        },
        {
          "output_type": "stream",
          "name": "stderr",
          "text": [
            " 32%|███▏      | 21/66 [00:13<00:04,  9.15it/s]"
          ]
        },
        {
          "output_type": "stream",
          "name": "stdout",
          "text": [
            "train [20/66] LOSS: 1.0728 ACC: 0.3438\n",
            "train [21/66] LOSS: 0.9631 ACC: 0.4688\n"
          ]
        },
        {
          "output_type": "stream",
          "name": "stderr",
          "text": [
            " 35%|███▍      | 23/66 [00:13<00:04,  9.52it/s]"
          ]
        },
        {
          "output_type": "stream",
          "name": "stdout",
          "text": [
            "train [22/66] LOSS: 1.0415 ACC: 0.5000\n",
            "train [23/66] LOSS: 1.1618 ACC: 0.3750\n"
          ]
        },
        {
          "output_type": "stream",
          "name": "stderr",
          "text": [
            " 38%|███▊      | 25/66 [00:13<00:04,  9.71it/s]"
          ]
        },
        {
          "output_type": "stream",
          "name": "stdout",
          "text": [
            "train [24/66] LOSS: 1.0436 ACC: 0.4375\n",
            "train [25/66] LOSS: 1.0345 ACC: 0.4062\n"
          ]
        },
        {
          "output_type": "stream",
          "name": "stderr",
          "text": [
            " 41%|████      | 27/66 [00:13<00:03,  9.82it/s]"
          ]
        },
        {
          "output_type": "stream",
          "name": "stdout",
          "text": [
            "train [26/66] LOSS: 1.0236 ACC: 0.5312\n",
            "train [27/66] LOSS: 1.1192 ACC: 0.3125\n"
          ]
        },
        {
          "output_type": "stream",
          "name": "stderr",
          "text": [
            " 44%|████▍     | 29/66 [00:13<00:03,  9.82it/s]"
          ]
        },
        {
          "output_type": "stream",
          "name": "stdout",
          "text": [
            "train [28/66] LOSS: 0.9992 ACC: 0.4375\n",
            "train [29/66] LOSS: 1.0491 ACC: 0.5938\n",
            "train [30/66] LOSS: 0.9634 ACC: 0.5312\n"
          ]
        },
        {
          "output_type": "stream",
          "name": "stderr",
          "text": [
            "\r 47%|████▋     | 31/66 [00:14<00:03,  9.73it/s]"
          ]
        },
        {
          "output_type": "stream",
          "name": "stdout",
          "text": [
            "train [31/66] LOSS: 0.9915 ACC: 0.5000\n",
            "train [32/66] LOSS: 1.0866 ACC: 0.3438\n"
          ]
        },
        {
          "output_type": "stream",
          "name": "stderr",
          "text": [
            " 52%|█████▏    | 34/66 [00:14<00:03,  9.80it/s]"
          ]
        },
        {
          "output_type": "stream",
          "name": "stdout",
          "text": [
            "train [33/66] LOSS: 1.1973 ACC: 0.3750\n",
            "train [34/66] LOSS: 1.0648 ACC: 0.3750\n"
          ]
        },
        {
          "output_type": "stream",
          "name": "stderr",
          "text": [
            " 55%|█████▍    | 36/66 [00:14<00:03,  9.82it/s]"
          ]
        },
        {
          "output_type": "stream",
          "name": "stdout",
          "text": [
            "train [35/66] LOSS: 1.0934 ACC: 0.4062\n",
            "train [36/66] LOSS: 1.1270 ACC: 0.2188\n"
          ]
        },
        {
          "output_type": "stream",
          "name": "stderr",
          "text": [
            " 59%|█████▉    | 39/66 [00:14<00:02,  9.84it/s]"
          ]
        },
        {
          "output_type": "stream",
          "name": "stdout",
          "text": [
            "train [37/66] LOSS: 0.9899 ACC: 0.4062\n",
            "train [38/66] LOSS: 0.9915 ACC: 0.5312\n",
            "train [39/66] LOSS: 1.0943 ACC: 0.3750\n"
          ]
        },
        {
          "output_type": "stream",
          "name": "stderr",
          "text": [
            " 64%|██████▎   | 42/66 [00:15<00:02,  9.97it/s]"
          ]
        },
        {
          "output_type": "stream",
          "name": "stdout",
          "text": [
            "train [40/66] LOSS: 1.0101 ACC: 0.5000\n",
            "train [41/66] LOSS: 1.0218 ACC: 0.5312\n",
            "train [42/66] LOSS: 1.0690 ACC: 0.4062\n"
          ]
        },
        {
          "output_type": "stream",
          "name": "stderr",
          "text": [
            " 68%|██████▊   | 45/66 [00:15<00:02, 10.03it/s]"
          ]
        },
        {
          "output_type": "stream",
          "name": "stdout",
          "text": [
            "train [43/66] LOSS: 1.0470 ACC: 0.4375\n",
            "train [44/66] LOSS: 1.0144 ACC: 0.4375\n",
            "train [45/66] LOSS: 1.1260 ACC: 0.3438\n"
          ]
        },
        {
          "output_type": "stream",
          "name": "stderr",
          "text": [
            " 73%|███████▎  | 48/66 [00:15<00:01, 10.06it/s]"
          ]
        },
        {
          "output_type": "stream",
          "name": "stdout",
          "text": [
            "train [46/66] LOSS: 0.9846 ACC: 0.5312\n",
            "train [47/66] LOSS: 1.0849 ACC: 0.3125\n",
            "train [48/66] LOSS: 1.1641 ACC: 0.2812\n"
          ]
        },
        {
          "output_type": "stream",
          "name": "stderr",
          "text": [
            "\r 76%|███████▌  | 50/66 [00:16<00:01,  9.99it/s]"
          ]
        },
        {
          "output_type": "stream",
          "name": "stdout",
          "text": [
            "train [49/66] LOSS: 1.0574 ACC: 0.3125\n",
            "train [50/66] LOSS: 1.0738 ACC: 0.5312\n",
            "train [51/66] LOSS: 1.0479 ACC: 0.4688\n"
          ]
        },
        {
          "output_type": "stream",
          "name": "stderr",
          "text": [
            " 82%|████████▏ | 54/66 [00:16<00:01, 10.10it/s]"
          ]
        },
        {
          "output_type": "stream",
          "name": "stdout",
          "text": [
            "train [52/66] LOSS: 1.0636 ACC: 0.3750\n",
            "train [53/66] LOSS: 1.0916 ACC: 0.3750\n",
            "train [54/66] LOSS: 1.0407 ACC: 0.4688\n"
          ]
        },
        {
          "output_type": "stream",
          "name": "stderr",
          "text": [
            "\r 85%|████████▍ | 56/66 [00:16<00:00, 10.10it/s]"
          ]
        },
        {
          "output_type": "stream",
          "name": "stdout",
          "text": [
            "train [55/66] LOSS: 1.0836 ACC: 0.3750\n",
            "train [56/66] LOSS: 1.0450 ACC: 0.5312\n",
            "train [57/66] LOSS: 1.0477 ACC: 0.3438\n"
          ]
        },
        {
          "output_type": "stream",
          "name": "stderr",
          "text": [
            " 91%|█████████ | 60/66 [00:17<00:00, 10.08it/s]"
          ]
        },
        {
          "output_type": "stream",
          "name": "stdout",
          "text": [
            "train [58/66] LOSS: 1.1164 ACC: 0.4375\n",
            "train [59/66] LOSS: 1.0582 ACC: 0.3750\n",
            "train [60/66] LOSS: 1.0396 ACC: 0.3750\n"
          ]
        },
        {
          "output_type": "stream",
          "name": "stderr",
          "text": [
            "\r 94%|█████████▍| 62/66 [00:17<00:00, 10.09it/s]"
          ]
        },
        {
          "output_type": "stream",
          "name": "stdout",
          "text": [
            "train [61/66] LOSS: 1.0041 ACC: 0.3125\n",
            "train [62/66] LOSS: 1.0968 ACC: 0.4062\n",
            "train [63/66] LOSS: 1.0904 ACC: 0.5000\n"
          ]
        },
        {
          "output_type": "stream",
          "name": "stderr",
          "text": [
            "100%|██████████| 66/66 [00:17<00:00, 10.44it/s]"
          ]
        },
        {
          "output_type": "stream",
          "name": "stdout",
          "text": [
            "train [64/66] LOSS: 1.0893 ACC: 0.2812\n",
            "train [65/66] LOSS: 1.1029 ACC: 0.4062\n",
            "train [66/66] LOSS: 1.1026 ACC: 0.3000\n"
          ]
        },
        {
          "output_type": "stream",
          "name": "stderr",
          "text": [
            "\r100%|██████████| 66/66 [00:18<00:00,  3.57it/s]\n"
          ]
        },
        {
          "output_type": "stream",
          "name": "stdout",
          "text": [
            "train LOSS: 1.0635 ACC: 0.4100 BEST ACC: 0.4114\n"
          ]
        },
        {
          "output_type": "stream",
          "name": "stderr",
          "text": [
            "100%|██████████| 29/29 [00:09<00:00,  3.14it/s]\n"
          ]
        },
        {
          "output_type": "stream",
          "name": "stdout",
          "text": [
            "val LOSS: 1.1600 ACC: 0.2878 BEST ACC: 0.4022\n",
            "\n",
            "\n",
            "------------------------\n",
            "EPOCH 21/80\n",
            "------------------------\n"
          ]
        },
        {
          "output_type": "stream",
          "name": "stderr",
          "text": [
            "  2%|▏         | 1/66 [00:08<09:33,  8.82s/it]"
          ]
        },
        {
          "output_type": "stream",
          "name": "stdout",
          "text": [
            "train [1/66] LOSS: 1.1475 ACC: 0.2812\n"
          ]
        },
        {
          "output_type": "stream",
          "name": "stderr",
          "text": [
            "\r  3%|▎         | 2/66 [00:09<04:02,  3.79s/it]"
          ]
        },
        {
          "output_type": "stream",
          "name": "stdout",
          "text": [
            "train [2/66] LOSS: 1.1447 ACC: 0.2812\n"
          ]
        },
        {
          "output_type": "stream",
          "name": "stderr",
          "text": [
            "\r  5%|▍         | 3/66 [00:10<02:38,  2.52s/it]"
          ]
        },
        {
          "output_type": "stream",
          "name": "stdout",
          "text": [
            "train [3/66] LOSS: 1.0610 ACC: 0.5312\n"
          ]
        },
        {
          "output_type": "stream",
          "name": "stderr",
          "text": [
            "\r  6%|▌         | 4/66 [00:10<01:50,  1.77s/it]"
          ]
        },
        {
          "output_type": "stream",
          "name": "stdout",
          "text": [
            "train [4/66] LOSS: 1.0642 ACC: 0.3438\n"
          ]
        },
        {
          "output_type": "stream",
          "name": "stderr",
          "text": [
            "\r  8%|▊         | 5/66 [00:10<01:14,  1.22s/it]"
          ]
        },
        {
          "output_type": "stream",
          "name": "stdout",
          "text": [
            "train [5/66] LOSS: 1.0147 ACC: 0.5938\n"
          ]
        },
        {
          "output_type": "stream",
          "name": "stderr",
          "text": [
            " 11%|█         | 7/66 [00:11<00:38,  1.54it/s]"
          ]
        },
        {
          "output_type": "stream",
          "name": "stdout",
          "text": [
            "train [6/66] LOSS: 1.0335 ACC: 0.5312\n",
            "train [7/66] LOSS: 1.1092 ACC: 0.3125\n"
          ]
        },
        {
          "output_type": "stream",
          "name": "stderr",
          "text": [
            " 14%|█▎        | 9/66 [00:11<00:20,  2.73it/s]"
          ]
        },
        {
          "output_type": "stream",
          "name": "stdout",
          "text": [
            "train [8/66] LOSS: 1.0794 ACC: 0.3438\n",
            "train [9/66] LOSS: 1.0762 ACC: 0.2812\n"
          ]
        },
        {
          "output_type": "stream",
          "name": "stderr",
          "text": [
            " 17%|█▋        | 11/66 [00:11<00:15,  3.65it/s]"
          ]
        },
        {
          "output_type": "stream",
          "name": "stdout",
          "text": [
            "train [10/66] LOSS: 1.0476 ACC: 0.4375\n",
            "train [11/66] LOSS: 0.9964 ACC: 0.3438\n"
          ]
        },
        {
          "output_type": "stream",
          "name": "stderr",
          "text": [
            " 20%|█▉        | 13/66 [00:12<00:09,  5.31it/s]"
          ]
        },
        {
          "output_type": "stream",
          "name": "stdout",
          "text": [
            "train [12/66] LOSS: 1.0798 ACC: 0.5000\n",
            "train [13/66] LOSS: 1.0975 ACC: 0.4062\n"
          ]
        },
        {
          "output_type": "stream",
          "name": "stderr",
          "text": [
            " 23%|██▎       | 15/66 [00:12<00:07,  6.97it/s]"
          ]
        },
        {
          "output_type": "stream",
          "name": "stdout",
          "text": [
            "train [14/66] LOSS: 1.0466 ACC: 0.5000\n",
            "train [15/66] LOSS: 1.0093 ACC: 0.3750\n"
          ]
        },
        {
          "output_type": "stream",
          "name": "stderr",
          "text": [
            " 27%|██▋       | 18/66 [00:12<00:05,  8.64it/s]"
          ]
        },
        {
          "output_type": "stream",
          "name": "stdout",
          "text": [
            "train [16/66] LOSS: 1.0631 ACC: 0.3750\n",
            "train [17/66] LOSS: 1.1138 ACC: 0.3125\n",
            "train [18/66] LOSS: 1.0291 ACC: 0.5625\n"
          ]
        },
        {
          "output_type": "stream",
          "name": "stderr",
          "text": [
            " 32%|███▏      | 21/66 [00:13<00:04,  9.40it/s]"
          ]
        },
        {
          "output_type": "stream",
          "name": "stdout",
          "text": [
            "train [19/66] LOSS: 1.1177 ACC: 0.3750\n",
            "train [20/66] LOSS: 1.0990 ACC: 0.4062\n",
            "train [21/66] LOSS: 1.0383 ACC: 0.2812\n"
          ]
        },
        {
          "output_type": "stream",
          "name": "stderr",
          "text": [
            "\r 33%|███▎      | 22/66 [00:13<00:04,  9.51it/s]"
          ]
        },
        {
          "output_type": "stream",
          "name": "stdout",
          "text": [
            "train [22/66] LOSS: 1.0988 ACC: 0.2500\n",
            "train [23/66] LOSS: 1.0544 ACC: 0.5000\n"
          ]
        },
        {
          "output_type": "stream",
          "name": "stderr",
          "text": [
            " 38%|███▊      | 25/66 [00:13<00:04,  9.54it/s]"
          ]
        },
        {
          "output_type": "stream",
          "name": "stdout",
          "text": [
            "train [24/66] LOSS: 0.9988 ACC: 0.3438\n",
            "train [25/66] LOSS: 1.0757 ACC: 0.3125\n"
          ]
        },
        {
          "output_type": "stream",
          "name": "stderr",
          "text": [
            " 41%|████      | 27/66 [00:13<00:04,  9.39it/s]"
          ]
        },
        {
          "output_type": "stream",
          "name": "stdout",
          "text": [
            "train [26/66] LOSS: 1.1446 ACC: 0.3438\n",
            "train [27/66] LOSS: 1.0751 ACC: 0.3438\n"
          ]
        },
        {
          "output_type": "stream",
          "name": "stderr",
          "text": [
            " 45%|████▌     | 30/66 [00:13<00:03,  9.81it/s]"
          ]
        },
        {
          "output_type": "stream",
          "name": "stdout",
          "text": [
            "train [28/66] LOSS: 1.0458 ACC: 0.3125\n",
            "train [29/66] LOSS: 1.1404 ACC: 0.2188\n",
            "train [30/66] LOSS: 1.0684 ACC: 0.4062\n"
          ]
        },
        {
          "output_type": "stream",
          "name": "stderr",
          "text": [
            " 50%|█████     | 33/66 [00:14<00:03,  9.80it/s]"
          ]
        },
        {
          "output_type": "stream",
          "name": "stdout",
          "text": [
            "train [31/66] LOSS: 1.0283 ACC: 0.4375\n",
            "train [32/66] LOSS: 1.0469 ACC: 0.4688\n",
            "train [33/66] LOSS: 1.0368 ACC: 0.4375\n"
          ]
        },
        {
          "output_type": "stream",
          "name": "stderr",
          "text": [
            " 55%|█████▍    | 36/66 [00:14<00:03,  9.88it/s]"
          ]
        },
        {
          "output_type": "stream",
          "name": "stdout",
          "text": [
            "train [34/66] LOSS: 1.0865 ACC: 0.3125\n",
            "train [35/66] LOSS: 1.0583 ACC: 0.2812\n",
            "train [36/66] LOSS: 1.1179 ACC: 0.2812\n"
          ]
        },
        {
          "output_type": "stream",
          "name": "stderr",
          "text": [
            " 59%|█████▉    | 39/66 [00:14<00:02, 10.01it/s]"
          ]
        },
        {
          "output_type": "stream",
          "name": "stdout",
          "text": [
            "train [37/66] LOSS: 1.0401 ACC: 0.4375\n",
            "train [38/66] LOSS: 1.0015 ACC: 0.5312\n",
            "train [39/66] LOSS: 1.0757 ACC: 0.4375\n"
          ]
        },
        {
          "output_type": "stream",
          "name": "stderr",
          "text": [
            " 64%|██████▎   | 42/66 [00:15<00:02, 10.01it/s]"
          ]
        },
        {
          "output_type": "stream",
          "name": "stdout",
          "text": [
            "train [40/66] LOSS: 1.0829 ACC: 0.4688\n",
            "train [41/66] LOSS: 1.0393 ACC: 0.4375\n",
            "train [42/66] LOSS: 1.0802 ACC: 0.4375\n"
          ]
        },
        {
          "output_type": "stream",
          "name": "stderr",
          "text": [
            " 67%|██████▋   | 44/66 [00:15<00:02,  9.98it/s]"
          ]
        },
        {
          "output_type": "stream",
          "name": "stdout",
          "text": [
            "train [43/66] LOSS: 1.1236 ACC: 0.3750\n",
            "train [44/66] LOSS: 1.0496 ACC: 0.3750\n"
          ]
        },
        {
          "output_type": "stream",
          "name": "stderr",
          "text": [
            " 71%|███████   | 47/66 [00:15<00:01,  9.97it/s]"
          ]
        },
        {
          "output_type": "stream",
          "name": "stdout",
          "text": [
            "train [45/66] LOSS: 1.0882 ACC: 0.3125\n",
            "train [46/66] LOSS: 1.0878 ACC: 0.4062\n",
            "train [47/66] LOSS: 1.0261 ACC: 0.4375\n"
          ]
        },
        {
          "output_type": "stream",
          "name": "stderr",
          "text": [
            " 74%|███████▍  | 49/66 [00:15<00:01,  9.94it/s]"
          ]
        },
        {
          "output_type": "stream",
          "name": "stdout",
          "text": [
            "train [48/66] LOSS: 1.0567 ACC: 0.2812\n",
            "train [49/66] LOSS: 1.0827 ACC: 0.3125\n"
          ]
        },
        {
          "output_type": "stream",
          "name": "stderr",
          "text": [
            " 79%|███████▉  | 52/66 [00:16<00:01,  9.90it/s]"
          ]
        },
        {
          "output_type": "stream",
          "name": "stdout",
          "text": [
            "train [50/66] LOSS: 1.0662 ACC: 0.3438\n",
            "train [51/66] LOSS: 1.0380 ACC: 0.5312\n",
            "train [52/66] LOSS: 1.1231 ACC: 0.2188\n"
          ]
        },
        {
          "output_type": "stream",
          "name": "stderr",
          "text": [
            " 83%|████████▎ | 55/66 [00:16<00:01, 10.04it/s]"
          ]
        },
        {
          "output_type": "stream",
          "name": "stdout",
          "text": [
            "train [53/66] LOSS: 1.0644 ACC: 0.4062\n",
            "train [54/66] LOSS: 1.0557 ACC: 0.4688\n",
            "train [55/66] LOSS: 1.0003 ACC: 0.4375\n"
          ]
        },
        {
          "output_type": "stream",
          "name": "stderr",
          "text": [
            " 86%|████████▋ | 57/66 [00:16<00:00,  9.97it/s]"
          ]
        },
        {
          "output_type": "stream",
          "name": "stdout",
          "text": [
            "train [56/66] LOSS: 1.0383 ACC: 0.6250\n",
            "train [57/66] LOSS: 1.0723 ACC: 0.4375\n",
            "train [58/66] LOSS: 1.1392 ACC: 0.4375\n"
          ]
        },
        {
          "output_type": "stream",
          "name": "stderr",
          "text": [
            " 92%|█████████▏| 61/66 [00:17<00:00, 10.09it/s]"
          ]
        },
        {
          "output_type": "stream",
          "name": "stdout",
          "text": [
            "train [59/66] LOSS: 0.9672 ACC: 0.4688\n",
            "train [60/66] LOSS: 1.0455 ACC: 0.3438\n",
            "train [61/66] LOSS: 1.0413 ACC: 0.4688\n"
          ]
        },
        {
          "output_type": "stream",
          "name": "stderr",
          "text": [
            "\r 95%|█████████▌| 63/66 [00:17<00:00, 10.08it/s]"
          ]
        },
        {
          "output_type": "stream",
          "name": "stdout",
          "text": [
            "train [62/66] LOSS: 1.0269 ACC: 0.3750\n",
            "train [63/66] LOSS: 1.1159 ACC: 0.3438\n",
            "train [64/66] LOSS: 0.9655 ACC: 0.5938\n"
          ]
        },
        {
          "output_type": "stream",
          "name": "stderr",
          "text": [
            "\r 98%|█████████▊| 65/66 [00:17<00:00, 10.02it/s]"
          ]
        },
        {
          "output_type": "stream",
          "name": "stdout",
          "text": [
            "train [65/66] LOSS: 1.0418 ACC: 0.4688\n",
            "train [66/66] LOSS: 1.0381 ACC: 0.4500\n"
          ]
        },
        {
          "output_type": "stream",
          "name": "stderr",
          "text": [
            "\r100%|██████████| 66/66 [00:18<00:00,  3.58it/s]\n"
          ]
        },
        {
          "output_type": "stream",
          "name": "stdout",
          "text": [
            "train LOSS: 1.0639 ACC: 0.3981 BEST ACC: 0.4114\n"
          ]
        },
        {
          "output_type": "stream",
          "name": "stderr",
          "text": [
            "100%|██████████| 29/29 [00:09<00:00,  3.15it/s]\n"
          ]
        },
        {
          "output_type": "stream",
          "name": "stdout",
          "text": [
            "val LOSS: 1.0813 ACC: 0.3900 BEST ACC: 0.4022\n",
            "\n",
            "\n",
            "------------------------\n",
            "EPOCH 22/80\n",
            "------------------------\n"
          ]
        },
        {
          "output_type": "stream",
          "name": "stderr",
          "text": [
            "  3%|▎         | 2/66 [00:10<04:35,  4.30s/it]"
          ]
        },
        {
          "output_type": "stream",
          "name": "stdout",
          "text": [
            "train [1/66] LOSS: 0.9476 ACC: 0.5312\n",
            "train [2/66] LOSS: 0.9778 ACC: 0.5938\n"
          ]
        },
        {
          "output_type": "stream",
          "name": "stderr",
          "text": [
            "\r  5%|▍         | 3/66 [00:10<02:30,  2.39s/it]"
          ]
        },
        {
          "output_type": "stream",
          "name": "stdout",
          "text": [
            "train [3/66] LOSS: 1.0125 ACC: 0.4062\n"
          ]
        },
        {
          "output_type": "stream",
          "name": "stderr",
          "text": [
            "\r  6%|▌         | 4/66 [00:11<01:42,  1.65s/it]"
          ]
        },
        {
          "output_type": "stream",
          "name": "stdout",
          "text": [
            "train [4/66] LOSS: 1.2288 ACC: 0.2500\n"
          ]
        },
        {
          "output_type": "stream",
          "name": "stderr",
          "text": [
            "\r  8%|▊         | 5/66 [00:11<01:08,  1.13s/it]"
          ]
        },
        {
          "output_type": "stream",
          "name": "stdout",
          "text": [
            "train [5/66] LOSS: 1.0953 ACC: 0.2812\n"
          ]
        },
        {
          "output_type": "stream",
          "name": "stderr",
          "text": [
            "\r  9%|▉         | 6/66 [00:11<00:49,  1.21it/s]"
          ]
        },
        {
          "output_type": "stream",
          "name": "stdout",
          "text": [
            "train [6/66] LOSS: 1.0916 ACC: 0.3750\n"
          ]
        },
        {
          "output_type": "stream",
          "name": "stderr",
          "text": [
            "\r 11%|█         | 7/66 [00:12<00:49,  1.19it/s]"
          ]
        },
        {
          "output_type": "stream",
          "name": "stdout",
          "text": [
            "train [7/66] LOSS: 0.9577 ACC: 0.5000\n"
          ]
        },
        {
          "output_type": "stream",
          "name": "stderr",
          "text": [
            "\r 12%|█▏        | 8/66 [00:12<00:40,  1.44it/s]"
          ]
        },
        {
          "output_type": "stream",
          "name": "stdout",
          "text": [
            "train [8/66] LOSS: 0.9736 ACC: 0.5625\n"
          ]
        },
        {
          "output_type": "stream",
          "name": "stderr",
          "text": [
            " 15%|█▌        | 10/66 [00:13<00:24,  2.32it/s]"
          ]
        },
        {
          "output_type": "stream",
          "name": "stdout",
          "text": [
            "train [9/66] LOSS: 1.0275 ACC: 0.4375\n",
            "train [10/66] LOSS: 1.0188 ACC: 0.4688\n"
          ]
        },
        {
          "output_type": "stream",
          "name": "stderr",
          "text": [
            " 18%|█▊        | 12/66 [00:13<00:14,  3.68it/s]"
          ]
        },
        {
          "output_type": "stream",
          "name": "stdout",
          "text": [
            "train [11/66] LOSS: 1.0573 ACC: 0.4375\n",
            "train [12/66] LOSS: 1.0438 ACC: 0.4375\n"
          ]
        },
        {
          "output_type": "stream",
          "name": "stderr",
          "text": [
            " 21%|██        | 14/66 [00:13<00:09,  5.28it/s]"
          ]
        },
        {
          "output_type": "stream",
          "name": "stdout",
          "text": [
            "train [13/66] LOSS: 1.1669 ACC: 0.4062\n",
            "train [14/66] LOSS: 1.0837 ACC: 0.4062\n"
          ]
        },
        {
          "output_type": "stream",
          "name": "stderr",
          "text": [
            " 24%|██▍       | 16/66 [00:13<00:07,  6.91it/s]"
          ]
        },
        {
          "output_type": "stream",
          "name": "stdout",
          "text": [
            "train [15/66] LOSS: 1.1058 ACC: 0.3125\n",
            "train [16/66] LOSS: 1.1941 ACC: 0.3125\n"
          ]
        },
        {
          "output_type": "stream",
          "name": "stderr",
          "text": [
            "\r 27%|██▋       | 18/66 [00:13<00:05,  8.07it/s]"
          ]
        },
        {
          "output_type": "stream",
          "name": "stdout",
          "text": [
            "train [17/66] LOSS: 1.0443 ACC: 0.4062\n",
            "train [18/66] LOSS: 1.1339 ACC: 0.3438\n",
            "train [19/66] LOSS: 1.0991 ACC: 0.2500\n"
          ]
        },
        {
          "output_type": "stream",
          "name": "stderr",
          "text": [
            " 32%|███▏      | 21/66 [00:14<00:05,  8.96it/s]"
          ]
        },
        {
          "output_type": "stream",
          "name": "stdout",
          "text": [
            "train [20/66] LOSS: 1.0553 ACC: 0.3438\n",
            "train [21/66] LOSS: 1.0280 ACC: 0.5625\n"
          ]
        },
        {
          "output_type": "stream",
          "name": "stderr",
          "text": [
            " 36%|███▋      | 24/66 [00:14<00:04,  9.52it/s]"
          ]
        },
        {
          "output_type": "stream",
          "name": "stdout",
          "text": [
            "train [22/66] LOSS: 1.0987 ACC: 0.2500\n",
            "train [23/66] LOSS: 1.1286 ACC: 0.3125\n",
            "train [24/66] LOSS: 1.0514 ACC: 0.4375\n",
            "train [25/66] LOSS: 1.0275 ACC: 0.5000\n"
          ]
        },
        {
          "output_type": "stream",
          "name": "stderr",
          "text": [
            " 41%|████      | 27/66 [00:14<00:03,  9.78it/s]"
          ]
        },
        {
          "output_type": "stream",
          "name": "stdout",
          "text": [
            "train [26/66] LOSS: 1.0441 ACC: 0.3438\n",
            "train [27/66] LOSS: 1.1699 ACC: 0.3438\n",
            "train [28/66] LOSS: 1.0664 ACC: 0.3125\n"
          ]
        },
        {
          "output_type": "stream",
          "name": "stderr",
          "text": [
            " 45%|████▌     | 30/66 [00:15<00:03,  9.88it/s]"
          ]
        },
        {
          "output_type": "stream",
          "name": "stdout",
          "text": [
            "train [29/66] LOSS: 1.0583 ACC: 0.3438\n",
            "train [30/66] LOSS: 1.0418 ACC: 0.4375\n"
          ]
        },
        {
          "output_type": "stream",
          "name": "stderr",
          "text": [
            " 48%|████▊     | 32/66 [00:15<00:03,  9.86it/s]"
          ]
        },
        {
          "output_type": "stream",
          "name": "stdout",
          "text": [
            "train [31/66] LOSS: 1.0744 ACC: 0.3125\n",
            "train [32/66] LOSS: 1.0089 ACC: 0.4062\n",
            "train [33/66] LOSS: 1.1070 ACC: 0.3750\n"
          ]
        },
        {
          "output_type": "stream",
          "name": "stderr",
          "text": [
            " 53%|█████▎    | 35/66 [00:15<00:03,  9.96it/s]"
          ]
        },
        {
          "output_type": "stream",
          "name": "stdout",
          "text": [
            "train [34/66] LOSS: 1.0573 ACC: 0.4375\n",
            "train [35/66] LOSS: 1.0374 ACC: 0.4688\n"
          ]
        },
        {
          "output_type": "stream",
          "name": "stderr",
          "text": [
            " 56%|█████▌    | 37/66 [00:15<00:02,  9.94it/s]"
          ]
        },
        {
          "output_type": "stream",
          "name": "stdout",
          "text": [
            "train [36/66] LOSS: 1.0575 ACC: 0.4375\n",
            "train [37/66] LOSS: 1.0611 ACC: 0.3438\n"
          ]
        },
        {
          "output_type": "stream",
          "name": "stderr",
          "text": [
            " 61%|██████    | 40/66 [00:16<00:02, 10.00it/s]"
          ]
        },
        {
          "output_type": "stream",
          "name": "stdout",
          "text": [
            "train [38/66] LOSS: 1.0696 ACC: 0.5000\n",
            "train [39/66] LOSS: 1.0829 ACC: 0.4062\n",
            "train [40/66] LOSS: 1.0984 ACC: 0.3750\n"
          ]
        },
        {
          "output_type": "stream",
          "name": "stderr",
          "text": [
            " 65%|██████▌   | 43/66 [00:16<00:02, 10.06it/s]"
          ]
        },
        {
          "output_type": "stream",
          "name": "stdout",
          "text": [
            "train [41/66] LOSS: 1.1180 ACC: 0.3125\n",
            "train [42/66] LOSS: 1.1121 ACC: 0.2500\n",
            "train [43/66] LOSS: 1.0459 ACC: 0.3438\n"
          ]
        },
        {
          "output_type": "stream",
          "name": "stderr",
          "text": [
            "\r 68%|██████▊   | 45/66 [00:16<00:02, 10.07it/s]"
          ]
        },
        {
          "output_type": "stream",
          "name": "stdout",
          "text": [
            "train [44/66] LOSS: 1.0738 ACC: 0.4375\n",
            "train [45/66] LOSS: 1.0683 ACC: 0.4375\n",
            "train [46/66] LOSS: 1.0487 ACC: 0.3750\n"
          ]
        },
        {
          "output_type": "stream",
          "name": "stderr",
          "text": [
            " 74%|███████▍  | 49/66 [00:17<00:01, 10.05it/s]"
          ]
        },
        {
          "output_type": "stream",
          "name": "stdout",
          "text": [
            "train [47/66] LOSS: 1.0750 ACC: 0.4062\n",
            "train [48/66] LOSS: 1.0408 ACC: 0.4062\n",
            "train [49/66] LOSS: 1.0664 ACC: 0.3750\n"
          ]
        },
        {
          "output_type": "stream",
          "name": "stderr",
          "text": [
            "\r 77%|███████▋  | 51/66 [00:17<00:01, 10.06it/s]"
          ]
        },
        {
          "output_type": "stream",
          "name": "stdout",
          "text": [
            "train [50/66] LOSS: 1.0694 ACC: 0.4062\n",
            "train [51/66] LOSS: 1.0444 ACC: 0.4062\n",
            "train [52/66] LOSS: 1.0195 ACC: 0.5312\n"
          ]
        },
        {
          "output_type": "stream",
          "name": "stderr",
          "text": [
            " 83%|████████▎ | 55/66 [00:17<00:01, 10.12it/s]"
          ]
        },
        {
          "output_type": "stream",
          "name": "stdout",
          "text": [
            "train [53/66] LOSS: 1.0834 ACC: 0.3750\n",
            "train [54/66] LOSS: 0.9993 ACC: 0.5312\n",
            "train [55/66] LOSS: 1.0246 ACC: 0.3125\n"
          ]
        },
        {
          "output_type": "stream",
          "name": "stderr",
          "text": [
            "\r 86%|████████▋ | 57/66 [00:17<00:00, 10.10it/s]"
          ]
        },
        {
          "output_type": "stream",
          "name": "stdout",
          "text": [
            "train [56/66] LOSS: 1.0649 ACC: 0.3125\n",
            "train [57/66] LOSS: 1.0589 ACC: 0.4688\n",
            "train [58/66] LOSS: 1.0366 ACC: 0.5000\n"
          ]
        },
        {
          "output_type": "stream",
          "name": "stderr",
          "text": [
            " 92%|█████████▏| 61/66 [00:18<00:00, 10.14it/s]"
          ]
        },
        {
          "output_type": "stream",
          "name": "stdout",
          "text": [
            "train [59/66] LOSS: 1.0281 ACC: 0.3438\n",
            "train [60/66] LOSS: 1.0157 ACC: 0.4688\n",
            "train [61/66] LOSS: 1.0445 ACC: 0.5000\n"
          ]
        },
        {
          "output_type": "stream",
          "name": "stderr",
          "text": [
            "\r 95%|█████████▌| 63/66 [00:18<00:00, 10.13it/s]"
          ]
        },
        {
          "output_type": "stream",
          "name": "stdout",
          "text": [
            "train [62/66] LOSS: 1.0379 ACC: 0.5000\n",
            "train [63/66] LOSS: 1.1037 ACC: 0.2188\n",
            "train [64/66] LOSS: 1.0307 ACC: 0.5000\n"
          ]
        },
        {
          "output_type": "stream",
          "name": "stderr",
          "text": [
            "\r 98%|█████████▊| 65/66 [00:18<00:00, 10.00it/s]"
          ]
        },
        {
          "output_type": "stream",
          "name": "stdout",
          "text": [
            "train [65/66] LOSS: 0.9990 ACC: 0.3750\n",
            "train [66/66] LOSS: 1.0477 ACC: 0.4500\n"
          ]
        },
        {
          "output_type": "stream",
          "name": "stderr",
          "text": [
            "\r100%|██████████| 66/66 [00:19<00:00,  3.36it/s]\n"
          ]
        },
        {
          "output_type": "stream",
          "name": "stdout",
          "text": [
            "train LOSS: 1.0612 ACC: 0.4014 BEST ACC: 0.4114\n"
          ]
        },
        {
          "output_type": "stream",
          "name": "stderr",
          "text": [
            "100%|██████████| 29/29 [00:09<00:00,  3.12it/s]\n"
          ]
        },
        {
          "output_type": "stream",
          "name": "stdout",
          "text": [
            "Best Validation Accuracy: 0.4378\n",
            "Saving model (Accuracy 43.78%) to model/2021-12-16-23-06-26/best.pth\n",
            "val LOSS: 1.0918 ACC: 0.4378 BEST ACC: 0.4378\n",
            "\n",
            "\n",
            "------------------------\n",
            "EPOCH 23/80\n",
            "------------------------\n"
          ]
        },
        {
          "output_type": "stream",
          "name": "stderr",
          "text": [
            "  2%|▏         | 1/66 [00:09<10:46,  9.94s/it]"
          ]
        },
        {
          "output_type": "stream",
          "name": "stdout",
          "text": [
            "train [1/66] LOSS: 1.1455 ACC: 0.3125\n"
          ]
        },
        {
          "output_type": "stream",
          "name": "stderr",
          "text": [
            "  5%|▍         | 3/66 [00:10<02:35,  2.46s/it]"
          ]
        },
        {
          "output_type": "stream",
          "name": "stdout",
          "text": [
            "train [2/66] LOSS: 1.0782 ACC: 0.3125\n",
            "train [3/66] LOSS: 1.0334 ACC: 0.4062\n"
          ]
        },
        {
          "output_type": "stream",
          "name": "stderr",
          "text": [
            "\r  6%|▌         | 4/66 [00:10<01:36,  1.56s/it]"
          ]
        },
        {
          "output_type": "stream",
          "name": "stdout",
          "text": [
            "train [4/66] LOSS: 1.0793 ACC: 0.4062\n"
          ]
        },
        {
          "output_type": "stream",
          "name": "stderr",
          "text": [
            "\r  8%|▊         | 5/66 [00:11<01:07,  1.11s/it]"
          ]
        },
        {
          "output_type": "stream",
          "name": "stdout",
          "text": [
            "train [5/66] LOSS: 1.1585 ACC: 0.2812\n"
          ]
        },
        {
          "output_type": "stream",
          "name": "stderr",
          "text": [
            " 11%|█         | 7/66 [00:11<00:34,  1.70it/s]"
          ]
        },
        {
          "output_type": "stream",
          "name": "stdout",
          "text": [
            "train [6/66] LOSS: 1.0444 ACC: 0.5312\n",
            "train [7/66] LOSS: 1.0461 ACC: 0.4688\n"
          ]
        },
        {
          "output_type": "stream",
          "name": "stderr",
          "text": [
            " 14%|█▎        | 9/66 [00:11<00:20,  2.79it/s]"
          ]
        },
        {
          "output_type": "stream",
          "name": "stdout",
          "text": [
            "train [8/66] LOSS: 1.0597 ACC: 0.4062\n",
            "train [9/66] LOSS: 1.0385 ACC: 0.4375\n"
          ]
        },
        {
          "output_type": "stream",
          "name": "stderr",
          "text": [
            "\r 15%|█▌        | 10/66 [00:12<00:18,  3.00it/s]"
          ]
        },
        {
          "output_type": "stream",
          "name": "stdout",
          "text": [
            "train [10/66] LOSS: 1.0166 ACC: 0.5625\n"
          ]
        },
        {
          "output_type": "stream",
          "name": "stderr",
          "text": [
            "\r 17%|█▋        | 11/66 [00:12<00:17,  3.12it/s]"
          ]
        },
        {
          "output_type": "stream",
          "name": "stdout",
          "text": [
            "train [11/66] LOSS: 1.0939 ACC: 0.3438\n"
          ]
        },
        {
          "output_type": "stream",
          "name": "stderr",
          "text": [
            " 20%|█▉        | 13/66 [00:12<00:15,  3.42it/s]"
          ]
        },
        {
          "output_type": "stream",
          "name": "stdout",
          "text": [
            "train [12/66] LOSS: 0.9594 ACC: 0.2500\n",
            "train [13/66] LOSS: 1.0486 ACC: 0.5312\n"
          ]
        },
        {
          "output_type": "stream",
          "name": "stderr",
          "text": [
            " 23%|██▎       | 15/66 [00:13<00:09,  5.12it/s]"
          ]
        },
        {
          "output_type": "stream",
          "name": "stdout",
          "text": [
            "train [14/66] LOSS: 1.0219 ACC: 0.3438\n",
            "train [15/66] LOSS: 1.0457 ACC: 0.4062\n"
          ]
        },
        {
          "output_type": "stream",
          "name": "stderr",
          "text": [
            " 26%|██▌       | 17/66 [00:13<00:07,  6.76it/s]"
          ]
        },
        {
          "output_type": "stream",
          "name": "stdout",
          "text": [
            "train [16/66] LOSS: 0.9904 ACC: 0.5000\n",
            "train [17/66] LOSS: 1.0224 ACC: 0.5625\n"
          ]
        },
        {
          "output_type": "stream",
          "name": "stderr",
          "text": [
            " 29%|██▉       | 19/66 [00:13<00:05,  8.04it/s]"
          ]
        },
        {
          "output_type": "stream",
          "name": "stdout",
          "text": [
            "train [18/66] LOSS: 1.0098 ACC: 0.5312\n",
            "train [19/66] LOSS: 1.0586 ACC: 0.3750\n"
          ]
        },
        {
          "output_type": "stream",
          "name": "stderr",
          "text": [
            " 33%|███▎      | 22/66 [00:13<00:04,  9.12it/s]"
          ]
        },
        {
          "output_type": "stream",
          "name": "stdout",
          "text": [
            "train [20/66] LOSS: 1.0014 ACC: 0.5625\n",
            "train [21/66] LOSS: 1.1026 ACC: 0.4375\n",
            "train [22/66] LOSS: 1.1045 ACC: 0.5000\n"
          ]
        },
        {
          "output_type": "stream",
          "name": "stderr",
          "text": [
            " 38%|███▊      | 25/66 [00:14<00:04,  9.66it/s]"
          ]
        },
        {
          "output_type": "stream",
          "name": "stdout",
          "text": [
            "train [23/66] LOSS: 1.0463 ACC: 0.5000\n",
            "train [24/66] LOSS: 1.0074 ACC: 0.4688\n",
            "train [25/66] LOSS: 1.0129 ACC: 0.4062\n"
          ]
        },
        {
          "output_type": "stream",
          "name": "stderr",
          "text": [
            " 41%|████      | 27/66 [00:14<00:03,  9.78it/s]"
          ]
        },
        {
          "output_type": "stream",
          "name": "stdout",
          "text": [
            "train [26/66] LOSS: 1.0054 ACC: 0.4062\n",
            "train [27/66] LOSS: 0.9574 ACC: 0.5312\n",
            "train [28/66] LOSS: 1.0699 ACC: 0.4375\n"
          ]
        },
        {
          "output_type": "stream",
          "name": "stderr",
          "text": [
            " 47%|████▋     | 31/66 [00:14<00:03, 10.01it/s]"
          ]
        },
        {
          "output_type": "stream",
          "name": "stdout",
          "text": [
            "train [29/66] LOSS: 1.0684 ACC: 0.4688\n",
            "train [30/66] LOSS: 0.9372 ACC: 0.6562\n",
            "train [31/66] LOSS: 1.0500 ACC: 0.4375\n"
          ]
        },
        {
          "output_type": "stream",
          "name": "stderr",
          "text": [
            "\r 50%|█████     | 33/66 [00:14<00:03, 10.06it/s]"
          ]
        },
        {
          "output_type": "stream",
          "name": "stdout",
          "text": [
            "train [32/66] LOSS: 1.0682 ACC: 0.2500\n",
            "train [33/66] LOSS: 1.0864 ACC: 0.3438\n",
            "train [34/66] LOSS: 1.0452 ACC: 0.4062\n"
          ]
        },
        {
          "output_type": "stream",
          "name": "stderr",
          "text": [
            " 56%|█████▌    | 37/66 [00:15<00:02, 10.06it/s]"
          ]
        },
        {
          "output_type": "stream",
          "name": "stdout",
          "text": [
            "train [35/66] LOSS: 1.1841 ACC: 0.2812\n",
            "train [36/66] LOSS: 1.0157 ACC: 0.5000\n",
            "train [37/66] LOSS: 1.0720 ACC: 0.1875\n"
          ]
        },
        {
          "output_type": "stream",
          "name": "stderr",
          "text": [
            "\r 59%|█████▉    | 39/66 [00:15<00:02, 10.06it/s]"
          ]
        },
        {
          "output_type": "stream",
          "name": "stdout",
          "text": [
            "train [38/66] LOSS: 1.0341 ACC: 0.4688\n",
            "train [39/66] LOSS: 1.0731 ACC: 0.3125\n",
            "train [40/66] LOSS: 1.0724 ACC: 0.3125\n"
          ]
        },
        {
          "output_type": "stream",
          "name": "stderr",
          "text": [
            " 65%|██████▌   | 43/66 [00:15<00:02, 10.11it/s]"
          ]
        },
        {
          "output_type": "stream",
          "name": "stdout",
          "text": [
            "train [41/66] LOSS: 1.0868 ACC: 0.3125\n",
            "train [42/66] LOSS: 1.1449 ACC: 0.2812\n",
            "train [43/66] LOSS: 1.0759 ACC: 0.4375\n"
          ]
        },
        {
          "output_type": "stream",
          "name": "stderr",
          "text": [
            "\r 68%|██████▊   | 45/66 [00:16<00:02, 10.10it/s]"
          ]
        },
        {
          "output_type": "stream",
          "name": "stdout",
          "text": [
            "train [44/66] LOSS: 1.1112 ACC: 0.3438\n",
            "train [45/66] LOSS: 1.0579 ACC: 0.3438\n",
            "train [46/66] LOSS: 1.0808 ACC: 0.3438\n"
          ]
        },
        {
          "output_type": "stream",
          "name": "stderr",
          "text": [
            " 74%|███████▍  | 49/66 [00:16<00:01, 10.08it/s]"
          ]
        },
        {
          "output_type": "stream",
          "name": "stdout",
          "text": [
            "train [47/66] LOSS: 1.0506 ACC: 0.4688\n",
            "train [48/66] LOSS: 1.1168 ACC: 0.2188\n",
            "train [49/66] LOSS: 0.9862 ACC: 0.6562\n"
          ]
        },
        {
          "output_type": "stream",
          "name": "stderr",
          "text": [
            "\r 77%|███████▋  | 51/66 [00:16<00:01, 10.09it/s]"
          ]
        },
        {
          "output_type": "stream",
          "name": "stdout",
          "text": [
            "train [50/66] LOSS: 1.0602 ACC: 0.2812\n",
            "train [51/66] LOSS: 1.0739 ACC: 0.4062\n",
            "train [52/66] LOSS: 1.1134 ACC: 0.2812\n"
          ]
        },
        {
          "output_type": "stream",
          "name": "stderr",
          "text": [
            " 83%|████████▎ | 55/66 [00:17<00:01, 10.09it/s]"
          ]
        },
        {
          "output_type": "stream",
          "name": "stdout",
          "text": [
            "train [53/66] LOSS: 1.0766 ACC: 0.4062\n",
            "train [54/66] LOSS: 1.0390 ACC: 0.4688\n",
            "train [55/66] LOSS: 1.0607 ACC: 0.5000\n"
          ]
        },
        {
          "output_type": "stream",
          "name": "stderr",
          "text": [
            "\r 86%|████████▋ | 57/66 [00:17<00:00, 10.04it/s]"
          ]
        },
        {
          "output_type": "stream",
          "name": "stdout",
          "text": [
            "train [56/66] LOSS: 1.0595 ACC: 0.4062\n",
            "train [57/66] LOSS: 1.0372 ACC: 0.4062\n",
            "train [58/66] LOSS: 1.0424 ACC: 0.4688\n"
          ]
        },
        {
          "output_type": "stream",
          "name": "stderr",
          "text": [
            " 92%|█████████▏| 61/66 [00:17<00:00, 10.08it/s]"
          ]
        },
        {
          "output_type": "stream",
          "name": "stdout",
          "text": [
            "train [59/66] LOSS: 1.0599 ACC: 0.5000\n",
            "train [60/66] LOSS: 1.0695 ACC: 0.4688\n",
            "train [61/66] LOSS: 1.0764 ACC: 0.4375\n"
          ]
        },
        {
          "output_type": "stream",
          "name": "stderr",
          "text": [
            "\r 95%|█████████▌| 63/66 [00:17<00:00, 10.09it/s]"
          ]
        },
        {
          "output_type": "stream",
          "name": "stdout",
          "text": [
            "train [62/66] LOSS: 0.9752 ACC: 0.4688\n",
            "train [63/66] LOSS: 1.0089 ACC: 0.4688\n",
            "train [64/66] LOSS: 1.0641 ACC: 0.3438\n"
          ]
        },
        {
          "output_type": "stream",
          "name": "stderr",
          "text": [
            "\r 98%|█████████▊| 65/66 [00:18<00:00, 10.05it/s]"
          ]
        },
        {
          "output_type": "stream",
          "name": "stdout",
          "text": [
            "train [65/66] LOSS: 1.0492 ACC: 0.3438\n",
            "train [66/66] LOSS: 0.9582 ACC: 0.5000\n"
          ]
        },
        {
          "output_type": "stream",
          "name": "stderr",
          "text": [
            "\r100%|██████████| 66/66 [00:19<00:00,  3.45it/s]\n"
          ]
        },
        {
          "output_type": "stream",
          "name": "stdout",
          "text": [
            "train LOSS: 1.0530 ACC: 0.4148 BEST ACC: 0.4148\n"
          ]
        },
        {
          "output_type": "stream",
          "name": "stderr",
          "text": [
            "100%|██████████| 29/29 [00:09<00:00,  3.14it/s]\n"
          ]
        },
        {
          "output_type": "stream",
          "name": "stdout",
          "text": [
            "val LOSS: 1.4160 ACC: 0.4033 BEST ACC: 0.4378\n",
            "\n",
            "\n",
            "------------------------\n",
            "EPOCH 24/80\n",
            "------------------------\n"
          ]
        },
        {
          "output_type": "stream",
          "name": "stderr",
          "text": [
            "  2%|▏         | 1/66 [00:09<10:36,  9.79s/it]"
          ]
        },
        {
          "output_type": "stream",
          "name": "stdout",
          "text": [
            "train [1/66] LOSS: 1.1373 ACC: 0.3438\n"
          ]
        },
        {
          "output_type": "stream",
          "name": "stderr",
          "text": [
            "\r  3%|▎         | 2/66 [00:10<04:52,  4.57s/it]"
          ]
        },
        {
          "output_type": "stream",
          "name": "stdout",
          "text": [
            "train [2/66] LOSS: 1.0306 ACC: 0.4062\n"
          ]
        },
        {
          "output_type": "stream",
          "name": "stderr",
          "text": [
            "\r  5%|▍         | 3/66 [00:11<02:45,  2.62s/it]"
          ]
        },
        {
          "output_type": "stream",
          "name": "stdout",
          "text": [
            "train [3/66] LOSS: 0.9541 ACC: 0.6250\n"
          ]
        },
        {
          "output_type": "stream",
          "name": "stderr",
          "text": [
            "\r  6%|▌         | 4/66 [00:11<01:45,  1.70s/it]"
          ]
        },
        {
          "output_type": "stream",
          "name": "stdout",
          "text": [
            "train [4/66] LOSS: 1.0733 ACC: 0.3750\n"
          ]
        },
        {
          "output_type": "stream",
          "name": "stderr",
          "text": [
            "\r  8%|▊         | 5/66 [00:11<01:12,  1.19s/it]"
          ]
        },
        {
          "output_type": "stream",
          "name": "stdout",
          "text": [
            "train [5/66] LOSS: 1.0393 ACC: 0.3750\n"
          ]
        },
        {
          "output_type": "stream",
          "name": "stderr",
          "text": [
            " 11%|█         | 7/66 [00:11<00:36,  1.63it/s]"
          ]
        },
        {
          "output_type": "stream",
          "name": "stdout",
          "text": [
            "train [6/66] LOSS: 1.0160 ACC: 0.5312\n",
            "train [7/66] LOSS: 1.0133 ACC: 0.5000\n"
          ]
        },
        {
          "output_type": "stream",
          "name": "stderr",
          "text": [
            " 14%|█▎        | 9/66 [00:12<00:21,  2.70it/s]"
          ]
        },
        {
          "output_type": "stream",
          "name": "stdout",
          "text": [
            "train [8/66] LOSS: 1.0356 ACC: 0.5625\n",
            "train [9/66] LOSS: 1.0481 ACC: 0.3438\n"
          ]
        },
        {
          "output_type": "stream",
          "name": "stderr",
          "text": [
            "\r 15%|█▌        | 10/66 [00:12<00:17,  3.28it/s]"
          ]
        },
        {
          "output_type": "stream",
          "name": "stdout",
          "text": [
            "train [10/66] LOSS: 1.1090 ACC: 0.2812\n"
          ]
        },
        {
          "output_type": "stream",
          "name": "stderr",
          "text": [
            "\r 17%|█▋        | 11/66 [00:12<00:15,  3.65it/s]"
          ]
        },
        {
          "output_type": "stream",
          "name": "stdout",
          "text": [
            "train [11/66] LOSS: 1.1022 ACC: 0.3125\n"
          ]
        },
        {
          "output_type": "stream",
          "name": "stderr",
          "text": [
            "\r 18%|█▊        | 12/66 [00:12<00:14,  3.81it/s]"
          ]
        },
        {
          "output_type": "stream",
          "name": "stdout",
          "text": [
            "train [12/66] LOSS: 1.0153 ACC: 0.3750\n"
          ]
        },
        {
          "output_type": "stream",
          "name": "stderr",
          "text": [
            " 21%|██        | 14/66 [00:13<00:13,  3.95it/s]"
          ]
        },
        {
          "output_type": "stream",
          "name": "stdout",
          "text": [
            "train [13/66] LOSS: 1.0529 ACC: 0.4375\n",
            "train [14/66] LOSS: 1.0629 ACC: 0.5000\n"
          ]
        },
        {
          "output_type": "stream",
          "name": "stderr",
          "text": [
            "\r 24%|██▍       | 16/66 [00:13<00:09,  5.50it/s]"
          ]
        },
        {
          "output_type": "stream",
          "name": "stdout",
          "text": [
            "train [15/66] LOSS: 1.0340 ACC: 0.4688\n",
            "train [16/66] LOSS: 1.0118 ACC: 0.4688\n"
          ]
        },
        {
          "output_type": "stream",
          "name": "stderr",
          "text": [
            " 27%|██▋       | 18/66 [00:13<00:07,  6.83it/s]"
          ]
        },
        {
          "output_type": "stream",
          "name": "stdout",
          "text": [
            "train [17/66] LOSS: 1.1556 ACC: 0.3750\n",
            "train [18/66] LOSS: 1.0621 ACC: 0.4062\n"
          ]
        },
        {
          "output_type": "stream",
          "name": "stderr",
          "text": [
            " 30%|███       | 20/66 [00:13<00:05,  7.92it/s]"
          ]
        },
        {
          "output_type": "stream",
          "name": "stdout",
          "text": [
            "train [19/66] LOSS: 1.1305 ACC: 0.3750\n",
            "train [20/66] LOSS: 1.0111 ACC: 0.4688\n"
          ]
        },
        {
          "output_type": "stream",
          "name": "stderr",
          "text": [
            " 33%|███▎      | 22/66 [00:14<00:05,  8.56it/s]"
          ]
        },
        {
          "output_type": "stream",
          "name": "stdout",
          "text": [
            "train [21/66] LOSS: 1.0430 ACC: 0.3125\n",
            "train [22/66] LOSS: 0.9596 ACC: 0.6562\n"
          ]
        },
        {
          "output_type": "stream",
          "name": "stderr",
          "text": [
            "\r 36%|███▋      | 24/66 [00:14<00:04,  9.21it/s]"
          ]
        },
        {
          "output_type": "stream",
          "name": "stdout",
          "text": [
            "train [23/66] LOSS: 1.1118 ACC: 0.5000\n",
            "train [24/66] LOSS: 1.0952 ACC: 0.3750\n",
            "train [25/66] LOSS: 1.0661 ACC: 0.5938\n"
          ]
        },
        {
          "output_type": "stream",
          "name": "stderr",
          "text": [
            " 42%|████▏     | 28/66 [00:14<00:03,  9.71it/s]"
          ]
        },
        {
          "output_type": "stream",
          "name": "stdout",
          "text": [
            "train [26/66] LOSS: 1.0555 ACC: 0.5625\n",
            "train [27/66] LOSS: 0.9935 ACC: 0.4375\n",
            "train [28/66] LOSS: 1.0340 ACC: 0.4688\n"
          ]
        },
        {
          "output_type": "stream",
          "name": "stderr",
          "text": [
            " 45%|████▌     | 30/66 [00:14<00:03,  9.23it/s]"
          ]
        },
        {
          "output_type": "stream",
          "name": "stdout",
          "text": [
            "train [29/66] LOSS: 1.0187 ACC: 0.4062\n",
            "train [30/66] LOSS: 1.0630 ACC: 0.4062\n"
          ]
        },
        {
          "output_type": "stream",
          "name": "stderr",
          "text": [
            " 50%|█████     | 33/66 [00:15<00:03,  9.64it/s]"
          ]
        },
        {
          "output_type": "stream",
          "name": "stdout",
          "text": [
            "train [31/66] LOSS: 1.0864 ACC: 0.4688\n",
            "train [32/66] LOSS: 1.0411 ACC: 0.4062\n",
            "train [33/66] LOSS: 1.0162 ACC: 0.5625\n"
          ]
        },
        {
          "output_type": "stream",
          "name": "stderr",
          "text": [
            " 53%|█████▎    | 35/66 [00:15<00:03,  9.62it/s]"
          ]
        },
        {
          "output_type": "stream",
          "name": "stdout",
          "text": [
            "train [34/66] LOSS: 1.0331 ACC: 0.4062\n",
            "train [35/66] LOSS: 1.0911 ACC: 0.3438\n"
          ]
        },
        {
          "output_type": "stream",
          "name": "stderr",
          "text": [
            " 56%|█████▌    | 37/66 [00:15<00:02,  9.69it/s]"
          ]
        },
        {
          "output_type": "stream",
          "name": "stdout",
          "text": [
            "train [36/66] LOSS: 1.1038 ACC: 0.4688\n",
            "train [37/66] LOSS: 1.0530 ACC: 0.3438\n"
          ]
        },
        {
          "output_type": "stream",
          "name": "stderr",
          "text": [
            " 61%|██████    | 40/66 [00:16<00:02,  9.89it/s]"
          ]
        },
        {
          "output_type": "stream",
          "name": "stdout",
          "text": [
            "train [38/66] LOSS: 1.0143 ACC: 0.4062\n",
            "train [39/66] LOSS: 1.0446 ACC: 0.4688\n",
            "train [40/66] LOSS: 1.0496 ACC: 0.4688\n"
          ]
        },
        {
          "output_type": "stream",
          "name": "stderr",
          "text": [
            " 65%|██████▌   | 43/66 [00:16<00:02,  9.92it/s]"
          ]
        },
        {
          "output_type": "stream",
          "name": "stdout",
          "text": [
            "train [41/66] LOSS: 1.0209 ACC: 0.6250\n",
            "train [42/66] LOSS: 1.1152 ACC: 0.2812\n",
            "train [43/66] LOSS: 1.0957 ACC: 0.3438\n"
          ]
        },
        {
          "output_type": "stream",
          "name": "stderr",
          "text": [
            " 70%|██████▉   | 46/66 [00:16<00:01, 10.02it/s]"
          ]
        },
        {
          "output_type": "stream",
          "name": "stdout",
          "text": [
            "train [44/66] LOSS: 1.0703 ACC: 0.4688\n",
            "train [45/66] LOSS: 1.0617 ACC: 0.4062\n",
            "train [46/66] LOSS: 0.9986 ACC: 0.4062\n"
          ]
        },
        {
          "output_type": "stream",
          "name": "stderr",
          "text": [
            " 73%|███████▎  | 48/66 [00:16<00:01,  9.92it/s]"
          ]
        },
        {
          "output_type": "stream",
          "name": "stdout",
          "text": [
            "train [47/66] LOSS: 1.0314 ACC: 0.3438\n",
            "train [48/66] LOSS: 1.0383 ACC: 0.5000\n"
          ]
        },
        {
          "output_type": "stream",
          "name": "stderr",
          "text": [
            " 77%|███████▋  | 51/66 [00:17<00:01,  9.93it/s]"
          ]
        },
        {
          "output_type": "stream",
          "name": "stdout",
          "text": [
            "train [49/66] LOSS: 1.0169 ACC: 0.5000\n",
            "train [50/66] LOSS: 1.0230 ACC: 0.3438\n",
            "train [51/66] LOSS: 1.0580 ACC: 0.4688\n"
          ]
        },
        {
          "output_type": "stream",
          "name": "stderr",
          "text": [
            "\r 80%|████████  | 53/66 [00:17<00:01, 10.03it/s]"
          ]
        },
        {
          "output_type": "stream",
          "name": "stdout",
          "text": [
            "train [52/66] LOSS: 1.0412 ACC: 0.5312\n",
            "train [53/66] LOSS: 1.0838 ACC: 0.3438\n",
            "train [54/66] LOSS: 1.1173 ACC: 0.3750\n"
          ]
        },
        {
          "output_type": "stream",
          "name": "stderr",
          "text": [
            " 86%|████████▋ | 57/66 [00:17<00:00, 10.11it/s]"
          ]
        },
        {
          "output_type": "stream",
          "name": "stdout",
          "text": [
            "train [55/66] LOSS: 1.1366 ACC: 0.3438\n",
            "train [56/66] LOSS: 1.0842 ACC: 0.3125\n",
            "train [57/66] LOSS: 0.9549 ACC: 0.4688\n"
          ]
        },
        {
          "output_type": "stream",
          "name": "stderr",
          "text": [
            "\r 89%|████████▉ | 59/66 [00:17<00:00, 10.09it/s]"
          ]
        },
        {
          "output_type": "stream",
          "name": "stdout",
          "text": [
            "train [58/66] LOSS: 1.0636 ACC: 0.3438\n",
            "train [59/66] LOSS: 1.0665 ACC: 0.4375\n",
            "train [60/66] LOSS: 1.1266 ACC: 0.3438\n"
          ]
        },
        {
          "output_type": "stream",
          "name": "stderr",
          "text": [
            " 95%|█████████▌| 63/66 [00:18<00:00, 10.11it/s]"
          ]
        },
        {
          "output_type": "stream",
          "name": "stdout",
          "text": [
            "train [61/66] LOSS: 1.0695 ACC: 0.4062\n",
            "train [62/66] LOSS: 1.0419 ACC: 0.4062\n",
            "train [63/66] LOSS: 1.0226 ACC: 0.3438\n"
          ]
        },
        {
          "output_type": "stream",
          "name": "stderr",
          "text": [
            "\r 98%|█████████▊| 65/66 [00:18<00:00, 10.06it/s]"
          ]
        },
        {
          "output_type": "stream",
          "name": "stdout",
          "text": [
            "train [64/66] LOSS: 1.1439 ACC: 0.3750\n",
            "train [65/66] LOSS: 0.9880 ACC: 0.4688\n",
            "train [66/66] LOSS: 0.9975 ACC: 0.4500\n"
          ]
        },
        {
          "output_type": "stream",
          "name": "stderr",
          "text": [
            "\r100%|██████████| 66/66 [00:19<00:00,  3.39it/s]\n"
          ]
        },
        {
          "output_type": "stream",
          "name": "stdout",
          "text": [
            "train LOSS: 1.0536 ACC: 0.4276 BEST ACC: 0.4276\n"
          ]
        },
        {
          "output_type": "stream",
          "name": "stderr",
          "text": [
            "100%|██████████| 29/29 [00:09<00:00,  3.17it/s]\n"
          ]
        },
        {
          "output_type": "stream",
          "name": "stdout",
          "text": [
            "val LOSS: 1.0714 ACC: 0.3756 BEST ACC: 0.4378\n",
            "\n",
            "\n",
            "------------------------\n",
            "EPOCH 25/80\n",
            "------------------------\n"
          ]
        },
        {
          "output_type": "stream",
          "name": "stderr",
          "text": [
            "  3%|▎         | 2/66 [00:10<04:40,  4.39s/it]"
          ]
        },
        {
          "output_type": "stream",
          "name": "stdout",
          "text": [
            "train [1/66] LOSS: 1.0293 ACC: 0.5312\n",
            "train [2/66] LOSS: 1.0337 ACC: 0.5625\n"
          ]
        },
        {
          "output_type": "stream",
          "name": "stderr",
          "text": [
            "  6%|▌         | 4/66 [00:11<01:39,  1.60s/it]"
          ]
        },
        {
          "output_type": "stream",
          "name": "stdout",
          "text": [
            "train [3/66] LOSS: 1.0321 ACC: 0.3750\n",
            "train [4/66] LOSS: 1.0332 ACC: 0.2500\n"
          ]
        },
        {
          "output_type": "stream",
          "name": "stderr",
          "text": [
            "  9%|▉         | 6/66 [00:11<00:45,  1.32it/s]"
          ]
        },
        {
          "output_type": "stream",
          "name": "stdout",
          "text": [
            "train [5/66] LOSS: 1.1421 ACC: 0.3125\n",
            "train [6/66] LOSS: 1.1033 ACC: 0.5000\n"
          ]
        },
        {
          "output_type": "stream",
          "name": "stderr",
          "text": [
            " 12%|█▏        | 8/66 [00:11<00:24,  2.39it/s]"
          ]
        },
        {
          "output_type": "stream",
          "name": "stdout",
          "text": [
            "train [7/66] LOSS: 1.0692 ACC: 0.2812\n",
            "train [8/66] LOSS: 1.0081 ACC: 0.4062\n"
          ]
        },
        {
          "output_type": "stream",
          "name": "stderr",
          "text": [
            "\r 14%|█▎        | 9/66 [00:11<00:18,  3.02it/s]"
          ]
        },
        {
          "output_type": "stream",
          "name": "stdout",
          "text": [
            "train [9/66] LOSS: 1.0970 ACC: 0.1562\n"
          ]
        },
        {
          "output_type": "stream",
          "name": "stderr",
          "text": [
            "\r 15%|█▌        | 10/66 [00:12<00:17,  3.12it/s]"
          ]
        },
        {
          "output_type": "stream",
          "name": "stdout",
          "text": [
            "train [10/66] LOSS: 1.0460 ACC: 0.5312\n",
            "train [11/66] LOSS: 1.0185 ACC: 0.5938\n"
          ]
        },
        {
          "output_type": "stream",
          "name": "stderr",
          "text": [
            " 18%|█▊        | 12/66 [00:12<00:14,  3.78it/s]"
          ]
        },
        {
          "output_type": "stream",
          "name": "stdout",
          "text": [
            "train [12/66] LOSS: 1.0458 ACC: 0.3438\n"
          ]
        },
        {
          "output_type": "stream",
          "name": "stderr",
          "text": [
            " 21%|██        | 14/66 [00:12<00:12,  4.11it/s]"
          ]
        },
        {
          "output_type": "stream",
          "name": "stdout",
          "text": [
            "train [13/66] LOSS: 0.9686 ACC: 0.4375\n",
            "train [14/66] LOSS: 1.0418 ACC: 0.4688\n"
          ]
        },
        {
          "output_type": "stream",
          "name": "stderr",
          "text": [
            " 24%|██▍       | 16/66 [00:13<00:09,  5.43it/s]"
          ]
        },
        {
          "output_type": "stream",
          "name": "stdout",
          "text": [
            "train [15/66] LOSS: 1.0722 ACC: 0.4688\n",
            "train [16/66] LOSS: 1.2071 ACC: 0.2500\n"
          ]
        },
        {
          "output_type": "stream",
          "name": "stderr",
          "text": [
            " 27%|██▋       | 18/66 [00:13<00:07,  6.86it/s]"
          ]
        },
        {
          "output_type": "stream",
          "name": "stdout",
          "text": [
            "train [17/66] LOSS: 1.0413 ACC: 0.5000\n",
            "train [18/66] LOSS: 1.1266 ACC: 0.4062\n"
          ]
        },
        {
          "output_type": "stream",
          "name": "stderr",
          "text": [
            " 30%|███       | 20/66 [00:13<00:05,  7.81it/s]"
          ]
        },
        {
          "output_type": "stream",
          "name": "stdout",
          "text": [
            "train [19/66] LOSS: 1.1247 ACC: 0.2812\n",
            "train [20/66] LOSS: 1.0158 ACC: 0.2812\n"
          ]
        },
        {
          "output_type": "stream",
          "name": "stderr",
          "text": [
            " 33%|███▎      | 22/66 [00:13<00:05,  8.76it/s]"
          ]
        },
        {
          "output_type": "stream",
          "name": "stdout",
          "text": [
            "train [21/66] LOSS: 1.0682 ACC: 0.4062\n",
            "train [22/66] LOSS: 1.0098 ACC: 0.5312\n"
          ]
        },
        {
          "output_type": "stream",
          "name": "stderr",
          "text": [
            " 36%|███▋      | 24/66 [00:14<00:04,  9.28it/s]"
          ]
        },
        {
          "output_type": "stream",
          "name": "stdout",
          "text": [
            "train [23/66] LOSS: 1.0504 ACC: 0.5000\n",
            "train [24/66] LOSS: 1.1085 ACC: 0.3750\n"
          ]
        },
        {
          "output_type": "stream",
          "name": "stderr",
          "text": [
            " 39%|███▉      | 26/66 [00:14<00:04,  9.54it/s]"
          ]
        },
        {
          "output_type": "stream",
          "name": "stdout",
          "text": [
            "train [25/66] LOSS: 1.1300 ACC: 0.4062\n",
            "train [26/66] LOSS: 1.0037 ACC: 0.4375\n",
            "train [27/66] LOSS: 1.0211 ACC: 0.4375\n"
          ]
        },
        {
          "output_type": "stream",
          "name": "stderr",
          "text": [
            "\r 42%|████▏     | 28/66 [00:14<00:03,  9.80it/s]"
          ]
        },
        {
          "output_type": "stream",
          "name": "stdout",
          "text": [
            "train [28/66] LOSS: 1.0926 ACC: 0.2188\n",
            "train [29/66] LOSS: 1.0190 ACC: 0.4062\n"
          ]
        },
        {
          "output_type": "stream",
          "name": "stderr",
          "text": [
            " 47%|████▋     | 31/66 [00:14<00:03,  9.78it/s]"
          ]
        },
        {
          "output_type": "stream",
          "name": "stdout",
          "text": [
            "train [30/66] LOSS: 1.0126 ACC: 0.2500\n",
            "train [31/66] LOSS: 0.9894 ACC: 0.5312\n"
          ]
        },
        {
          "output_type": "stream",
          "name": "stderr",
          "text": [
            " 50%|█████     | 33/66 [00:15<00:03,  9.80it/s]"
          ]
        },
        {
          "output_type": "stream",
          "name": "stdout",
          "text": [
            "train [32/66] LOSS: 1.0364 ACC: 0.5938\n",
            "train [33/66] LOSS: 1.0673 ACC: 0.3438\n"
          ]
        },
        {
          "output_type": "stream",
          "name": "stderr",
          "text": [
            " 53%|█████▎    | 35/66 [00:15<00:03,  9.82it/s]"
          ]
        },
        {
          "output_type": "stream",
          "name": "stdout",
          "text": [
            "train [34/66] LOSS: 0.9852 ACC: 0.4688\n",
            "train [35/66] LOSS: 1.1083 ACC: 0.3750\n"
          ]
        },
        {
          "output_type": "stream",
          "name": "stderr",
          "text": [
            " 58%|█████▊    | 38/66 [00:15<00:02,  9.89it/s]"
          ]
        },
        {
          "output_type": "stream",
          "name": "stdout",
          "text": [
            "train [36/66] LOSS: 1.0442 ACC: 0.5938\n",
            "train [37/66] LOSS: 1.0582 ACC: 0.2812\n",
            "train [38/66] LOSS: 1.0737 ACC: 0.4375\n"
          ]
        },
        {
          "output_type": "stream",
          "name": "stderr",
          "text": [
            " 61%|██████    | 40/66 [00:15<00:02,  9.44it/s]"
          ]
        },
        {
          "output_type": "stream",
          "name": "stdout",
          "text": [
            "train [39/66] LOSS: 1.1135 ACC: 0.3125\n",
            "train [40/66] LOSS: 1.1084 ACC: 0.3438\n"
          ]
        },
        {
          "output_type": "stream",
          "name": "stderr",
          "text": [
            " 64%|██████▎   | 42/66 [00:15<00:02,  9.62it/s]"
          ]
        },
        {
          "output_type": "stream",
          "name": "stdout",
          "text": [
            "train [41/66] LOSS: 1.0900 ACC: 0.2812\n",
            "train [42/66] LOSS: 1.0973 ACC: 0.3438\n",
            "train [43/66] LOSS: 1.0424 ACC: 0.3438\n"
          ]
        },
        {
          "output_type": "stream",
          "name": "stderr",
          "text": [
            " 70%|██████▉   | 46/66 [00:16<00:02,  9.89it/s]"
          ]
        },
        {
          "output_type": "stream",
          "name": "stdout",
          "text": [
            "train [44/66] LOSS: 1.0992 ACC: 0.4062\n",
            "train [45/66] LOSS: 1.1177 ACC: 0.3438\n",
            "train [46/66] LOSS: 1.1189 ACC: 0.3438\n"
          ]
        },
        {
          "output_type": "stream",
          "name": "stderr",
          "text": [
            " 73%|███████▎  | 48/66 [00:16<00:01,  9.90it/s]"
          ]
        },
        {
          "output_type": "stream",
          "name": "stdout",
          "text": [
            "train [47/66] LOSS: 0.9670 ACC: 0.5000\n",
            "train [48/66] LOSS: 1.0732 ACC: 0.4375\n"
          ]
        },
        {
          "output_type": "stream",
          "name": "stderr",
          "text": [
            " 76%|███████▌  | 50/66 [00:16<00:01,  9.86it/s]"
          ]
        },
        {
          "output_type": "stream",
          "name": "stdout",
          "text": [
            "train [49/66] LOSS: 1.1430 ACC: 0.4062\n",
            "train [50/66] LOSS: 1.1873 ACC: 0.3125\n"
          ]
        },
        {
          "output_type": "stream",
          "name": "stderr",
          "text": [
            " 79%|███████▉  | 52/66 [00:16<00:01,  9.89it/s]"
          ]
        },
        {
          "output_type": "stream",
          "name": "stdout",
          "text": [
            "train [51/66] LOSS: 1.0463 ACC: 0.5000\n",
            "train [52/66] LOSS: 1.0133 ACC: 0.5000\n",
            "train [53/66] LOSS: 1.0077 ACC: 0.4688\n"
          ]
        },
        {
          "output_type": "stream",
          "name": "stderr",
          "text": [
            " 83%|████████▎ | 55/66 [00:17<00:01,  9.89it/s]"
          ]
        },
        {
          "output_type": "stream",
          "name": "stdout",
          "text": [
            "train [54/66] LOSS: 1.0779 ACC: 0.3438\n",
            "train [55/66] LOSS: 1.0051 ACC: 0.4688\n"
          ]
        },
        {
          "output_type": "stream",
          "name": "stderr",
          "text": [
            " 86%|████████▋ | 57/66 [00:17<00:00,  9.92it/s]"
          ]
        },
        {
          "output_type": "stream",
          "name": "stdout",
          "text": [
            "train [56/66] LOSS: 1.0272 ACC: 0.4375\n",
            "train [57/66] LOSS: 1.0900 ACC: 0.4688\n",
            "train [58/66] LOSS: 1.0684 ACC: 0.4375\n"
          ]
        },
        {
          "output_type": "stream",
          "name": "stderr",
          "text": [
            " 91%|█████████ | 60/66 [00:17<00:00,  9.98it/s]"
          ]
        },
        {
          "output_type": "stream",
          "name": "stdout",
          "text": [
            "train [59/66] LOSS: 0.9834 ACC: 0.4375\n",
            "train [60/66] LOSS: 1.0903 ACC: 0.3750\n",
            "train [61/66] LOSS: 0.9917 ACC: 0.4688\n"
          ]
        },
        {
          "output_type": "stream",
          "name": "stderr",
          "text": [
            " 97%|█████████▋| 64/66 [00:18<00:00, 10.07it/s]"
          ]
        },
        {
          "output_type": "stream",
          "name": "stdout",
          "text": [
            "train [62/66] LOSS: 1.0270 ACC: 0.3438\n",
            "train [63/66] LOSS: 0.9797 ACC: 0.4062\n",
            "train [64/66] LOSS: 1.1062 ACC: 0.4688\n"
          ]
        },
        {
          "output_type": "stream",
          "name": "stderr",
          "text": [
            "\r100%|██████████| 66/66 [00:18<00:00, 10.44it/s]"
          ]
        },
        {
          "output_type": "stream",
          "name": "stdout",
          "text": [
            "train [65/66] LOSS: 1.0377 ACC: 0.3125\n",
            "train [66/66] LOSS: 0.9409 ACC: 0.5500\n"
          ]
        },
        {
          "output_type": "stream",
          "name": "stderr",
          "text": [
            "\r100%|██████████| 66/66 [00:19<00:00,  3.44it/s]\n"
          ]
        },
        {
          "output_type": "stream",
          "name": "stdout",
          "text": [
            "train LOSS: 1.0574 ACC: 0.4067 BEST ACC: 0.4276\n"
          ]
        },
        {
          "output_type": "stream",
          "name": "stderr",
          "text": [
            "100%|██████████| 29/29 [00:09<00:00,  3.15it/s]\n"
          ]
        },
        {
          "output_type": "stream",
          "name": "stdout",
          "text": [
            "val LOSS: 1.1445 ACC: 0.3267 BEST ACC: 0.4378\n",
            "\n",
            "\n",
            "------------------------\n",
            "EPOCH 26/80\n",
            "------------------------\n"
          ]
        },
        {
          "output_type": "stream",
          "name": "stderr",
          "text": [
            "  3%|▎         | 2/66 [00:11<05:00,  4.70s/it]"
          ]
        },
        {
          "output_type": "stream",
          "name": "stdout",
          "text": [
            "train [1/66] LOSS: 1.0456 ACC: 0.4375\n",
            "train [2/66] LOSS: 1.0399 ACC: 0.4688\n"
          ]
        },
        {
          "output_type": "stream",
          "name": "stderr",
          "text": [
            "  6%|▌         | 4/66 [00:11<01:41,  1.63s/it]"
          ]
        },
        {
          "output_type": "stream",
          "name": "stdout",
          "text": [
            "train [3/66] LOSS: 0.9995 ACC: 0.4062\n",
            "train [4/66] LOSS: 1.1132 ACC: 0.2500\n"
          ]
        },
        {
          "output_type": "stream",
          "name": "stderr",
          "text": [
            "\r  8%|▊         | 5/66 [00:11<01:10,  1.15s/it]"
          ]
        },
        {
          "output_type": "stream",
          "name": "stdout",
          "text": [
            "train [5/66] LOSS: 1.0646 ACC: 0.4375\n"
          ]
        },
        {
          "output_type": "stream",
          "name": "stderr",
          "text": [
            "\r  9%|▉         | 6/66 [00:12<00:52,  1.15it/s]"
          ]
        },
        {
          "output_type": "stream",
          "name": "stdout",
          "text": [
            "train [6/66] LOSS: 1.1063 ACC: 0.4062\n"
          ]
        },
        {
          "output_type": "stream",
          "name": "stderr",
          "text": [
            " 12%|█▏        | 8/66 [00:12<00:29,  1.99it/s]"
          ]
        },
        {
          "output_type": "stream",
          "name": "stdout",
          "text": [
            "train [7/66] LOSS: 1.1471 ACC: 0.4375\n",
            "train [8/66] LOSS: 1.0195 ACC: 0.3750\n"
          ]
        },
        {
          "output_type": "stream",
          "name": "stderr",
          "text": [
            " 15%|█▌        | 10/66 [00:12<00:17,  3.25it/s]"
          ]
        },
        {
          "output_type": "stream",
          "name": "stdout",
          "text": [
            "train [9/66] LOSS: 0.9501 ACC: 0.4375\n",
            "train [10/66] LOSS: 1.0630 ACC: 0.3125\n"
          ]
        },
        {
          "output_type": "stream",
          "name": "stderr",
          "text": [
            " 18%|█▊        | 12/66 [00:13<00:10,  4.99it/s]"
          ]
        },
        {
          "output_type": "stream",
          "name": "stdout",
          "text": [
            "train [11/66] LOSS: 1.0714 ACC: 0.4062\n",
            "train [12/66] LOSS: 1.0573 ACC: 0.3125\n"
          ]
        },
        {
          "output_type": "stream",
          "name": "stderr",
          "text": [
            " 21%|██        | 14/66 [00:13<00:07,  6.69it/s]"
          ]
        },
        {
          "output_type": "stream",
          "name": "stdout",
          "text": [
            "train [13/66] LOSS: 1.0160 ACC: 0.3438\n",
            "train [14/66] LOSS: 1.0281 ACC: 0.3750\n"
          ]
        },
        {
          "output_type": "stream",
          "name": "stderr",
          "text": [
            " 24%|██▍       | 16/66 [00:13<00:06,  8.00it/s]"
          ]
        },
        {
          "output_type": "stream",
          "name": "stdout",
          "text": [
            "train [15/66] LOSS: 1.0142 ACC: 0.5000\n",
            "train [16/66] LOSS: 1.0849 ACC: 0.4375\n"
          ]
        },
        {
          "output_type": "stream",
          "name": "stderr",
          "text": [
            " 27%|██▋       | 18/66 [00:13<00:05,  8.87it/s]"
          ]
        },
        {
          "output_type": "stream",
          "name": "stdout",
          "text": [
            "train [17/66] LOSS: 0.9775 ACC: 0.5000\n",
            "train [18/66] LOSS: 1.0803 ACC: 0.4062\n"
          ]
        },
        {
          "output_type": "stream",
          "name": "stderr",
          "text": [
            " 30%|███       | 20/66 [00:13<00:05,  9.11it/s]"
          ]
        },
        {
          "output_type": "stream",
          "name": "stdout",
          "text": [
            "train [19/66] LOSS: 1.0359 ACC: 0.4062\n",
            "train [20/66] LOSS: 1.0701 ACC: 0.3438\n"
          ]
        },
        {
          "output_type": "stream",
          "name": "stderr",
          "text": [
            "\r 32%|███▏      | 21/66 [00:14<00:04,  9.29it/s]"
          ]
        },
        {
          "output_type": "stream",
          "name": "stdout",
          "text": [
            "train [21/66] LOSS: 1.0183 ACC: 0.3750\n",
            "train [22/66] LOSS: 1.0053 ACC: 0.5938\n"
          ]
        },
        {
          "output_type": "stream",
          "name": "stderr",
          "text": [
            " 36%|███▋      | 24/66 [00:14<00:04,  9.62it/s]"
          ]
        },
        {
          "output_type": "stream",
          "name": "stdout",
          "text": [
            "train [23/66] LOSS: 1.0507 ACC: 0.3750\n",
            "train [24/66] LOSS: 1.1020 ACC: 0.2812\n"
          ]
        },
        {
          "output_type": "stream",
          "name": "stderr",
          "text": [
            " 39%|███▉      | 26/66 [00:14<00:04,  9.32it/s]"
          ]
        },
        {
          "output_type": "stream",
          "name": "stdout",
          "text": [
            "train [25/66] LOSS: 1.0684 ACC: 0.4375\n",
            "train [26/66] LOSS: 1.0547 ACC: 0.4375\n"
          ]
        },
        {
          "output_type": "stream",
          "name": "stderr",
          "text": [
            " 44%|████▍     | 29/66 [00:14<00:03,  9.81it/s]"
          ]
        },
        {
          "output_type": "stream",
          "name": "stdout",
          "text": [
            "train [27/66] LOSS: 1.1679 ACC: 0.2812\n",
            "train [28/66] LOSS: 1.2471 ACC: 0.3438\n",
            "train [29/66] LOSS: 1.0267 ACC: 0.4375\n"
          ]
        },
        {
          "output_type": "stream",
          "name": "stderr",
          "text": [
            " 47%|████▋     | 31/66 [00:15<00:03,  9.83it/s]"
          ]
        },
        {
          "output_type": "stream",
          "name": "stdout",
          "text": [
            "train [30/66] LOSS: 1.0219 ACC: 0.5312\n",
            "train [31/66] LOSS: 1.0978 ACC: 0.3125\n"
          ]
        },
        {
          "output_type": "stream",
          "name": "stderr",
          "text": [
            " 50%|█████     | 33/66 [00:15<00:03,  9.85it/s]"
          ]
        },
        {
          "output_type": "stream",
          "name": "stdout",
          "text": [
            "train [32/66] LOSS: 0.9653 ACC: 0.5312\n",
            "train [33/66] LOSS: 1.0319 ACC: 0.2812\n",
            "train [34/66] LOSS: 0.9773 ACC: 0.5625\n"
          ]
        },
        {
          "output_type": "stream",
          "name": "stderr",
          "text": [
            " 56%|█████▌    | 37/66 [00:15<00:02,  9.96it/s]"
          ]
        },
        {
          "output_type": "stream",
          "name": "stdout",
          "text": [
            "train [35/66] LOSS: 1.0621 ACC: 0.4062\n",
            "train [36/66] LOSS: 0.9759 ACC: 0.5000\n",
            "train [37/66] LOSS: 1.0923 ACC: 0.3750\n"
          ]
        },
        {
          "output_type": "stream",
          "name": "stderr",
          "text": [
            " 59%|█████▉    | 39/66 [00:15<00:02,  9.88it/s]"
          ]
        },
        {
          "output_type": "stream",
          "name": "stdout",
          "text": [
            "train [38/66] LOSS: 1.0640 ACC: 0.1875\n",
            "train [39/66] LOSS: 1.0926 ACC: 0.2500\n"
          ]
        },
        {
          "output_type": "stream",
          "name": "stderr",
          "text": [
            " 62%|██████▏   | 41/66 [00:16<00:02,  9.88it/s]"
          ]
        },
        {
          "output_type": "stream",
          "name": "stdout",
          "text": [
            "train [40/66] LOSS: 1.0326 ACC: 0.2500\n",
            "train [41/66] LOSS: 1.0465 ACC: 0.6250\n"
          ]
        },
        {
          "output_type": "stream",
          "name": "stderr",
          "text": [
            " 65%|██████▌   | 43/66 [00:16<00:02,  9.82it/s]"
          ]
        },
        {
          "output_type": "stream",
          "name": "stdout",
          "text": [
            "train [42/66] LOSS: 1.0507 ACC: 0.3750\n",
            "train [43/66] LOSS: 1.1049 ACC: 0.4375\n"
          ]
        },
        {
          "output_type": "stream",
          "name": "stderr",
          "text": [
            " 70%|██████▉   | 46/66 [00:16<00:02,  9.91it/s]"
          ]
        },
        {
          "output_type": "stream",
          "name": "stdout",
          "text": [
            "train [44/66] LOSS: 1.0642 ACC: 0.2812\n",
            "train [45/66] LOSS: 1.0421 ACC: 0.5000\n",
            "train [46/66] LOSS: 1.0788 ACC: 0.3125\n"
          ]
        },
        {
          "output_type": "stream",
          "name": "stderr",
          "text": [
            " 74%|███████▍  | 49/66 [00:16<00:01, 10.00it/s]"
          ]
        },
        {
          "output_type": "stream",
          "name": "stdout",
          "text": [
            "train [47/66] LOSS: 1.0582 ACC: 0.4688\n",
            "train [48/66] LOSS: 1.0738 ACC: 0.4375\n",
            "train [49/66] LOSS: 1.0529 ACC: 0.5312\n"
          ]
        },
        {
          "output_type": "stream",
          "name": "stderr",
          "text": [
            "\r 77%|███████▋  | 51/66 [00:17<00:01, 10.06it/s]"
          ]
        },
        {
          "output_type": "stream",
          "name": "stdout",
          "text": [
            "train [50/66] LOSS: 1.0090 ACC: 0.4375\n",
            "train [51/66] LOSS: 1.0799 ACC: 0.3750\n",
            "train [52/66] LOSS: 1.1286 ACC: 0.2812\n"
          ]
        },
        {
          "output_type": "stream",
          "name": "stderr",
          "text": [
            " 83%|████████▎ | 55/66 [00:17<00:01, 10.12it/s]"
          ]
        },
        {
          "output_type": "stream",
          "name": "stdout",
          "text": [
            "train [53/66] LOSS: 1.1170 ACC: 0.2812\n",
            "train [54/66] LOSS: 1.1497 ACC: 0.2812\n",
            "train [55/66] LOSS: 1.1047 ACC: 0.3750\n"
          ]
        },
        {
          "output_type": "stream",
          "name": "stderr",
          "text": [
            "\r 86%|████████▋ | 57/66 [00:17<00:00,  9.93it/s]"
          ]
        },
        {
          "output_type": "stream",
          "name": "stdout",
          "text": [
            "train [56/66] LOSS: 1.0974 ACC: 0.2812\n",
            "train [57/66] LOSS: 1.0630 ACC: 0.3750\n",
            "train [58/66] LOSS: 1.0616 ACC: 0.4688\n"
          ]
        },
        {
          "output_type": "stream",
          "name": "stderr",
          "text": [
            " 92%|█████████▏| 61/66 [00:18<00:00, 10.04it/s]"
          ]
        },
        {
          "output_type": "stream",
          "name": "stdout",
          "text": [
            "train [59/66] LOSS: 1.0657 ACC: 0.4062\n",
            "train [60/66] LOSS: 1.0029 ACC: 0.3750\n",
            "train [61/66] LOSS: 0.9393 ACC: 0.3125\n"
          ]
        },
        {
          "output_type": "stream",
          "name": "stderr",
          "text": [
            "\r 95%|█████████▌| 63/66 [00:18<00:00, 10.05it/s]"
          ]
        },
        {
          "output_type": "stream",
          "name": "stdout",
          "text": [
            "train [62/66] LOSS: 1.0290 ACC: 0.6250\n",
            "train [63/66] LOSS: 1.0898 ACC: 0.4688\n",
            "train [64/66] LOSS: 1.0403 ACC: 0.5312\n"
          ]
        },
        {
          "output_type": "stream",
          "name": "stderr",
          "text": [
            "\r 98%|█████████▊| 65/66 [00:18<00:00, 10.05it/s]"
          ]
        },
        {
          "output_type": "stream",
          "name": "stdout",
          "text": [
            "train [65/66] LOSS: 1.0079 ACC: 0.6250\n",
            "train [66/66] LOSS: 0.9850 ACC: 0.3000\n"
          ]
        },
        {
          "output_type": "stream",
          "name": "stderr",
          "text": [
            "\r100%|██████████| 66/66 [00:19<00:00,  3.39it/s]\n"
          ]
        },
        {
          "output_type": "stream",
          "name": "stdout",
          "text": [
            "train LOSS: 1.0558 ACC: 0.4024 BEST ACC: 0.4276\n"
          ]
        },
        {
          "output_type": "stream",
          "name": "stderr",
          "text": [
            "100%|██████████| 29/29 [00:09<00:00,  3.09it/s]\n"
          ]
        },
        {
          "output_type": "stream",
          "name": "stdout",
          "text": [
            "val LOSS: 1.0660 ACC: 0.3944 BEST ACC: 0.4378\n",
            "\n",
            "\n",
            "------------------------\n",
            "EPOCH 27/80\n",
            "------------------------\n"
          ]
        },
        {
          "output_type": "stream",
          "name": "stderr",
          "text": [
            "  2%|▏         | 1/66 [00:10<11:38, 10.74s/it]"
          ]
        },
        {
          "output_type": "stream",
          "name": "stdout",
          "text": [
            "train [1/66] LOSS: 1.0106 ACC: 0.5625\n"
          ]
        },
        {
          "output_type": "stream",
          "name": "stderr",
          "text": [
            "  5%|▍         | 3/66 [00:11<02:39,  2.54s/it]"
          ]
        },
        {
          "output_type": "stream",
          "name": "stdout",
          "text": [
            "train [2/66] LOSS: 1.0427 ACC: 0.3438\n",
            "train [3/66] LOSS: 1.0373 ACC: 0.3750\n"
          ]
        },
        {
          "output_type": "stream",
          "name": "stderr",
          "text": [
            "\r  6%|▌         | 4/66 [00:11<01:37,  1.58s/it]"
          ]
        },
        {
          "output_type": "stream",
          "name": "stdout",
          "text": [
            "train [4/66] LOSS: 1.0689 ACC: 0.3750\n"
          ]
        },
        {
          "output_type": "stream",
          "name": "stderr",
          "text": [
            "\r  8%|▊         | 5/66 [00:11<01:06,  1.09s/it]"
          ]
        },
        {
          "output_type": "stream",
          "name": "stdout",
          "text": [
            "train [5/66] LOSS: 1.0445 ACC: 0.3438\n"
          ]
        },
        {
          "output_type": "stream",
          "name": "stderr",
          "text": [
            "\r  9%|▉         | 6/66 [00:11<00:47,  1.26it/s]"
          ]
        },
        {
          "output_type": "stream",
          "name": "stdout",
          "text": [
            "train [6/66] LOSS: 1.0661 ACC: 0.3438\n"
          ]
        },
        {
          "output_type": "stream",
          "name": "stderr",
          "text": [
            "\r 11%|█         | 7/66 [00:11<00:36,  1.60it/s]"
          ]
        },
        {
          "output_type": "stream",
          "name": "stdout",
          "text": [
            "train [7/66] LOSS: 0.9669 ACC: 0.5000\n"
          ]
        },
        {
          "output_type": "stream",
          "name": "stderr",
          "text": [
            "\r 12%|█▏        | 8/66 [00:12<00:31,  1.85it/s]"
          ]
        },
        {
          "output_type": "stream",
          "name": "stdout",
          "text": [
            "train [8/66] LOSS: 1.0296 ACC: 0.5000\n"
          ]
        },
        {
          "output_type": "stream",
          "name": "stderr",
          "text": [
            "\r 14%|█▎        | 9/66 [00:12<00:25,  2.26it/s]"
          ]
        },
        {
          "output_type": "stream",
          "name": "stdout",
          "text": [
            "train [9/66] LOSS: 1.0648 ACC: 0.3438\n"
          ]
        },
        {
          "output_type": "stream",
          "name": "stderr",
          "text": [
            " 17%|█▋        | 11/66 [00:12<00:17,  3.21it/s]"
          ]
        },
        {
          "output_type": "stream",
          "name": "stdout",
          "text": [
            "train [10/66] LOSS: 1.0544 ACC: 0.2812\n",
            "train [11/66] LOSS: 1.0355 ACC: 0.3438\n"
          ]
        },
        {
          "output_type": "stream",
          "name": "stderr",
          "text": [
            " 20%|█▉        | 13/66 [00:13<00:10,  4.84it/s]"
          ]
        },
        {
          "output_type": "stream",
          "name": "stdout",
          "text": [
            "train [12/66] LOSS: 1.0147 ACC: 0.5312\n",
            "train [13/66] LOSS: 1.0679 ACC: 0.5000\n"
          ]
        },
        {
          "output_type": "stream",
          "name": "stderr",
          "text": [
            " 23%|██▎       | 15/66 [00:13<00:07,  6.50it/s]"
          ]
        },
        {
          "output_type": "stream",
          "name": "stdout",
          "text": [
            "train [14/66] LOSS: 1.1122 ACC: 0.2812\n",
            "train [15/66] LOSS: 1.1298 ACC: 0.3750\n"
          ]
        },
        {
          "output_type": "stream",
          "name": "stderr",
          "text": [
            " 27%|██▋       | 18/66 [00:13<00:05,  8.25it/s]"
          ]
        },
        {
          "output_type": "stream",
          "name": "stdout",
          "text": [
            "train [16/66] LOSS: 1.0588 ACC: 0.4062\n",
            "train [17/66] LOSS: 1.0043 ACC: 0.5000\n",
            "train [18/66] LOSS: 1.1133 ACC: 0.2812\n"
          ]
        },
        {
          "output_type": "stream",
          "name": "stderr",
          "text": [
            " 30%|███       | 20/66 [00:13<00:05,  8.91it/s]"
          ]
        },
        {
          "output_type": "stream",
          "name": "stdout",
          "text": [
            "train [19/66] LOSS: 1.1555 ACC: 0.2500\n",
            "train [20/66] LOSS: 0.9672 ACC: 0.5938\n"
          ]
        },
        {
          "output_type": "stream",
          "name": "stderr",
          "text": [
            " 33%|███▎      | 22/66 [00:14<00:04,  9.31it/s]"
          ]
        },
        {
          "output_type": "stream",
          "name": "stdout",
          "text": [
            "train [21/66] LOSS: 1.1166 ACC: 0.2500\n",
            "train [22/66] LOSS: 1.0550 ACC: 0.3125\n"
          ]
        },
        {
          "output_type": "stream",
          "name": "stderr",
          "text": [
            " 36%|███▋      | 24/66 [00:14<00:04,  9.63it/s]"
          ]
        },
        {
          "output_type": "stream",
          "name": "stdout",
          "text": [
            "train [23/66] LOSS: 1.0378 ACC: 0.4375\n",
            "train [24/66] LOSS: 1.0804 ACC: 0.4062\n"
          ]
        },
        {
          "output_type": "stream",
          "name": "stderr",
          "text": [
            " 39%|███▉      | 26/66 [00:14<00:04,  9.69it/s]"
          ]
        },
        {
          "output_type": "stream",
          "name": "stdout",
          "text": [
            "train [25/66] LOSS: 1.0652 ACC: 0.4375\n",
            "train [26/66] LOSS: 1.0944 ACC: 0.2500\n",
            "train [27/66] LOSS: 1.0247 ACC: 0.2500\n"
          ]
        },
        {
          "output_type": "stream",
          "name": "stderr",
          "text": [
            " 45%|████▌     | 30/66 [00:14<00:03,  9.84it/s]"
          ]
        },
        {
          "output_type": "stream",
          "name": "stdout",
          "text": [
            "train [28/66] LOSS: 1.1205 ACC: 0.3438\n",
            "train [29/66] LOSS: 1.0866 ACC: 0.4062\n",
            "train [30/66] LOSS: 1.0536 ACC: 0.4062\n"
          ]
        },
        {
          "output_type": "stream",
          "name": "stderr",
          "text": [
            " 50%|█████     | 33/66 [00:15<00:03,  9.87it/s]"
          ]
        },
        {
          "output_type": "stream",
          "name": "stdout",
          "text": [
            "train [31/66] LOSS: 1.0662 ACC: 0.5312\n",
            "train [32/66] LOSS: 1.0797 ACC: 0.3125\n",
            "train [33/66] LOSS: 0.9902 ACC: 0.5312\n"
          ]
        },
        {
          "output_type": "stream",
          "name": "stderr",
          "text": [
            " 53%|█████▎    | 35/66 [00:15<00:03,  9.88it/s]"
          ]
        },
        {
          "output_type": "stream",
          "name": "stdout",
          "text": [
            "train [34/66] LOSS: 1.0085 ACC: 0.2500\n",
            "train [35/66] LOSS: 1.0291 ACC: 0.4375\n",
            "train [36/66] LOSS: 1.0376 ACC: 0.3750\n"
          ]
        },
        {
          "output_type": "stream",
          "name": "stderr",
          "text": [
            " 58%|█████▊    | 38/66 [00:15<00:02,  9.97it/s]"
          ]
        },
        {
          "output_type": "stream",
          "name": "stdout",
          "text": [
            "train [37/66] LOSS: 1.0228 ACC: 0.5938\n",
            "train [38/66] LOSS: 1.1100 ACC: 0.3750\n"
          ]
        },
        {
          "output_type": "stream",
          "name": "stderr",
          "text": [
            " 61%|██████    | 40/66 [00:15<00:02,  9.92it/s]"
          ]
        },
        {
          "output_type": "stream",
          "name": "stdout",
          "text": [
            "train [39/66] LOSS: 1.0323 ACC: 0.3438\n",
            "train [40/66] LOSS: 0.9563 ACC: 0.5000\n"
          ]
        },
        {
          "output_type": "stream",
          "name": "stderr",
          "text": [
            " 64%|██████▎   | 42/66 [00:16<00:02,  9.89it/s]"
          ]
        },
        {
          "output_type": "stream",
          "name": "stdout",
          "text": [
            "train [41/66] LOSS: 1.0452 ACC: 0.4062\n",
            "train [42/66] LOSS: 0.9659 ACC: 0.3438\n",
            "train [43/66] LOSS: 1.0003 ACC: 0.5000\n"
          ]
        },
        {
          "output_type": "stream",
          "name": "stderr",
          "text": [
            " 68%|██████▊   | 45/66 [00:16<00:02,  9.80it/s]"
          ]
        },
        {
          "output_type": "stream",
          "name": "stdout",
          "text": [
            "train [44/66] LOSS: 1.0398 ACC: 0.4688\n",
            "train [45/66] LOSS: 1.0031 ACC: 0.4688\n"
          ]
        },
        {
          "output_type": "stream",
          "name": "stderr",
          "text": [
            " 71%|███████   | 47/66 [00:16<00:01,  9.83it/s]"
          ]
        },
        {
          "output_type": "stream",
          "name": "stdout",
          "text": [
            "train [46/66] LOSS: 1.0451 ACC: 0.5312\n",
            "train [47/66] LOSS: 1.0734 ACC: 0.5000\n"
          ]
        },
        {
          "output_type": "stream",
          "name": "stderr",
          "text": [
            " 76%|███████▌  | 50/66 [00:16<00:01,  9.90it/s]"
          ]
        },
        {
          "output_type": "stream",
          "name": "stdout",
          "text": [
            "train [48/66] LOSS: 1.0340 ACC: 0.5312\n",
            "train [49/66] LOSS: 1.1124 ACC: 0.4062\n",
            "train [50/66] LOSS: 1.0000 ACC: 0.4688\n"
          ]
        },
        {
          "output_type": "stream",
          "name": "stderr",
          "text": [
            " 79%|███████▉  | 52/66 [00:17<00:01,  9.84it/s]"
          ]
        },
        {
          "output_type": "stream",
          "name": "stdout",
          "text": [
            "train [51/66] LOSS: 1.0783 ACC: 0.4375\n",
            "train [52/66] LOSS: 1.1192 ACC: 0.4375\n"
          ]
        },
        {
          "output_type": "stream",
          "name": "stderr",
          "text": [
            " 82%|████████▏ | 54/66 [00:17<00:01,  9.83it/s]"
          ]
        },
        {
          "output_type": "stream",
          "name": "stdout",
          "text": [
            "train [53/66] LOSS: 1.1224 ACC: 0.3750\n",
            "train [54/66] LOSS: 1.0697 ACC: 0.3750\n"
          ]
        },
        {
          "output_type": "stream",
          "name": "stderr",
          "text": [
            " 85%|████████▍ | 56/66 [00:17<00:01,  9.57it/s]"
          ]
        },
        {
          "output_type": "stream",
          "name": "stdout",
          "text": [
            "train [55/66] LOSS: 0.9974 ACC: 0.5938\n",
            "train [56/66] LOSS: 1.0327 ACC: 0.4375\n"
          ]
        },
        {
          "output_type": "stream",
          "name": "stderr",
          "text": [
            " 89%|████████▉ | 59/66 [00:17<00:00,  9.91it/s]"
          ]
        },
        {
          "output_type": "stream",
          "name": "stdout",
          "text": [
            "train [57/66] LOSS: 1.0593 ACC: 0.3125\n",
            "train [58/66] LOSS: 0.9536 ACC: 0.6562\n",
            "train [59/66] LOSS: 1.1008 ACC: 0.4375\n"
          ]
        },
        {
          "output_type": "stream",
          "name": "stderr",
          "text": [
            " 94%|█████████▍| 62/66 [00:18<00:00, 10.01it/s]"
          ]
        },
        {
          "output_type": "stream",
          "name": "stdout",
          "text": [
            "train [60/66] LOSS: 1.0651 ACC: 0.4375\n",
            "train [61/66] LOSS: 1.0179 ACC: 0.4375\n",
            "train [62/66] LOSS: 1.0615 ACC: 0.3750\n"
          ]
        },
        {
          "output_type": "stream",
          "name": "stderr",
          "text": [
            " 98%|█████████▊| 65/66 [00:18<00:00, 10.06it/s]"
          ]
        },
        {
          "output_type": "stream",
          "name": "stdout",
          "text": [
            "train [63/66] LOSS: 1.0850 ACC: 0.3750\n",
            "train [64/66] LOSS: 1.1148 ACC: 0.3750\n",
            "train [65/66] LOSS: 1.0537 ACC: 0.5000\n",
            "train [66/66] LOSS: 1.0249 ACC: 0.3000\n"
          ]
        },
        {
          "output_type": "stream",
          "name": "stderr",
          "text": [
            "\r100%|██████████| 66/66 [00:19<00:00,  3.41it/s]\n"
          ]
        },
        {
          "output_type": "stream",
          "name": "stdout",
          "text": [
            "train LOSS: 1.0513 ACC: 0.4138 BEST ACC: 0.4276\n"
          ]
        },
        {
          "output_type": "stream",
          "name": "stderr",
          "text": [
            "100%|██████████| 29/29 [00:09<00:00,  3.11it/s]\n"
          ]
        },
        {
          "output_type": "stream",
          "name": "stdout",
          "text": [
            "val LOSS: 1.0758 ACC: 0.3922 BEST ACC: 0.4378\n",
            "\n",
            "\n",
            "------------------------\n",
            "EPOCH 28/80\n",
            "------------------------\n"
          ]
        },
        {
          "output_type": "stream",
          "name": "stderr",
          "text": [
            "  2%|▏         | 1/66 [00:10<11:18, 10.44s/it]"
          ]
        },
        {
          "output_type": "stream",
          "name": "stdout",
          "text": [
            "train [1/66] LOSS: 0.9895 ACC: 0.4688\n"
          ]
        },
        {
          "output_type": "stream",
          "name": "stderr",
          "text": [
            "\r  3%|▎         | 2/66 [00:10<04:52,  4.58s/it]"
          ]
        },
        {
          "output_type": "stream",
          "name": "stdout",
          "text": [
            "train [2/66] LOSS: 1.0298 ACC: 0.5000\n"
          ]
        },
        {
          "output_type": "stream",
          "name": "stderr",
          "text": [
            "\r  5%|▍         | 3/66 [00:11<02:45,  2.63s/it]"
          ]
        },
        {
          "output_type": "stream",
          "name": "stdout",
          "text": [
            "train [3/66] LOSS: 1.0595 ACC: 0.3750\n"
          ]
        },
        {
          "output_type": "stream",
          "name": "stderr",
          "text": [
            "  8%|▊         | 5/66 [00:11<01:08,  1.12s/it]"
          ]
        },
        {
          "output_type": "stream",
          "name": "stdout",
          "text": [
            "train [4/66] LOSS: 1.0078 ACC: 0.2500\n",
            "train [5/66] LOSS: 1.0381 ACC: 0.4375\n"
          ]
        },
        {
          "output_type": "stream",
          "name": "stderr",
          "text": [
            " 11%|█         | 7/66 [00:11<00:34,  1.70it/s]"
          ]
        },
        {
          "output_type": "stream",
          "name": "stdout",
          "text": [
            "train [6/66] LOSS: 1.0728 ACC: 0.2188\n",
            "train [7/66] LOSS: 0.9585 ACC: 0.4688\n"
          ]
        },
        {
          "output_type": "stream",
          "name": "stderr",
          "text": [
            " 14%|█▎        | 9/66 [00:12<00:20,  2.74it/s]"
          ]
        },
        {
          "output_type": "stream",
          "name": "stdout",
          "text": [
            "train [8/66] LOSS: 1.0967 ACC: 0.3438\n",
            "train [9/66] LOSS: 1.0532 ACC: 0.5312\n"
          ]
        },
        {
          "output_type": "stream",
          "name": "stderr",
          "text": [
            " 17%|█▋        | 11/66 [00:12<00:12,  4.37it/s]"
          ]
        },
        {
          "output_type": "stream",
          "name": "stdout",
          "text": [
            "train [10/66] LOSS: 1.0495 ACC: 0.4062\n",
            "train [11/66] LOSS: 1.0243 ACC: 0.3125\n"
          ]
        },
        {
          "output_type": "stream",
          "name": "stderr",
          "text": [
            " 20%|█▉        | 13/66 [00:12<00:08,  6.12it/s]"
          ]
        },
        {
          "output_type": "stream",
          "name": "stdout",
          "text": [
            "train [12/66] LOSS: 1.1202 ACC: 0.2500\n",
            "train [13/66] LOSS: 1.0432 ACC: 0.4375\n"
          ]
        },
        {
          "output_type": "stream",
          "name": "stderr",
          "text": [
            " 23%|██▎       | 15/66 [00:12<00:06,  7.61it/s]"
          ]
        },
        {
          "output_type": "stream",
          "name": "stdout",
          "text": [
            "train [14/66] LOSS: 1.0537 ACC: 0.5000\n",
            "train [15/66] LOSS: 1.0921 ACC: 0.4375\n",
            "train [16/66] LOSS: 0.9874 ACC: 0.5938\n"
          ]
        },
        {
          "output_type": "stream",
          "name": "stderr",
          "text": [
            " 27%|██▋       | 18/66 [00:13<00:05,  8.73it/s]"
          ]
        },
        {
          "output_type": "stream",
          "name": "stdout",
          "text": [
            "train [17/66] LOSS: 1.0963 ACC: 0.4062\n",
            "train [18/66] LOSS: 1.0394 ACC: 0.5000\n"
          ]
        },
        {
          "output_type": "stream",
          "name": "stderr",
          "text": [
            "\r 30%|███       | 20/66 [00:13<00:05,  9.18it/s]"
          ]
        },
        {
          "output_type": "stream",
          "name": "stdout",
          "text": [
            "train [19/66] LOSS: 1.0618 ACC: 0.4688\n",
            "train [20/66] LOSS: 0.9930 ACC: 0.3438\n"
          ]
        },
        {
          "output_type": "stream",
          "name": "stderr",
          "text": [
            " 35%|███▍      | 23/66 [00:13<00:04,  9.60it/s]"
          ]
        },
        {
          "output_type": "stream",
          "name": "stdout",
          "text": [
            "train [21/66] LOSS: 1.1047 ACC: 0.3750\n",
            "train [22/66] LOSS: 1.0870 ACC: 0.3750\n",
            "train [23/66] LOSS: 1.0791 ACC: 0.4062\n"
          ]
        },
        {
          "output_type": "stream",
          "name": "stderr",
          "text": [
            " 39%|███▉      | 26/66 [00:13<00:04,  9.80it/s]"
          ]
        },
        {
          "output_type": "stream",
          "name": "stdout",
          "text": [
            "train [24/66] LOSS: 1.0769 ACC: 0.4062\n",
            "train [25/66] LOSS: 1.0570 ACC: 0.4062\n",
            "train [26/66] LOSS: 1.0429 ACC: 0.4688\n"
          ]
        },
        {
          "output_type": "stream",
          "name": "stderr",
          "text": [
            " 42%|████▏     | 28/66 [00:14<00:03,  9.65it/s]"
          ]
        },
        {
          "output_type": "stream",
          "name": "stdout",
          "text": [
            "train [27/66] LOSS: 1.0680 ACC: 0.4688\n",
            "train [28/66] LOSS: 1.0291 ACC: 0.4062\n",
            "train [29/66] LOSS: 1.0418 ACC: 0.3438\n"
          ]
        },
        {
          "output_type": "stream",
          "name": "stderr",
          "text": [
            " 48%|████▊     | 32/66 [00:14<00:03,  9.86it/s]"
          ]
        },
        {
          "output_type": "stream",
          "name": "stdout",
          "text": [
            "train [30/66] LOSS: 1.0461 ACC: 0.2812\n",
            "train [31/66] LOSS: 1.0191 ACC: 0.4688\n",
            "train [32/66] LOSS: 1.0012 ACC: 0.3438\n"
          ]
        },
        {
          "output_type": "stream",
          "name": "stderr",
          "text": [
            " 52%|█████▏    | 34/66 [00:14<00:03,  9.87it/s]"
          ]
        },
        {
          "output_type": "stream",
          "name": "stdout",
          "text": [
            "train [33/66] LOSS: 1.0025 ACC: 0.3438\n",
            "train [34/66] LOSS: 1.0976 ACC: 0.3750\n",
            "train [35/66] LOSS: 1.0138 ACC: 0.5312\n"
          ]
        },
        {
          "output_type": "stream",
          "name": "stderr",
          "text": [
            " 58%|█████▊    | 38/66 [00:15<00:02, 10.05it/s]"
          ]
        },
        {
          "output_type": "stream",
          "name": "stdout",
          "text": [
            "train [36/66] LOSS: 0.8936 ACC: 0.5312\n",
            "train [37/66] LOSS: 1.0136 ACC: 0.4375\n",
            "train [38/66] LOSS: 1.1007 ACC: 0.2500\n"
          ]
        },
        {
          "output_type": "stream",
          "name": "stderr",
          "text": [
            "\r 61%|██████    | 40/66 [00:15<00:02, 10.00it/s]"
          ]
        },
        {
          "output_type": "stream",
          "name": "stdout",
          "text": [
            "train [39/66] LOSS: 1.0505 ACC: 0.4688\n",
            "train [40/66] LOSS: 1.0647 ACC: 0.3125\n"
          ]
        },
        {
          "output_type": "stream",
          "name": "stderr",
          "text": [
            " 64%|██████▎   | 42/66 [00:15<00:02,  9.78it/s]"
          ]
        },
        {
          "output_type": "stream",
          "name": "stdout",
          "text": [
            "train [41/66] LOSS: 1.0535 ACC: 0.3750\n",
            "train [42/66] LOSS: 1.0479 ACC: 0.4062\n"
          ]
        },
        {
          "output_type": "stream",
          "name": "stderr",
          "text": [
            "\r 67%|██████▋   | 44/66 [00:15<00:02,  9.71it/s]"
          ]
        },
        {
          "output_type": "stream",
          "name": "stdout",
          "text": [
            "train [43/66] LOSS: 1.0924 ACC: 0.3750\n",
            "train [44/66] LOSS: 1.0073 ACC: 0.5000\n"
          ]
        },
        {
          "output_type": "stream",
          "name": "stderr",
          "text": [
            "\r 70%|██████▉   | 46/66 [00:16<00:02,  9.86it/s]"
          ]
        },
        {
          "output_type": "stream",
          "name": "stdout",
          "text": [
            "train [45/66] LOSS: 1.1333 ACC: 0.4688\n",
            "train [46/66] LOSS: 1.0423 ACC: 0.5312\n",
            "train [47/66] LOSS: 1.0049 ACC: 0.3438\n"
          ]
        },
        {
          "output_type": "stream",
          "name": "stderr",
          "text": [
            " 76%|███████▌  | 50/66 [00:16<00:01, 10.04it/s]"
          ]
        },
        {
          "output_type": "stream",
          "name": "stdout",
          "text": [
            "train [48/66] LOSS: 1.0800 ACC: 0.2812\n",
            "train [49/66] LOSS: 1.0994 ACC: 0.2812\n",
            "train [50/66] LOSS: 1.0268 ACC: 0.3125\n"
          ]
        },
        {
          "output_type": "stream",
          "name": "stderr",
          "text": [
            "\r 79%|███████▉  | 52/66 [00:16<00:01, 10.06it/s]"
          ]
        },
        {
          "output_type": "stream",
          "name": "stdout",
          "text": [
            "train [51/66] LOSS: 1.0045 ACC: 0.4375\n",
            "train [52/66] LOSS: 1.1061 ACC: 0.2812\n",
            "train [53/66] LOSS: 1.0562 ACC: 0.5312\n"
          ]
        },
        {
          "output_type": "stream",
          "name": "stderr",
          "text": [
            " 85%|████████▍ | 56/66 [00:16<00:00, 10.08it/s]"
          ]
        },
        {
          "output_type": "stream",
          "name": "stdout",
          "text": [
            "train [54/66] LOSS: 1.0734 ACC: 0.2188\n",
            "train [55/66] LOSS: 1.0910 ACC: 0.3125\n",
            "train [56/66] LOSS: 0.9040 ACC: 0.2812\n"
          ]
        },
        {
          "output_type": "stream",
          "name": "stderr",
          "text": [
            "\r 88%|████████▊ | 58/66 [00:17<00:00, 10.06it/s]"
          ]
        },
        {
          "output_type": "stream",
          "name": "stdout",
          "text": [
            "train [57/66] LOSS: 1.0370 ACC: 0.2500\n",
            "train [58/66] LOSS: 0.9814 ACC: 0.5625\n",
            "train [59/66] LOSS: 1.1188 ACC: 0.3438\n"
          ]
        },
        {
          "output_type": "stream",
          "name": "stderr",
          "text": [
            " 94%|█████████▍| 62/66 [00:17<00:00, 10.09it/s]"
          ]
        },
        {
          "output_type": "stream",
          "name": "stdout",
          "text": [
            "train [60/66] LOSS: 1.0585 ACC: 0.5312\n",
            "train [61/66] LOSS: 1.0381 ACC: 0.4688\n",
            "train [62/66] LOSS: 1.1103 ACC: 0.3125\n"
          ]
        },
        {
          "output_type": "stream",
          "name": "stderr",
          "text": [
            "\r 97%|█████████▋| 64/66 [00:17<00:00, 10.08it/s]"
          ]
        },
        {
          "output_type": "stream",
          "name": "stdout",
          "text": [
            "train [63/66] LOSS: 1.0831 ACC: 0.4375\n",
            "train [64/66] LOSS: 0.9894 ACC: 0.3750\n"
          ]
        },
        {
          "output_type": "stream",
          "name": "stderr",
          "text": [
            "\r100%|██████████| 66/66 [00:17<00:00, 10.30it/s]"
          ]
        },
        {
          "output_type": "stream",
          "name": "stdout",
          "text": [
            "train [65/66] LOSS: 1.0598 ACC: 0.5312\n",
            "train [66/66] LOSS: 1.0826 ACC: 0.4500\n"
          ]
        },
        {
          "output_type": "stream",
          "name": "stderr",
          "text": [
            "\r100%|██████████| 66/66 [00:18<00:00,  3.50it/s]\n"
          ]
        },
        {
          "output_type": "stream",
          "name": "stdout",
          "text": [
            "train LOSS: 1.0476 ACC: 0.4005 BEST ACC: 0.4276\n"
          ]
        },
        {
          "output_type": "stream",
          "name": "stderr",
          "text": [
            "\r  0%|          | 0/29 [00:00<?, ?it/s]"
          ]
        }
      ],
      "source": [
        "\n",
        "\n",
        "num_workers = 64\n",
        "view_auc = False\n",
        "\n",
        "\n",
        "\n",
        "\n",
        "train_loader = torch.utils.data.DataLoader(train_dataset, batch_size=batch_size, shuffle=True, drop_last=False, num_workers=num_workers)\n",
        "val_loader = torch.utils.data.DataLoader(val_dataset, batch_size=batch_size, shuffle=True, drop_last=False, num_workers=num_workers)\n",
        "\n",
        "dataloaders_dict = {\"train\": train_loader, \"val\": val_loader}\n",
        "\n",
        "train_model(net, dataloaders_dict, criterion, optimizer, num_epochs, view_auc,scheduler=scheduler)"
      ]
    }
  ],
  "metadata": {
    "accelerator": "GPU",
    "colab": {
      "collapsed_sections": [],
      "machine_shape": "hm",
      "name": "bmd_sample_model.ipynb",
      "provenance": [],
      "include_colab_link": true
    },
    "kernelspec": {
      "display_name": "Python 3",
      "language": "python",
      "name": "python3"
    },
    "language_info": {
      "codemirror_mode": {
        "name": "ipython",
        "version": 3
      },
      "file_extension": ".py",
      "mimetype": "text/x-python",
      "name": "python",
      "nbconvert_exporter": "python",
      "pygments_lexer": "ipython3",
      "version": "3.8.8"
    }
  },
  "nbformat": 4,
  "nbformat_minor": 0
}